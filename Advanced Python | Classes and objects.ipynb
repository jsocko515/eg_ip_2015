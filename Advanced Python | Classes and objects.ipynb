{
 "cells": [
  {
   "cell_type": "markdown",
   "metadata": {},
   "source": [
    "#Classes and objects\n",
    "\n",
    "Warning: long notebook ahead.\n",
    "\n",
    "What types of data do we already know about in Python?\n",
    "\n",
    "Built in types:\n",
    "- string\n",
    "- integer \n",
    "- float\n",
    "- File object\n",
    "- dict\n",
    "- list\n",
    "- set\n",
    "- tuple\n",
    "\n",
    "and some types that live in modules:\n",
    "- re.Matchobject\n",
    "- collections.defaultdict\n",
    "- collections.Counter\n",
    "- datetime.date\n",
    "\n",
    "We know that they store different types of data and have different methods. \n",
    "\n",
    "###How does this all work?\n",
    "\n",
    "\n",
    "####Everything is an object\n",
    "####Each object is an instance of a specific class\n",
    "####The class definition tells Python how instances of a class behave\n",
    "\n",
    "First, a couple of useful functions. Use `type()` to get the type of an object:"
   ]
  },
  {
   "cell_type": "code",
   "execution_count": 1,
   "metadata": {
    "collapsed": false
   },
   "outputs": [
    {
     "data": {
      "text/plain": [
       "(int, str, list)"
      ]
     },
     "execution_count": 1,
     "metadata": {},
     "output_type": "execute_result"
    }
   ],
   "source": [
    "type(4), type(\"hello\"), type([4,5,6])"
   ]
  },
  {
   "cell_type": "markdown",
   "metadata": {},
   "source": [
    "Use `dir()` to see all the properties of an object: "
   ]
  },
  {
   "cell_type": "code",
   "execution_count": 2,
   "metadata": {
    "collapsed": false,
    "scrolled": true
   },
   "outputs": [
    {
     "data": {
      "text/plain": [
       "['__add__',\n",
       " '__class__',\n",
       " '__contains__',\n",
       " '__delattr__',\n",
       " '__delitem__',\n",
       " '__delslice__',\n",
       " '__doc__',\n",
       " '__eq__',\n",
       " '__format__',\n",
       " '__ge__',\n",
       " '__getattribute__',\n",
       " '__getitem__',\n",
       " '__getslice__',\n",
       " '__gt__',\n",
       " '__hash__',\n",
       " '__iadd__',\n",
       " '__imul__',\n",
       " '__init__',\n",
       " '__iter__',\n",
       " '__le__',\n",
       " '__len__',\n",
       " '__lt__',\n",
       " '__mul__',\n",
       " '__ne__',\n",
       " '__new__',\n",
       " '__reduce__',\n",
       " '__reduce_ex__',\n",
       " '__repr__',\n",
       " '__reversed__',\n",
       " '__rmul__',\n",
       " '__setattr__',\n",
       " '__setitem__',\n",
       " '__setslice__',\n",
       " '__sizeof__',\n",
       " '__str__',\n",
       " '__subclasshook__',\n",
       " 'append',\n",
       " 'count',\n",
       " 'extend',\n",
       " 'index',\n",
       " 'insert',\n",
       " 'pop',\n",
       " 'remove',\n",
       " 'reverse',\n",
       " 'sort']"
      ]
     },
     "execution_count": 2,
     "metadata": {},
     "output_type": "execute_result"
    }
   ],
   "source": [
    "dir([4,5,6])"
   ]
  },
  {
   "cell_type": "markdown",
   "metadata": {},
   "source": [
    "Some classes (mostly built in ones) are defined in the Python interpreter. Others are written in Python e.g. [date.datetime](https://hg.python.org/cpython/file/3.5/Lib/datetime.py#l641)\n",
    "\n",
    "Let's approach the idea of writing our own classes slowly...\n",
    "\n",
    "Here is some code to print the AT content and the complement of a DNA sequence:"
   ]
  },
  {
   "cell_type": "code",
   "execution_count": null,
   "metadata": {
    "collapsed": false
   },
   "outputs": [],
   "source": [
    "from __future__ import division\n",
    "my_dna = \"ACTGATCGTTACGTACGAGTCAT\" \n",
    "\n",
    "# print the AT content\n",
    "length = len(my_dna) \n",
    "a_count = my_dna.count('A') \n",
    "t_count = my_dna.count('T') \n",
    "at_content = (a_count + t_count) / length \n",
    "print(at_content)\n",
    "\n",
    "# print the complement\n",
    "replacement1 = my_dna.replace('A', 't') \n",
    "replacement2 = replacement1.replace('T', 'a') \n",
    "replacement3 = replacement2.replace('C', 'g') \n",
    "replacement4 = replacement3.replace('G', 'c') \n",
    "print(replacement4.upper())"
   ]
  },
  {
   "cell_type": "markdown",
   "metadata": {},
   "source": [
    "Obviously, these bits of code are good candidates for being turned into functions:"
   ]
  },
  {
   "cell_type": "code",
   "execution_count": null,
   "metadata": {
    "collapsed": true
   },
   "outputs": [],
   "source": [
    "def get_AT(my_dna): \n",
    "    length = len(my_dna) \n",
    "    a_count = my_dna.count('A') \n",
    "    t_count = my_dna.count('T') \n",
    "    at_content = (a_count + t_count) / length \n",
    "    return at_content \n",
    " \n",
    "def complement(my_dna): \n",
    "    replacement1 = my_dna.replace('A', 't') \n",
    "    replacement2 = replacement1.replace('T', 'a') \n",
    "    replacement3 = replacement2.replace('C', 'g') \n",
    "    replacement4 = replacement3.replace('G', 'c') \n",
    "    return replacement4.upper() "
   ]
  },
  {
   "cell_type": "markdown",
   "metadata": {},
   "source": [
    "which allows the main code to be much simpler:"
   ]
  },
  {
   "cell_type": "code",
   "execution_count": null,
   "metadata": {
    "collapsed": false
   },
   "outputs": [],
   "source": [
    "dna_sequence = \"ACTGATCGTTACGTACGAGTCAT\" \n",
    "print(get_AT(dna_sequence)) \n",
    "print(complement(dna_sequence)) "
   ]
  },
  {
   "cell_type": "markdown",
   "metadata": {},
   "source": [
    "Now what if we want to add some metadata to our sequence: a species name and a gene name:"
   ]
  },
  {
   "cell_type": "code",
   "execution_count": null,
   "metadata": {
    "collapsed": false
   },
   "outputs": [],
   "source": [
    "dna_sequence = \"ACTGATCGTTACGTACGAGTCAT\" \n",
    "species = \"Drosophila melanogaster\"\n",
    "gene_name = \"ABC1\"\n",
    "print(\"Looking at the \" + species + \" \" + gene_name + \" gene\")\n",
    "print(\"AT content is \" + str(get_AT(dna_sequence))) \n",
    "print(\"complement is \" + complement(dna_sequence)) "
   ]
  },
  {
   "cell_type": "markdown",
   "metadata": {},
   "source": [
    "Fine for a single record, but tricky to scale. We could resort to complex data structures as we saw before, but let's try another way: create a new class to store DNA sequences.\n",
    "\n",
    "A DNA sequence class needs to have variables:\n",
    "- a sequence\n",
    "- a gene name\n",
    "- a species name\n",
    "\n",
    "and some methods:\n",
    "- complement()\n",
    "- get_AT()\n",
    "\n",
    "Let's dive in. Here's attempt number one:"
   ]
  },
  {
   "cell_type": "code",
   "execution_count": null,
   "metadata": {
    "collapsed": true
   },
   "outputs": [],
   "source": [
    "class DNARecord(object): \n",
    "    sequence = 'ACGTAGCTGACGATC'\n",
    "    gene_name = 'ABC1'\n",
    "    species_name = 'Drosophila melanogaster'\n",
    "\n",
    "    def complement(self): \n",
    "        replacement1 = self.sequence.replace('A', 't') \n",
    "        replacement2 = replacement1.replace('T', 'a') \n",
    "        replacement3 = replacement2.replace('C', 'g') \n",
    "        replacement4 = replacement3.replace('G', 'c') \n",
    "        return replacement4.upper() \n",
    "\n",
    "    def get_AT(self): \n",
    "        length = len(self.sequence) \n",
    "        a_count = self.sequence.count('A') \n",
    "        t_count = self.sequence.count('T') \n",
    "        at_content = (a_count + t_count) / length \n",
    "        return at_content "
   ]
  },
  {
   "cell_type": "markdown",
   "metadata": {},
   "source": [
    "Looks OK, we can create a new instance, access variables by using dot, and call methods by using dots:"
   ]
  },
  {
   "cell_type": "code",
   "execution_count": null,
   "metadata": {
    "collapsed": false
   },
   "outputs": [],
   "source": [
    "d = DNARecord()\n",
    "print('Created a record for ' + d.gene_name + ' from ' + d.species_name)\n",
    "print('AT is ' + str(d.get_AT()))\n",
    "print('complement is ' + d.complement())"
   ]
  },
  {
   "cell_type": "markdown",
   "metadata": {},
   "source": [
    "One major problem: all the variables are set as part of the class definiion, so every object we create will have the same sequence, etc.\n",
    "\n",
    "We can change the object variables after creation just like any variable:"
   ]
  },
  {
   "cell_type": "code",
   "execution_count": null,
   "metadata": {
    "collapsed": false
   },
   "outputs": [],
   "source": [
    "d1 = DNARecord() \n",
    "d1.sequence = 'ATATATTATTATATTATA' \n",
    "d1.gene_name = 'COX1' \n",
    "d1.species_name = 'Homo sapiens' \n",
    " \n",
    "d2 = DNARecord() \n",
    "d2.sequence = 'CGGCGGCGCGGCGCGGCG' \n",
    "d2.gene_name = 'ATP6' \n",
    "d2.species_name = 'Gorilla gorilla' \n",
    " \n",
    "for r in [d1, d2]: \n",
    "    print('Created ' + r.gene_name + ' from ' + r.species_name) \n",
    "    print('AT is ' + str(r.get_AT())) \n",
    "    print('complement is ' + r.complement())"
   ]
  },
  {
   "cell_type": "markdown",
   "metadata": {},
   "source": [
    "This works perfectly well, but is a bit awkward. Why don't we add a method whose job is to set all the variables in one go:"
   ]
  },
  {
   "cell_type": "code",
   "execution_count": null,
   "metadata": {
    "collapsed": true
   },
   "outputs": [],
   "source": [
    "class DNARecord(object): \n",
    "    sequence = 'ACGTAGCTGACGATC'\n",
    "    gene_name = 'ABC1'\n",
    "    species_name = 'Drosophila melanogaster'\n",
    "\n",
    "    def complement(self): \n",
    "        replacement1 = self.sequence.replace('A', 't') \n",
    "        replacement2 = replacement1.replace('T', 'a') \n",
    "        replacement3 = replacement2.replace('C', 'g') \n",
    "        replacement4 = replacement3.replace('G', 'c') \n",
    "        return replacement4.upper() \n",
    "\n",
    "    def get_AT(self): \n",
    "        length = len(self.sequence) \n",
    "        a_count = self.sequence.count('A') \n",
    "        t_count = self.sequence.count('T') \n",
    "        at_content = (a_count + t_count) / length \n",
    "        return at_content \n",
    "    \n",
    "    def set_variables(self, new_seq, new_gene_name, new_species_name): \n",
    "        self.sequence = new_seq \n",
    "        self.gene_name = new_gene_name \n",
    "        self.species_name = new_species_name     "
   ]
  },
  {
   "cell_type": "markdown",
   "metadata": {},
   "source": [
    "Now we can do this:"
   ]
  },
  {
   "cell_type": "code",
   "execution_count": null,
   "metadata": {
    "collapsed": false
   },
   "outputs": [],
   "source": [
    "d1 = DNARecord() \n",
    "d1.set_variables('ATATATTATTATATTATA','COX1','Homo sapiens') "
   ]
  },
  {
   "cell_type": "markdown",
   "metadata": {},
   "source": [
    "Since we can set variable easily, we don't need them in the class definition any more:"
   ]
  },
  {
   "cell_type": "code",
   "execution_count": null,
   "metadata": {
    "collapsed": true
   },
   "outputs": [],
   "source": [
    "class DNARecord(object): \n",
    "    \n",
    "    def complement(self): \n",
    "        replacement1 = self.sequence.replace('A', 't') \n",
    "        replacement2 = replacement1.replace('T', 'a') \n",
    "        replacement3 = replacement2.replace('C', 'g') \n",
    "        replacement4 = replacement3.replace('G', 'c') \n",
    "        return replacement4.upper() \n",
    "\n",
    "    def get_AT(self): \n",
    "        length = len(self.sequence) \n",
    "        a_count = self.sequence.count('A') \n",
    "        t_count = self.sequence.count('T') \n",
    "        at_content = (a_count + t_count) / length \n",
    "        return at_content \n",
    "    \n",
    "    def set_variables(self, new_seq, new_gene_name, new_species_name): \n",
    "        self.sequence = new_seq \n",
    "        self.gene_name = new_gene_name \n",
    "        self.species_name = new_species_name     \n",
    "        \n",
    "d1 = DNARecord() \n",
    "d1.set_variables('ATATATTATTATATTATA','COX1','Homo sapiens') "
   ]
  },
  {
   "cell_type": "markdown",
   "metadata": {},
   "source": [
    "This works fine until we forget to set the variables:"
   ]
  },
  {
   "cell_type": "code",
   "execution_count": null,
   "metadata": {
    "collapsed": false
   },
   "outputs": [],
   "source": [
    "d1 = DNARecord() \n",
    "print(d1.complement())"
   ]
  },
  {
   "cell_type": "markdown",
   "metadata": {},
   "source": [
    "We need a **constructor**: a special method whose job is to create an object and set up the variables. The constructor has a special name `__init()__`:"
   ]
  },
  {
   "cell_type": "code",
   "execution_count": null,
   "metadata": {
    "collapsed": true
   },
   "outputs": [],
   "source": [
    "class DNARecord(object): \n",
    "    \n",
    "    def __init__(self, sequence, gene_name, species_name):\n",
    "        self.sequence = sequence\n",
    "        self.gene_name = gene_name\n",
    "        self.species_name = species_name\n",
    "        \n",
    "    def complement(self): \n",
    "        replacement1 = self.sequence.replace('A', 't') \n",
    "        replacement2 = replacement1.replace('T', 'a') \n",
    "        replacement3 = replacement2.replace('C', 'g') \n",
    "        replacement4 = replacement3.replace('G', 'c') \n",
    "        return replacement4.upper() \n",
    "\n",
    "    def get_AT(self): \n",
    "        length = len(self.sequence) \n",
    "        a_count = self.sequence.count('A') \n",
    "        t_count = self.sequence.count('T') \n",
    "        at_content = (a_count + t_count) / length \n",
    "        return at_content         "
   ]
  },
  {
   "cell_type": "markdown",
   "metadata": {},
   "source": [
    "And we can call it just using the class name:"
   ]
  },
  {
   "cell_type": "code",
   "execution_count": null,
   "metadata": {
    "collapsed": false
   },
   "outputs": [],
   "source": [
    "d1 = DNARecord('ATATATTATTATATTATA', 'COX1', 'Homo sapiens')\n",
    "print(d1.complement())"
   ]
  },
  {
   "cell_type": "markdown",
   "metadata": {},
   "source": [
    "Now Python will helpfully prevent us from creating a `DNARecord` object without variables:"
   ]
  },
  {
   "cell_type": "code",
   "execution_count": null,
   "metadata": {
    "collapsed": false
   },
   "outputs": [],
   "source": [
    "d1 = DNARecord() "
   ]
  },
  {
   "cell_type": "markdown",
   "metadata": {},
   "source": [
    "###Pause for a moment to consider the difference between non-object (let's call it *imperative*) code and OO code\n",
    "\n",
    "Remember that the actual code to do the calculations is the same for both.\n",
    "\n",
    "In imperative code, we pass data to functions in order to get the answers we want:"
   ]
  },
  {
   "cell_type": "code",
   "execution_count": null,
   "metadata": {
    "collapsed": false
   },
   "outputs": [],
   "source": [
    "# imperative code\n",
    "dna_sequence = \"ACTGATCGTTACGTACGAGT\" \n",
    "species = \"Drosophila melanogaster\"\n",
    "gene_name = \"ABC1\"\n",
    "print(\"Looking at the \" + species + \" \" + gene_name + \" gene\")\n",
    "print(\"AT content is \" + str(get_AT(dna_sequence))) \n",
    "print(\"complement is \" + complement(dna_sequence))"
   ]
  },
  {
   "cell_type": "markdown",
   "metadata": {},
   "source": [
    "In OO code, we ask the object of the answer we want, and the object is responsible for figuring out how to calculate it:"
   ]
  },
  {
   "cell_type": "code",
   "execution_count": null,
   "metadata": {
    "collapsed": false
   },
   "outputs": [],
   "source": [
    "# object-oriented code\n",
    "d = DNARecord(\"ACTGATCGTTACGTACGAGT\", \"ABC1\", \"Drosophila melanogaster\")\n",
    "print(\"Looking at the \" + d.species_name + \" \" + d.gene_name + \" gene\")\n",
    "print(\"AT content is \" + str(d.get_AT())) \n",
    "print(\"complement is \" + d.complement())"
   ]
  },
  {
   "cell_type": "markdown",
   "metadata": {},
   "source": [
    "To illustrate the difference in one line:"
   ]
  },
  {
   "cell_type": "code",
   "execution_count": null,
   "metadata": {
    "collapsed": true
   },
   "outputs": [],
   "source": [
    "assert get_AT(d.sequence) == d.get_AT()"
   ]
  },
  {
   "cell_type": "markdown",
   "metadata": {},
   "source": [
    "Because objects store data along with methods, they always have access to their own internal state, so when we call `d.get_AT()` we don't have to worry about telling Python **which** DNA sequence we want the AT content for - it's the one that belongs to the object. \n",
    "\n",
    "This allows us to do things that would be awkward with functions. For example, say we want to write a function to generate a FASTA format record for a sequence, where the header contains the gene and species name. These are three separate bits of information, but if we add a method to the class like this:"
   ]
  },
  {
   "cell_type": "code",
   "execution_count": null,
   "metadata": {
    "collapsed": true
   },
   "outputs": [],
   "source": [
    "class DNARecord(object): \n",
    "    \n",
    "    def __init__(self, sequence, gene_name, species_name):\n",
    "        self.sequence = sequence\n",
    "        self.gene_name = gene_name\n",
    "        self.species_name = species_name\n",
    "        \n",
    "    def complement(self): \n",
    "        replacement1 = self.sequence.replace('A', 't') \n",
    "        replacement2 = replacement1.replace('T', 'a') \n",
    "        replacement3 = replacement2.replace('C', 'g') \n",
    "        replacement4 = replacement3.replace('G', 'c') \n",
    "        return replacement4.upper() \n",
    "\n",
    "    def get_AT(self): \n",
    "        length = len(self.sequence) \n",
    "        a_count = self.sequence.count('A') \n",
    "        t_count = self.sequence.count('T') \n",
    "        at_content = (a_count + t_count) / length \n",
    "        return at_content       \n",
    "    \n",
    "    def get_fasta(self): \n",
    "        safe_species_name = self.species_name.replace(' ','_')\n",
    "        header = '>' + self.gene_name + '_' + safe_species_name\n",
    "        return header + '\\n' + self.sequence + '\\n' "
   ]
  },
  {
   "cell_type": "markdown",
   "metadata": {},
   "source": [
    "It becomes straightforward to call:"
   ]
  },
  {
   "cell_type": "code",
   "execution_count": null,
   "metadata": {
    "collapsed": false
   },
   "outputs": [],
   "source": [
    "d1 = DNARecord('ATATATTATTATATTATA', 'COX1', 'Homo sapiens')\n",
    "print(d1.get_fasta())\n",
    "d1.get_fasta()"
   ]
  },
  {
   "cell_type": "markdown",
   "metadata": {},
   "source": [
    "and we can write fairly complex programs with very little code:"
   ]
  },
  {
   "cell_type": "code",
   "execution_count": null,
   "metadata": {
    "collapsed": false
   },
   "outputs": [],
   "source": [
    "# given a list of DNARecord objects in my_dna_records\n",
    "output = open(\"high_at.fasta\", \"w\")\n",
    "for d in my_dna_records:\n",
    "    if d.get_AT() > 0.6:\n",
    "        output.write(d.get_fasta())"
   ]
  },
  {
   "cell_type": "markdown",
   "metadata": {},
   "source": [
    "Now that we've created the DNARecord class, we can pass DNARecord objects around just like any other data type. E.g. here's a function that takes a DNARecord object as its argument and returns a protein translation:"
   ]
  },
  {
   "cell_type": "code",
   "execution_count": null,
   "metadata": {
    "collapsed": false
   },
   "outputs": [],
   "source": [
    "def translate_dna(dna_record): \n",
    "    gencode = { \n",
    "\t    'ATA':'I', 'ATC':'I', 'ATT':'I', 'ATG':'M', \n",
    "\t    'ACA':'T', 'ACC':'T', 'ACG':'T', 'ACT':'T', \n",
    "\t    'AAC':'N', 'AAT':'N', 'AAA':'K', 'AAG':'K', \n",
    "\t    'AGC':'S', 'AGT':'S', 'AGA':'R', 'AGG':'R', \n",
    "\t    'CTA':'L', 'CTC':'L', 'CTG':'L', 'CTT':'L', \n",
    "\t    'CCA':'P', 'CCC':'P', 'CCG':'P', 'CCT':'P', \n",
    "\t    'CAC':'H', 'CAT':'H', 'CAA':'Q', 'CAG':'Q', \n",
    "\t    'CGA':'R', 'CGC':'R', 'CGG':'R', 'CGT':'R', \n",
    "\t    'GTA':'V', 'GTC':'V', 'GTG':'V', 'GTT':'V', \n",
    "\t    'GCA':'A', 'GCC':'A', 'GCG':'A', 'GCT':'A', \n",
    "\t    'GAC':'D', 'GAT':'D', 'GAA':'E', 'GAG':'E', \n",
    "\t    'GGA':'G', 'GGC':'G', 'GGG':'G', 'GGT':'G', \n",
    "\t    'TCA':'S', 'TCC':'S', 'TCG':'S', 'TCT':'S', \n",
    "\t    'TTC':'F', 'TTT':'F', 'TTA':'L', 'TTG':'L', \n",
    "\t    'TAC':'Y', 'TAT':'Y', 'TAA':'_', 'TAG':'_', \n",
    "\t    'TGC':'C', 'TGT':'C', 'TGA':'_', 'TGG':'W'} \n",
    "    last_codon_start = len(dna_record.sequence) - 2 \n",
    "    protein = \"\" \n",
    "    for start in range(0,last_codon_start,3): \n",
    "        codon = dna_record.sequence[start:start+3] \n",
    "        aa = gencode.get(codon.upper(), 'X') \n",
    "        protein = protein + aa \n",
    "    return protein\n",
    "\n",
    "translate_dna(d)"
   ]
  },
  {
   "cell_type": "markdown",
   "metadata": {},
   "source": [
    "We could probably turn this into a method of DNARecord objects if we wanted to. \n",
    "\n",
    "---\n",
    "\n",
    "##Exercises\n",
    "\n",
    "This exercise is a bit different - we have just one for the whole day. This is becuase we can't really understand how OO code works with just a small example. \n",
    "\n",
    "We are going to build a (bad!) population genetics simulation:\n",
    "- 3 loci\n",
    "- each with 2 alleles\n",
    "- in a population of 100 diploid individuals\n",
    "- multiplicative fitness \n",
    "- individuals die in each generation with probability inversely proportional to fitness\n",
    "- new individuals are created with alleles drawn randomly from the population\n",
    "- frequncy of alleles are logged over time\n",
    "\n",
    "![alleles](alleles.png)\n",
    "\n",
    "This sounds like a lot, but by the end of the day we will have built this together. \n",
    "\n",
    "We will tackle it in steps and pause to discuss each step.\n",
    "\n",
    "Don't think too hard about the shortcomings of the simulation!\n",
    "\n"
   ]
  },
  {
   "cell_type": "markdown",
   "metadata": {},
   "source": [
    "###Step one: design\n",
    "\n",
    "sketch out (paper or plain text is fine) designs for the classes we will need:\n",
    "- `Allele`\n",
    "- `Locus`\n",
    "- `Individual`\n",
    "- `Population`\n",
    "\n",
    "What methods and variables do they need?\n",
    "Which objects contain other objects?\n",
    "\n",
    "Write minimal class definitions for the four classes - just variables and constructors.\n",
    "\n",
    "\n"
   ]
  },
  {
   "cell_type": "markdown",
   "metadata": {},
   "source": [
    "###Step two: create some objects\n",
    "\n",
    "From now on we will use inital caps when talking about classes and objects. \n",
    "\n",
    "Write code to create two `Alleles`.\n",
    "Write code to create a `Locus` with the two `Alleles`.\n",
    "Write code two create two more `Loci`, each with two `Alleles`.\n",
    "Write code to create an `Individual` with these three `Loci`.\n",
    "Write code to creaet a `Population` with two `Individuals`.\n",
    "\n"
   ]
  },
  {
   "cell_type": "markdown",
   "metadata": {},
   "source": [
    "###Step three: randomization\n",
    "\n",
    "Add a method to the `Locus` class to return a random `Allele` (hint: import random)\n",
    " \n",
    "Write a function that takes a list of `Loci` and returns an `Individual` with randomly picked `Alleles` (this could be a constructor in the `Individual` class).\n",
    " \n",
    "Write a function that takes a size and list of Loci and returns a `Population` of `Individuals` with randomly picked `Alleles` (this could be a constructor in the `Population` class).\n",
    "\n",
    "Create a `Population` with one hundred `Individuals`. "
   ]
  },
  {
   "cell_type": "markdown",
   "metadata": {},
   "source": [
    "###Step four: measuring `Individuals`\n",
    "\n",
    "Add a method to the `Individual` class which returns the genotype as a string (e.g. AaBBcc).\n",
    " \n",
    "Add a method to the `Population` class which prints the genotypes for all `Individuals`. Run it on your test `Population`.\n",
    " \n",
    "Add a method to the `Individual` class which returns the fitness (i.e. the product of all `Allele` fitnesses).\n",
    " \n",
    "add a method to the `Population` class which prints the genotype and fitness of all `Individuals`.\n",
    " \n",
    "Run it on your test `Population`. do the results make sense i.e. do individuals with more \"better\" alleles have higher fitness? (AaBbCc > aabbcc)"
   ]
  },
  {
   "cell_type": "markdown",
   "metadata": {},
   "source": [
    "###Step five: measuring allele frequencies\n",
    "\n",
    "Add a method to the `Population` class which takes an `Allele` and returns the frequency in the `Population`.\n",
    " \n",
    "Add a method to the `Population` class which prints out the names and frequencies for all `Alleles` at all `Loci`.\n",
    " \n",
    "how does the `Population` know what the list of alleles is....?"
   ]
  },
  {
   "cell_type": "markdown",
   "metadata": {},
   "source": [
    "###Step six: simulating death\n",
    "\n",
    "Add a method to the `Population` class which randomly kills `Individuals` with a probability proportional to the inverse of their fitness (hint: lists have a `.remove()` method)\n",
    " \n",
    "How will we know if it's working? the size of the population should go down in each generation ('cos we haven't implemented birth yet).\n",
    " \n",
    "Run the simulation for 10 generations and monitor the population size. "
   ]
  },
  {
   "cell_type": "markdown",
   "metadata": {},
   "source": [
    "###Step seven: simulating birth\n",
    "\n",
    "Add a method to the `Population` class to add a single new `Individual` using `Alleles` picked from the current list of `Individuals`.\n",
    " \n",
    "Add a method to the `Population` class to repeatedly add `Individuals` until the population size is back up to 100.\n",
    " \n",
    "Add a method to the `Population` class which simulates a single generation (death then birth).\n",
    "\n",
    "Run the simulation for 10 generations and monitor the population size again."
   ]
  },
  {
   "cell_type": "markdown",
   "metadata": {},
   "source": [
    "###Step eight: logging allele frequencies\n",
    "\n",
    "Add a method to the `Population` class to write a CSV header line to an output file:\n",
    "\n",
    "`generation, A, a, B, b, C, c`\n",
    " \n",
    "Add a method to the `Population` class to write a CSV row for the current state:\n",
    "\n",
    "`56, 0.6, 0.4, 0.7, 0.3, 0.5, 0.5`\n",
    "\n",
    "this should be called every generation.\n",
    " \n",
    "Run the simulation for 100 generations.\n",
    " \n",
    "Open the output file in a text editor.\n",
    "Open the output file in a spreadsheet package. Plot the allele frequencies vs. generation."
   ]
  },
  {
   "cell_type": "markdown",
   "metadata": {},
   "source": [
    "---\n",
    "\n",
    "##More object-oriented features if we have time\n",
    "\n",
    "Let's create a `ProteinRecord` class to keep our `DNARecord` class company. What does it need?\n",
    "\n",
    "Variables:\n",
    "- sequence\n",
    "- gene name\n",
    "- species name\n",
    "\n",
    "Methods:\n",
    "- ~~complement~~\n",
    "- ~~get_AT()~~\n",
    "- get_fasta()\n",
    "- **get_hydrophobic()**\n",
    "\n",
    "Here we go:"
   ]
  },
  {
   "cell_type": "code",
   "execution_count": null,
   "metadata": {
    "collapsed": false
   },
   "outputs": [],
   "source": [
    "class ProteinRecord(object): \n",
    "\n",
    "    def __init__(self, sequence, gene_name, species_name): \n",
    "        self.sequence = sequence \n",
    "        self.gene_name = gene_name \n",
    "        self.species_name = species_name \n",
    "\n",
    "    def get_fasta(self): \n",
    "        safe_species_name = self.species_name.replace(' ','_') \n",
    "        header = '>' + self.gene_name + '_' + safe_species_name \n",
    "        return header + '\\n' + self.sequence + '\\n' \n",
    "\n",
    "    def get_hydrophobic(self): \n",
    "        aa_list=['A','I','L','M','F','W','Y','V'] \n",
    "        protein_length = len(self.sequence) \n",
    "        total = 0 \n",
    "        for aa in aa_list: \n",
    "            aa = aa.upper() \n",
    "            aa_count = self.sequence.count(aa) \n",
    "            total = total + aa_count \n",
    "        percentage = total * 100 / protein_length \n",
    "        return percentage\n",
    "    \n",
    "p1 = ProteinRecord('MSRSLLLRFLLFLLLLPPLP', 'COX1', 'Homo sapiens') \n",
    "print(p1.get_fasta()) \n",
    "print(str(p1.get_hydrophobic()))"
   ]
  },
  {
   "cell_type": "markdown",
   "metadata": {},
   "source": [
    "Everything works, but I am not quite happy; the `get_fasta()` code is duplicated in two places. We could turn it back into a function but that would break the encapsulation of objects. \n",
    "\n",
    "The solution is **inheritance**. We will create a generic SequenceRecord object which has the shared code (constructor and `get_fasta()`):"
   ]
  },
  {
   "cell_type": "code",
   "execution_count": null,
   "metadata": {
    "collapsed": true
   },
   "outputs": [],
   "source": [
    "class SequenceRecord(object): \n",
    "\n",
    "    def __init__(self, sequence, gene_name, species_name): \n",
    "        self.sequence = sequence \n",
    "        self.gene_name = gene_name \n",
    "        self.species_name = species_name \n",
    "\n",
    "    def get_fasta(self): \n",
    "        safe_species_name = self.species_name.replace(' ','_') \n",
    "        header = '>' + self.gene_name + '_' + safe_species_name \n",
    "        return header + '\\n' + self.sequence + '\\n' "
   ]
  },
  {
   "cell_type": "markdown",
   "metadata": {},
   "source": [
    "Both `DNARecord` and `ProteinRecord` will inherit from `SequenceRecord`, which means that they will have access to the constructor and `get_fasta()`:"
   ]
  },
  {
   "cell_type": "code",
   "execution_count": null,
   "metadata": {
    "collapsed": true
   },
   "outputs": [],
   "source": [
    "class ProteinRecord(SequenceRecord): \n",
    "    \n",
    "    def get_hydrophobic(self): \n",
    "        aa_list=['A','I','L','M','F','W','Y','V'] \n",
    "        protein_length = len(self.sequence) \n",
    "        total = 0 \n",
    "        for aa in aa_list: \n",
    "            aa = aa.upper() \n",
    "            aa_count = self.sequence.count(aa) \n",
    "            total = total + aa_count \n",
    "        return total * 100 / protein_length  \n",
    "\n",
    "class DNARecord(SequenceRecord): \n",
    "\n",
    "    def complement(self): \n",
    "        replacement1 = self.sequence.replace('A', 't') \n",
    "        replacement2 = replacement1.replace('T', 'a') \n",
    "        replacement3 = replacement2.replace('C', 'g') \n",
    "        replacement4 = replacement3.replace('G', 'c') \n",
    "        return replacement4.upper() \n",
    "\n",
    "    def get_AT(self): \n",
    "        length = len(self.sequence) \n",
    "        a_count = self.sequence.count('A') \n",
    "        t_count = self.sequence.count('T') \n",
    "        return (a_count + t_count) / length "
   ]
  },
  {
   "cell_type": "markdown",
   "metadata": {},
   "source": [
    "Now we can happily write code like this:"
   ]
  },
  {
   "cell_type": "code",
   "execution_count": null,
   "metadata": {
    "collapsed": false
   },
   "outputs": [],
   "source": [
    "p1 = ProteinRecord('MSRSLLLRFLLFLLLLPPLP', 'COX1', 'Homo sapiens') \n",
    "print(p1.get_fasta()) \n",
    "print(p1.get_hydrophobic()) \n",
    " \n",
    "d1 = DNARecord('ACCACACGATCGATCGAG', 'COX1', 'Homo sapiens') \n",
    "print(d1.get_fasta()) \n",
    "print(d1.complement()) "
   ]
  },
  {
   "cell_type": "markdown",
   "metadata": {},
   "source": [
    "Just for fun, here's a version of our protein tranlation function which takes a `DNARecord` object and returns a `ProteinRecord` object:"
   ]
  },
  {
   "cell_type": "code",
   "execution_count": null,
   "metadata": {
    "collapsed": false
   },
   "outputs": [],
   "source": [
    "def translate_dna(dna_record): \n",
    "    gencode = { \n",
    "\t    'ATA':'I', 'ATC':'I', 'ATT':'I', 'ATG':'M', \n",
    "\t    'ACA':'T', 'ACC':'T', 'ACG':'T', 'ACT':'T', \n",
    "\t    'AAC':'N', 'AAT':'N', 'AAA':'K', 'AAG':'K', \n",
    "\t    'AGC':'S', 'AGT':'S', 'AGA':'R', 'AGG':'R', \n",
    "\t    'CTA':'L', 'CTC':'L', 'CTG':'L', 'CTT':'L', \n",
    "\t    'CCA':'P', 'CCC':'P', 'CCG':'P', 'CCT':'P', \n",
    "\t    'CAC':'H', 'CAT':'H', 'CAA':'Q', 'CAG':'Q', \n",
    "\t    'CGA':'R', 'CGC':'R', 'CGG':'R', 'CGT':'R', \n",
    "\t    'GTA':'V', 'GTC':'V', 'GTG':'V', 'GTT':'V', \n",
    "\t    'GCA':'A', 'GCC':'A', 'GCG':'A', 'GCT':'A', \n",
    "\t    'GAC':'D', 'GAT':'D', 'GAA':'E', 'GAG':'E', \n",
    "\t    'GGA':'G', 'GGC':'G', 'GGG':'G', 'GGT':'G', \n",
    "\t    'TCA':'S', 'TCC':'S', 'TCG':'S', 'TCT':'S', \n",
    "\t    'TTC':'F', 'TTT':'F', 'TTA':'L', 'TTG':'L', \n",
    "\t    'TAC':'Y', 'TAT':'Y', 'TAA':'_', 'TAG':'_', \n",
    "\t    'TGC':'C', 'TGT':'C', 'TGA':'_', 'TGG':'W'} \n",
    "    last_codon_start = len(dna_record.sequence) - 2 \n",
    "    protein = \"\" \n",
    "    for start in range(0,last_codon_start,3): \n",
    "        codon = dna_record.sequence[start:start+3] \n",
    "        aa = gencode.get(codon.upper(), 'X') \n",
    "        protein = protein + aa \n",
    "    \n",
    "    # gather the information to create the protein record\n",
    "    protein_name = dna_record.gene_name\n",
    "    protein_species = dna_record.species_name\n",
    "\n",
    "    # create the protein record and return it\n",
    "    protein_record = ProteinRecord(protein,protein_name,protein_species) \n",
    "    return protein_record\n",
    "\n",
    "translate_dna(d1).get_hydrophobic()"
   ]
  },
  {
   "cell_type": "markdown",
   "metadata": {},
   "source": [
    "Now let's make life even more complicated and add a genetic code variable to `DNARecord`, but not `ProteinRecord`. The genetic code variable can't go in `SequenceRecord`, so it has to go in `DNARecord`, which means that `DNARecord` now needs to have its own constructor:"
   ]
  },
  {
   "cell_type": "code",
   "execution_count": null,
   "metadata": {
    "collapsed": false
   },
   "outputs": [],
   "source": [
    "class DNARecord(SequenceRecord): \n",
    "    \n",
    "    def __init__(self, sequence, gene_name, species_name, genetic_code): \n",
    "        self.sequence = sequence \n",
    "        self.gene_name = gene_name \n",
    "        self.species_name = species_name \n",
    "        self.genetic_code = genetic_code \n",
    "\n",
    "    def complement(self): \n",
    "        replacement1 = self.sequence.replace('A', 't') \n",
    "        replacement2 = replacement1.replace('T', 'a') \n",
    "        replacement3 = replacement2.replace('C', 'g') \n",
    "        replacement4 = replacement3.replace('G', 'c') \n",
    "        return replacement4.upper() \n",
    "\n",
    "    def get_AT(self): \n",
    "        length = len(self.sequence) \n",
    "        a_count = self.sequence.count('A') \n",
    "        t_count = self.sequence.count('T') \n",
    "        return (a_count + t_count) / length \n",
    "\n",
    "d1 = DNARecord('ATCGCGTACGTGATCGTAG', 'COX1', 'Homo sapiens', 5) \n",
    "print(d1.get_fasta()) \n",
    "print(d1.complement()) \n",
    "print('genetic code is ' + str(d1.genetic_code))"
   ]
  },
  {
   "cell_type": "markdown",
   "metadata": {},
   "source": [
    "We say that the constructor in `DNARecord` **overrides** the one in `SequenceRecord`.\n",
    "\n",
    "Let's say we want to add a bit of error-checking to the construtors. Before creating an object, we will check that the species name looks correct. We can add error cheking to the `SequenceRecord` constructor (don't worry if you haven't seen `raise` before):"
   ]
  },
  {
   "cell_type": "code",
   "execution_count": null,
   "metadata": {
    "collapsed": false
   },
   "outputs": [],
   "source": [
    "import re\n",
    "\n",
    "class SequenceRecord(object): \n",
    "\n",
    "    def __init__(self, sequence, gene_name, species_name): \n",
    "        if not re.match(r'[A-Z][a-z]+ [a-z]+', species_name): \n",
    "            raise ValueError(species_name + ' is not a valid species name!')\n",
    "        self.sequence = sequence \n",
    "        self.gene_name = gene_name \n",
    "        self.species_name = species_name \n",
    "\n",
    "    def get_fasta(self): \n",
    "        safe_species_name = self.species_name.replace(' ','_') \n",
    "        header = '>' + self.gene_name + '_' + safe_species_name \n",
    "        return header + '\\n' + self.sequence + '\\n' \n",
    "\n",
    "class ProteinRecord(SequenceRecord): \n",
    "    \n",
    "    def get_hydrophobic(self): \n",
    "        aa_list=['A','I','L','M','F','W','Y','V'] \n",
    "        protein_length = len(self.sequence) \n",
    "        total = 0 \n",
    "        for aa in aa_list: \n",
    "            aa = aa.upper() \n",
    "            aa_count = self.sequence.count(aa) \n",
    "            total = total + aa_count \n",
    "        return total * 100 / protein_length  \n",
    "    \n",
    "    \n",
    "p1 = ProteinRecord('MSRSLLLRFLLFLLLLPPLP', 'COX1', 'human') \n"
   ]
  },
  {
   "cell_type": "markdown",
   "metadata": {},
   "source": [
    "Problem: because `DNARecord` has its own constructor, it can't take advantage of this error checking:"
   ]
  },
  {
   "cell_type": "code",
   "execution_count": null,
   "metadata": {
    "collapsed": false
   },
   "outputs": [],
   "source": [
    "d1 = DNARecord('ATCGCGTACGTGATCGTAG', 'COX1', 'human', 5) \n",
    "d1"
   ]
  },
  {
   "cell_type": "markdown",
   "metadata": {},
   "source": [
    "So we have to add the error-checking code separately to the `DNARecord` constructor:"
   ]
  },
  {
   "cell_type": "code",
   "execution_count": null,
   "metadata": {
    "collapsed": false
   },
   "outputs": [],
   "source": [
    "class DNARecord(SequenceRecord): \n",
    "    \n",
    "    def __init__(self, sequence, gene_name, species_name, genetic_code): \n",
    "        if not re.match(r'[A-Z][a-z]+ [a-z]+', species_name): \n",
    "            raise ValueError(species_name + ' is not a valid species name!')\n",
    "        self.sequence = sequence \n",
    "        self.gene_name = gene_name \n",
    "        self.species_name = species_name \n",
    "        self.genetic_code = genetic_code \n",
    "\n",
    "    def complement(self): \n",
    "        replacement1 = self.sequence.replace('A', 't') \n",
    "        replacement2 = replacement1.replace('T', 'a') \n",
    "        replacement3 = replacement2.replace('C', 'g') \n",
    "        replacement4 = replacement3.replace('G', 'c') \n",
    "        return replacement4.upper() \n",
    "\n",
    "    def get_AT(self): \n",
    "        length = len(self.sequence) \n",
    "        a_count = self.sequence.count('A') \n",
    "        t_count = self.sequence.count('T') \n",
    "        return (a_count + t_count) / length \n",
    "    \n",
    "d1 = DNARecord('ATCGCGTACGTGATCGTAG', 'COX1', 'human', 5) "
   ]
  },
  {
   "cell_type": "markdown",
   "metadata": {},
   "source": [
    "Just like with `get_fasta()`, this is a problem - we have the same code duplicated twice. The solution this time is to have the `DNARecord` constructor call the `SequenceRecord` constructor first, then set the genetic code variable:"
   ]
  },
  {
   "cell_type": "code",
   "execution_count": null,
   "metadata": {
    "collapsed": true
   },
   "outputs": [],
   "source": [
    "class SequenceRecord(object): \n",
    "\n",
    "    def __init__(self, sequence, gene_name, species_name): \n",
    "        if not re.match(r'[A-Z][a-z]+ [a-z]+', species_name): \n",
    "            raise ValueError(species_name + ' is not a valid species name!')\n",
    "        self.sequence = sequence \n",
    "        self.gene_name = gene_name \n",
    "        self.species_name = species_name     \n",
    "        \n",
    "class DNARecord(SequenceRecord): \n",
    "    \n",
    "    def __init__(self, sequence, gene_name, species_name, genetic_code): \n",
    "        # first call the SequenceRecord constructor to check the species name\n",
    "        SequenceRecord.__init__(self, sequence, gene_name, species_name) \n",
    "        # now set the genetic code \n",
    "        self.genetic_code = genetic_code \n",
    "        "
   ]
  },
  {
   "cell_type": "markdown",
   "metadata": {},
   "source": [
    "This is called **calling a method in the superclass**. We can do it for any method, not just constructors. It's useful when we want one our classes to have some common behaviour (checking species name; setting sequence, gene name and species name) and some specialized behaviour (setting genetic code)."
   ]
  },
  {
   "cell_type": "markdown",
   "metadata": {},
   "source": [
    "Final complication: we want to have methods with the same name but different behaviour:"
   ]
  },
  {
   "cell_type": "code",
   "execution_count": null,
   "metadata": {
    "collapsed": true
   },
   "outputs": [],
   "source": [
    "class ProteinRecord(SequenceRecord): \n",
    "    \n",
    "    def get_protein_length(self): \n",
    "        return len(self.sequence) \n",
    "    \n",
    "class DNARecord(SequenceRecord): \n",
    "\n",
    "    def get_protein_length(self): \n",
    "        return len(self.sequence) / 3    \n",
    "    "
   ]
  },
  {
   "cell_type": "markdown",
   "metadata": {},
   "source": [
    "This is fine and is called **polymorphism**. It allows us to do things like this:"
   ]
  },
  {
   "cell_type": "code",
   "execution_count": null,
   "metadata": {
    "collapsed": false
   },
   "outputs": [],
   "source": [
    "for my_record in list_of_records:\n",
    "# we don't care whether it's a DNA or protein record\n",
    "    if my_record.get_protein_length() > 100:\n",
    "        # do something with the record"
   ]
  },
  {
   "cell_type": "markdown",
   "metadata": {},
   "source": [
    "We have encountered this many times before without realizing it:"
   ]
  },
  {
   "cell_type": "code",
   "execution_count": 94,
   "metadata": {
    "collapsed": false
   },
   "outputs": [
    {
     "name": "stdout",
     "output_type": "stream",
     "text": [
      "7\n",
      "abcdef\n",
      "5\n",
      "4\n",
      "p\n",
      "y\n",
      "t\n",
      "h\n",
      "o\n",
      "n\n",
      "2\n",
      "4\n",
      "6\n",
      "8\n"
     ]
    }
   ],
   "source": [
    "print(3 + 4)\n",
    "print('abc' + 'def')\n",
    "\n",
    "print(len('hello'))\n",
    "print(len([2,4,6,8]))\n",
    "\n",
    "for i in 'python':\n",
    "    print(i)\n",
    "    \n",
    "for i in [2,4,6,8]:\n",
    "    print(i)\n",
    "    \n"
   ]
  }
 ],
 "metadata": {
  "kernelspec": {
   "display_name": "Python 2",
   "language": "python",
   "name": "python2"
  },
  "language_info": {
   "codemirror_mode": {
    "name": "ipython",
    "version": 2
   },
   "file_extension": ".py",
   "mimetype": "text/x-python",
   "name": "python",
   "nbconvert_exporter": "python",
   "pygments_lexer": "ipython2",
   "version": "2.7.6"
  }
 },
 "nbformat": 4,
 "nbformat_minor": 0
}
