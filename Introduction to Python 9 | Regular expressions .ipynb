{
 "cells": [
  {
   "cell_type": "markdown",
   "metadata": {},
   "source": [
    "<h1 id=\"toctitle\">Introduction to Python 9 | Regular expressions</h1>\n",
    "<ul id=\"toc\"/>"
   ]
  },
  {
   "cell_type": "markdown",
   "metadata": {},
   "source": [
    "##What are regular expressions?\n",
    "\n",
    "Regular expressions (aka. _regex_) are a special mini-language for describing patterns in strings. \n",
    "\n",
    "Handy for working with patterns in DNA/protein, also text files of many different types.\n",
    "\n",
    "Also crop up in other tools: text editors, grep.\n",
    "\n",
    "###Regular expression module\n",
    "\n",
    "The tools for using regular expressions live in the `re` module. We have to `import` the module, then use the module name when running functions:"
   ]
  },
  {
   "cell_type": "code",
   "execution_count": 3,
   "metadata": {
    "collapsed": false
   },
   "outputs": [
    {
     "ename": "NameError",
     "evalue": "name 'search' is not defined",
     "output_type": "error",
     "traceback": [
      "\u001b[1;31m---------------------------------------------------------------------------\u001b[0m",
      "\u001b[1;31mNameError\u001b[0m                                 Traceback (most recent call last)",
      "\u001b[1;32m<ipython-input-3-0400199679be>\u001b[0m in \u001b[0;36m<module>\u001b[1;34m()\u001b[0m\n\u001b[0;32m      3\u001b[0m \u001b[0mre\u001b[0m\u001b[1;33m.\u001b[0m\u001b[0msearch\u001b[0m\u001b[1;33m(\u001b[0m\u001b[1;34m'a'\u001b[0m\u001b[1;33m,\u001b[0m \u001b[1;34m'abc'\u001b[0m\u001b[1;33m)\u001b[0m\u001b[1;33m\u001b[0m\u001b[0m\n\u001b[0;32m      4\u001b[0m \u001b[1;33m\u001b[0m\u001b[0m\n\u001b[1;32m----> 5\u001b[1;33m \u001b[0msearch\u001b[0m\u001b[1;33m(\u001b[0m\u001b[1;34m'a'\u001b[0m\u001b[1;33m,\u001b[0m \u001b[1;34m'abc'\u001b[0m\u001b[1;33m)\u001b[0m\u001b[1;33m\u001b[0m\u001b[0m\n\u001b[0m",
      "\u001b[1;31mNameError\u001b[0m: name 'search' is not defined"
     ]
    }
   ],
   "source": [
    "import re\n",
    "\n",
    "re.search('a', 'abc')\n",
    "\n",
    "search('a', 'abc')"
   ]
  },
  {
   "cell_type": "markdown",
   "metadata": {},
   "source": [
    "##Raw strings \n",
    "\n",
    "Prefix a string with `r` to turn it into a raw string. Raw strings ignore special characters:"
   ]
  },
  {
   "cell_type": "code",
   "execution_count": 5,
   "metadata": {
    "collapsed": false
   },
   "outputs": [
    {
     "name": "stdout",
     "output_type": "stream",
     "text": [
      "hello\n",
      "world\t!\n",
      "hello\\nworld\\t!\n"
     ]
    }
   ],
   "source": [
    "my_string = \"hello\\nworld\\t!\"\n",
    "print(my_string)\n",
    "\n",
    "my_raw_string = r\"hello\\nworld\\t!\"\n",
    "print(my_raw_string)"
   ]
  },
  {
   "cell_type": "markdown",
   "metadata": {},
   "source": [
    "##Searching for patterns with variation\n",
    "\n",
    "`re.search()` takes two arguments: a pattern and a string. It searches for the pattern in the string and returns `True` or `False`. \n",
    "\n",
    "Here is a boring pattern:"
   ]
  },
  {
   "cell_type": "code",
   "execution_count": 6,
   "metadata": {
    "collapsed": false
   },
   "outputs": [
    {
     "name": "stdout",
     "output_type": "stream",
     "text": [
      "restriction site found!\n"
     ]
    }
   ],
   "source": [
    "dna = \"ATCGCGAATTCAC\"\n",
    "\n",
    "if re.search(r\"GAATTC\", dna):\n",
    "    print(\"restriction site found!\")\n",
    "else:\n",
    "    print(\"no restriction site!\")"
   ]
  },
  {
   "cell_type": "markdown",
   "metadata": {},
   "source": [
    "Note that we don't really need a raw string in the example above, but it's a good habit.\n",
    "\n",
    "###Alternation\n",
    "\n",
    "Here's an example of a pattern that's a bit more interesting. When there are two different possibilities we surround them with parentheses and separate with pipe characters:"
   ]
  },
  {
   "cell_type": "code",
   "execution_count": 7,
   "metadata": {
    "collapsed": false
   },
   "outputs": [
    {
     "name": "stdout",
     "output_type": "stream",
     "text": [
      "no restriction site!\n"
     ]
    }
   ],
   "source": [
    "dna = \"ATCGCGAATTCAC\"\n",
    "\n",
    "if re.search(r\"GG(A|T)CC\", dna):\n",
    "    print(\"restriction site found!\")\n",
    "else:\n",
    "    print(\"no restriction site!\")\n"
   ]
  },
  {
   "cell_type": "markdown",
   "metadata": {},
   "source": [
    "###Character groups\n",
    "\n",
    "A very common type of alternation is when we want to allow any one of a list of characters. We can write it like this:"
   ]
  },
  {
   "cell_type": "code",
   "execution_count": 9,
   "metadata": {
    "collapsed": false
   },
   "outputs": [],
   "source": [
    "dna = \"ATCGCGAATTCAC\"\n",
    "if re.search(r\"GC(A|T|G|C)GC\", dna):\n",
    "    print(\"restriction site found!\")"
   ]
  },
  {
   "cell_type": "markdown",
   "metadata": {},
   "source": [
    "or with a shorthand like this:"
   ]
  },
  {
   "cell_type": "code",
   "execution_count": 10,
   "metadata": {
    "collapsed": true
   },
   "outputs": [],
   "source": [
    "if re.search(r\"GC[ATGC]GC\", dna):\n",
    "    print(\"restriction site found!\")"
   ]
  },
  {
   "cell_type": "markdown",
   "metadata": {},
   "source": [
    "Sometimes it's easier to describe a character group by listing the characters that are __not__ allowed. Special rule: if the character group starts with ^ then it means any character except these ones:"
   ]
  },
  {
   "cell_type": "code",
   "execution_count": 23,
   "metadata": {
    "collapsed": false
   },
   "outputs": [
    {
     "name": "stdout",
     "output_type": "stream",
     "text": [
      "ambiguous base found!\n"
     ]
    }
   ],
   "source": [
    "dna = \"ATCGCGYAATTCAC\"\n",
    "\n",
    "if re.search(r\"[^ATGC]\", dna):\n",
    "    print(\"ambiguous base found!\")"
   ]
  },
  {
   "cell_type": "markdown",
   "metadata": {},
   "source": [
    "There are useful shortcuts for some commonly-used character groups. A full stop (aka dot, period) stands for any character. "
   ]
  },
  {
   "cell_type": "markdown",
   "metadata": {},
   "source": [
    "###Quantifiers\n",
    "\n",
    "Another type of variation is the number of times something is repeated.\n",
    "\n",
    "A question mark means the thing preceding it is optional. In the pattern `GCG?Y`the second G is optional. The pattern will match `GCGY` and `GCY`. \n",
    "\n",
    "A plus means that the thing preceding it can be repeated more than once. In the pattern `GCG+Y` the second G can be repeated, so it matches `GCGY`, `GCGGY`, `GCGGGY`, etc. but __not__ `GCY`\n",
    "\n",
    "An asterisk is the most flexible quantifier; the thing preceding it optional, but can also be repeated. The pattern `GCG*Y` will match `GCY`, `GCGY`, `GCGGY`, `GCGGGY`, etc. \n",
    "\n",
    "For more specificity, we can specify a minimum and maximum number of repetitions:\n",
    "\n",
    "`GCG{2,4}Y` will match `GCGGY`, `GCGGGY` and `GCGGGGY` but __not__ `GCGY` or `GCGGGGGY`, etc. \n"
   ]
  },
  {
   "cell_type": "markdown",
   "metadata": {},
   "source": [
    "###Positions\n",
    "\n",
    "Unlike all the stuff above, __positions__ specify where the pattern has to match the string. \n",
    "\n",
    "`^` means the start (don't get confused: it also means a negated character group as described earlier). So `^G` will match `GATC` but not `ATGC`. \n",
    "\n",
    "`$` means the end, so the pattern `G$` will match `ATCG` but not `AGTC` "
   ]
  },
  {
   "cell_type": "markdown",
   "metadata": {},
   "source": [
    "###Combinations\n",
    "\n",
    "The real power of regular expressions comes from combining all these features. Here's a complex regular expression that describes a full length messenger RNA with start codon and polyA tail:\n",
    "\n",
    "`^ATG[ATGC]{30,1000}A{5,10}$`\n",
    "\n",
    "Look at the features:\n",
    "\n",
    "- string must start with ATG\n",
    "- then between 30 and 1000 bases that must be A/T/G/C\n",
    "- string must end with between 5 and 10 consecutive As\n",
    "\n"
   ]
  },
  {
   "cell_type": "markdown",
   "metadata": {
    "collapsed": true
   },
   "source": [
    "##Other stuff we can do with regular expressions\n",
    "\n",
    "###Extracting the match\n",
    "\n",
    "In an `if` statement, `re.search()` behaves like a true/false function, but in fact it returns a re match object. We can get that match object and use methods to get information from it. For example with our non-ATGC base example:"
   ]
  },
  {
   "cell_type": "code",
   "execution_count": 12,
   "metadata": {
    "collapsed": false
   },
   "outputs": [
    {
     "name": "stdout",
     "output_type": "stream",
     "text": [
      "ambiguous base found!\n"
     ]
    }
   ],
   "source": [
    "dna = \"ATCGCGYAATTCAC\"\n",
    "\n",
    "if re.search(r\"[^ATGC]\", dna):\n",
    "    print(\"ambiguous base found!\")"
   ]
  },
  {
   "cell_type": "markdown",
   "metadata": {},
   "source": [
    "We know that we found a non-ATGC base, but what was it? Calling `group()` on the match object will tell us:"
   ]
  },
  {
   "cell_type": "code",
   "execution_count": 15,
   "metadata": {
    "collapsed": false
   },
   "outputs": [
    {
     "name": "stdout",
     "output_type": "stream",
     "text": [
      "ambiguous base found!\n",
      "the base is Y\n"
     ]
    }
   ],
   "source": [
    "dna = \"CGATCGGAAYCGATC\"\n",
    "m = re.search(r\"[^ATGC]\", dna)\n",
    "\n",
    "# m is now a match object\n",
    "if m:\n",
    "    print(\"ambiguous base found!\")\n",
    "    ambig = m.group()\n",
    "    print(\"the base is \" + m.group())"
   ]
  },
  {
   "cell_type": "markdown",
   "metadata": {},
   "source": [
    "###Getting the position\n",
    "\n",
    "Another thing we can do is get the position of the match with `start()` (also `end()`):"
   ]
  },
  {
   "cell_type": "code",
   "execution_count": 16,
   "metadata": {
    "collapsed": false
   },
   "outputs": [
    {
     "name": "stdout",
     "output_type": "stream",
     "text": [
      "ambiguous base found!\n",
      "the base is Y\n",
      "the base is at position 9\n"
     ]
    }
   ],
   "source": [
    "dna = \"CGATCGGAAYCGATC\"\n",
    "m = re.search(r\"[^ATGC]\", dna)\n",
    "\n",
    "# m is now a match object\n",
    "if m:\n",
    "    print(\"ambiguous base found!\")\n",
    "    ambig = m.group()\n",
    "    print(\"the base is \" + m.group())\n",
    "    print(\"the base is at position \" + str(m.start()))"
   ]
  },
  {
   "cell_type": "markdown",
   "metadata": {},
   "source": [
    "###Splitting a string with a regex\n",
    "\n",
    "`re.split()` works just like regular `split()`, but takes a regular expression pattern as the separator. Here we split a DNA sequence whenever we see a non-ATGC base. Note pattern reuse!"
   ]
  },
  {
   "cell_type": "code",
   "execution_count": 17,
   "metadata": {
    "collapsed": false
   },
   "outputs": [
    {
     "name": "stdout",
     "output_type": "stream",
     "text": [
      "['ACT', 'GCAT', 'GCTACGT', 'ACGAT', 'CGA', 'TCG']\n"
     ]
    }
   ],
   "source": [
    "dna = \"ACTNGCATRGCTACGTYACGATSCGAWTCG\"\n",
    "\n",
    "runs = re.split(r\"[^ATGC]\", dna)\n",
    "\n",
    "print(runs)"
   ]
  },
  {
   "cell_type": "markdown",
   "metadata": {},
   "source": [
    "The output is a list of strings. \n",
    "\n",
    "Above, we exclude the bits of the string that matched the pattern and just keep the non-matching bits. For the opposite, use `re.findall()`. E.g. find all runs of A/T that are at least four bases long:"
   ]
  },
  {
   "cell_type": "code",
   "execution_count": 20,
   "metadata": {
    "collapsed": false
   },
   "outputs": [
    {
     "name": "stdout",
     "output_type": "stream",
     "text": [
      "['ATTATAT', 'AAATTATA']\n"
     ]
    }
   ],
   "source": [
    "dna = \"ACTGCATTATATCGTACGAAATTATACGCGCG\"\n",
    "\n",
    "runs = re.findall(r\"[AT]{4,}\", dna)\n",
    "\n",
    "print(runs)"
   ]
  },
  {
   "cell_type": "markdown",
   "metadata": {},
   "source": [
    "###Finding multiple matches\n",
    "\n",
    "Some problems require complete match objects for multiple matches - use `re.finditer()`. E.g. using the same pattern and sequence, what are the start/stop positions of all runs of A/T?"
   ]
  },
  {
   "cell_type": "code",
   "execution_count": 22,
   "metadata": {
    "collapsed": false
   },
   "outputs": [
    {
     "name": "stdout",
     "output_type": "stream",
     "text": [
      "(5, 12)\n",
      "(18, 26)\n"
     ]
    }
   ],
   "source": [
    "dna = \"ACTGCATTATATCGTACGAAATTATACGCGCG\"\n",
    "runs = re.finditer(r\"[AT]{3,100}\", dna)\n",
    "for match in runs:\n",
    "    run_start = match.start()\n",
    "    run_end = match.end()\n",
    "    print(run_start, run_end)"
   ]
  },
  {
   "cell_type": "markdown",
   "metadata": {},
   "source": [
    "##Exercises\n",
    "\n",
    "###Accession numbers, again\n",
    "\n",
    "Here's a list of made-up gene accession numbers:\n",
    "\n",
    "`xkn59438, yhdck2, eihd39d9, chdsye847, hedle3455, xjhd53e, 45da, de37dp`\n",
    "\n",
    "Write a program that will print only the accession names that satisfy the following criteria – treat each criterion separately:\n",
    "\n",
    "- contain the number 5\n",
    "- contain the letter d or e\n",
    "- contain the letters d and e in that order\n",
    "- contain the letters d and e in that order with a single letter between them\n",
    "- contain both the letters d and e in any order\n",
    "- start with x or y\n",
    "- start with x or y and end with e\n",
    "- contain three or more numbers in a row\n",
    "- end with d followed by either a, r or p"
   ]
  },
  {
   "cell_type": "markdown",
   "metadata": {},
   "source": [
    "###Double digest\n",
    "\n",
    "Look at the file _long_dna.txt_ which contains a made-up DNA sequence. \n",
    "\n",
    "Predict the fragment lengths that we will get if we digest the sequence with a made-up restriction enzyme __AbcI__, whose recognition site is `ANT*AAT` (easy).\n",
    "\n",
    "What will the fragment lengths be if we do a double digest with both __AbcI__ and __AbcII__, whose recognition site is `GCRW*TG` (hard)? Can you predict the sequences of the fragments themselves?\n",
    "\n",
    "(asterisks indicate the position of the cut site)"
   ]
  },
  {
   "cell_type": "code",
   "execution_count": 25,
   "metadata": {
    "collapsed": false
   },
   "outputs": [
    {
     "data": {
      "application/javascript": [
       "\n",
       "function regentoc() {\n",
       "    document.getElementById(\"toc\").innerHTML = \"\";\n",
       "    var currenth2 = 0;\n",
       "    $(\"h2,h3\").not(\"#Contents\").each(function(mainIndex) {\n",
       "        el = $(this);\n",
       "        title = el.attr(\"id\");\n",
       "        text = el.html();\n",
       "        link = \"#\" + el.attr(\"id\");\n",
       "        if ( document.getElementById(title).tagName == \"H2\" ) {\n",
       "            currenth2 += 1;\n",
       "            newLine =\n",
       "                \"<li class='maintoc'>\" +\n",
       "                   \"<a href='\" + link + \"'>\" + text + \"</a>\" +\n",
       "                \"</li>\" +\n",
       "                \"<ul id='h2\" + currenth2 + \"'></ul>\";\n",
       "            document.getElementById(\"toc\").innerHTML += newLine;\n",
       "        } else if ( document.getElementById(title).tagName==\"H3\" ) {\n",
       "            h1list = document.getElementById(\"h2\"+currenth2);\n",
       "            newLine = \"<li class='subtoc'>\" + \"<a href='\" + link + \"'>\" + text + \"</a>\" + \"</li>\";\n",
       "            h1list.innerHTML += newLine;\n",
       "        }\n",
       "    });\n",
       "}\n",
       " \n",
       "setInterval(regentoc,1000);\n"
      ],
      "text/plain": [
       "<IPython.core.display.Javascript object>"
      ]
     },
     "execution_count": 25,
     "metadata": {},
     "output_type": "execute_result"
    }
   ],
   "source": [
    "# ignore this cell, it's for loading custom js code\n",
    "from IPython.core.display import Javascript\n",
    "Javascript(filename=\"custom.js\")"
   ]
  },
  {
   "cell_type": "code",
   "execution_count": 24,
   "metadata": {
    "collapsed": false
   },
   "outputs": [
    {
     "data": {
      "text/html": [
       "<style>\n",
       "div.output_text{\n",
       "        max-height:400px;\n",
       "        overflow:scroll;\n",
       "}\n",
       "\n",
       "div#notebook {\n",
       "  font-family: 'PT Serif' !important;\n",
       "} \n",
       "\n",
       "div.CodeMirror, div.output_area pre, div.output_wrapper, div.prompt {\n",
       "  font-family: 'Source Code Pro', monospace !important;\n",
       "}\n",
       "\n",
       ".output_text {\n",
       "  background-color: #f0f0f0;\n",
       "}\n",
       "\n",
       "\n",
       ".prompt { display: none; }\n",
       "div.output_subarea { max-width: calc(100%); }\n",
       "</style>\n",
       "\n"
      ],
      "text/plain": [
       "<IPython.core.display.HTML object>"
      ]
     },
     "execution_count": 24,
     "metadata": {},
     "output_type": "execute_result"
    }
   ],
   "source": [
    "# ignore this cell, it's for loading custom css code\n",
    "from IPython.core.display import HTML\n",
    "HTML(filename=\"custom.css\")"
   ]
  },
  {
   "cell_type": "code",
   "execution_count": null,
   "metadata": {
    "collapsed": true
   },
   "outputs": [],
   "source": []
  }
 ],
 "metadata": {
  "kernelspec": {
   "display_name": "Python 2",
   "language": "python",
   "name": "python2"
  },
  "language_info": {
   "codemirror_mode": {
    "name": "ipython",
    "version": 2
   },
   "file_extension": ".py",
   "mimetype": "text/x-python",
   "name": "python",
   "nbconvert_exporter": "python",
   "pygments_lexer": "ipython2",
   "version": "2.7.6"
  }
 },
 "nbformat": 4,
 "nbformat_minor": 0
}
