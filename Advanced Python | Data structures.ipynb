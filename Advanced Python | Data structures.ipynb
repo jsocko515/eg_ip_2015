{
 "cells": [
  {
   "cell_type": "markdown",
   "metadata": {},
   "source": [
    "##What do we already know about data structures?\n",
    "\n",
    "lists store collections of elements"
   ]
  },
  {
   "cell_type": "code",
   "execution_count": 2,
   "metadata": {
    "collapsed": true
   },
   "outputs": [
    {
     "name": "stdout",
     "output_type": "stream",
     "text": [
      "2\n",
      "2\n",
      "3\n",
      "4\n"
     ]
    }
   ],
   "source": [
    "t = [1,2,3]\n",
    "print t[1] \n",
    "for e in t:\n",
    "    print(e+1) "
   ]
  },
  {
   "cell_type": "markdown",
   "metadata": {},
   "source": [
    "dicts store pairs of values as items:"
   ]
  },
  {
   "cell_type": "code",
   "execution_count": 4,
   "metadata": {
    "collapsed": true
   },
   "outputs": [
    {
     "name": "stdout",
     "output_type": "stream",
     "text": [
      "('tuesday', 2)\n",
      "('monday', 1)\n"
     ]
    }
   ],
   "source": [
    "d = {'monday' : 1, 'tuesday' : 2}\n",
    "for day, number in d.items():\n",
    "    print(day, number)"
   ]
  },
  {
   "cell_type": "markdown",
   "metadata": {},
   "source": [
    "###Tuples\n",
    "\n",
    "Tuples appear to be similar to lists:"
   ]
  },
  {
   "cell_type": "code",
   "execution_count": 6,
   "metadata": {
    "collapsed": true
   },
   "outputs": [
    {
     "name": "stdout",
     "output_type": "stream",
     "text": [
      "5\n",
      "5\n",
      "6\n",
      "7\n"
     ]
    }
   ],
   "source": [
    "t = (4, 5, 6)\n",
    "print t[1] \n",
    "for e in t:\n",
    "    print(e+1) "
   ]
  },
  {
   "cell_type": "markdown",
   "metadata": {},
   "source": [
    "until we try to change one of the values:"
   ]
  },
  {
   "cell_type": "code",
   "execution_count": 8,
   "metadata": {
    "collapsed": true
   },
   "outputs": [
    {
     "ename": "TypeError",
     "evalue": "'tuple' object does not support item assignment",
     "output_type": "error",
     "traceback": [
      "\u001b[1;31m---------------------------------------------------------------------------\u001b[0m",
      "\u001b[1;31mTypeError\u001b[0m                                 Traceback (most recent call last)",
      "\u001b[1;32m<ipython-input-8-c8385d5f8c68>\u001b[0m in \u001b[0;36m<module>\u001b[1;34m()\u001b[0m\n\u001b[1;32m----> 1\u001b[1;33m \u001b[0mt\u001b[0m\u001b[1;33m[\u001b[0m\u001b[1;36m1\u001b[0m\u001b[1;33m]\u001b[0m \u001b[1;33m=\u001b[0m \u001b[1;36m9\u001b[0m\u001b[1;33m\u001b[0m\u001b[0m\n\u001b[0m",
      "\u001b[1;31mTypeError\u001b[0m: 'tuple' object does not support item assignment"
     ]
    }
   ],
   "source": [
    "t[1] = 9"
   ]
  },
  {
   "cell_type": "markdown",
   "metadata": {},
   "source": [
    "####Tuples are immutable; they cannot be changed once created\n",
    "\n",
    "This lets Python make some time/memory optimizations.\n",
    "\n",
    "Tuples are useful for storing heterogenous data (think records / rows from a table / simple objects):"
   ]
  },
  {
   "cell_type": "code",
   "execution_count": 11,
   "metadata": {
    "collapsed": false
   },
   "outputs": [],
   "source": [
    "t1 = ('actgctagt', 'ABC123', 1)\n",
    "t2 = ('ttaggttta', 'XYZ456', 1)\n",
    "t3 = ('cgcgatcgt', 'HIJ789', 5)"
   ]
  },
  {
   "cell_type": "markdown",
   "metadata": {},
   "source": [
    "More to say about tuples later...\n",
    "\n",
    "##Sets\n",
    "\n",
    "Sets are like lists but with\n",
    "- no order, and\n",
    "- fast lookup\n",
    "\n",
    "Imagine we have a long list of accession numbers that contains duplicates and we want to do some expensive processing on each:"
   ]
  },
  {
   "cell_type": "code",
   "execution_count": 34,
   "metadata": {
    "collapsed": false
   },
   "outputs": [],
   "source": [
    "# cheat by generating random accession numbers\n",
    "import random\n",
    "accessions = [random.choice(xrange(10000)) for _ in range(100000)]"
   ]
  },
  {
   "cell_type": "code",
   "execution_count": 38,
   "metadata": {
    "collapsed": false
   },
   "outputs": [
    {
     "name": "stdout",
     "output_type": "stream",
     "text": [
      "1 loops, best of 3: 6.56 s per loop\n"
     ]
    }
   ],
   "source": [
    "%%timeit\n",
    "import time\n",
    "for acc in accessions:\n",
    "    #pretend to do some long calculation\n",
    "    time.sleep(0.00001)"
   ]
  },
  {
   "cell_type": "markdown",
   "metadata": {},
   "source": [
    "To avoid doing the slow processing multiple times for the same accession number, we will keep track of which ones we've processed:"
   ]
  },
  {
   "cell_type": "code",
   "execution_count": 39,
   "metadata": {
    "collapsed": false
   },
   "outputs": [
    {
     "name": "stdout",
     "output_type": "stream",
     "text": [
      "1 loops, best of 3: 7.73 s per loop\n"
     ]
    }
   ],
   "source": [
    "%%timeit\n",
    "processed = []\n",
    "for acc in accessions:\n",
    "    if not acc in processed:\n",
    "        #pretend to do some long calculation\n",
    "        time.sleep(0.00001)\n",
    "        processed.append(acc)"
   ]
  },
  {
   "cell_type": "markdown",
   "metadata": {},
   "source": [
    "but as `processed` gets bigger, it takes longer to evaluate `acc in processed`. One solution: switch to using a dict:"
   ]
  },
  {
   "cell_type": "code",
   "execution_count": 40,
   "metadata": {
    "collapsed": false
   },
   "outputs": [
    {
     "name": "stdout",
     "output_type": "stream",
     "text": [
      "1 loops, best of 3: 682 ms per loop\n"
     ]
    }
   ],
   "source": [
    "%%timeit\n",
    "processed = {}\n",
    "for acc in accessions:\n",
    "    if not acc in processed:\n",
    "        #pretend to do some long calculation\n",
    "        time.sleep(0.00001)\n",
    "        processed[acc] = 1"
   ]
  },
  {
   "cell_type": "markdown",
   "metadata": {},
   "source": [
    "Much quicker, but confusing as we are storing useless values. Switching to a set:"
   ]
  },
  {
   "cell_type": "code",
   "execution_count": 42,
   "metadata": {
    "collapsed": false
   },
   "outputs": [
    {
     "name": "stdout",
     "output_type": "stream",
     "text": [
      "1 loops, best of 3: 675 ms per loop\n"
     ]
    }
   ],
   "source": [
    "%%timeit\n",
    "processed = set()\n",
    "for acc in accessions:\n",
    "    if not acc in processed:\n",
    "        #pretend to do some long calculation\n",
    "        time.sleep(0.00001)\n",
    "        processed.add(acc)"
   ]
  },
  {
   "cell_type": "markdown",
   "metadata": {},
   "source": [
    "Think of sets as either like\n",
    "- unordered lists with rapid lookup, or\n",
    "- dicts without values"
   ]
  },
  {
   "cell_type": "markdown",
   "metadata": {},
   "source": [
    "##A closer look at lists\n",
    "\n",
    "Hopefully we are all familiar with the idea of lists of numbers and strings:"
   ]
  },
  {
   "cell_type": "code",
   "execution_count": 43,
   "metadata": {
    "collapsed": false
   },
   "outputs": [
    {
     "data": {
      "text/plain": [
       "['a', 'b', 'c']"
      ]
     },
     "execution_count": 43,
     "metadata": {},
     "output_type": "execute_result"
    }
   ],
   "source": [
    "[1,2,3,4]\n",
    "['a', 'b', 'c']"
   ]
  },
  {
   "cell_type": "markdown",
   "metadata": {},
   "source": [
    "A slightly more exotic idea: we can have lists of File objects:"
   ]
  },
  {
   "cell_type": "code",
   "execution_count": 45,
   "metadata": {
    "collapsed": false
   },
   "outputs": [
    {
     "data": {
      "text/plain": [
       "[<open file 'blast_result.txt', mode 'r' at 0x7f24f89d6780>,\n",
       " <open file 'sequences.fasta', mode 'r' at 0x7f24f89d6810>]"
      ]
     },
     "execution_count": 45,
     "metadata": {},
     "output_type": "execute_result"
    }
   ],
   "source": [
    "files = [open(\"blast_result.txt\"), open(\"sequences.fasta\")]\n",
    "files"
   ]
  },
  {
   "cell_type": "markdown",
   "metadata": {},
   "source": [
    "or of regular expression match objects:"
   ]
  },
  {
   "cell_type": "code",
   "execution_count": 47,
   "metadata": {
    "collapsed": false
   },
   "outputs": [
    {
     "data": {
      "text/plain": [
       "[<_sre.SRE_Match at 0x7f24f4a9e440>, <_sre.SRE_Match at 0x7f24f4a9e4a8>]"
      ]
     },
     "execution_count": 47,
     "metadata": {},
     "output_type": "execute_result"
    }
   ],
   "source": [
    "import re\n",
    "regex_list = [ re.search(r'[^ATGC]', 'ACTRGGT'), \n",
    "               re.search(r'[^ATGC]', 'ACTYGGT')]\n",
    "regex_list"
   ]
  },
  {
   "cell_type": "markdown",
   "metadata": {},
   "source": [
    "If we create a list where each element is also a list, we have a two-dimention list or list-of-lists:"
   ]
  },
  {
   "cell_type": "code",
   "execution_count": 49,
   "metadata": {
    "collapsed": false
   },
   "outputs": [
    {
     "data": {
      "text/plain": [
       "[[1, 2, 3], [4, 5, 6], [7, 8, 9]]"
      ]
     },
     "execution_count": 49,
     "metadata": {},
     "output_type": "execute_result"
    }
   ],
   "source": [
    "list_of_lists = [[1,2,3],[4,5,6],[7,8,9]]\n",
    "list_of_lists"
   ]
  },
  {
   "cell_type": "markdown",
   "metadata": {},
   "source": [
    "More readably:"
   ]
  },
  {
   "cell_type": "code",
   "execution_count": 51,
   "metadata": {
    "collapsed": true
   },
   "outputs": [],
   "source": [
    "list_of_lists = [[1,2,3],\n",
    "                 [4,5,6],\n",
    "                 [7,8,9]]"
   ]
  },
  {
   "cell_type": "markdown",
   "metadata": {},
   "source": [
    "Each element is just a normal list:"
   ]
  },
  {
   "cell_type": "code",
   "execution_count": 53,
   "metadata": {
    "collapsed": false
   },
   "outputs": [
    {
     "data": {
      "text/plain": [
       "[4, 5, 6]"
      ]
     },
     "execution_count": 53,
     "metadata": {},
     "output_type": "execute_result"
    }
   ],
   "source": [
    "list_of_lists[1]"
   ]
  },
  {
   "cell_type": "markdown",
   "metadata": {},
   "source": [
    "and we can use two brackets to address one of the inner elements:"
   ]
  },
  {
   "cell_type": "code",
   "execution_count": 55,
   "metadata": {
    "collapsed": false
   },
   "outputs": [
    {
     "data": {
      "text/plain": [
       "6"
      ]
     },
     "execution_count": 55,
     "metadata": {},
     "output_type": "execute_result"
    }
   ],
   "source": [
    "list_of_lists[1][2]"
   ]
  },
  {
   "cell_type": "markdown",
   "metadata": {},
   "source": [
    "Where might this be useful? Imagine storing a multiple sequence alignment:"
   ]
  },
  {
   "cell_type": "code",
   "execution_count": 57,
   "metadata": {
    "collapsed": true
   },
   "outputs": [],
   "source": [
    "aln = [['A', 'T', '-', 'T', 'G'], \n",
    "       ['A', 'A', 'T', 'A', 'G'], \n",
    "       ['T', '-', 'T', 'T', 'G'], \n",
    "       ['A', 'A', '-', 'T', 'A']]  "
   ]
  },
  {
   "cell_type": "markdown",
   "metadata": {},
   "source": [
    "We could get a single aligned sequence"
   ]
  },
  {
   "cell_type": "code",
   "execution_count": 59,
   "metadata": {
    "collapsed": false
   },
   "outputs": [
    {
     "data": {
      "text/plain": [
       "['T', '-', 'T', 'T', 'G']"
      ]
     },
     "execution_count": 59,
     "metadata": {},
     "output_type": "execute_result"
    }
   ],
   "source": [
    "aln[2]"
   ]
  },
  {
   "cell_type": "markdown",
   "metadata": {},
   "source": [
    "or a single column (don't worry about list comprehension if you haven't seen them yet):"
   ]
  },
  {
   "cell_type": "code",
   "execution_count": 62,
   "metadata": {
    "collapsed": false
   },
   "outputs": [
    {
     "data": {
      "text/plain": [
       "['T', 'A', 'T', 'T']"
      ]
     },
     "execution_count": 62,
     "metadata": {},
     "output_type": "execute_result"
    }
   ],
   "source": [
    "#get the fourth column\n",
    "[seq[3] for seq in aln]"
   ]
  },
  {
   "cell_type": "markdown",
   "metadata": {},
   "source": [
    "We can build lists of other things too. Imagine we have a collection of DNA sequence records. We could store this a list of dicts:"
   ]
  },
  {
   "cell_type": "code",
   "execution_count": 65,
   "metadata": {
    "collapsed": false
   },
   "outputs": [
    {
     "name": "stdout",
     "output_type": "stream",
     "text": [
      "accession number : ABC123\n",
      "genetic code: 1\n",
      "accession number : XYZ456\n",
      "genetic code: 1\n",
      "accession number : HIJ789\n",
      "genetic code: 5\n"
     ]
    }
   ],
   "source": [
    "# a list of dicts\n",
    "records = [\n",
    "    {'seq' : 'actgctagt', 'accession' : 'ABC123', 'genetic_code' : 1},\n",
    "    {'seq' : 'ttaggttta', 'accession' : 'XYZ456', 'genetic_code' : 1},\n",
    "    {'seq' : 'cgcgatcgt', 'accession' : 'HIJ789', 'genetic_code' : 5}\n",
    "]\n",
    "\n",
    "for record in records:\n",
    "    print('accession number : ' + record['accession'])\n",
    "    print('genetic code: ' + str(record['genetic_code'])) "
   ]
  },
  {
   "cell_type": "markdown",
   "metadata": {},
   "source": [
    "Question: do we really need rapid lookup for this? Not really; we could just use tuples and rely on the order:"
   ]
  },
  {
   "cell_type": "code",
   "execution_count": 67,
   "metadata": {
    "collapsed": false
   },
   "outputs": [
    {
     "name": "stdout",
     "output_type": "stream",
     "text": [
      "accession number : ABC123\n",
      "genetic code: 1\n",
      "accession number : XYZ456\n",
      "genetic code: 1\n",
      "accession number : HIJ789\n",
      "genetic code: 5\n"
     ]
    }
   ],
   "source": [
    "# a list of tuples\n",
    "records = [\n",
    "    ('actgctagt', 'ABC123', 1),\n",
    "    ('ttaggttta', 'XYZ456', 1),\n",
    "    ('cgcgatcgt', 'HIJ789', 5)\n",
    "]\n",
    "\n",
    "for record in records:\n",
    "    (this_sequence, this_accession, this_code) = record\n",
    "    print('accession number : ' + this_accession)\n",
    "    print('genetic code: ' + str(this_code)) \n"
   ]
  },
  {
   "cell_type": "markdown",
   "metadata": {},
   "source": [
    "##Interlude\n",
    "\n",
    "We have looked at\n",
    "- lists of lists\n",
    "- lists of dicts\n",
    "- lists of tuples\n",
    "\n",
    "It's also possible to build lists of sets. \n",
    "\n",
    "How about other data structures?\n",
    "\n",
    "###Sets\n",
    "Elements in sets have to be immutable (so they can be hashed) so we can't build\n",
    "- sets of lists\n",
    "- sets of dicts\n",
    "- sets of sets\n",
    "\n",
    "we can build sets of tuples (though I'm not sure why).\n",
    "\n",
    "###Tuples\n",
    "We can build tuples where the individual elements are lists/sets/dicts/tuples, but they tend not to be very useful.\n",
    "\n",
    "###Dicts\n",
    "Dicts of things turn out to be **very** useful. They allow us to \n",
    "- attach names to other data structures, and\n",
    "- rapidly look up other data structures using those names.\n",
    "\n",
    "####Dicts of sets\n",
    "Imagine we have run a gene expression experiment in which we subject some cells to various metal elements and record which genes are overexpressed in response. The data might look like this:"
   ]
  },
  {
   "cell_type": "code",
   "execution_count": 68,
   "metadata": {
    "collapsed": true
   },
   "outputs": [],
   "source": [
    "gene_sets = {\n",
    "    'arsenic' : {1,2,3,4,5,6,8,12},\n",
    "    'cadmium' : {2,12,6,4},\n",
    "    'copper' : {7,6,10,4,8},\n",
    "    'mercury' : {3,2,4,5,1}\n",
    "}"
   ]
  },
  {
   "cell_type": "markdown",
   "metadata": {},
   "source": [
    "This data structure leverages the features of dicts (rapidly look up a gene set from the metal name) and sets (rapidly check membership). E.g. is gene number 3 over-expressed in response to arsenic?"
   ]
  },
  {
   "cell_type": "code",
   "execution_count": 70,
   "metadata": {
    "collapsed": false
   },
   "outputs": [
    {
     "data": {
      "text/plain": [
       "True"
      ]
     },
     "execution_count": 70,
     "metadata": {},
     "output_type": "execute_result"
    }
   ],
   "source": [
    "3 in gene_sets['arsenic']"
   ]
  },
  {
   "cell_type": "markdown",
   "metadata": {},
   "source": [
    "Which conditions is gene 5 over-expressed in response to?"
   ]
  },
  {
   "cell_type": "code",
   "execution_count": 71,
   "metadata": {
    "collapsed": false
   },
   "outputs": [
    {
     "name": "stdout",
     "output_type": "stream",
     "text": [
      "mercury\n",
      "arsenic\n"
     ]
    }
   ],
   "source": [
    "for metal, genes in gene_sets.items(): \n",
    "    if 5 in genes: \n",
    "        print(metal) "
   ]
  },
  {
   "cell_type": "markdown",
   "metadata": {},
   "source": [
    "Or even more concisely (wait for comprehensions....):"
   ]
  },
  {
   "cell_type": "code",
   "execution_count": 73,
   "metadata": {
    "collapsed": false
   },
   "outputs": [
    {
     "data": {
      "text/plain": [
       "['mercury', 'arsenic']"
      ]
     },
     "execution_count": 73,
     "metadata": {},
     "output_type": "execute_result"
    }
   ],
   "source": [
    "[metal for metal, genes in gene_sets.items() if 5 in genes]"
   ]
  },
  {
   "cell_type": "markdown",
   "metadata": {},
   "source": [
    "Now, a more interesting question: are there any conditions whose genes are a subset of another condition's genes? "
   ]
  },
  {
   "cell_type": "code",
   "execution_count": 75,
   "metadata": {
    "collapsed": false
   },
   "outputs": [
    {
     "name": "stdout",
     "output_type": "stream",
     "text": [
      "mercury is a subset of arsenic\n",
      "cadmium is a subset of arsenic\n"
     ]
    }
   ],
   "source": [
    "for condition1,set1 in gene_sets.items(): \n",
    "     for condition2,set2 in gene_sets.items():\n",
    "            if set1.issubset(set2) and condition1 != condition2: \n",
    "                print(condition1 + ' is a subset of ' + condition2)  "
   ]
  },
  {
   "cell_type": "markdown",
   "metadata": {},
   "source": [
    "Notice how we use the features of both dicts (to get hold of the condition names) and sets (using the `issubset()` method).\n",
    "\n",
    "####Dicts of tuples\n",
    "\n",
    "Remember our list of tuples for storing DNA sequence records:"
   ]
  },
  {
   "cell_type": "code",
   "execution_count": 76,
   "metadata": {
    "collapsed": true
   },
   "outputs": [],
   "source": [
    "records = [\n",
    "    ('actgctagt', 'ABC123', 1),\n",
    "    ('ttaggttta', 'XYZ456', 1),\n",
    "    ('cgcgatcgt', 'HIJ789', 5)\n",
    "]"
   ]
  },
  {
   "cell_type": "markdown",
   "metadata": {},
   "source": [
    "This is great for iterating over all records:"
   ]
  },
  {
   "cell_type": "code",
   "execution_count": 78,
   "metadata": {
    "collapsed": false
   },
   "outputs": [
    {
     "name": "stdout",
     "output_type": "stream",
     "text": [
      "looking at record ABC123 with genetic code 1\n",
      "looking at record XYZ456 with genetic code 1\n",
      "looking at record HIJ789 with genetic code 5\n"
     ]
    }
   ],
   "source": [
    "for record in records:\n",
    "    (sequence, accession, code) = record\n",
    "    print(\"looking at record \" + accession + \" with genetic code \" + str(code))\n",
    "    # do something with the record"
   ]
  },
  {
   "cell_type": "markdown",
   "metadata": {},
   "source": [
    "but not great for finding a specific record:"
   ]
  },
  {
   "cell_type": "code",
   "execution_count": 81,
   "metadata": {
    "collapsed": false
   },
   "outputs": [
    {
     "name": "stdout",
     "output_type": "stream",
     "text": [
      "Found it!\n"
     ]
    }
   ],
   "source": [
    "for record in records:\n",
    "    if record[1] == 'XYZ456':\n",
    "        print(\"Found it!\")\n",
    "        (sequence, accession, code) = record\n",
    "        # do something with the record"
   ]
  },
  {
   "cell_type": "markdown",
   "metadata": {},
   "source": [
    "Here's the same data as a dict of tuples. We turn the accession into the key:"
   ]
  },
  {
   "cell_type": "code",
   "execution_count": 82,
   "metadata": {
    "collapsed": true
   },
   "outputs": [],
   "source": [
    "records = {\n",
    "    'ABC123' : ('actgctagt', 1),\n",
    "    'XYZ456' : ('ttaggttta', 1),\n",
    "    'HIJ789' : ('cgcgatcgt', 5)\n",
    "}"
   ]
  },
  {
   "cell_type": "markdown",
   "metadata": {},
   "source": [
    "Now it's just as easy to iterate over all records:"
   ]
  },
  {
   "cell_type": "code",
   "execution_count": 84,
   "metadata": {
    "collapsed": false
   },
   "outputs": [
    {
     "name": "stdout",
     "output_type": "stream",
     "text": [
      "looking at record XYZ456 with genetic code 1\n",
      "looking at record HIJ789 with genetic code 5\n",
      "looking at record ABC123 with genetic code 1\n"
     ]
    }
   ],
   "source": [
    "for accession, record in records.items():\n",
    "    (sequence, code) = record\n",
    "    print(\"looking at record \" + accession + \" with genetic code \" + str(code))\n",
    "    # do something with the record"
   ]
  },
  {
   "cell_type": "markdown",
   "metadata": {},
   "source": [
    "and it's also easy to retrieve a specific record by accession:"
   ]
  },
  {
   "cell_type": "code",
   "execution_count": 86,
   "metadata": {
    "collapsed": false
   },
   "outputs": [
    {
     "name": "stdout",
     "output_type": "stream",
     "text": [
      "looking at record ABC123 with genetic code 1\n"
     ]
    }
   ],
   "source": [
    "my_record = records.get('XYZ456')\n",
    "(this_sequence, this_code) = my_record\n",
    "print(\"looking at record \" + accession + \" with genetic code \" + str(code))\n",
    "# do something with the record"
   ]
  },
  {
   "cell_type": "markdown",
   "metadata": {},
   "source": [
    "##Some special data structures from the standard library\n",
    "\n",
    "Common scenario number one: we want to count the number of times each unique element occurs in a collection of things. E.g. counting bases in a DNA sequence:"
   ]
  },
  {
   "cell_type": "code",
   "execution_count": 92,
   "metadata": {
    "collapsed": false
   },
   "outputs": [
    {
     "name": "stdout",
     "output_type": "stream",
     "text": [
      "{'a': 6, 't': 6, 'g': 5}\n"
     ]
    }
   ],
   "source": [
    "dna = 'aattggaattggaattg'\n",
    "base_counts = {}\n",
    "for pos in range(len(dna)):\n",
    "    base = dna[pos]\n",
    "    current_count = base_counts.get(base, 0)\n",
    "    base_counts[base] = current_count + 1\n",
    "\n",
    "print(base_counts)"
   ]
  },
  {
   "cell_type": "markdown",
   "metadata": {},
   "source": [
    "`collections.Counter` is a special dict class for doing this. Construct it by passing a list (or string, etc.) as the argument:"
   ]
  },
  {
   "cell_type": "code",
   "execution_count": 94,
   "metadata": {
    "collapsed": false
   },
   "outputs": [
    {
     "name": "stdout",
     "output_type": "stream",
     "text": [
      "Counter({'a': 6, 't': 6, 'g': 5})\n"
     ]
    }
   ],
   "source": [
    "import collections\n",
    "\n",
    "dna = 'aattggaattggaattg'\n",
    "base_counter = collections.Counter(dna)\n",
    "print(base_counter)"
   ]
  },
  {
   "cell_type": "markdown",
   "metadata": {},
   "source": [
    "Common scenario number two: we want to have a dict where there's a default value for new keys. Example: storing kmer start positions. We can't just use a normal dict like this:"
   ]
  },
  {
   "cell_type": "code",
   "execution_count": 95,
   "metadata": {
    "collapsed": false
   },
   "outputs": [
    {
     "name": "stdout",
     "output_type": "stream",
     "text": [
      "{'ggaa': 10, 'aatt': 12, 'gaat': 11, 'tgga': 9, 'attg': 13, 'ttgg': 8}\n"
     ]
    }
   ],
   "source": [
    "dna = 'aattggaattggaattg'\n",
    "k = 4\n",
    "kmer2pos = {}\n",
    "for start in range(len(dna) - k + 1):\n",
    "    kmer = dna[start:start + k]\n",
    "    kmer2pos[kmer] = start # danger, overwrites\n",
    "\n",
    "print(kmer2pos)"
   ]
  },
  {
   "cell_type": "markdown",
   "metadata": {},
   "source": [
    "because it will overwrite earlier positions with later ones so we just end up with the right-most position for each kmer. We need a **dict of lists** i.e. a list of start positions for each kmer:"
   ]
  },
  {
   "cell_type": "code",
   "execution_count": 96,
   "metadata": {
    "collapsed": false
   },
   "outputs": [
    {
     "name": "stdout",
     "output_type": "stream",
     "text": [
      "{'ggaa': [4, 10], 'aatt': [0, 6, 12], 'gaat': [5, 11], 'tgga': [3, 9], 'attg': [1, 7, 13], 'ttgg': [2, 8]}\n"
     ]
    }
   ],
   "source": [
    "dna = 'aattggaattggaattg'\n",
    "k = 4 \n",
    "kmer2list = {} \n",
    "for start in range(len(dna) - k + 1): \n",
    "    kmer = dna[start:start + k] \n",
    "    list_of_positions = kmer2list.get(kmer, []) \n",
    "    list_of_positions.append(starlt) \n",
    "    kmer2list[kmer] = list_of_positions \n",
    "print(kmer2list)"
   ]
  },
  {
   "cell_type": "markdown",
   "metadata": {},
   "source": [
    "but note that we have to explicitly get the current list of positions with an empty list for the first time we see a given kmer. An alternative is to use `collections.defaultdict` which lets us supply the name of a function to create the default value. The `list()` function creates an empty list:"
   ]
  },
  {
   "cell_type": "code",
   "execution_count": 97,
   "metadata": {
    "collapsed": false
   },
   "outputs": [
    {
     "data": {
      "text/plain": [
       "[]"
      ]
     },
     "execution_count": 97,
     "metadata": {},
     "output_type": "execute_result"
    }
   ],
   "source": [
    "list()"
   ]
  },
  {
   "cell_type": "markdown",
   "metadata": {},
   "source": [
    "so we can create a `defaultdict` where the default value is a list:"
   ]
  },
  {
   "cell_type": "code",
   "execution_count": 99,
   "metadata": {
    "collapsed": true
   },
   "outputs": [],
   "source": [
    "import collections\n",
    "kmer2list = collections.defaultdict(list)"
   ]
  },
  {
   "cell_type": "markdown",
   "metadata": {},
   "source": [
    "Now we can manipulate values in the dict without worrying about whether there is already a value there:"
   ]
  },
  {
   "cell_type": "code",
   "execution_count": 101,
   "metadata": {
    "collapsed": false
   },
   "outputs": [
    {
     "data": {
      "text/plain": [
       "defaultdict(<type 'list'>, {'ggaa': [4, 10, 4, 10], 'aatt': [0, 6, 12, 0, 6, 12], 'gaat': [5, 11, 5, 11], 'tgga': [3, 9, 3, 9], 'attg': [1, 7, 13, 1, 7, 13], 'ttgg': [2, 8, 2, 8]})"
      ]
     },
     "execution_count": 101,
     "metadata": {},
     "output_type": "execute_result"
    }
   ],
   "source": [
    "for start in range(len(dna) - k + 1): \n",
    "    kmer = dna[start:start + k] \n",
    "    kmer2list[kmer].append(start)\n",
    "kmer2list"
   ]
  },
  {
   "cell_type": "markdown",
   "metadata": {},
   "source": [
    "#Exercises\n",
    "## Transforming data between structures\n",
    "\n",
    "Use the heavy metal gene expression data.\n",
    " \n",
    "The similarity score between two conditions is the number of over-expressed genes in common (the intersection) divided by the total number of over-expressed genes (the union).\n",
    " \n",
    "Write a program that will start with the list of sets and produce a pairwise similarity matrix stored as a dict of dicts. \n",
    " \n",
    "We should be able to get the score for a given pair of conditions like this:"
   ]
  },
  {
   "cell_type": "code",
   "execution_count": null,
   "metadata": {
    "collapsed": false
   },
   "outputs": [],
   "source": [
    "score = similarity_matrix['arsenic']['cadmium']"
   ]
  },
  {
   "cell_type": "markdown",
   "metadata": {},
   "source": [
    "Hint: take a look at [the documentation for sets](https://docs.python.org/2/library/stdtypes.html#set)\n",
    "\n"
   ]
  },
  {
   "cell_type": "markdown",
   "metadata": {},
   "source": []
  }
 ],
 "metadata": {
  "kernelspec": {
   "display_name": "Python 2",
   "language": "python",
   "name": "python2"
  },
  "language_info": {
   "codemirror_mode": {
    "name": "ipython",
    "version": 2
   },
   "file_extension": ".py",
   "mimetype": "text/x-python",
   "name": "python",
   "nbconvert_exporter": "python",
   "pygments_lexer": "ipython2",
   "version": "2.7.6"
  }
 },
 "nbformat": 4,
 "nbformat_minor": 0
}
