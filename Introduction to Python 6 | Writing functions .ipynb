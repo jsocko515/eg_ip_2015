{
 "cells": [
  {
   "cell_type": "markdown",
   "metadata": {},
   "source": [
    "<h1 id=\"toctitle\">Writing functions</h1>\n",
    "<ul id=\"toc\"/>"
   ]
  },
  {
   "cell_type": "markdown",
   "metadata": {},
   "source": [
    "##Writing a simple function\n",
    "\n",
    "Look at the AT content code from the start of the course:"
   ]
  },
  {
   "cell_type": "code",
   "execution_count": 4,
   "metadata": {
    "collapsed": false
   },
   "outputs": [
    {
     "name": "stdout",
     "output_type": "stream",
     "text": [
      "AT content is 0.678571428571\n"
     ]
    }
   ],
   "source": [
    "from __future__ import division\n",
    "\n",
    "my_dna = \"ACTGATACATATATATCGATGCGTTCAT\"\n",
    "length = len(my_dna)\n",
    "a_count = my_dna.count('A')\n",
    "t_count = my_dna.count('T')\n",
    "at_content = (a_count + t_count) / length\n",
    "print(\"AT content is \" + str(at_content))"
   ]
  },
  {
   "cell_type": "markdown",
   "metadata": {},
   "source": [
    "There's one line to define the input:\n",
    "\n",
    "```python\n",
    "my_dna = \"ACTGATACATATATATCGATGCGTTCAT\"\n",
    "```\n",
    "\n",
    "and one line to define the output:\n",
    "\n",
    "```python\n",
    "print(\"AT content is \" + str(at_content))\n",
    "```\n",
    "\n",
    "and only four lines to do the actualy work:\n",
    "\n",
    "```python\n",
    "length = len(my_dna)\n",
    "a_count = my_dna.count('A')\n",
    "t_count = my_dna.count('T')\n",
    "at_content = (a_count + t_count) / length\n",
    "```\n",
    "\n",
    "We can turn this bit of code into a function that we call call:"
   ]
  },
  {
   "cell_type": "code",
   "execution_count": 5,
   "metadata": {
    "collapsed": false
   },
   "outputs": [
    {
     "name": "stdout",
     "output_type": "stream",
     "text": [
      "0.678571428571\n"
     ]
    }
   ],
   "source": [
    "# define a new function\n",
    "def get_at_content(dna):\n",
    "    length = len(dna)\n",
    "    a_count = dna.count('A')\n",
    "    t_count = dna.count('T')\n",
    "    at_content = (a_count + t_count) / length\n",
    "    return at_content\n",
    "\n",
    "# call the function\n",
    "at = get_at_content(\"ACTGATACATATATATCGATGCGTTCAT\")\n",
    "print(at)"
   ]
  },
  {
   "cell_type": "markdown",
   "metadata": {},
   "source": [
    "Things to note about the definition line:\n",
    "\n",
    "- the definition line starts with `def`\n",
    "- next comes the name of our new function (arbirary)\n",
    "- function argument names go in brackets (also arbitrary)\n",
    "- def line ends with a colon\n",
    "- body is indented\n",
    "- use the argument names inside the body\n",
    "- body ends with `return` to return the result\n",
    "\n",
    "__Defining__ a function doesn't cause it to run; that only happens when we __call__ it. \n",
    "\n",
    "Argument variables (e.g. `dna`) only exist inside the function.\n",
    "\n",
    "When we write a function we don't have to worry about how it will be used - we just need to know the __inputs__ (arguments) and __output__.\n",
    "\n",
    "When we use a function we don't have to worry about how it works inside - we just need to know the __inputs__ and __output__.\n",
    "\n",
    "###Calling our new function\n",
    "\n",
    "Once we've written our function, we can use it in lots of different ways:\n",
    "\n",
    "\n",
    "Calulate the AT content of a sequence in a file\n",
    "```python\n",
    "dna = open('dna.txt').read()\n",
    "at = get_at_content(dna)\n",
    "```\n",
    "\n",
    "Print the AT content for a given sequence\n",
    "```python\n",
    "print(get_at_content(\"ATTAGCGTAGC\"))\n",
    "```\n",
    "\n",
    "Write the AT content for a sequence to a file\n",
    "```python\n",
    "result = open('output.txt', 'w')\n",
    "result.write(get_at_content('ACTGTCGA'))\n",
    "```\n",
    "\n",
    "This separation of code is very valuable - __encapsulation__. \n"
   ]
  },
  {
   "cell_type": "markdown",
   "metadata": {},
   "source": [
    "##Things to avoid when writing functions\n",
    "###No input\n",
    "\n",
    "We can write a function that relies on variables defined outside it rather than arguments:"
   ]
  },
  {
   "cell_type": "code",
   "execution_count": 6,
   "metadata": {
    "collapsed": false
   },
   "outputs": [
    {
     "name": "stdout",
     "output_type": "stream",
     "text": [
      "0.416666666667\n"
     ]
    }
   ],
   "source": [
    "dna = \"ATCGCTAGCTGC\"\n",
    "def get_at_content():\n",
    "    length = len(dna)\n",
    "    a_count = dna.count('A')\n",
    "    t_count = dna.count('T')\n",
    "    at_content = (a_count + t_count) / length\n",
    "    return at_content\n",
    "\n",
    "at = get_at_content()\n",
    "print(at)"
   ]
  },
  {
   "cell_type": "markdown",
   "metadata": {},
   "source": [
    "This breaks encapsulation - now we have to know what variables are set in order to write the function. \n",
    "\n",
    "###No output\n",
    "\n",
    "We can write a function that prints the value instead of returning it:"
   ]
  },
  {
   "cell_type": "code",
   "execution_count": 7,
   "metadata": {
    "collapsed": false
   },
   "outputs": [
    {
     "name": "stdout",
     "output_type": "stream",
     "text": [
      "0.6\n"
     ]
    }
   ],
   "source": [
    "def get_at_content(dna):\n",
    "    length = len(dna)\n",
    "    a_count = dna.count('A')\n",
    "    t_count = dna.count('T')\n",
    "    at_content = (a_count + t_count) / length\n",
    "    print(at_content)\n",
    "\n",
    "get_at_content(\"ATGCGTATTTGAGCA\")"
   ]
  },
  {
   "cell_type": "markdown",
   "metadata": {},
   "source": [
    "but this also breaks encapsulation - we have to know how the function will be used in order to write it. \n",
    "\n",
    "A good rule of thumb: _information gets in by arguments, information gets out by return value_.\n",
    "\n",
    "##Improving our function\n",
    "###Adding another argument\n",
    "\n",
    "One problem currently is that we get too many decimal places:"
   ]
  },
  {
   "cell_type": "code",
   "execution_count": 8,
   "metadata": {
    "collapsed": false
   },
   "outputs": [
    {
     "data": {
      "text/plain": [
       "0.6470588235294118"
      ]
     },
     "execution_count": 8,
     "metadata": {},
     "output_type": "execute_result"
    }
   ],
   "source": [
    "def get_at_content(dna):\n",
    "    length = len(dna)\n",
    "    a_count = dna.count('A')\n",
    "    t_count = dna.count('T')\n",
    "    at_content = (a_count + t_count) / length\n",
    "    return(at_content)\n",
    "\n",
    "get_at_content(\"ATGCGTATTTTTGAGCA\")"
   ]
  },
  {
   "cell_type": "markdown",
   "metadata": {},
   "source": [
    "We can get round this by calling the `round()` function on the answer before we return it:"
   ]
  },
  {
   "cell_type": "code",
   "execution_count": 11,
   "metadata": {
    "collapsed": false
   },
   "outputs": [
    {
     "data": {
      "text/plain": [
       "1.2345679"
      ]
     },
     "execution_count": 11,
     "metadata": {},
     "output_type": "execute_result"
    }
   ],
   "source": [
    "round(1.23456789, 7)"
   ]
  },
  {
   "cell_type": "code",
   "execution_count": 12,
   "metadata": {
    "collapsed": false
   },
   "outputs": [
    {
     "data": {
      "text/plain": [
       "0.65"
      ]
     },
     "execution_count": 12,
     "metadata": {},
     "output_type": "execute_result"
    }
   ],
   "source": [
    "def get_at_content(dna):\n",
    "    length = len(dna)\n",
    "    a_count = dna.count('A')\n",
    "    t_count = dna.count('T')\n",
    "    at_content = (a_count + t_count) / length\n",
    "    return round(at_content, 2)\n",
    "                 \n",
    "get_at_content(\"ATGCGTATTTTTGAGCA\")"
   ]
  },
  {
   "cell_type": "markdown",
   "metadata": {},
   "source": [
    "What if we want more/fewer decimal places? Make the argument to `round()` an argument of our function:"
   ]
  },
  {
   "cell_type": "code",
   "execution_count": 13,
   "metadata": {
    "collapsed": false
   },
   "outputs": [
    {
     "data": {
      "text/plain": [
       "0.65"
      ]
     },
     "execution_count": 13,
     "metadata": {},
     "output_type": "execute_result"
    }
   ],
   "source": [
    "def get_at_content(dna, sig_figs):\n",
    "    length = len(dna)\n",
    "    a_count = dna.count('A')\n",
    "    t_count = dna.count('T')\n",
    "    at_content = (a_count + t_count) / length\n",
    "    return round(at_content, sig_figs)\n",
    "\n",
    "get_at_content(\"ATGCGTATTTTTGAGCA\", 2)"
   ]
  },
  {
   "cell_type": "code",
   "execution_count": 14,
   "metadata": {
    "collapsed": false
   },
   "outputs": [
    {
     "data": {
      "text/plain": [
       "0.6471"
      ]
     },
     "execution_count": 14,
     "metadata": {},
     "output_type": "execute_result"
    }
   ],
   "source": [
    "get_at_content(\"ATGCGTATTTTTGAGCA\", 4)"
   ]
  },
  {
   "cell_type": "markdown",
   "metadata": {},
   "source": [
    "###Default values for function arguments\n",
    "\n",
    "In many cases, we don't really care about picking a number of significant figures. We can add a default to the definition:"
   ]
  },
  {
   "cell_type": "code",
   "execution_count": 17,
   "metadata": {
    "collapsed": true
   },
   "outputs": [],
   "source": [
    "def get_at_content(dna, sig_figs=2):\n",
    "    length = len(dna)\n",
    "    a_count = dna.count('A')\n",
    "    t_count = dna.count('T')\n",
    "    at_content = (a_count + t_count) / length\n",
    "    return round(at_content, sig_figs)"
   ]
  },
  {
   "cell_type": "code",
   "execution_count": 18,
   "metadata": {
    "collapsed": false
   },
   "outputs": [
    {
     "data": {
      "text/plain": [
       "0.6471"
      ]
     },
     "execution_count": 18,
     "metadata": {},
     "output_type": "execute_result"
    }
   ],
   "source": [
    "get_at_content(\"ATGCGTATTTTTGAGCA\", 4)"
   ]
  },
  {
   "cell_type": "code",
   "execution_count": 19,
   "metadata": {
    "collapsed": false
   },
   "outputs": [
    {
     "data": {
      "text/plain": [
       "0.65"
      ]
     },
     "execution_count": 19,
     "metadata": {},
     "output_type": "execute_result"
    }
   ],
   "source": [
    "get_at_content(\"ATGCGTATTTTTGAGCA\")"
   ]
  },
  {
   "cell_type": "markdown",
   "metadata": {},
   "source": [
    "###Keyword arguments\n",
    "\n",
    "In all the examples above, we supply the arguments in the same order as the definition. If we want to use a different order (or just be more explicit) we can use keyword arguments:"
   ]
  },
  {
   "cell_type": "code",
   "execution_count": 20,
   "metadata": {
    "collapsed": false
   },
   "outputs": [
    {
     "data": {
      "text/plain": [
       "0.647"
      ]
     },
     "execution_count": 20,
     "metadata": {},
     "output_type": "execute_result"
    }
   ],
   "source": [
    "get_at_content(sig_figs=3, dna=\"ATGCGTATTTTTGAGCA\")"
   ]
  },
  {
   "cell_type": "markdown",
   "metadata": {},
   "source": [
    "##Testing functions\n",
    "\n",
    "When we're working on a new function, we might want to test if it's working correctly. Use `assert` with a condition:"
   ]
  },
  {
   "cell_type": "code",
   "execution_count": 23,
   "metadata": {
    "collapsed": false
   },
   "outputs": [],
   "source": [
    "assert get_at_content(\"A\") == 1\n",
    "assert get_at_content(\"G\") == 0\n",
    "assert get_at_content(\"ATGC\") == 0.5\n",
    "assert get_at_content(\"AGG\") == 0.33\n",
    "assert get_at_content(\"AGG\", 1) == 0.3\n",
    "assert get_at_content(\"AGG\", 5) == 0.33333"
   ]
  },
  {
   "cell_type": "markdown",
   "metadata": {},
   "source": [
    "If an `assert` is false, then it will stop and print an error message:"
   ]
  },
  {
   "cell_type": "code",
   "execution_count": null,
   "metadata": {
    "collapsed": false
   },
   "outputs": [],
   "source": [
    "assert get_at_content(\"G\") == 1"
   ]
  },
  {
   "cell_type": "markdown",
   "metadata": {},
   "source": [
    "Assertions are good for:\n",
    "\n",
    "- providing some documentation about the behaviour of the function\n",
    "- reassuring you that your function is giving the right answer\n",
    "- letting you know if you break the function \n",
    "- demonstrating how the function can be used to other people\n",
    "\n",
    "and also for\n",
    "\n",
    "- making it easy to me to write exercises!"
   ]
  },
  {
   "cell_type": "markdown",
   "metadata": {},
   "source": [
    "---\n",
    "\n",
    "##Exercises\n",
    "\n",
    "###Amino acid percentage, part one\n",
    "\n",
    "Write a function that takes two arguments – a protein sequence and an amino acid residue code – and returns the percentage of the protein that the amino acid makes up. Use the following assertions to test your function:\n",
    "\n",
    "```python\n",
    "assert my_function(\"MSRSLLLRFLLFLLLLPPLP\", \"M\") == 5\n",
    "assert my_function(\"MSRSLLLRFLLFLLLLPPLP\", \"r\") == 10\n",
    "assert my_function(\"MSRSLLLRFLLFLLLLPPLP\", \"L\") == 50\n",
    "assert my_function(\"MSRSLLLRFLLFLLLLPPLP\", \"Y\") == 0\n",
    "```\n",
    "\n",
    "Remember to change the name of the function in the `assert` statements to match your function name. \n",
    "\n",
    "###Amino acid percentage, part two\n",
    "\n",
    "Modify the function from part one so that it accepts a list of amino acid residues rather than a single one. If no list is given, the function should return the percentage of hydrophobic amino acid residues (A, I, L, M, F, W, Y and V). Your function should pass the following assertions:\n",
    "\n",
    "```python\n",
    "assert my_function(\"MSRSLLLRFLLFLLLLPPLP\", [\"M\"]) == 5\n",
    "assert my_function(\"MSRSLLLRFLLFLLLLPPLP\", ['F', 'S', 'L'] == 70\n",
    "assert my_function(\"MSRSLLLRFLLFLLLLPPLP\") == 65\n",
    "```\n",
    "\n",
    "To get this one to work, you'll have to go through the list of amino acid residues one at a time, generate the count for each one, and come up with a total count.\n",
    "\n",
    "###Base counter\n",
    "\n",
    "Write a function that will take a DNA sequence along with an optional threshold and return `True` or `False` to indicate whether the DNA sequence contains a high proportion of undetermined bases (i.e not A, T, G or C)."
   ]
  },
  {
   "cell_type": "code",
   "execution_count": null,
   "metadata": {
    "collapsed": false
   },
   "outputs": [],
   "source": [
    "# ignore this cell, it's for loading custom js code\n",
    "from IPython.core.display import Javascript\n",
    "Javascript(filename=\"custom.js\")"
   ]
  },
  {
   "cell_type": "code",
   "execution_count": 3,
   "metadata": {
    "collapsed": false
   },
   "outputs": [
    {
     "data": {
      "text/html": [
       "<style>\n",
       "div.output_text{\n",
       "        max-height:400px;\n",
       "        overflow:scroll;\n",
       "}\n",
       "\n",
       "div#notebook {\n",
       "  font-family: 'PT Serif' !important;\n",
       "} \n",
       "\n",
       "div.CodeMirror, div.output_area pre, div.output_wrapper, div.prompt {\n",
       "  font-family: 'Source Code Pro', monospace !important;\n",
       "}\n",
       "\n",
       ".output_text {\n",
       "  background-color: #f0f0f0;\n",
       "}\n",
       "\n",
       "\n",
       ".prompt { display: none; }\n",
       "div.output_subarea { max-width: calc(100%); }\n",
       "</style>\n",
       "\n"
      ],
      "text/plain": [
       "<IPython.core.display.HTML object>"
      ]
     },
     "execution_count": 3,
     "metadata": {},
     "output_type": "execute_result"
    }
   ],
   "source": [
    "# ignore this cell, it's for loading custom css code\n",
    "from IPython.core.display import HTML\n",
    "HTML(filename=\"custom.css\")"
   ]
  }
 ],
 "metadata": {
  "kernelspec": {
   "display_name": "Python 2",
   "language": "python",
   "name": "python2"
  },
  "language_info": {
   "codemirror_mode": {
    "name": "ipython",
    "version": 2
   },
   "file_extension": ".py",
   "mimetype": "text/x-python",
   "name": "python",
   "nbconvert_exporter": "python",
   "pygments_lexer": "ipython2",
   "version": "2.7.6"
  }
 },
 "nbformat": 4,
 "nbformat_minor": 0
}
