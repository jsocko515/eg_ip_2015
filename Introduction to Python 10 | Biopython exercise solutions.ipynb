{
 "cells": [
  {
   "cell_type": "markdown",
   "metadata": {},
   "source": [
    "<h1 id=\"toctitle\">Exercise solutions</h1>\n",
    "<ul id=\"toc\"/>"
   ]
  },
  {
   "cell_type": "markdown",
   "metadata": {},
   "source": [
    "The first thing to do is to figure out how to do the query on the GenBank website. For now, let's assume that we can get the results we want by searching for \n",
    "\n",
    "`Nematoda COX1 complete`\n",
    "\n",
    "We will re-use the code from the example to search. This time, we want the protein database, not the nucleotide one. We will limit the results to ten records for speed:"
   ]
  },
  {
   "cell_type": "code",
   "execution_count": 6,
   "metadata": {
    "collapsed": false
   },
   "outputs": [
    {
     "name": "stdout",
     "output_type": "stream",
     "text": [
      "132\n",
      "cytochrome c oxidase subunit I (mitochondrion) [Litoditis aff. marina PmIV].\n",
      "cytochrome c oxidase subunit I (mitochondrion) [Litoditis aff. marina PmII].\n",
      "cytochrome c oxidase subunit I (mitochondrion) [Litoditis aff. marina PmI].\n",
      "RecName: Full=SURF1-like protein.\n",
      "RecName: Full=SURF1-like protein.\n",
      "cytochrome c oxidase subunit I (mitochondrion) [Oxyuris equi].\n",
      "cytochrome c oxidase subunit I (mitochondrion) [Pseudoterranova azarasi].\n",
      "cytochrome c oxidase subunit 1 (mitochondrion) [Oxyuris equi].\n",
      "cytochrome c oxidase subunit 1 (mitochondrion) [Pseudoterranova azarasi].\n",
      "cytochrome c oxidase subunit I (mitochondrion) [Meloidogyne enterolobii].\n"
     ]
    }
   ],
   "source": [
    "from Bio import Entrez, SeqIO\n",
    "Entrez.email = \"martin.jones@ed.ac.uk\"\n",
    "mysearch = Entrez.esearch(db=\"protein\", term=\"Nematoda COX1 complete\", retmax=\"10\")\n",
    "result = Entrez.read(mysearch)\n",
    "print(result['Count'])\n",
    "for accession in result['IdList']:\n",
    "    genbank = Entrez.efetch(db=\"nucleotide\",id=accession,rettype=\"gb\")\n",
    "    record = SeqIO.read(genbank, \"genbank\")\n",
    "    print(record.description)"
   ]
  },
  {
   "cell_type": "markdown",
   "metadata": {},
   "source": [
    "We find 132 records.\n",
    "\n",
    "Next, we want to get the length for each of the first ten. The easiest way to do this is to get the sequence, then use `len()` to get the length:"
   ]
  },
  {
   "cell_type": "code",
   "execution_count": 8,
   "metadata": {
    "collapsed": false
   },
   "outputs": [
    {
     "name": "stdout",
     "output_type": "stream",
     "text": [
      "132\n",
      "525\n",
      "525\n",
      "525\n",
      "317\n",
      "323\n",
      "520\n",
      "525\n",
      "520\n",
      "525\n",
      "507\n"
     ]
    }
   ],
   "source": [
    "from Bio import Entrez, SeqIO\n",
    "Entrez.email = \"martin.jones@ed.ac.uk\"\n",
    "mysearch = Entrez.esearch(db=\"protein\", term=\"Nematoda COX1 complete\", retmax=\"10\")\n",
    "result = Entrez.read(mysearch)\n",
    "print(result['Count'])\n",
    "for accession in result['IdList']:\n",
    "    genbank = Entrez.efetch(db=\"nucleotide\",id=accession,rettype=\"gb\")\n",
    "    record = SeqIO.read(genbank, \"genbank\")\n",
    "    print(len(record.seq))"
   ]
  },
  {
   "cell_type": "markdown",
   "metadata": {},
   "source": [
    "Now rather than just printing the lengths, let's add them up and divide by the number of records:"
   ]
  },
  {
   "cell_type": "code",
   "execution_count": 11,
   "metadata": {
    "collapsed": false
   },
   "outputs": [
    {
     "name": "stdout",
     "output_type": "stream",
     "text": [
      "132\n",
      "481\n"
     ]
    }
   ],
   "source": [
    "from Bio import Entrez, SeqIO\n",
    "Entrez.email = \"martin.jones@ed.ac.uk\"\n",
    "mysearch = Entrez.esearch(db=\"protein\", term=\"Nematoda COX1 complete\", retmax=\"10\")\n",
    "result = Entrez.read(mysearch)\n",
    "print(result['Count'])\n",
    "\n",
    "total_length = 0\n",
    "\n",
    "for accession in result['IdList']:\n",
    "    genbank = Entrez.efetch(db=\"nucleotide\",id=accession,rettype=\"gb\")\n",
    "    record = SeqIO.read(genbank, \"genbank\")\n",
    "    total_length = total_length + len(record.seq)\n",
    "    \n",
    "average_length = total_length / 10\n",
    "print(average_length)"
   ]
  },
  {
   "cell_type": "markdown",
   "metadata": {},
   "source": [
    "We get our answer: 481 amino acid residues. \n",
    "\n",
    "We can now turn this code into a function that takes a taxonomic name and a gene name and returns the average length of the first ten results. "
   ]
  },
  {
   "cell_type": "code",
   "execution_count": 14,
   "metadata": {
    "collapsed": false
   },
   "outputs": [],
   "source": [
    "def get_average_length(taxonomy, gene):\n",
    "    # figure out what the search term will be\n",
    "    search_term = taxonomy + \" \" + gene + \" complete\"\n",
    "    \n",
    "    \n",
    "    from Bio import Entrez, SeqIO\n",
    "    Entrez.email = \"martin.jones@ed.ac.uk\"\n",
    "    mysearch = Entrez.esearch(db=\"protein\", term=search_term, retmax=\"10\")\n",
    "    result = Entrez.read(mysearch)\n",
    "\n",
    "    total_length = 0\n",
    "\n",
    "    for accession in result['IdList']:\n",
    "        genbank = Entrez.efetch(db=\"nucleotide\",id=accession,rettype=\"gb\")\n",
    "        record = SeqIO.read(genbank, \"genbank\")\n",
    "        total_length = total_length + len(record.seq)\n",
    "\n",
    "    average_length = total_length / 10\n",
    "    return(average_length)"
   ]
  },
  {
   "cell_type": "markdown",
   "metadata": {},
   "source": [
    "Let's try it. Remember that this function will take a while to run as it has to wait to download the records:"
   ]
  },
  {
   "cell_type": "code",
   "execution_count": 15,
   "metadata": {
    "collapsed": false
   },
   "outputs": [
    {
     "name": "stdout",
     "output_type": "stream",
     "text": [
      "132\n"
     ]
    },
    {
     "data": {
      "text/plain": [
       "481"
      ]
     },
     "execution_count": 15,
     "metadata": {},
     "output_type": "execute_result"
    }
   ],
   "source": [
    "get_average_length('Nematoda', 'COX1')"
   ]
  },
  {
   "cell_type": "code",
   "execution_count": 16,
   "metadata": {
    "collapsed": false
   },
   "outputs": [
    {
     "name": "stdout",
     "output_type": "stream",
     "text": [
      "1515\n"
     ]
    },
    {
     "data": {
      "text/plain": [
       "224"
      ]
     },
     "execution_count": 16,
     "metadata": {},
     "output_type": "execute_result"
    }
   ],
   "source": [
    "get_average_length('Arthropoda', 'ATP6')"
   ]
  },
  {
   "cell_type": "code",
   "execution_count": 3,
   "metadata": {
    "collapsed": false
   },
   "outputs": [
    {
     "data": {
      "application/javascript": [
       "\n",
       "function regentoc() {\n",
       "    document.getElementById(\"toc\").innerHTML = \"\";\n",
       "    var currenth2 = 0;\n",
       "    $(\"h2,h3\").not(\"#Contents\").each(function(mainIndex) {\n",
       "        el = $(this);\n",
       "        title = el.attr(\"id\");\n",
       "        text = el.html();\n",
       "        link = \"#\" + el.attr(\"id\");\n",
       "        if ( document.getElementById(title).tagName == \"H2\" ) {\n",
       "            currenth2 += 1;\n",
       "            newLine =\n",
       "                \"<li class='maintoc'>\" +\n",
       "                   \"<a href='\" + link + \"'>\" + text + \"</a>\" +\n",
       "                \"</li>\" +\n",
       "                \"<ul id='h2\" + currenth2 + \"'></ul>\";\n",
       "            document.getElementById(\"toc\").innerHTML += newLine;\n",
       "        } else if ( document.getElementById(title).tagName==\"H3\" ) {\n",
       "            h1list = document.getElementById(\"h2\"+currenth2);\n",
       "            newLine = \"<li class='subtoc'>\" + \"<a href='\" + link + \"'>\" + text + \"</a>\" + \"</li>\";\n",
       "            h1list.innerHTML += newLine;\n",
       "        }\n",
       "    });\n",
       "}\n",
       " \n",
       "setInterval(regentoc,1000);\n"
      ],
      "text/plain": [
       "<IPython.core.display.Javascript object>"
      ]
     },
     "execution_count": 3,
     "metadata": {},
     "output_type": "execute_result"
    }
   ],
   "source": [
    "# ignore this cell, it's for loading custom js code\n",
    "from IPython.core.display import Javascript\n",
    "Javascript(filename=\"custom.js\")"
   ]
  },
  {
   "cell_type": "code",
   "execution_count": 2,
   "metadata": {
    "collapsed": false
   },
   "outputs": [
    {
     "data": {
      "text/html": [
       "<style>\n",
       "div.output_text{\n",
       "        max-height:400px;\n",
       "        overflow:scroll;\n",
       "}\n",
       "\n",
       "div#notebook {\n",
       "  font-family: 'PT Serif' !important;\n",
       "} \n",
       "\n",
       "div.CodeMirror, div.output_area pre, div.output_wrapper, div.prompt {\n",
       "  font-family: 'Source Code Pro', monospace !important;\n",
       "}\n",
       "\n",
       ".output_text {\n",
       "  background-color: #f0f0f0;\n",
       "}\n",
       "\n",
       "\n",
       ".prompt { display: none; }\n",
       "div.output_subarea { max-width: calc(100%); }\n",
       "</style>\n",
       "\n"
      ],
      "text/plain": [
       "<IPython.core.display.HTML object>"
      ]
     },
     "execution_count": 2,
     "metadata": {},
     "output_type": "execute_result"
    }
   ],
   "source": [
    "# ignore this cell, it's for loading custom css code\n",
    "from IPython.core.display import HTML\n",
    "HTML(filename=\"custom.css\")"
   ]
  }
 ],
 "metadata": {
  "kernelspec": {
   "display_name": "Python 2",
   "language": "python",
   "name": "python2"
  },
  "language_info": {
   "codemirror_mode": {
    "name": "ipython",
    "version": 2
   },
   "file_extension": ".py",
   "mimetype": "text/x-python",
   "name": "python",
   "nbconvert_exporter": "python",
   "pygments_lexer": "ipython2",
   "version": "2.7.6"
  }
 },
 "nbformat": 4,
 "nbformat_minor": 0
}
