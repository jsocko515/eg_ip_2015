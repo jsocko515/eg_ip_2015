{
 "cells": [
  {
   "cell_type": "markdown",
   "metadata": {},
   "source": [
    "#Automated Testing\n",
    "\n",
    "\n",
    "Two tools to look at:\n",
    "\n",
    "- `assert` to get started with testing concepts \n",
    "- `nose` for more convenience\n",
    "\n",
    "##Testing with `assert`\n",
    "\n",
    "Write a function which takes a DNA sequence, a kmer length, and a threshold, and returns a list of all the kmers that occur more than the threshold number of times in the sequence. First attempt:"
   ]
  },
  {
   "cell_type": "code",
   "execution_count": 1,
   "metadata": {
    "collapsed": true
   },
   "outputs": [],
   "source": [
    "def find_common_kmers(dna, k, threshold):\n",
    "    result = []\n",
    "    for start in range(len(dna)):\n",
    "        kmer = dna[start:start+k]\n",
    "        if dna.count(kmer) >= threshold:\n",
    "            result.append(kmer)\n",
    "    return result"
   ]
  },
  {
   "cell_type": "markdown",
   "metadata": {},
   "source": [
    "Now a very simple test: can our function correctly figure out that 'atgaatgc' contains 'atg' twice?"
   ]
  },
  {
   "cell_type": "code",
   "execution_count": 4,
   "metadata": {
    "collapsed": false
   },
   "outputs": [
    {
     "data": {
      "text/plain": [
       "['atg', 'atg']"
      ]
     },
     "execution_count": 4,
     "metadata": {},
     "output_type": "execute_result"
    }
   ],
   "source": [
    "find_common_kmers('atgaatgc', 3, 2)"
   ]
  },
  {
   "cell_type": "markdown",
   "metadata": {},
   "source": [
    "Is this correct? No way to tell from the description; it depends on what we want to use the output for. \n",
    "\n",
    "**Testing forces us to think carefully about how we want our code to behave.**\n",
    "\n",
    "Let's say that we only want unique kmers in the output. We can test this:"
   ]
  },
  {
   "cell_type": "code",
   "execution_count": 5,
   "metadata": {
    "collapsed": false
   },
   "outputs": [
    {
     "ename": "AssertionError",
     "evalue": "",
     "output_type": "error",
     "traceback": [
      "\u001b[1;31m---------------------------------------------------------------------------\u001b[0m",
      "\u001b[1;31mAssertionError\u001b[0m                            Traceback (most recent call last)",
      "\u001b[1;32m<ipython-input-5-a8e4ac87b638>\u001b[0m in \u001b[0;36m<module>\u001b[1;34m()\u001b[0m\n\u001b[1;32m----> 1\u001b[1;33m \u001b[1;32massert\u001b[0m \u001b[0mfind_common_kmers\u001b[0m\u001b[1;33m(\u001b[0m\u001b[1;34m'atgaatgc'\u001b[0m\u001b[1;33m,\u001b[0m \u001b[1;36m3\u001b[0m\u001b[1;33m,\u001b[0m \u001b[1;36m2\u001b[0m\u001b[1;33m)\u001b[0m \u001b[1;33m==\u001b[0m \u001b[1;33m[\u001b[0m\u001b[1;34m'atg'\u001b[0m\u001b[1;33m]\u001b[0m\u001b[1;33m\u001b[0m\u001b[0m\n\u001b[0m",
      "\u001b[1;31mAssertionError\u001b[0m: "
     ]
    }
   ],
   "source": [
    "assert find_common_kmers('atgaatgc', 3, 2) == ['atg']"
   ]
  },
  {
   "cell_type": "markdown",
   "metadata": {},
   "source": [
    "As expected, the test fails. Let's edit the code to fix it:"
   ]
  },
  {
   "cell_type": "code",
   "execution_count": 8,
   "metadata": {
    "collapsed": true
   },
   "outputs": [],
   "source": [
    "def find_common_kmers(dna, k, threshold):\n",
    "    result = []\n",
    "    for start in range(len(dna)):\n",
    "        kmer = dna[start:start+k]\n",
    "        if dna.count(kmer) >= threshold and kmer not in result:\n",
    "            result.append(kmer)\n",
    "    return result\n",
    "\n",
    "assert find_common_kmers('atgaatgc', 3, 2) == ['atg']"
   ]
  },
  {
   "cell_type": "markdown",
   "metadata": {},
   "source": [
    "Now it runs without error. Why bother writing the test if we're going to fix it anyway? Because bugs have a habit of re-emerging when you start editing the code. \n",
    "\n",
    "A more complicated example: what do we expect the output to be from \n",
    "\n",
    "```python\n",
    "find_common_kmers('atgaatgcaaatga', 3, 3)\n",
    "```\n",
    "\n",
    "? 'atg' is in the sequence three times, and no other 3mer occurs more than twice, so we should see `['atg']`. An assertion expresses this idea:"
   ]
  },
  {
   "cell_type": "code",
   "execution_count": 9,
   "metadata": {
    "collapsed": false
   },
   "outputs": [
    {
     "ename": "AssertionError",
     "evalue": "",
     "output_type": "error",
     "traceback": [
      "\u001b[1;31m---------------------------------------------------------------------------\u001b[0m",
      "\u001b[1;31mAssertionError\u001b[0m                            Traceback (most recent call last)",
      "\u001b[1;32m<ipython-input-9-ecf0434774bc>\u001b[0m in \u001b[0;36m<module>\u001b[1;34m()\u001b[0m\n\u001b[1;32m----> 1\u001b[1;33m \u001b[1;32massert\u001b[0m \u001b[0mfind_common_kmers\u001b[0m\u001b[1;33m(\u001b[0m\u001b[1;34m'atgaatgcaaatga'\u001b[0m\u001b[1;33m,\u001b[0m \u001b[1;36m3\u001b[0m\u001b[1;33m,\u001b[0m \u001b[1;36m3\u001b[0m\u001b[1;33m)\u001b[0m \u001b[1;33m==\u001b[0m \u001b[1;33m[\u001b[0m\u001b[1;34m'atg'\u001b[0m\u001b[1;33m]\u001b[0m\u001b[1;33m\u001b[0m\u001b[0m\n\u001b[0m",
      "\u001b[1;31mAssertionError\u001b[0m: "
     ]
    }
   ],
   "source": [
    "assert find_common_kmers('atgaatgcaaatga', 3, 3) == ['atg']"
   ]
  },
  {
   "cell_type": "markdown",
   "metadata": {},
   "source": [
    "Again it fails, but why? To figure out, we probably have to look at the return value:"
   ]
  },
  {
   "cell_type": "code",
   "execution_count": 11,
   "metadata": {
    "collapsed": false
   },
   "outputs": [
    {
     "data": {
      "text/plain": [
       "['atg', 'a']"
      ]
     },
     "execution_count": 11,
     "metadata": {},
     "output_type": "execute_result"
    }
   ],
   "source": [
    "find_common_kmers('atgaatgcaaatga', 3, 3)"
   ]
  },
  {
   "cell_type": "markdown",
   "metadata": {},
   "source": [
    "There is a bug in the kmer generating code. We have forgotten to make sure that we only get complete kmers. We can fix it by tweaking the call to `range()`:"
   ]
  },
  {
   "cell_type": "code",
   "execution_count": 13,
   "metadata": {
    "collapsed": true
   },
   "outputs": [],
   "source": [
    "def find_common_kmers(dna, k, threshold):\n",
    "    result = []\n",
    "    for start in range(len(dna) +1 -k):\n",
    "        kmer = dna[start:start+k]\n",
    "        if dna.count(kmer) >= threshold and kmer not in result:\n",
    "            result.append(kmer)\n",
    "    return result\n",
    "\n"
   ]
  },
  {
   "cell_type": "markdown",
   "metadata": {},
   "source": [
    "Now both our assertions run without errors:"
   ]
  },
  {
   "cell_type": "code",
   "execution_count": 15,
   "metadata": {
    "collapsed": false
   },
   "outputs": [],
   "source": [
    "assert find_common_kmers('atgaatgc', 3, 2) == ['atg']\n",
    "assert find_common_kmers('atgaatgcaaatga', 3, 3) == ['atg']"
   ]
  },
  {
   "cell_type": "markdown",
   "metadata": {},
   "source": [
    "###How many tests to write?\n",
    "\n",
    "As soon as we start thinking about testing, it's obvious that there are an infinite number of possible tests. A good way to write tests efficiently is to test extreme inputs. If it works for k=1 and k=10 then it probably works for k=2,3,4,etc."
   ]
  },
  {
   "cell_type": "code",
   "execution_count": 16,
   "metadata": {
    "collapsed": true
   },
   "outputs": [],
   "source": [
    "assert find_common_kmers('aattggcc', 1, 2) == ['a', 't', 'g', 'c']\n",
    "assert find_common_kmers('tagctagtcg', 10, 1) == ['tagctagtcg']"
   ]
  },
  {
   "cell_type": "markdown",
   "metadata": {},
   "source": [
    "Another good idea is to test the function on unrealistic inputs. Example: for kmer length of zero we might expect an empty list:"
   ]
  },
  {
   "cell_type": "code",
   "execution_count": 19,
   "metadata": {
    "collapsed": false
   },
   "outputs": [
    {
     "ename": "AssertionError",
     "evalue": "",
     "output_type": "error",
     "traceback": [
      "\u001b[1;31m---------------------------------------------------------------------------\u001b[0m",
      "\u001b[1;31mAssertionError\u001b[0m                            Traceback (most recent call last)",
      "\u001b[1;32m<ipython-input-19-b0c133530743>\u001b[0m in \u001b[0;36m<module>\u001b[1;34m()\u001b[0m\n\u001b[1;32m----> 1\u001b[1;33m \u001b[1;32massert\u001b[0m \u001b[0mfind_common_kmers\u001b[0m\u001b[1;33m(\u001b[0m\u001b[1;34m'tagctagtcg'\u001b[0m\u001b[1;33m,\u001b[0m \u001b[1;36m0\u001b[0m\u001b[1;33m,\u001b[0m \u001b[1;36m2\u001b[0m\u001b[1;33m)\u001b[0m \u001b[1;33m==\u001b[0m \u001b[1;33m[\u001b[0m\u001b[1;33m]\u001b[0m\u001b[1;33m\u001b[0m\u001b[0m\n\u001b[0m",
      "\u001b[1;31mAssertionError\u001b[0m: "
     ]
    }
   ],
   "source": [
    "assert find_common_kmers('tagctagtcg', 0, 2) == []"
   ]
  },
  {
   "cell_type": "markdown",
   "metadata": {},
   "source": [
    "but in fact we get a list with a single element which is an empty string:"
   ]
  },
  {
   "cell_type": "code",
   "execution_count": 24,
   "metadata": {
    "collapsed": false
   },
   "outputs": [
    {
     "data": {
      "text/plain": [
       "['']"
      ]
     },
     "execution_count": 24,
     "metadata": {},
     "output_type": "execute_result"
    }
   ],
   "source": [
    "find_common_kmers('tagctagtcg', 0, 2)"
   ]
  },
  {
   "cell_type": "markdown",
   "metadata": {},
   "source": [
    "Here's why:"
   ]
  },
  {
   "cell_type": "code",
   "execution_count": 25,
   "metadata": {
    "collapsed": false
   },
   "outputs": [
    {
     "data": {
      "text/plain": [
       "''"
      ]
     },
     "execution_count": 25,
     "metadata": {},
     "output_type": "execute_result"
    }
   ],
   "source": [
    "'tagctagtcg'[0:0]"
   ]
  },
  {
   "cell_type": "code",
   "execution_count": 26,
   "metadata": {
    "collapsed": false
   },
   "outputs": [
    {
     "data": {
      "text/plain": [
       "11"
      ]
     },
     "execution_count": 26,
     "metadata": {},
     "output_type": "execute_result"
    }
   ],
   "source": [
    "'tagctagtcg'.count('')"
   ]
  },
  {
   "cell_type": "markdown",
   "metadata": {},
   "source": [
    "To fix this let's put in a special case for k<1:"
   ]
  },
  {
   "cell_type": "code",
   "execution_count": 27,
   "metadata": {
    "collapsed": true
   },
   "outputs": [],
   "source": [
    "def find_common_kmers(dna, k, threshold):\n",
    "    if k < 1:\n",
    "        return []\n",
    "    result = []\n",
    "    for start in range(len(dna) + 1 - k):\n",
    "        kmer = dna[start:start+k]\n",
    "        if dna.count(kmer) >= threshold and kmer not in result:\n",
    "            result.append(kmer)\n",
    "    return result"
   ]
  },
  {
   "cell_type": "markdown",
   "metadata": {},
   "source": [
    "Plus a few more assertions to make a test suite:"
   ]
  },
  {
   "cell_type": "code",
   "execution_count": 29,
   "metadata": {
    "collapsed": true
   },
   "outputs": [],
   "source": [
    "assert find_common_kmers('atgaatgcaaatga', 3, 3) == ['atg']\n",
    "assert find_common_kmers('atgaatgc', 3, 2) == ['atg']\n",
    "assert find_common_kmers('aattggcc', 1, 2) == ['a', 't', 'g', 'c']\n",
    "assert find_common_kmers('tagctagtcg', 10, 1) == ['tagctagtcg'] \n",
    "assert find_common_kmers('ctagctgctcgtgactgtcagtgtacg', 2, 4) ==  ['ct', 'tg', 'gt']\n",
    "assert find_common_kmers('cccaaaacccaaaacccaaaacccaaaa', 4, 4) ==  ['ccca', 'ccaa', 'caaa', 'aaaa']\n",
    "assert find_common_kmers('tagctagtcg', 0, 2) == []\n",
    "assert find_common_kmers('tagctagtcg', -3, 2) == []"
   ]
  },
  {
   "cell_type": "markdown",
   "metadata": {},
   "source": [
    "###Refactoring and regressions\n",
    "\n",
    "Let's do a few quick benchmarks:"
   ]
  },
  {
   "cell_type": "code",
   "execution_count": 33,
   "metadata": {
    "collapsed": false
   },
   "outputs": [
    {
     "name": "stdout",
     "output_type": "stream",
     "text": [
      "1 loops, best of 3: 861 ms per loop\n",
      "1 loops, best of 3: 3.44 s per loop\n"
     ]
    }
   ],
   "source": [
    "import random\n",
    "def random_dna(length):\n",
    "    return \"\".join([random.choice(['A','T','G','C']) for _ in range(length)])\n",
    "\n",
    "r = random_dna(20000)\n",
    "%timeit find_common_kmers(r, 8, 1000)\n",
    "\n",
    "r = random_dna(40000)\n",
    "%timeit find_common_kmers(r, 8, 1000)"
   ]
  },
  {
   "cell_type": "markdown",
   "metadata": {},
   "source": [
    "Doubling the size of the DNA sequence much more than doubles the time. This function doesn't scale well (repeated calls to `count()`). We would like to rewrite it to be faster **without** changing its behaviour. \n",
    "\n",
    "We call this **refactoring**.\n",
    "\n",
    "Here's an attempt at a better version which uses a dict to keep a running total of kmers:"
   ]
  },
  {
   "cell_type": "code",
   "execution_count": 35,
   "metadata": {
    "collapsed": true
   },
   "outputs": [],
   "source": [
    "def find_common_kmers(dna, k, threshold):\n",
    "   \n",
    "    kmer2count = {}\n",
    "    for start in range(len(dna) + 1 - k):\n",
    "        kmer = dna[start:start+k]\n",
    "        old_count = kmer2count.get(kmer, 0)\n",
    "        kmer2count[kmer] = old_count + 1\n",
    "    \n",
    "    result = []\n",
    "    for kmer, count in kmer2count.items():\n",
    "        if count >= threshold:\n",
    "            result.append(kmer)\n",
    "    return result"
   ]
  },
  {
   "cell_type": "markdown",
   "metadata": {},
   "source": [
    "First let's run benchmarks again to see if it's actually faster:"
   ]
  },
  {
   "cell_type": "code",
   "execution_count": 37,
   "metadata": {
    "collapsed": false
   },
   "outputs": [
    {
     "name": "stdout",
     "output_type": "stream",
     "text": [
      "100 loops, best of 3: 4.8 ms per loop\n",
      "100 loops, best of 3: 11.5 ms per loop\n"
     ]
    }
   ],
   "source": [
    "r = random_dna(20000)\n",
    "%timeit find_common_kmers(r, 8, 1000)\n",
    "\n",
    "r = random_dna(40000)\n",
    "%timeit find_common_kmers(r, 8, 1000)"
   ]
  },
  {
   "cell_type": "markdown",
   "metadata": {},
   "source": [
    "Much better - but how do we know that we haven't changed the behaviour? Just re-run the tests:"
   ]
  },
  {
   "cell_type": "code",
   "execution_count": 38,
   "metadata": {
    "collapsed": false
   },
   "outputs": [
    {
     "ename": "AssertionError",
     "evalue": "",
     "output_type": "error",
     "traceback": [
      "\u001b[1;31m---------------------------------------------------------------------------\u001b[0m",
      "\u001b[1;31mAssertionError\u001b[0m                            Traceback (most recent call last)",
      "\u001b[1;32m<ipython-input-38-0ec052c0a713>\u001b[0m in \u001b[0;36m<module>\u001b[1;34m()\u001b[0m\n\u001b[0;32m      1\u001b[0m \u001b[1;32massert\u001b[0m \u001b[0mfind_common_kmers\u001b[0m\u001b[1;33m(\u001b[0m\u001b[1;34m'atgaatgcaaatga'\u001b[0m\u001b[1;33m,\u001b[0m \u001b[1;36m3\u001b[0m\u001b[1;33m,\u001b[0m \u001b[1;36m3\u001b[0m\u001b[1;33m)\u001b[0m \u001b[1;33m==\u001b[0m \u001b[1;33m[\u001b[0m\u001b[1;34m'atg'\u001b[0m\u001b[1;33m]\u001b[0m\u001b[1;33m\u001b[0m\u001b[0m\n\u001b[0;32m      2\u001b[0m \u001b[1;32massert\u001b[0m \u001b[0mfind_common_kmers\u001b[0m\u001b[1;33m(\u001b[0m\u001b[1;34m'atgaatgc'\u001b[0m\u001b[1;33m,\u001b[0m \u001b[1;36m3\u001b[0m\u001b[1;33m,\u001b[0m \u001b[1;36m2\u001b[0m\u001b[1;33m)\u001b[0m \u001b[1;33m==\u001b[0m \u001b[1;33m[\u001b[0m\u001b[1;34m'atg'\u001b[0m\u001b[1;33m]\u001b[0m\u001b[1;33m\u001b[0m\u001b[0m\n\u001b[1;32m----> 3\u001b[1;33m \u001b[1;32massert\u001b[0m \u001b[0mfind_common_kmers\u001b[0m\u001b[1;33m(\u001b[0m\u001b[1;34m'aattggcc'\u001b[0m\u001b[1;33m,\u001b[0m \u001b[1;36m1\u001b[0m\u001b[1;33m,\u001b[0m \u001b[1;36m2\u001b[0m\u001b[1;33m)\u001b[0m \u001b[1;33m==\u001b[0m \u001b[1;33m[\u001b[0m\u001b[1;34m'a'\u001b[0m\u001b[1;33m,\u001b[0m \u001b[1;34m't'\u001b[0m\u001b[1;33m,\u001b[0m \u001b[1;34m'g'\u001b[0m\u001b[1;33m,\u001b[0m \u001b[1;34m'c'\u001b[0m\u001b[1;33m]\u001b[0m\u001b[1;33m\u001b[0m\u001b[0m\n\u001b[0m\u001b[0;32m      4\u001b[0m \u001b[1;32massert\u001b[0m \u001b[0mfind_common_kmers\u001b[0m\u001b[1;33m(\u001b[0m\u001b[1;34m'tagctagtcg'\u001b[0m\u001b[1;33m,\u001b[0m \u001b[1;36m10\u001b[0m\u001b[1;33m,\u001b[0m \u001b[1;36m1\u001b[0m\u001b[1;33m)\u001b[0m \u001b[1;33m==\u001b[0m \u001b[1;33m[\u001b[0m\u001b[1;34m'tagctagtcg'\u001b[0m\u001b[1;33m]\u001b[0m\u001b[1;33m\u001b[0m\u001b[0m\n\u001b[0;32m      5\u001b[0m \u001b[1;32massert\u001b[0m \u001b[0mfind_common_kmers\u001b[0m\u001b[1;33m(\u001b[0m\u001b[1;34m'ctagctgctcgtgactgtcagtgtacg'\u001b[0m\u001b[1;33m,\u001b[0m \u001b[1;36m2\u001b[0m\u001b[1;33m,\u001b[0m \u001b[1;36m4\u001b[0m\u001b[1;33m)\u001b[0m \u001b[1;33m==\u001b[0m  \u001b[1;33m[\u001b[0m\u001b[1;34m'ct'\u001b[0m\u001b[1;33m,\u001b[0m \u001b[1;34m'tg'\u001b[0m\u001b[1;33m,\u001b[0m \u001b[1;34m'gt'\u001b[0m\u001b[1;33m]\u001b[0m\u001b[1;33m\u001b[0m\u001b[0m\n",
      "\u001b[1;31mAssertionError\u001b[0m: "
     ]
    }
   ],
   "source": [
    "assert find_common_kmers('atgaatgcaaatga', 3, 3) == ['atg']\n",
    "assert find_common_kmers('atgaatgc', 3, 2) == ['atg']\n",
    "assert find_common_kmers('aattggcc', 1, 2) == ['a', 't', 'g', 'c']\n",
    "assert find_common_kmers('tagctagtcg', 10, 1) == ['tagctagtcg'] \n",
    "assert find_common_kmers('ctagctgctcgtgactgtcagtgtacg', 2, 4) ==  ['ct', 'tg', 'gt']\n",
    "assert find_common_kmers('cccaaaacccaaaacccaaaacccaaaa', 4, 4) ==  ['ccca', 'ccaa', 'caaa', 'aaaa']\n",
    "assert find_common_kmers('tagctagtcg', 0, 2) == []\n",
    "assert find_common_kmers('tagctagtcg', -3, 2) == []"
   ]
  },
  {
   "cell_type": "markdown",
   "metadata": {},
   "source": [
    "Something interesting - now the order is different:"
   ]
  },
  {
   "cell_type": "code",
   "execution_count": 40,
   "metadata": {
    "collapsed": false
   },
   "outputs": [
    {
     "data": {
      "text/plain": [
       "['a', 'c', 't', 'g']"
      ]
     },
     "execution_count": 40,
     "metadata": {},
     "output_type": "execute_result"
    }
   ],
   "source": [
    "find_common_kmers('aattggcc', 1, 2)"
   ]
  },
  {
   "cell_type": "markdown",
   "metadata": {},
   "source": [
    "The new version of the code doesn't preserve the input order. Do we care about this? Probably not, so let's rewrite the tests:"
   ]
  },
  {
   "cell_type": "code",
   "execution_count": 43,
   "metadata": {
    "collapsed": true
   },
   "outputs": [],
   "source": [
    "assert set(find_common_kmers('aattggcc', 1, 2)) == set(['a', 't', 'g', 'c'])"
   ]
  },
  {
   "cell_type": "code",
   "execution_count": 44,
   "metadata": {
    "collapsed": false
   },
   "outputs": [
    {
     "ename": "AssertionError",
     "evalue": "",
     "output_type": "error",
     "traceback": [
      "\u001b[1;31m---------------------------------------------------------------------------\u001b[0m",
      "\u001b[1;31mAssertionError\u001b[0m                            Traceback (most recent call last)",
      "\u001b[1;32m<ipython-input-44-c6ef11d0f233>\u001b[0m in \u001b[0;36m<module>\u001b[1;34m()\u001b[0m\n\u001b[0;32m      5\u001b[0m \u001b[1;32massert\u001b[0m \u001b[0mset\u001b[0m\u001b[1;33m(\u001b[0m\u001b[0mfind_common_kmers\u001b[0m\u001b[1;33m(\u001b[0m\u001b[1;34m'ctagctgctcgtgactgtcagtgtacg'\u001b[0m\u001b[1;33m,\u001b[0m \u001b[1;36m2\u001b[0m\u001b[1;33m,\u001b[0m \u001b[1;36m4\u001b[0m\u001b[1;33m)\u001b[0m\u001b[1;33m)\u001b[0m \u001b[1;33m==\u001b[0m  \u001b[0mset\u001b[0m\u001b[1;33m(\u001b[0m\u001b[1;33m[\u001b[0m\u001b[1;34m'ct'\u001b[0m\u001b[1;33m,\u001b[0m \u001b[1;34m'tg'\u001b[0m\u001b[1;33m,\u001b[0m \u001b[1;34m'gt'\u001b[0m\u001b[1;33m]\u001b[0m\u001b[1;33m)\u001b[0m\u001b[1;33m\u001b[0m\u001b[0m\n\u001b[0;32m      6\u001b[0m \u001b[1;32massert\u001b[0m \u001b[0mset\u001b[0m\u001b[1;33m(\u001b[0m\u001b[0mfind_common_kmers\u001b[0m\u001b[1;33m(\u001b[0m\u001b[1;34m'cccaaaacccaaaacccaaaacccaaaa'\u001b[0m\u001b[1;33m,\u001b[0m \u001b[1;36m4\u001b[0m\u001b[1;33m,\u001b[0m \u001b[1;36m4\u001b[0m\u001b[1;33m)\u001b[0m\u001b[1;33m)\u001b[0m \u001b[1;33m==\u001b[0m  \u001b[0mset\u001b[0m\u001b[1;33m(\u001b[0m\u001b[1;33m[\u001b[0m\u001b[1;34m'ccca'\u001b[0m\u001b[1;33m,\u001b[0m \u001b[1;34m'ccaa'\u001b[0m\u001b[1;33m,\u001b[0m \u001b[1;34m'caaa'\u001b[0m\u001b[1;33m,\u001b[0m \u001b[1;34m'aaaa'\u001b[0m\u001b[1;33m]\u001b[0m\u001b[1;33m)\u001b[0m\u001b[1;33m\u001b[0m\u001b[0m\n\u001b[1;32m----> 7\u001b[1;33m \u001b[1;32massert\u001b[0m \u001b[0mset\u001b[0m\u001b[1;33m(\u001b[0m\u001b[0mfind_common_kmers\u001b[0m\u001b[1;33m(\u001b[0m\u001b[1;34m'tagctagtcg'\u001b[0m\u001b[1;33m,\u001b[0m \u001b[1;36m0\u001b[0m\u001b[1;33m,\u001b[0m \u001b[1;36m2\u001b[0m\u001b[1;33m)\u001b[0m\u001b[1;33m)\u001b[0m \u001b[1;33m==\u001b[0m \u001b[0mset\u001b[0m\u001b[1;33m(\u001b[0m\u001b[1;33m[\u001b[0m\u001b[1;33m]\u001b[0m\u001b[1;33m)\u001b[0m\u001b[1;33m\u001b[0m\u001b[0m\n\u001b[0m\u001b[0;32m      8\u001b[0m \u001b[1;32massert\u001b[0m \u001b[0mset\u001b[0m\u001b[1;33m(\u001b[0m\u001b[0mfind_common_kmers\u001b[0m\u001b[1;33m(\u001b[0m\u001b[1;34m'tagctagtcg'\u001b[0m\u001b[1;33m,\u001b[0m \u001b[1;33m-\u001b[0m\u001b[1;36m3\u001b[0m\u001b[1;33m,\u001b[0m \u001b[1;36m2\u001b[0m\u001b[1;33m)\u001b[0m\u001b[1;33m)\u001b[0m \u001b[1;33m==\u001b[0m \u001b[0mset\u001b[0m\u001b[1;33m(\u001b[0m\u001b[1;33m[\u001b[0m\u001b[1;33m]\u001b[0m\u001b[1;33m)\u001b[0m\u001b[1;33m\u001b[0m\u001b[0m\n",
      "\u001b[1;31mAssertionError\u001b[0m: "
     ]
    }
   ],
   "source": [
    "assert set(find_common_kmers('atgaatgcaaatga', 3, 3)) == set(['atg'])\n",
    "assert set(find_common_kmers('atgaatgc', 3, 2)) == set(['atg'])\n",
    "assert set(find_common_kmers('aattggcc', 1, 2)) == set(['a', 't', 'g', 'c'])\n",
    "assert set(find_common_kmers('tagctagtcg', 10, 1)) == set(['tagctagtcg'])\n",
    "assert set(find_common_kmers('ctagctgctcgtgactgtcagtgtacg', 2, 4)) ==  set(['ct', 'tg', 'gt'])\n",
    "assert set(find_common_kmers('cccaaaacccaaaacccaaaacccaaaa', 4, 4)) ==  set(['ccca', 'ccaa', 'caaa', 'aaaa'])\n",
    "assert set(find_common_kmers('tagctagtcg', 0, 2)) == set([])\n",
    "assert set(find_common_kmers('tagctagtcg', -3, 2)) == set([])"
   ]
  },
  {
   "cell_type": "markdown",
   "metadata": {},
   "source": [
    "This time we get down to the 7th test before something fails:"
   ]
  },
  {
   "cell_type": "code",
   "execution_count": 45,
   "metadata": {
    "collapsed": false
   },
   "outputs": [
    {
     "data": {
      "text/plain": [
       "['']"
      ]
     },
     "execution_count": 45,
     "metadata": {},
     "output_type": "execute_result"
    }
   ],
   "source": [
    "find_common_kmers('tagctagtcg', 0, 2)"
   ]
  },
  {
   "cell_type": "markdown",
   "metadata": {},
   "source": [
    "Same problem, same solution:"
   ]
  },
  {
   "cell_type": "code",
   "execution_count": 48,
   "metadata": {
    "collapsed": false
   },
   "outputs": [],
   "source": [
    "def find_common_kmers(dna, k, threshold):\n",
    "    if k < 1:\n",
    "        return []\n",
    "   \n",
    "    kmer2count = {}\n",
    "    for start in range(len(dna) + 1 - k):\n",
    "        kmer = dna[start:start+k]\n",
    "        old_count = kmer2count.get(kmer, 0)\n",
    "        kmer2count[kmer] = old_count + 1\n",
    "    \n",
    "    result = []\n",
    "    for kmer, count in kmer2count.items():\n",
    "        if count >= threshold:\n",
    "            result.append(kmer)\n",
    "    return result\n",
    "\n",
    "assert set(find_common_kmers('atgaatgcaaatga', 3, 3)) == set(['atg'])\n",
    "assert set(find_common_kmers('atgaatgc', 3, 2)) == set(['atg'])\n",
    "assert set(find_common_kmers('aattggcc', 1, 2)) == set(['a', 't', 'g', 'c'])\n",
    "assert set(find_common_kmers('tagctagtcg', 10, 1)) == set(['tagctagtcg'])\n",
    "assert set(find_common_kmers('ctagctgctcgtgactgtcagtgtacg', 2, 4)) ==  set(['ct', 'tg', 'gt'])\n",
    "assert set(find_common_kmers('cccaaaacccaaaacccaaaacccaaaa', 4, 4)) ==  set(['ccca', 'ccaa', 'caaa', 'aaaa'])\n",
    "assert set(find_common_kmers('tagctagtcg', 0, 2)) == set([])\n",
    "assert set(find_common_kmers('tagctagtcg', -3, 2)) == set([])"
   ]
  },
  {
   "cell_type": "markdown",
   "metadata": {},
   "source": [
    "We have re-introduced an old bug by rewriting the code to fix a different problem. This is called a **regression**. \n",
    "\n",
    "We have caught the bug before running it on any real life data. \n",
    "\n",
    "###Setting up and tearing down\n",
    "\n",
    "Remember the session on functional programming? Our `find_common_kmers()` function has no **side effects**, which means that it's easy to test. \n",
    "\n",
    "Look at a function which does have side effects. We want to take a collection of reads and filter out any that have too many Ns:"
   ]
  },
  {
   "cell_type": "code",
   "execution_count": 49,
   "metadata": {
    "collapsed": true
   },
   "outputs": [],
   "source": [
    "def filter_reads(reads, threshold): \n",
    "    # iterate over a copy of the reads, so we don't alter the list as we're iterating over it\n",
    "    for read in list(reads): \n",
    "        if read.count('N') >= threshold: \n",
    "            reads.remove(read)"
   ]
  },
  {
   "cell_type": "markdown",
   "metadata": {},
   "source": [
    "Make some reads with 0/1/2 Ns:"
   ]
  },
  {
   "cell_type": "code",
   "execution_count": 50,
   "metadata": {
    "collapsed": true
   },
   "outputs": [],
   "source": [
    "reads = ['ATCGTAC', 'ACTGNTTACGT', 'ACTGNNTACTG']"
   ]
  },
  {
   "cell_type": "markdown",
   "metadata": {},
   "source": [
    "Now we'll test that it works with a threshold of one, which should cause the last two reads to be removed:"
   ]
  },
  {
   "cell_type": "code",
   "execution_count": 52,
   "metadata": {
    "collapsed": true
   },
   "outputs": [],
   "source": [
    "filter_reads(reads, 1)\n",
    "assert reads == ['ATCGTAC']"
   ]
  },
  {
   "cell_type": "markdown",
   "metadata": {},
   "source": [
    "Everything looks OK. Next, we'll test a threshold of two which should remove only the last read:"
   ]
  },
  {
   "cell_type": "code",
   "execution_count": 53,
   "metadata": {
    "collapsed": false
   },
   "outputs": [
    {
     "ename": "AssertionError",
     "evalue": "",
     "output_type": "error",
     "traceback": [
      "\u001b[1;31m---------------------------------------------------------------------------\u001b[0m",
      "\u001b[1;31mAssertionError\u001b[0m                            Traceback (most recent call last)",
      "\u001b[1;32m<ipython-input-53-084d66c625ac>\u001b[0m in \u001b[0;36m<module>\u001b[1;34m()\u001b[0m\n\u001b[0;32m      1\u001b[0m \u001b[0mfilter_reads\u001b[0m\u001b[1;33m(\u001b[0m\u001b[0mreads\u001b[0m\u001b[1;33m,\u001b[0m \u001b[1;36m2\u001b[0m\u001b[1;33m)\u001b[0m\u001b[1;33m\u001b[0m\u001b[0m\n\u001b[1;32m----> 2\u001b[1;33m \u001b[1;32massert\u001b[0m \u001b[0mreads\u001b[0m \u001b[1;33m==\u001b[0m \u001b[1;33m[\u001b[0m\u001b[1;34m'ATCGTAC'\u001b[0m\u001b[1;33m,\u001b[0m \u001b[1;34m'ACTGNTTACGT'\u001b[0m\u001b[1;33m]\u001b[0m\u001b[1;33m\u001b[0m\u001b[0m\n\u001b[0m",
      "\u001b[1;31mAssertionError\u001b[0m: "
     ]
    }
   ],
   "source": [
    "filter_reads(reads, 2)\n",
    "assert reads == ['ATCGTAC', 'ACTGNTTACGT']"
   ]
  },
  {
   "cell_type": "markdown",
   "metadata": {},
   "source": [
    "Of course, by the time we get to the second test, the last two reads have already been removed. We need to recreate the reads list each time:"
   ]
  },
  {
   "cell_type": "code",
   "execution_count": 54,
   "metadata": {
    "collapsed": true
   },
   "outputs": [],
   "source": [
    "reads = ['ATCGTAC', 'ACTGNTTACGT', 'ACTGNNTACTG']\n",
    "filter_reads(reads, 1)\n",
    "assert reads == ['ATCGTAC']\n",
    "\n",
    "reads = ['ATCGTAC', 'ACTGNTTACGT', 'ACTGNNTACTG']\n",
    "filter_reads(reads, 2)\n",
    "assert reads == ['ATCGTAC', 'ACTGNTTACGT']\n",
    "\n",
    "reads = ['ATCGTAC', 'ACTGNTTACGT', 'ACTGNNTACTG']\n",
    "filter_reads(reads, 3)\n",
    "assert reads == ['ATCGTAC', 'ACTGNTTACGT', 'ACTGNNTACTG']"
   ]
  },
  {
   "cell_type": "markdown",
   "metadata": {},
   "source": [
    "Imagine a much more complicated set-up scenario - most of the code will be set up. We can turn the set up stuff into a function:"
   ]
  },
  {
   "cell_type": "code",
   "execution_count": 55,
   "metadata": {
    "collapsed": true
   },
   "outputs": [],
   "source": [
    "reads = []\n",
    "def create_reads():\n",
    "    global reads\n",
    "    reads = ['ATCGTAC', 'ACTGNTTACGT', 'ACTGNNTACTG']\n",
    "\n",
    "create_reads()  \n",
    "filter_reads(reads, 1)\n",
    "assert reads == ['ATCGTAC']\n",
    "\n",
    "create_reads()\n",
    "filter_reads(reads, 2)\n",
    "assert reads == ['ATCGTAC', 'ACTGNTTACGT']\n",
    "\n",
    "create_reads()    \n",
    "filter_reads(reads, 3)\n",
    "assert reads == ['ATCGTAC', 'ACTGNTTACGT', 'ACTGNNTACTG']"
   ]
  },
  {
   "cell_type": "markdown",
   "metadata": {},
   "source": [
    "Which is a bit better - easier to read - but still very repetitive. \n",
    "\n",
    "##Testing with `nose`\n",
    "\n",
    "`nose` is a testing framework that does all the stuff we've seen, but better. \n",
    "\n",
    "###Naming conventions for `nose`\n",
    "\n",
    "- files that contain test code should start with `test` \n",
    "- tests should be in functions that start with `test`"
   ]
  },
  {
   "cell_type": "code",
   "execution_count": 56,
   "metadata": {
    "collapsed": true
   },
   "outputs": [],
   "source": [
    "def find_common_kmers(dna, k, threshold): \n",
    "    result = [] \n",
    "    for start in range(len(dna)): \n",
    "        kmer = dna[start:start+k] \n",
    "        if dna.count(kmer) >= threshold: \n",
    "            result.append(kmer) \n",
    "    return result \n",
    " \n",
    " \n",
    "def test_3mers(): \n",
    "    assert(find_common_kmers('atgaatgcaaatga', 3, 3) == ['atg']) "
   ]
  },
  {
   "cell_type": "markdown",
   "metadata": {},
   "source": [
    "To run tests from the command line:\n",
    "\n",
    "`nosetests`\n",
    "\n",
    "and it will find and run all test code."
   ]
  },
  {
   "cell_type": "code",
   "execution_count": 58,
   "metadata": {
    "collapsed": false
   },
   "outputs": [
    {
     "name": "stdout",
     "output_type": "stream",
     "text": [
      "F\r\n",
      "======================================================================\r\n",
      "FAIL: test_kmer.test_3mers\r\n",
      "----------------------------------------------------------------------\r\n",
      "Traceback (most recent call last):\r\n",
      "  File \"/usr/local/lib/python2.7/dist-packages/nose/case.py\", line 197, in runTest\r\n",
      "    self.test(*self.arg)\r\n",
      "  File \"/media/martin/exports/Dropbox/projects/course_notebooks/eg_ap/test_kmer.py\", line 11, in test_3mers\r\n",
      "    assert(find_common_kmers('atgaatgcaaatga', 3, 3) == ['atg'])\r\n",
      "AssertionError\r\n",
      "\r\n",
      "----------------------------------------------------------------------\r\n",
      "Ran 1 test in 0.002s\r\n",
      "\r\n",
      "FAILED (failures=1)\r\n"
     ]
    }
   ],
   "source": [
    "!nosetests"
   ]
  },
  {
   "cell_type": "markdown",
   "metadata": {},
   "source": [
    "We get\n",
    "\n",
    "- the name of the test that failed\n",
    "- the name of the test file\n",
    "- how many tests\n",
    "- how long it took to run\n",
    "\n",
    "Nose can do more specific tests than just `assert`:"
   ]
  },
  {
   "cell_type": "code",
   "execution_count": 56,
   "metadata": {
    "collapsed": true
   },
   "outputs": [],
   "source": [
    "from nose.tools import assert_equal \n",
    "\n",
    "def find_common_kmers(dna, k, threshold): \n",
    "    result = [] \n",
    "    for start in range(len(dna)): \n",
    "        kmer = dna[start:start+k] \n",
    "        if dna.count(kmer) >= threshold: \n",
    "            result.append(kmer) \n",
    "    return result \n",
    " \n",
    " \n",
    "def test_3mers(): \n",
    "    assert(find_common_kmers('atgaatgcaaatga', 3, 3) == ['atg']) "
   ]
  },
  {
   "cell_type": "code",
   "execution_count": 60,
   "metadata": {
    "collapsed": false
   },
   "outputs": [
    {
     "name": "stdout",
     "output_type": "stream",
     "text": [
      "F\r\n",
      "======================================================================\r\n",
      "FAIL: test_kmer.test_3mers\r\n",
      "----------------------------------------------------------------------\r\n",
      "Traceback (most recent call last):\r\n",
      "  File \"/usr/local/lib/python2.7/dist-packages/nose/case.py\", line 197, in runTest\r\n",
      "    self.test(*self.arg)\r\n",
      "  File \"/media/martin/exports/Dropbox/projects/course_notebooks/eg_ap/test_kmer.py\", line 13, in test_3mers\r\n",
      "    assert_equal(find_common_kmers('atgaatgcaaatga', 3, 3), ['atg'])\r\n",
      "AssertionError: Lists differ: ['atg', 'atg', 'atg', 'a'] != ['atg']\r\n",
      "\r\n",
      "First list contains 3 additional elements.\r\n",
      "First extra element 1:\r\n",
      "atg\r\n",
      "\r\n",
      "- ['atg', 'atg', 'atg', 'a']\r\n",
      "+ ['atg']\r\n",
      "\r\n",
      "----------------------------------------------------------------------\r\n",
      "Ran 1 test in 0.002s\r\n",
      "\r\n",
      "FAILED (failures=1)\r\n"
     ]
    }
   ],
   "source": [
    "!nosetests"
   ]
  },
  {
   "cell_type": "markdown",
   "metadata": {},
   "source": [
    "Now the output is much more interesting:\n",
    "\n",
    "- what caused the error (lists differ)\n",
    "- the expected and actual outputs\n",
    "- how many additional elements were in the actual output\n",
    "- the value of the first unexpected element\n",
    "\n",
    "making it much easier to track down the error. \n",
    "\n",
    "Fix the bug (unique output elements and incomplete kmers):"
   ]
  },
  {
   "cell_type": "code",
   "execution_count": 61,
   "metadata": {
    "collapsed": true
   },
   "outputs": [],
   "source": [
    "from nose.tools import assert_equal \n",
    " \n",
    "def find_common_kmers(dna, k, threshold):\n",
    "    result = []\n",
    "    for start in range(len(dna) + 1 - k):\n",
    "        kmer = dna[start:start+k]\n",
    "        if dna.count(kmer) >= threshold and kmer not in result:\n",
    "            result.append(kmer)\n",
    "    return result\n",
    " \n",
    "def test_3mers(): \n",
    "    assert_equal(find_common_kmers('atgaatgcaaatga', 3, 3), ['atg']) "
   ]
  },
  {
   "cell_type": "code",
   "execution_count": 63,
   "metadata": {
    "collapsed": false
   },
   "outputs": [
    {
     "name": "stdout",
     "output_type": "stream",
     "text": [
      ".\r\n",
      "----------------------------------------------------------------------\r\n",
      "Ran 1 test in 0.001s\r\n",
      "\r\n",
      "OK\r\n"
     ]
    }
   ],
   "source": [
    "!nosetests"
   ]
  },
  {
   "cell_type": "markdown",
   "metadata": {},
   "source": [
    "Let's add the rest of the test suite with `assert_equal`:"
   ]
  },
  {
   "cell_type": "code",
   "execution_count": 65,
   "metadata": {
    "collapsed": false
   },
   "outputs": [],
   "source": [
    "from nose.tools import assert_equal \n",
    " \n",
    "def find_common_kmers(dna, k, threshold): \n",
    "    result = [] \n",
    "    for start in range(len(dna) + 1 - k): \n",
    "        kmer = dna[start:start+k] \n",
    "        if dna.count(kmer) >= threshold and kmer not in result: \n",
    "            result.append(kmer) \n",
    "    return result \n",
    " \n",
    "def test_3mers(): \n",
    "    assert_equal(find_common_kmers('atgaatgcaaatga', 3, 3), ['atg']) \n",
    " \n",
    "def test_low_threshold(): \n",
    "    assert_equal(find_common_kmers('atgaatgc', 3, 2) , ['atg']) \n",
    " \n",
    "def test_single_bases(): \n",
    "    assert_equal(find_common_kmers('aattggcc', 1, 2) , \n",
    "                  ['a', 't', 'g', 'c']) \n",
    " \n",
    "def test_whole_sequence(): \n",
    "    assert_equal(find_common_kmers('tagctagtcg', 10, 1) , ['tagctagtcg']) \n",
    " \n",
    "def test_long_sequence(): \n",
    "    assert_equal(find_common_kmers('ctagctgctcgtgactgtcagtgtacg', 2, 4),\n",
    "                  ['ct', 'tg', 'gt']) \n",
    " \n",
    "def test_long_sequence_4mers(): \n",
    "    assert_equal(find_common_kmers('cccaaaacccaaaacccaaaacccaaaa',4, 4) ,\n",
    "                  ['ccca', 'ccaa', 'caaa', 'aaaa']) \n",
    " \n",
    "def test_zero_length_kmer(): \n",
    "    assert_equal(find_common_kmers('tagctagtcg', 0, 2) , []) \n",
    " \n",
    "def test_negative_length_kmer(): \n",
    "    assert_equal(find_common_kmers('tagctagtcg', -3, 2) , []) "
   ]
  },
  {
   "cell_type": "code",
   "execution_count": 67,
   "metadata": {
    "collapsed": false
   },
   "outputs": [
    {
     "name": "stdout",
     "output_type": "stream",
     "text": [
      "......FF\r\n",
      "======================================================================\r\n",
      "FAIL: test_kmer.test_zero_length_kmer\r\n",
      "----------------------------------------------------------------------\r\n",
      "Traceback (most recent call last):\r\n",
      "  File \"/usr/local/lib/python2.7/dist-packages/nose/case.py\", line 197, in runTest\r\n",
      "    self.test(*self.arg)\r\n",
      "  File \"/media/martin/exports/Dropbox/projects/course_notebooks/eg_ap/test_kmer.py\", line 30, in test_zero_length_kmer\r\n",
      "    assert_equal(find_common_kmers('tagctagtcg', 0, 2) , [])\r\n",
      "AssertionError: Lists differ: [''] != []\r\n",
      "\r\n",
      "First list contains 1 additional elements.\r\n",
      "First extra element 0:\r\n",
      "\r\n",
      "\r\n",
      "- ['']\r\n",
      "+ []\r\n",
      "\r\n",
      "======================================================================\r\n",
      "FAIL: test_kmer.test_negative_length_kmer\r\n",
      "----------------------------------------------------------------------\r\n",
      "Traceback (most recent call last):\r\n",
      "  File \"/usr/local/lib/python2.7/dist-packages/nose/case.py\", line 197, in runTest\r\n",
      "    self.test(*self.arg)\r\n",
      "  File \"/media/martin/exports/Dropbox/projects/course_notebooks/eg_ap/test_kmer.py\", line 33, in test_negative_length_kmer\r\n",
      "    assert_equal(find_common_kmers('tagctagtcg', -3, 2) , [])\r\n",
      "AssertionError: Lists differ: [''] != []\r\n",
      "\r\n",
      "First list contains 1 additional elements.\r\n",
      "First extra element 0:\r\n",
      "\r\n",
      "\r\n",
      "- ['']\r\n",
      "+ []\r\n",
      "\r\n",
      "----------------------------------------------------------------------\r\n",
      "Ran 8 tests in 0.003s\r\n",
      "\r\n",
      "FAILED (failures=2)\r\n"
     ]
    }
   ],
   "source": [
    "!nosetests"
   ]
  },
  {
   "cell_type": "markdown",
   "metadata": {},
   "source": [
    "Notice how `nose` doesn't quit after the first failed test - it runs them all. We can easily spot the problem (k<1) and fix it.\n",
    "\n",
    "Now let's try the refactored version that uses a dict:"
   ]
  },
  {
   "cell_type": "code",
   "execution_count": 68,
   "metadata": {
    "collapsed": true
   },
   "outputs": [],
   "source": [
    "def find_common_kmers(dna, k, threshold): \n",
    "    if k < 1:\n",
    "        return []\n",
    "\n",
    "    kmer2count = {} \n",
    "    for start in range(len(dna) + 1 - k): \n",
    "        kmer = dna[start:start+k] \n",
    "        old_count = kmer2count.get(kmer, 0) \n",
    "        kmer2count[kmer] = old_count + 1 \n",
    " \n",
    "    result = [] \n",
    "    for kmer, count in kmer2count.items(): \n",
    "        if count >= threshold: \n",
    "            result.append(kmer) \n",
    "    return result "
   ]
  },
  {
   "cell_type": "code",
   "execution_count": 69,
   "metadata": {
    "collapsed": false,
    "scrolled": true
   },
   "outputs": [
    {
     "name": "stdout",
     "output_type": "stream",
     "text": [
      "..F.FF..\r\n",
      "======================================================================\r\n",
      "FAIL: test_kmer.test_single_bases\r\n",
      "----------------------------------------------------------------------\r\n",
      "Traceback (most recent call last):\r\n",
      "  File \"/usr/local/lib/python2.7/dist-packages/nose/case.py\", line 197, in runTest\r\n",
      "    self.test(*self.arg)\r\n",
      "  File \"/media/martin/exports/Dropbox/projects/course_notebooks/eg_ap/test_kmer.py\", line 26, in test_single_bases\r\n",
      "    assert_equal(find_common_kmers('aattggcc', 1, 2) , ['a', 't', 'g', 'c'])\r\n",
      "AssertionError: Lists differ: ['a', 'c', 't', 'g'] != ['a', 't', 'g', 'c']\r\n",
      "\r\n",
      "First differing element 1:\r\n",
      "c\r\n",
      "t\r\n",
      "\r\n",
      "- ['a', 'c', 't', 'g']\r\n",
      "?       -----\r\n",
      "\r\n",
      "+ ['a', 't', 'g', 'c']\r\n",
      "?               +++++\r\n",
      "\r\n",
      "\r\n",
      "======================================================================\r\n",
      "FAIL: test_kmer.test_long_sequence\r\n",
      "----------------------------------------------------------------------\r\n",
      "Traceback (most recent call last):\r\n",
      "  File \"/usr/local/lib/python2.7/dist-packages/nose/case.py\", line 197, in runTest\r\n",
      "    self.test(*self.arg)\r\n",
      "  File \"/media/martin/exports/Dropbox/projects/course_notebooks/eg_ap/test_kmer.py\", line 32, in test_long_sequence\r\n",
      "    assert_equal(find_common_kmers('ctagctgctcgtgactgtcagtgtacg', 2, 4),  ['ct', 'tg', 'gt'])\r\n",
      "AssertionError: Lists differ: ['gt', 'tg', 'ct'] != ['ct', 'tg', 'gt']\r\n",
      "\r\n",
      "First differing element 0:\r\n",
      "gt\r\n",
      "ct\r\n",
      "\r\n",
      "- ['gt', 'tg', 'ct']\r\n",
      "?   ^           ^\r\n",
      "\r\n",
      "+ ['ct', 'tg', 'gt']\r\n",
      "?   ^           ^\r\n",
      "\r\n",
      "\r\n",
      "======================================================================\r\n",
      "FAIL: test_kmer.test_long_sequence_4mers\r\n",
      "----------------------------------------------------------------------\r\n",
      "Traceback (most recent call last):\r\n",
      "  File \"/usr/local/lib/python2.7/dist-packages/nose/case.py\", line 197, in runTest\r\n",
      "    self.test(*self.arg)\r\n",
      "  File \"/media/martin/exports/Dropbox/projects/course_notebooks/eg_ap/test_kmer.py\", line 35, in test_long_sequence_4mers\r\n",
      "    assert_equal(find_common_kmers('cccaaaacccaaaacccaaaacccaaaa',4, 4) , ['ccca', 'ccaa', 'caaa', 'aaaa'])\r\n",
      "AssertionError: Lists differ: ['caaa', 'aaaa', 'ccca', 'ccaa... != ['ccca', 'ccaa', 'caaa', 'aaaa...\r\n",
      "\r\n",
      "First differing element 0:\r\n",
      "caaa\r\n",
      "ccca\r\n",
      "\r\n",
      "- ['caaa', 'aaaa', 'ccca', 'ccaa']\r\n",
      "+ ['ccca', 'ccaa', 'caaa', 'aaaa']\r\n",
      "\r\n",
      "----------------------------------------------------------------------\r\n",
      "Ran 8 tests in 0.004s\r\n",
      "\r\n",
      "FAILED (failures=3)\r\n"
     ]
    }
   ],
   "source": [
    "!nosetests"
   ]
  },
  {
   "cell_type": "markdown",
   "metadata": {},
   "source": [
    "As we know, this affects the order - which is easy to see from the tests. We could fix using `set()` as before, but `nose` has a special function for ignoring order:"
   ]
  },
  {
   "cell_type": "code",
   "execution_count": 72,
   "metadata": {
    "collapsed": false
   },
   "outputs": [],
   "source": [
    "from nose.tools import assert_items_equal\n",
    "\n",
    "def test_3mers(): \n",
    "    assert_items_equal(find_common_kmers('atgaatgcaaatga', 3, 3), ['atg'])\n",
    "\n",
    "def test_low_threshold(): \n",
    "    assert_items_equal(find_common_kmers('atgaatgc', 3, 2) , ['atg'])\n",
    "\n",
    "def test_single_bases(): \n",
    "    assert_items_equal(find_common_kmers('aattggcc', 1, 2) , ['a', 't', 'g', 'c']) \n",
    " \n",
    "def test_whole_sequence(): \n",
    "    assert_items_equal(find_common_kmers('tagctagtcg', 10, 1) , ['tagctagtcg']) \n",
    " \n",
    "def test_long_sequence(): \n",
    "    assert_items_equal(find_common_kmers('ctagctgctcgtgactgtcagtgtacg', 2, 4),  ['ct', 'tg', 'gt']) \n",
    " \n",
    "def test_long_sequence_4mers(): \n",
    "    assert_items_equal(find_common_kmers('cccaaaacccaaaacccaaaacccaaaa',4, 4) , ['ccca', 'ccaa', 'caaa', 'aaaa']) \n",
    " \n",
    "def test_zero_length_kmer(): \n",
    "    assert_items_equal(find_common_kmers('tagctagtcg', 0, 2) , []) \n",
    " \n",
    "def test_negative_length_kmer(): \n",
    "    assert_items_equal(find_common_kmers('tagctagtcg', -3, 2) , []) "
   ]
  },
  {
   "cell_type": "code",
   "execution_count": 74,
   "metadata": {
    "collapsed": false
   },
   "outputs": [
    {
     "name": "stdout",
     "output_type": "stream",
     "text": [
      "........\r\n",
      "----------------------------------------------------------------------\r\n",
      "Ran 8 tests in 0.003s\r\n",
      "\r\n",
      "OK\r\n"
     ]
    }
   ],
   "source": [
    "!nosetests"
   ]
  },
  {
   "cell_type": "markdown",
   "metadata": {},
   "source": [
    "###Setting up and tearing down\n",
    "\n",
    "For the situation where we need to set up for tests (like in our `filter_reads()`) use `with_setup()`:"
   ]
  },
  {
   "cell_type": "code",
   "execution_count": 75,
   "metadata": {
    "collapsed": true
   },
   "outputs": [],
   "source": [
    "from nose.tools import assert_equal \n",
    "from nose.tools import with_setup \n",
    " \n",
    "def filter_reads(reads, threshold): \n",
    "    for read in list(reads): \n",
    "        if read.count('N') >= threshold: \n",
    "            reads.remove(read) \n",
    " \n",
    "reads = [] \n",
    "def create_reads(): \n",
    "    global reads \n",
    "    reads = ['ATCGTAC', 'ACTGNTTACGT', 'ACTGNNTACTG'] \n",
    " \n",
    " \n",
    "@with_setup(create_reads) \n",
    "def test_threshold_one(): \n",
    "    filter_reads(reads, 1) \n",
    "    assert_equal(reads,  ['ATCGTAC']) "
   ]
  },
  {
   "cell_type": "markdown",
   "metadata": {},
   "source": [
    "This is clearer and easier to read. There's also a `teardown` argument if we need to tidy up after a test. "
   ]
  },
  {
   "cell_type": "markdown",
   "metadata": {},
   "source": [
    "###Different types of assertions\n",
    "\n",
    "We have seen `assert_equals` and `assert_items_equal`. There are others:\n",
    "\n",
    "- assert_true\n",
    "- assert_in  (is element in a list?)\n",
    "- assert_is_instance (check what class something is)\n",
    "- assert_regexp_matches (for strings)\n",
    "\n",
    "Why bother using these? more readable, and more helpful output. For example does a function return a valid base?"
   ]
  },
  {
   "cell_type": "code",
   "execution_count": 76,
   "metadata": {
    "collapsed": true
   },
   "outputs": [],
   "source": [
    "def foo():\n",
    "    return 'Q'"
   ]
  },
  {
   "cell_type": "code",
   "execution_count": 79,
   "metadata": {
    "collapsed": false
   },
   "outputs": [
    {
     "ename": "AssertionError",
     "evalue": "False != True",
     "output_type": "error",
     "traceback": [
      "\u001b[1;31m---------------------------------------------------------------------------\u001b[0m",
      "\u001b[1;31mAssertionError\u001b[0m                            Traceback (most recent call last)",
      "\u001b[1;32m<ipython-input-79-f59a2d7cb5aa>\u001b[0m in \u001b[0;36m<module>\u001b[1;34m()\u001b[0m\n\u001b[0;32m      1\u001b[0m \u001b[1;32mfrom\u001b[0m \u001b[0mnose\u001b[0m\u001b[1;33m.\u001b[0m\u001b[0mtools\u001b[0m \u001b[1;32mimport\u001b[0m \u001b[0massert_equals\u001b[0m\u001b[1;33m\u001b[0m\u001b[0m\n\u001b[1;32m----> 2\u001b[1;33m \u001b[0massert_equals\u001b[0m\u001b[1;33m(\u001b[0m\u001b[0mfoo\u001b[0m\u001b[1;33m(\u001b[0m\u001b[1;33m)\u001b[0m \u001b[1;32min\u001b[0m \u001b[1;33m[\u001b[0m\u001b[1;34m'A'\u001b[0m\u001b[1;33m,\u001b[0m \u001b[1;34m'T'\u001b[0m\u001b[1;33m,\u001b[0m \u001b[1;34m'G'\u001b[0m\u001b[1;33m,\u001b[0m \u001b[1;34m'C'\u001b[0m\u001b[1;33m]\u001b[0m\u001b[1;33m,\u001b[0m \u001b[0mTrue\u001b[0m\u001b[1;33m)\u001b[0m\u001b[1;33m\u001b[0m\u001b[0m\n\u001b[0m",
      "\u001b[1;32m/usr/lib/python2.7/unittest/case.pyc\u001b[0m in \u001b[0;36massertEqual\u001b[1;34m(self, first, second, msg)\u001b[0m\n\u001b[0;32m    513\u001b[0m         \"\"\"\n\u001b[0;32m    514\u001b[0m         \u001b[0massertion_func\u001b[0m \u001b[1;33m=\u001b[0m \u001b[0mself\u001b[0m\u001b[1;33m.\u001b[0m\u001b[0m_getAssertEqualityFunc\u001b[0m\u001b[1;33m(\u001b[0m\u001b[0mfirst\u001b[0m\u001b[1;33m,\u001b[0m \u001b[0msecond\u001b[0m\u001b[1;33m)\u001b[0m\u001b[1;33m\u001b[0m\u001b[0m\n\u001b[1;32m--> 515\u001b[1;33m         \u001b[0massertion_func\u001b[0m\u001b[1;33m(\u001b[0m\u001b[0mfirst\u001b[0m\u001b[1;33m,\u001b[0m \u001b[0msecond\u001b[0m\u001b[1;33m,\u001b[0m \u001b[0mmsg\u001b[0m\u001b[1;33m=\u001b[0m\u001b[0mmsg\u001b[0m\u001b[1;33m)\u001b[0m\u001b[1;33m\u001b[0m\u001b[0m\n\u001b[0m\u001b[0;32m    516\u001b[0m \u001b[1;33m\u001b[0m\u001b[0m\n\u001b[0;32m    517\u001b[0m     \u001b[1;32mdef\u001b[0m \u001b[0massertNotEqual\u001b[0m\u001b[1;33m(\u001b[0m\u001b[0mself\u001b[0m\u001b[1;33m,\u001b[0m \u001b[0mfirst\u001b[0m\u001b[1;33m,\u001b[0m \u001b[0msecond\u001b[0m\u001b[1;33m,\u001b[0m \u001b[0mmsg\u001b[0m\u001b[1;33m=\u001b[0m\u001b[0mNone\u001b[0m\u001b[1;33m)\u001b[0m\u001b[1;33m:\u001b[0m\u001b[1;33m\u001b[0m\u001b[0m\n",
      "\u001b[1;32m/usr/lib/python2.7/unittest/case.pyc\u001b[0m in \u001b[0;36m_baseAssertEqual\u001b[1;34m(self, first, second, msg)\u001b[0m\n\u001b[0;32m    506\u001b[0m             \u001b[0mstandardMsg\u001b[0m \u001b[1;33m=\u001b[0m \u001b[1;34m'%s != %s'\u001b[0m \u001b[1;33m%\u001b[0m \u001b[1;33m(\u001b[0m\u001b[0msafe_repr\u001b[0m\u001b[1;33m(\u001b[0m\u001b[0mfirst\u001b[0m\u001b[1;33m)\u001b[0m\u001b[1;33m,\u001b[0m \u001b[0msafe_repr\u001b[0m\u001b[1;33m(\u001b[0m\u001b[0msecond\u001b[0m\u001b[1;33m)\u001b[0m\u001b[1;33m)\u001b[0m\u001b[1;33m\u001b[0m\u001b[0m\n\u001b[0;32m    507\u001b[0m             \u001b[0mmsg\u001b[0m \u001b[1;33m=\u001b[0m \u001b[0mself\u001b[0m\u001b[1;33m.\u001b[0m\u001b[0m_formatMessage\u001b[0m\u001b[1;33m(\u001b[0m\u001b[0mmsg\u001b[0m\u001b[1;33m,\u001b[0m \u001b[0mstandardMsg\u001b[0m\u001b[1;33m)\u001b[0m\u001b[1;33m\u001b[0m\u001b[0m\n\u001b[1;32m--> 508\u001b[1;33m             \u001b[1;32mraise\u001b[0m \u001b[0mself\u001b[0m\u001b[1;33m.\u001b[0m\u001b[0mfailureException\u001b[0m\u001b[1;33m(\u001b[0m\u001b[0mmsg\u001b[0m\u001b[1;33m)\u001b[0m\u001b[1;33m\u001b[0m\u001b[0m\n\u001b[0m\u001b[0;32m    509\u001b[0m \u001b[1;33m\u001b[0m\u001b[0m\n\u001b[0;32m    510\u001b[0m     \u001b[1;32mdef\u001b[0m \u001b[0massertEqual\u001b[0m\u001b[1;33m(\u001b[0m\u001b[0mself\u001b[0m\u001b[1;33m,\u001b[0m \u001b[0mfirst\u001b[0m\u001b[1;33m,\u001b[0m \u001b[0msecond\u001b[0m\u001b[1;33m,\u001b[0m \u001b[0mmsg\u001b[0m\u001b[1;33m=\u001b[0m\u001b[0mNone\u001b[0m\u001b[1;33m)\u001b[0m\u001b[1;33m:\u001b[0m\u001b[1;33m\u001b[0m\u001b[0m\n",
      "\u001b[1;31mAssertionError\u001b[0m: False != True"
     ]
    }
   ],
   "source": [
    "from nose.tools import assert_equals\n",
    "assert_equals(foo() in ['A', 'T', 'G', 'C'], True)"
   ]
  },
  {
   "cell_type": "code",
   "execution_count": 82,
   "metadata": {
    "collapsed": false
   },
   "outputs": [
    {
     "ename": "AssertionError",
     "evalue": "False is not true",
     "output_type": "error",
     "traceback": [
      "\u001b[1;31m---------------------------------------------------------------------------\u001b[0m",
      "\u001b[1;31mAssertionError\u001b[0m                            Traceback (most recent call last)",
      "\u001b[1;32m<ipython-input-82-5dd1557c4208>\u001b[0m in \u001b[0;36m<module>\u001b[1;34m()\u001b[0m\n\u001b[0;32m      1\u001b[0m \u001b[1;32mfrom\u001b[0m \u001b[0mnose\u001b[0m\u001b[1;33m.\u001b[0m\u001b[0mtools\u001b[0m \u001b[1;32mimport\u001b[0m \u001b[0massert_true\u001b[0m\u001b[1;33m\u001b[0m\u001b[0m\n\u001b[1;32m----> 2\u001b[1;33m \u001b[0massert_true\u001b[0m\u001b[1;33m(\u001b[0m\u001b[0mfoo\u001b[0m\u001b[1;33m(\u001b[0m\u001b[1;33m)\u001b[0m \u001b[1;32min\u001b[0m \u001b[1;33m[\u001b[0m\u001b[1;34m'A'\u001b[0m\u001b[1;33m,\u001b[0m \u001b[1;34m'T'\u001b[0m\u001b[1;33m,\u001b[0m \u001b[1;34m'G'\u001b[0m\u001b[1;33m,\u001b[0m \u001b[1;34m'C'\u001b[0m\u001b[1;33m]\u001b[0m\u001b[1;33m)\u001b[0m\u001b[1;33m\u001b[0m\u001b[0m\n\u001b[0m",
      "\u001b[1;32m/usr/lib/python2.7/unittest/case.pyc\u001b[0m in \u001b[0;36massertTrue\u001b[1;34m(self, expr, msg)\u001b[0m\n\u001b[0;32m    422\u001b[0m         \u001b[1;32mif\u001b[0m \u001b[1;32mnot\u001b[0m \u001b[0mexpr\u001b[0m\u001b[1;33m:\u001b[0m\u001b[1;33m\u001b[0m\u001b[0m\n\u001b[0;32m    423\u001b[0m             \u001b[0mmsg\u001b[0m \u001b[1;33m=\u001b[0m \u001b[0mself\u001b[0m\u001b[1;33m.\u001b[0m\u001b[0m_formatMessage\u001b[0m\u001b[1;33m(\u001b[0m\u001b[0mmsg\u001b[0m\u001b[1;33m,\u001b[0m \u001b[1;34m\"%s is not true\"\u001b[0m \u001b[1;33m%\u001b[0m \u001b[0msafe_repr\u001b[0m\u001b[1;33m(\u001b[0m\u001b[0mexpr\u001b[0m\u001b[1;33m)\u001b[0m\u001b[1;33m)\u001b[0m\u001b[1;33m\u001b[0m\u001b[0m\n\u001b[1;32m--> 424\u001b[1;33m             \u001b[1;32mraise\u001b[0m \u001b[0mself\u001b[0m\u001b[1;33m.\u001b[0m\u001b[0mfailureException\u001b[0m\u001b[1;33m(\u001b[0m\u001b[0mmsg\u001b[0m\u001b[1;33m)\u001b[0m\u001b[1;33m\u001b[0m\u001b[0m\n\u001b[0m\u001b[0;32m    425\u001b[0m \u001b[1;33m\u001b[0m\u001b[0m\n\u001b[0;32m    426\u001b[0m     \u001b[1;32mdef\u001b[0m \u001b[0m_formatMessage\u001b[0m\u001b[1;33m(\u001b[0m\u001b[0mself\u001b[0m\u001b[1;33m,\u001b[0m \u001b[0mmsg\u001b[0m\u001b[1;33m,\u001b[0m \u001b[0mstandardMsg\u001b[0m\u001b[1;33m)\u001b[0m\u001b[1;33m:\u001b[0m\u001b[1;33m\u001b[0m\u001b[0m\n",
      "\u001b[1;31mAssertionError\u001b[0m: False is not true"
     ]
    }
   ],
   "source": [
    "from nose.tools import assert_true\n",
    "assert_true(foo() in ['A', 'T', 'G', 'C'])"
   ]
  },
  {
   "cell_type": "code",
   "execution_count": 84,
   "metadata": {
    "collapsed": false
   },
   "outputs": [
    {
     "ename": "AssertionError",
     "evalue": "'Q' not found in ['A', 'T', 'G', 'C']",
     "output_type": "error",
     "traceback": [
      "\u001b[1;31m---------------------------------------------------------------------------\u001b[0m",
      "\u001b[1;31mAssertionError\u001b[0m                            Traceback (most recent call last)",
      "\u001b[1;32m<ipython-input-84-d979554f324a>\u001b[0m in \u001b[0;36m<module>\u001b[1;34m()\u001b[0m\n\u001b[0;32m      1\u001b[0m \u001b[1;32mfrom\u001b[0m \u001b[0mnose\u001b[0m\u001b[1;33m.\u001b[0m\u001b[0mtools\u001b[0m \u001b[1;32mimport\u001b[0m \u001b[0massert_in\u001b[0m\u001b[1;33m\u001b[0m\u001b[0m\n\u001b[1;32m----> 2\u001b[1;33m \u001b[0massert_in\u001b[0m\u001b[1;33m(\u001b[0m\u001b[0mfoo\u001b[0m\u001b[1;33m(\u001b[0m\u001b[1;33m)\u001b[0m\u001b[1;33m,\u001b[0m \u001b[1;33m[\u001b[0m\u001b[1;34m'A'\u001b[0m\u001b[1;33m,\u001b[0m \u001b[1;34m'T'\u001b[0m\u001b[1;33m,\u001b[0m \u001b[1;34m'G'\u001b[0m\u001b[1;33m,\u001b[0m \u001b[1;34m'C'\u001b[0m\u001b[1;33m]\u001b[0m\u001b[1;33m)\u001b[0m\u001b[1;33m\u001b[0m\u001b[0m\n\u001b[0m",
      "\u001b[1;32m/usr/lib/python2.7/unittest/case.pyc\u001b[0m in \u001b[0;36massertIn\u001b[1;34m(self, member, container, msg)\u001b[0m\n\u001b[0;32m    803\u001b[0m             standardMsg = '%s not found in %s' % (safe_repr(member),\n\u001b[0;32m    804\u001b[0m                                                   safe_repr(container))\n\u001b[1;32m--> 805\u001b[1;33m             \u001b[0mself\u001b[0m\u001b[1;33m.\u001b[0m\u001b[0mfail\u001b[0m\u001b[1;33m(\u001b[0m\u001b[0mself\u001b[0m\u001b[1;33m.\u001b[0m\u001b[0m_formatMessage\u001b[0m\u001b[1;33m(\u001b[0m\u001b[0mmsg\u001b[0m\u001b[1;33m,\u001b[0m \u001b[0mstandardMsg\u001b[0m\u001b[1;33m)\u001b[0m\u001b[1;33m)\u001b[0m\u001b[1;33m\u001b[0m\u001b[0m\n\u001b[0m\u001b[0;32m    806\u001b[0m \u001b[1;33m\u001b[0m\u001b[0m\n\u001b[0;32m    807\u001b[0m     \u001b[1;32mdef\u001b[0m \u001b[0massertNotIn\u001b[0m\u001b[1;33m(\u001b[0m\u001b[0mself\u001b[0m\u001b[1;33m,\u001b[0m \u001b[0mmember\u001b[0m\u001b[1;33m,\u001b[0m \u001b[0mcontainer\u001b[0m\u001b[1;33m,\u001b[0m \u001b[0mmsg\u001b[0m\u001b[1;33m=\u001b[0m\u001b[0mNone\u001b[0m\u001b[1;33m)\u001b[0m\u001b[1;33m:\u001b[0m\u001b[1;33m\u001b[0m\u001b[0m\n",
      "\u001b[1;32m/usr/lib/python2.7/unittest/case.pyc\u001b[0m in \u001b[0;36mfail\u001b[1;34m(self, msg)\u001b[0m\n\u001b[0;32m    410\u001b[0m     \u001b[1;32mdef\u001b[0m \u001b[0mfail\u001b[0m\u001b[1;33m(\u001b[0m\u001b[0mself\u001b[0m\u001b[1;33m,\u001b[0m \u001b[0mmsg\u001b[0m\u001b[1;33m=\u001b[0m\u001b[0mNone\u001b[0m\u001b[1;33m)\u001b[0m\u001b[1;33m:\u001b[0m\u001b[1;33m\u001b[0m\u001b[0m\n\u001b[0;32m    411\u001b[0m         \u001b[1;34m\"\"\"Fail immediately, with the given message.\"\"\"\u001b[0m\u001b[1;33m\u001b[0m\u001b[0m\n\u001b[1;32m--> 412\u001b[1;33m         \u001b[1;32mraise\u001b[0m \u001b[0mself\u001b[0m\u001b[1;33m.\u001b[0m\u001b[0mfailureException\u001b[0m\u001b[1;33m(\u001b[0m\u001b[0mmsg\u001b[0m\u001b[1;33m)\u001b[0m\u001b[1;33m\u001b[0m\u001b[0m\n\u001b[0m\u001b[0;32m    413\u001b[0m \u001b[1;33m\u001b[0m\u001b[0m\n\u001b[0;32m    414\u001b[0m     \u001b[1;32mdef\u001b[0m \u001b[0massertFalse\u001b[0m\u001b[1;33m(\u001b[0m\u001b[0mself\u001b[0m\u001b[1;33m,\u001b[0m \u001b[0mexpr\u001b[0m\u001b[1;33m,\u001b[0m \u001b[0mmsg\u001b[0m\u001b[1;33m=\u001b[0m\u001b[0mNone\u001b[0m\u001b[1;33m)\u001b[0m\u001b[1;33m:\u001b[0m\u001b[1;33m\u001b[0m\u001b[0m\n",
      "\u001b[1;31mAssertionError\u001b[0m: 'Q' not found in ['A', 'T', 'G', 'C']"
     ]
    }
   ],
   "source": [
    "from nose.tools import assert_in\n",
    "assert_in(foo(), ['A', 'T', 'G', 'C'])"
   ]
  },
  {
   "cell_type": "markdown",
   "metadata": {},
   "source": [
    "###Testing numbers\n",
    "\n",
    "Floating point calculations in Python (and other languages) have limited accuracy:"
   ]
  },
  {
   "cell_type": "code",
   "execution_count": 86,
   "metadata": {
    "collapsed": false
   },
   "outputs": [
    {
     "data": {
      "text/plain": [
       "0.30000000000000004"
      ]
     },
     "execution_count": 86,
     "metadata": {},
     "output_type": "execute_result"
    }
   ],
   "source": [
    "0.1 + 0.2"
   ]
  },
  {
   "cell_type": "markdown",
   "metadata": {},
   "source": [
    "So we can end up with the following situation:"
   ]
  },
  {
   "cell_type": "code",
   "execution_count": 88,
   "metadata": {
    "collapsed": false
   },
   "outputs": [
    {
     "ename": "AssertionError",
     "evalue": "0.30000000000000004 != 0.3",
     "output_type": "error",
     "traceback": [
      "\u001b[1;31m---------------------------------------------------------------------------\u001b[0m",
      "\u001b[1;31mAssertionError\u001b[0m                            Traceback (most recent call last)",
      "\u001b[1;32m<ipython-input-88-b8e9afc1ecad>\u001b[0m in \u001b[0;36m<module>\u001b[1;34m()\u001b[0m\n\u001b[1;32m----> 1\u001b[1;33m \u001b[0massert_equal\u001b[0m\u001b[1;33m(\u001b[0m\u001b[1;36m0.1\u001b[0m \u001b[1;33m+\u001b[0m \u001b[1;36m0.2\u001b[0m\u001b[1;33m,\u001b[0m \u001b[1;36m0.3\u001b[0m\u001b[1;33m)\u001b[0m\u001b[1;33m\u001b[0m\u001b[0m\n\u001b[0m",
      "\u001b[1;32m/usr/lib/python2.7/unittest/case.pyc\u001b[0m in \u001b[0;36massertEqual\u001b[1;34m(self, first, second, msg)\u001b[0m\n\u001b[0;32m    513\u001b[0m         \"\"\"\n\u001b[0;32m    514\u001b[0m         \u001b[0massertion_func\u001b[0m \u001b[1;33m=\u001b[0m \u001b[0mself\u001b[0m\u001b[1;33m.\u001b[0m\u001b[0m_getAssertEqualityFunc\u001b[0m\u001b[1;33m(\u001b[0m\u001b[0mfirst\u001b[0m\u001b[1;33m,\u001b[0m \u001b[0msecond\u001b[0m\u001b[1;33m)\u001b[0m\u001b[1;33m\u001b[0m\u001b[0m\n\u001b[1;32m--> 515\u001b[1;33m         \u001b[0massertion_func\u001b[0m\u001b[1;33m(\u001b[0m\u001b[0mfirst\u001b[0m\u001b[1;33m,\u001b[0m \u001b[0msecond\u001b[0m\u001b[1;33m,\u001b[0m \u001b[0mmsg\u001b[0m\u001b[1;33m=\u001b[0m\u001b[0mmsg\u001b[0m\u001b[1;33m)\u001b[0m\u001b[1;33m\u001b[0m\u001b[0m\n\u001b[0m\u001b[0;32m    516\u001b[0m \u001b[1;33m\u001b[0m\u001b[0m\n\u001b[0;32m    517\u001b[0m     \u001b[1;32mdef\u001b[0m \u001b[0massertNotEqual\u001b[0m\u001b[1;33m(\u001b[0m\u001b[0mself\u001b[0m\u001b[1;33m,\u001b[0m \u001b[0mfirst\u001b[0m\u001b[1;33m,\u001b[0m \u001b[0msecond\u001b[0m\u001b[1;33m,\u001b[0m \u001b[0mmsg\u001b[0m\u001b[1;33m=\u001b[0m\u001b[0mNone\u001b[0m\u001b[1;33m)\u001b[0m\u001b[1;33m:\u001b[0m\u001b[1;33m\u001b[0m\u001b[0m\n",
      "\u001b[1;32m/usr/lib/python2.7/unittest/case.pyc\u001b[0m in \u001b[0;36m_baseAssertEqual\u001b[1;34m(self, first, second, msg)\u001b[0m\n\u001b[0;32m    506\u001b[0m             \u001b[0mstandardMsg\u001b[0m \u001b[1;33m=\u001b[0m \u001b[1;34m'%s != %s'\u001b[0m \u001b[1;33m%\u001b[0m \u001b[1;33m(\u001b[0m\u001b[0msafe_repr\u001b[0m\u001b[1;33m(\u001b[0m\u001b[0mfirst\u001b[0m\u001b[1;33m)\u001b[0m\u001b[1;33m,\u001b[0m \u001b[0msafe_repr\u001b[0m\u001b[1;33m(\u001b[0m\u001b[0msecond\u001b[0m\u001b[1;33m)\u001b[0m\u001b[1;33m)\u001b[0m\u001b[1;33m\u001b[0m\u001b[0m\n\u001b[0;32m    507\u001b[0m             \u001b[0mmsg\u001b[0m \u001b[1;33m=\u001b[0m \u001b[0mself\u001b[0m\u001b[1;33m.\u001b[0m\u001b[0m_formatMessage\u001b[0m\u001b[1;33m(\u001b[0m\u001b[0mmsg\u001b[0m\u001b[1;33m,\u001b[0m \u001b[0mstandardMsg\u001b[0m\u001b[1;33m)\u001b[0m\u001b[1;33m\u001b[0m\u001b[0m\n\u001b[1;32m--> 508\u001b[1;33m             \u001b[1;32mraise\u001b[0m \u001b[0mself\u001b[0m\u001b[1;33m.\u001b[0m\u001b[0mfailureException\u001b[0m\u001b[1;33m(\u001b[0m\u001b[0mmsg\u001b[0m\u001b[1;33m)\u001b[0m\u001b[1;33m\u001b[0m\u001b[0m\n\u001b[0m\u001b[0;32m    509\u001b[0m \u001b[1;33m\u001b[0m\u001b[0m\n\u001b[0;32m    510\u001b[0m     \u001b[1;32mdef\u001b[0m \u001b[0massertEqual\u001b[0m\u001b[1;33m(\u001b[0m\u001b[0mself\u001b[0m\u001b[1;33m,\u001b[0m \u001b[0mfirst\u001b[0m\u001b[1;33m,\u001b[0m \u001b[0msecond\u001b[0m\u001b[1;33m,\u001b[0m \u001b[0mmsg\u001b[0m\u001b[1;33m=\u001b[0m\u001b[0mNone\u001b[0m\u001b[1;33m)\u001b[0m\u001b[1;33m:\u001b[0m\u001b[1;33m\u001b[0m\u001b[0m\n",
      "\u001b[1;31mAssertionError\u001b[0m: 0.30000000000000004 != 0.3"
     ]
    }
   ],
   "source": [
    "assert_equal(0.1 + 0.2, 0.3)"
   ]
  },
  {
   "cell_type": "markdown",
   "metadata": {},
   "source": [
    "To avoid this, use `assert_almost_equal` for dealing with floating point numbers:"
   ]
  },
  {
   "cell_type": "code",
   "execution_count": 90,
   "metadata": {
    "collapsed": true
   },
   "outputs": [],
   "source": [
    "from nose.tools import assert_almost_equals\n",
    "assert_almost_equals(0.1 + 0.2, 0.3)"
   ]
  },
  {
   "cell_type": "markdown",
   "metadata": {},
   "source": [
    "###Testing exceptions\n",
    "\n",
    "If we add some error checking with exceptions to `find_common_kmers()`:"
   ]
  },
  {
   "cell_type": "code",
   "execution_count": 91,
   "metadata": {
    "collapsed": true
   },
   "outputs": [],
   "source": [
    "def find_common_kmers(dna, k, threshold):\n",
    "\n",
    "    if not isinstance(k, int):\n",
    "        raise TypeError(\"k-mer length must be an integer\")\n",
    "    if k < 1:\n",
    "        raise ValueError(\"k-mer length must be a positive integer\")\n",
    "    \n",
    "    result = []\n",
    "    \n",
    "    kmer2count = {}\n",
    "    for start in range(len(dna) + 1 - k):\n",
    "        kmer = dna[start:start+k]\n",
    "        old_count = kmer2count.get(kmer, 0)\n",
    "        kmer2count[kmer] = old_count + 1\n",
    "\n",
    "    \n",
    "    for kmer, count in kmer2count.items():\n",
    "        if count >= threshold:\n",
    "            result.append(kmer)\n",
    "   \n",
    "    return result"
   ]
  },
  {
   "cell_type": "markdown",
   "metadata": {},
   "source": [
    "how can we test it? "
   ]
  },
  {
   "cell_type": "code",
   "execution_count": 93,
   "metadata": {
    "collapsed": true
   },
   "outputs": [],
   "source": [
    "from nose.tools import assert_raises\n",
    "assert_raises(TypeError, find_common_kmers, \"atcgttactaac\", 1.5, 2)\n",
    "assert_raises(ValueError, find_common_kmers, \"atcgttcgctaac\", -2, 2)"
   ]
  },
  {
   "cell_type": "markdown",
   "metadata": {},
   "source": [
    "##Exercises"
   ]
  }
 ],
 "metadata": {
  "kernelspec": {
   "display_name": "Python 2",
   "language": "python",
   "name": "python2"
  },
  "language_info": {
   "codemirror_mode": {
    "name": "ipython",
    "version": 2
   },
   "file_extension": ".py",
   "mimetype": "text/x-python",
   "name": "python",
   "nbconvert_exporter": "python",
   "pygments_lexer": "ipython2",
   "version": "2.7.6"
  }
 },
 "nbformat": 4,
 "nbformat_minor": 0
}
