{
 "cells": [
  {
   "cell_type": "markdown",
   "metadata": {},
   "source": [
    "<h1 id=\"toctitle\">Lists and loops exercise solutions</h1>\n",
    "<ul id=\"toc\"/>"
   ]
  },
  {
   "cell_type": "markdown",
   "metadata": {},
   "source": [
    "##Processing DNA in a file\n",
    "\n",
    "First, just read each line and print to the screen:"
   ]
  },
  {
   "cell_type": "code",
   "execution_count": 1,
   "metadata": {
    "collapsed": false
   },
   "outputs": [
    {
     "name": "stdout",
     "output_type": "stream",
     "text": [
      "ATTCGATTATAAGCTCGATCGATCGATCGATCGATCGATCGATCGATCGATCGATC\n",
      "\n",
      "ATTCGATTATAAGCACTGATCGATCGATCGATCGATCGATGCTATCGTCGT\n",
      "\n",
      "ATTCGATTATAAGCATCGATCACGATCTATCGTACGTATGCATATCGATATCGATCGTAGTC\n",
      "\n",
      "ATTCGATTATAAGCACTATCGATGATCTAGCTACGATCGTAGCTGTA\n",
      "\n",
      "ATTCGATTATAAGCACTAGCTAGTCTCGATGCATGATCAGCTTAGCTGATGATGCTATGCA\n",
      "\n"
     ]
    }
   ],
   "source": [
    "file = open(\"input.txt\") \n",
    "for dna in file: \n",
    "    print(dna) "
   ]
  },
  {
   "cell_type": "markdown",
   "metadata": {},
   "source": [
    "Now we can grab the bit of the sequence from 15th base to the end:"
   ]
  },
  {
   "cell_type": "code",
   "execution_count": 2,
   "metadata": {
    "collapsed": false
   },
   "outputs": [
    {
     "name": "stdout",
     "output_type": "stream",
     "text": [
      "TCGATCGATCGATCGATCGATCGATCGATCGATCGATCGATC\n",
      "\n",
      "ACTGATCGATCGATCGATCGATCGATGCTATCGTCGT\n",
      "\n",
      "ATCGATCACGATCTATCGTACGTATGCATATCGATATCGATCGTAGTC\n",
      "\n",
      "ACTATCGATGATCTAGCTACGATCGTAGCTGTA\n",
      "\n",
      "ACTAGCTAGTCTCGATGCATGATCAGCTTAGCTGATGATGCTATGCA\n",
      "\n"
     ]
    }
   ],
   "source": [
    "file = open(\"input.txt\") \n",
    "for dna in file:\n",
    "    trimmed_dna = dna[14:] \n",
    "    print(trimmed_dna) "
   ]
  },
  {
   "cell_type": "markdown",
   "metadata": {},
   "source": [
    "Looks good, the printed sequences are definitely shorter!\n",
    "\n",
    "Now switch to writing to a file:"
   ]
  },
  {
   "cell_type": "code",
   "execution_count": 4,
   "metadata": {
    "collapsed": true
   },
   "outputs": [],
   "source": [
    "file = open(\"input.txt\") \n",
    "output = open(\"trimmed.txt\", \"w\") \n",
    "for dna in file: \n",
    "    trimmed_dna = dna[14:] \n",
    "    output.write(trimmed_dna) \n",
    "output.close()"
   ]
  },
  {
   "cell_type": "markdown",
   "metadata": {},
   "source": [
    "Notice where we open, write, and close - before, during, and after the loop.\n",
    "\n",
    "Add one more statement to print the length of the trimmed sequence to the screen:"
   ]
  },
  {
   "cell_type": "code",
   "execution_count": 5,
   "metadata": {
    "collapsed": false
   },
   "outputs": [
    {
     "name": "stdout",
     "output_type": "stream",
     "text": [
      "processed sequence with length 43\n",
      "processed sequence with length 38\n",
      "processed sequence with length 49\n",
      "processed sequence with length 34\n",
      "processed sequence with length 48\n"
     ]
    }
   ],
   "source": [
    "# open the input file \n",
    "file = open(\"input.txt\") \n",
    " \n",
    "# open the output file \n",
    "output = open(\"trimmed.txt\", \"w\") \n",
    " \n",
    "# go through the input file one line at a time \n",
    "for dna in file: \n",
    "\n",
    "    # get the substring from the 15th character to the end \n",
    "    trimmed_dna = dna[14:]\n",
    "\n",
    "    # print out the trimmed sequence\n",
    "    output.write(trimmed_dna)\n",
    "\n",
    "    # print out the length to the screen\n",
    "    print(\"processed sequence with length \" + str(len(trimmed_dna))) \n",
    "output.close()"
   ]
  },
  {
   "cell_type": "markdown",
   "metadata": {},
   "source": [
    "##Multiple exons from genomic DNA\n",
    "\n",
    "There are two files involved here - the DNA and the exon locations. Start with the locations:"
   ]
  },
  {
   "cell_type": "code",
   "execution_count": 7,
   "metadata": {
    "collapsed": false
   },
   "outputs": [
    {
     "name": "stdout",
     "output_type": "stream",
     "text": [
      "5,58\n",
      "\n",
      "72,133\n",
      "\n",
      "190,276\n",
      "\n",
      "340,398\n",
      "\n"
     ]
    }
   ],
   "source": [
    "exon_locations = open(\"exons.txt\") \n",
    "for line in exon_locations: \n",
    "    print(line) "
   ]
  },
  {
   "cell_type": "markdown",
   "metadata": {},
   "source": [
    "Use `split()` to turn each line into a list of two elements:"
   ]
  },
  {
   "cell_type": "code",
   "execution_count": 9,
   "metadata": {
    "collapsed": false
   },
   "outputs": [
    {
     "name": "stdout",
     "output_type": "stream",
     "text": [
      "['5', '58\\n']\n",
      "['72', '133\\n']\n",
      "['190', '276\\n']\n",
      "['340', '398\\n']\n"
     ]
    }
   ],
   "source": [
    "exon_locations = open(\"exons.txt\") \n",
    "for line in exon_locations: \n",
    "    positions = line.split(',') \n",
    "    print(positions) "
   ]
  },
  {
   "cell_type": "markdown",
   "metadata": {},
   "source": [
    "To make it easier to work with, let's assign the start and stop to variables:"
   ]
  },
  {
   "cell_type": "code",
   "execution_count": 10,
   "metadata": {
    "collapsed": false
   },
   "outputs": [
    {
     "name": "stdout",
     "output_type": "stream",
     "text": [
      "start is 5, stop is 58\n",
      "\n",
      "start is 72, stop is 133\n",
      "\n",
      "start is 190, stop is 276\n",
      "\n",
      "start is 340, stop is 398\n",
      "\n"
     ]
    }
   ],
   "source": [
    "exon_locations = open(\"exons.txt\") \n",
    "for line in exon_locations: \n",
    "    positions = line.split(',') \n",
    "    start = positions[0] \n",
    "    stop = positions[1] \n",
    "    print(\"start is \" + start + \", stop is \" + stop)"
   ]
  },
  {
   "cell_type": "markdown",
   "metadata": {},
   "source": [
    "Looks good. Next we tackle the DNA part: open and read the sequence, then use the start/stop positions to extract the exon:"
   ]
  },
  {
   "cell_type": "code",
   "execution_count": 15,
   "metadata": {
    "collapsed": false
   },
   "outputs": [
    {
     "ename": "TypeError",
     "evalue": "slice indices must be integers or None or have an __index__ method",
     "output_type": "error",
     "traceback": [
      "\u001b[1;31m---------------------------------------------------------------------------\u001b[0m",
      "\u001b[1;31mTypeError\u001b[0m                                 Traceback (most recent call last)",
      "\u001b[1;32m<ipython-input-15-4fdfd2098f8d>\u001b[0m in \u001b[0;36m<module>\u001b[1;34m()\u001b[0m\n\u001b[0;32m      5\u001b[0m     \u001b[0mstart\u001b[0m \u001b[1;33m=\u001b[0m \u001b[0mpositions\u001b[0m\u001b[1;33m[\u001b[0m\u001b[1;36m0\u001b[0m\u001b[1;33m]\u001b[0m\u001b[1;33m\u001b[0m\u001b[0m\n\u001b[0;32m      6\u001b[0m     \u001b[0mstop\u001b[0m \u001b[1;33m=\u001b[0m \u001b[0mpositions\u001b[0m\u001b[1;33m[\u001b[0m\u001b[1;36m1\u001b[0m\u001b[1;33m]\u001b[0m\u001b[1;33m\u001b[0m\u001b[0m\n\u001b[1;32m----> 7\u001b[1;33m     \u001b[0mexon\u001b[0m \u001b[1;33m=\u001b[0m \u001b[0mgenomic_dna\u001b[0m\u001b[1;33m[\u001b[0m\u001b[0mstart\u001b[0m\u001b[1;33m:\u001b[0m\u001b[0mstop\u001b[0m\u001b[1;33m]\u001b[0m\u001b[1;33m\u001b[0m\u001b[0m\n\u001b[0m\u001b[0;32m      8\u001b[0m     \u001b[1;32mprint\u001b[0m\u001b[1;33m(\u001b[0m\u001b[1;34m\"exon is: \"\u001b[0m \u001b[1;33m+\u001b[0m \u001b[0mexon\u001b[0m\u001b[1;33m)\u001b[0m\u001b[1;33m\u001b[0m\u001b[0m\n",
      "\u001b[1;31mTypeError\u001b[0m: slice indices must be integers or None or have an __index__ method"
     ]
    }
   ],
   "source": [
    "genomic_dna = open(\"genomic_dna2.txt\").read() \n",
    "exon_locations = open(\"exons.txt\") \n",
    "for line in exon_locations: \n",
    "    positions = line.split(',') \n",
    "    start = positions[0] \n",
    "    stop = positions[1] \n",
    "    exon = genomic_dna[start:stop] \n",
    "    print(\"exon is: \" + exon) "
   ]
  },
  {
   "cell_type": "code",
   "execution_count": null,
   "metadata": {
    "collapsed": true
   },
   "outputs": [],
   "source": []
  },
  {
   "cell_type": "markdown",
   "metadata": {},
   "source": [
    "Problem: when we split a string, the resulting elements of the list are strings. Look at the output from this:"
   ]
  },
  {
   "cell_type": "code",
   "execution_count": 12,
   "metadata": {
    "collapsed": false
   },
   "outputs": [
    {
     "data": {
      "text/plain": [
       "['123', '456', '789']"
      ]
     },
     "execution_count": 12,
     "metadata": {},
     "output_type": "execute_result"
    }
   ],
   "source": [
    "\"123,456,789\".split(',')"
   ]
  },
  {
   "cell_type": "markdown",
   "metadata": {},
   "source": [
    "and notice how the numbers are surrounded by quotes. We need to turn them into numbers with\n",
    "\n",
    "```python\n",
    "    start = int(positions[0]) \n",
    "    stop = int(positions[1]) \n",
    "```"
   ]
  },
  {
   "cell_type": "code",
   "execution_count": 16,
   "metadata": {
    "collapsed": false
   },
   "outputs": [
    {
     "name": "stdout",
     "output_type": "stream",
     "text": [
      "exon is: CGTACCGTCGACGATGCTACGATCGTCGATCGTAGTCGATCATCGATCGATCG\n",
      "exon is: CGATCGATCGATATCGATCGATATCATCGATGCATCGATCATCGATCGATCGATCGATCGA\n",
      "exon is: CGATCGATCGATCGTAGCTAGCTAGCTAGATCGATCATCATCGTAGCTAGCTCGACTAGCTACGTACGATCGATGCATCGATCGTA\n",
      "exon is: CGATCGATCGATCGATCGATCGATCGATCGATCGATCGATCGTAGCTAGCTACGATCG\n"
     ]
    }
   ],
   "source": [
    "genomic_dna = open(\"genomic_dna2.txt\").read() \n",
    "exon_locations = open(\"exons.txt\") \n",
    "for line in exon_locations: \n",
    "    positions = line.split(',') \n",
    "    start = int(positions[0]) \n",
    "    stop = int(positions[1])\n",
    "    exon = genomic_dna[start:stop] \n",
    "    print(\"exon is: \" + exon) "
   ]
  },
  {
   "cell_type": "markdown",
   "metadata": {},
   "source": [
    "OK. Next step - do something useful with the exons. We have to concatenate them all to make one long coding sequence. Because we are only dealing with a single exon at a time, we have to do it inside the loop. Here's the easiest way:"
   ]
  },
  {
   "cell_type": "code",
   "execution_count": 17,
   "metadata": {
    "collapsed": false
   },
   "outputs": [
    {
     "name": "stdout",
     "output_type": "stream",
     "text": [
      "coding sequence is : CGTACCGTCGACGATGCTACGATCGTCGATCGTAGTCGATCATCGATCGATCG\n",
      "coding sequence is : CGTACCGTCGACGATGCTACGATCGTCGATCGTAGTCGATCATCGATCGATCGCGATCGATCGATATCGATCGATATCATCGATGCATCGATCATCGATCGATCGATCGATCGA\n",
      "coding sequence is : CGTACCGTCGACGATGCTACGATCGTCGATCGTAGTCGATCATCGATCGATCGCGATCGATCGATATCGATCGATATCATCGATGCATCGATCATCGATCGATCGATCGATCGACGATCGATCGATCGTAGCTAGCTAGCTAGATCGATCATCATCGTAGCTAGCTCGACTAGCTACGTACGATCGATGCATCGATCGTA\n",
      "coding sequence is : CGTACCGTCGACGATGCTACGATCGTCGATCGTAGTCGATCATCGATCGATCGCGATCGATCGATATCGATCGATATCATCGATGCATCGATCATCGATCGATCGATCGATCGACGATCGATCGATCGTAGCTAGCTAGCTAGATCGATCATCATCGTAGCTAGCTCGACTAGCTACGTACGATCGATGCATCGATCGTACGATCGATCGATCGATCGATCGATCGATCGATCGATCGATCGTAGCTAGCTACGATCG\n"
     ]
    }
   ],
   "source": [
    "genomic_dna = open(\"genomic_dna2.txt\").read() \n",
    "exon_locations = open(\"exons.txt\") \n",
    "\n",
    "# create a new variable to hold the coding sequence\n",
    "# at first it is just an empty string\n",
    "coding_sequence = \"\" \n",
    "\n",
    "\n",
    "for line in exon_locations: \n",
    "    positions = line.split(',') \n",
    "    start = int(positions[0]) \n",
    "    stop = int(positions[1]) \n",
    "    exon = genomic_dna[start:stop] \n",
    "    \n",
    "    # take the original coding sequence,\n",
    "    # add the new exon on to the end, \n",
    "    # then store the result back in the coding sequence variable\n",
    "    coding_sequence = coding_sequence + exon \n",
    "    \n",
    "    \n",
    "    print(\"coding sequence is : \" + coding_sequence) "
   ]
  },
  {
   "cell_type": "markdown",
   "metadata": {},
   "source": [
    "Notice how the coding sequence gets longer each time round the loop as more exons are added to it. \n",
    "\n",
    "After the loop has finished we can write the coding sequence to a file. Final version:"
   ]
  },
  {
   "cell_type": "code",
   "execution_count": 19,
   "metadata": {
    "collapsed": true
   },
   "outputs": [],
   "source": [
    "# open the genomic dna file and read the contents \n",
    "genomic_dna = open(\"genomic_dna2.txt\").read() \n",
    " \n",
    "# open the exons locations file \n",
    "exon_locations = open(\"exons.txt\") \n",
    " \n",
    "# create a variable to hold the coding sequence \n",
    "coding_sequence = \"\" \n",
    " \n",
    "# go through each line in the exon locations file \n",
    "for line in exon_locations: \n",
    "\n",
    "    # split the line using a comma \n",
    "    positions = line.split(',') \n",
    "\n",
    "    # get the start and stop positions \n",
    "    start = int(positions[0]) \n",
    "    stop = int(positions[1]) \n",
    "\n",
    "    # extract the exon from the genomic dna \n",
    "    exon = genomic_dna[start:stop] \n",
    "\n",
    "    # append the exon to the end of the current coding sequence \n",
    "    coding_sequence = coding_sequence + exon \n",
    "\n",
    "# write the coding sequence to an output file \n",
    "output = open(\"coding_sequence.txt\", \"w\") \n",
    "output.write(coding_sequence) \n",
    "output.close() "
   ]
  },
  {
   "cell_type": "markdown",
   "metadata": {},
   "source": [
    "###Bonus exercise: sliding windows\n",
    "\n",
    "We can start by defining some variables: a DNA sequence and a window size."
   ]
  },
  {
   "cell_type": "code",
   "execution_count": 29,
   "metadata": {
    "collapsed": true
   },
   "outputs": [],
   "source": [
    "dna = \"aacgtcgat\"\n",
    "window_size = 4"
   ]
  },
  {
   "cell_type": "markdown",
   "metadata": {},
   "source": [
    "Let's get the first few windows manually:"
   ]
  },
  {
   "cell_type": "code",
   "execution_count": 30,
   "metadata": {
    "collapsed": false
   },
   "outputs": [
    {
     "name": "stdout",
     "output_type": "stream",
     "text": [
      "aacg\n",
      "acgt\n",
      "cgtc\n"
     ]
    }
   ],
   "source": [
    "window1 = dna[0:4]\n",
    "window2 = dna[1:5]\n",
    "window3 = dna[2:6]\n",
    "print(window1)\n",
    "print(window2)\n",
    "print(window3)"
   ]
  },
  {
   "cell_type": "markdown",
   "metadata": {},
   "source": [
    "You can see the pattern here:\n",
    "- the stop position of the window is always 4 more than the start (or whatever the window size is)\n",
    "- the start position increases by one each time\n",
    "\n",
    "So we can use `range()` to generate the list of start positions:"
   ]
  },
  {
   "cell_type": "code",
   "execution_count": 31,
   "metadata": {
    "collapsed": false
   },
   "outputs": [
    {
     "name": "stdout",
     "output_type": "stream",
     "text": [
      "[0, 1, 2, 3, 4, 5, 6, 7, 8]\n"
     ]
    }
   ],
   "source": [
    "start_positions = range(len(dna))\n",
    "print(start_positions)"
   ]
  },
  {
   "cell_type": "markdown",
   "metadata": {},
   "source": [
    "And now write a loop to get the window for each start position:"
   ]
  },
  {
   "cell_type": "code",
   "execution_count": 32,
   "metadata": {
    "collapsed": false
   },
   "outputs": [
    {
     "name": "stdout",
     "output_type": "stream",
     "text": [
      "aacg\n",
      "acgt\n",
      "cgtc\n",
      "gtcg\n",
      "tcga\n",
      "cgat\n",
      "gat\n",
      "at\n",
      "t\n"
     ]
    }
   ],
   "source": [
    "for start in range(len(dna)):\n",
    "    stop = start + window_size\n",
    "    window = dna[start:stop]\n",
    "    print window"
   ]
  },
  {
   "cell_type": "markdown",
   "metadata": {},
   "source": [
    "We can see what's going on even more clearly if we print some spaces at the start of the window to make it line up with the original sequence. Use `*` to repeat a string:"
   ]
  },
  {
   "cell_type": "code",
   "execution_count": 33,
   "metadata": {
    "collapsed": false
   },
   "outputs": [
    {
     "name": "stdout",
     "output_type": "stream",
     "text": [
      "aacgtcgat\n",
      "aacg\n",
      " acgt\n",
      "  cgtc\n",
      "   gtcg\n",
      "    tcga\n",
      "     cgat\n",
      "      gat\n",
      "       at\n",
      "        t\n"
     ]
    }
   ],
   "source": [
    "print(dna)\n",
    "for start in range(len(dna)):\n",
    "    stop = start + window_size\n",
    "    window = dna[start:stop]\n",
    "    print (' ' * start) + window"
   ]
  },
  {
   "cell_type": "markdown",
   "metadata": {},
   "source": [
    "Notice that we have some incomplete windows at the end. If we want to avoid this, we need to stop the `range()` while there are still enough bases at the end:"
   ]
  },
  {
   "cell_type": "code",
   "execution_count": 34,
   "metadata": {
    "collapsed": false
   },
   "outputs": [
    {
     "name": "stdout",
     "output_type": "stream",
     "text": [
      "aacgtcgat\n",
      "aacg\n",
      " acgt\n",
      "  cgtc\n",
      "   gtcg\n",
      "    tcga\n",
      "     cgat\n"
     ]
    }
   ],
   "source": [
    "print(dna)\n",
    "for start in range(len(dna) - window_size + 1):\n",
    "    stop = start + window_size\n",
    "    window = dna[start:stop]\n",
    "    print (' ' * start) + window"
   ]
  },
  {
   "cell_type": "markdown",
   "metadata": {},
   "source": [
    "Now that we have a loop to generate all the windows, it's easy to calculate their AT content (remember the first line!)"
   ]
  },
  {
   "cell_type": "code",
   "execution_count": 41,
   "metadata": {
    "collapsed": false
   },
   "outputs": [
    {
     "name": "stdout",
     "output_type": "stream",
     "text": [
      "(0, 'aacg', 0.5)\n",
      "(1, 'acgt', 0.5)\n",
      "(2, 'cgtc', 0.25)\n",
      "(3, 'gtcg', 0.25)\n",
      "(4, 'tcga', 0.5)\n",
      "(5, 'cgat', 0.5)\n"
     ]
    }
   ],
   "source": [
    "from __future__ import division\n",
    "for start in range(len(dna) - window_size + 1):\n",
    "    stop = start + window_size\n",
    "    window = dna[start:stop]\n",
    "    at = (window.count('a') + window.count('t')) / len(window)\n",
    "    print(start, window, at)"
   ]
  },
  {
   "cell_type": "code",
   "execution_count": null,
   "metadata": {
    "collapsed": true
   },
   "outputs": [],
   "source": []
  },
  {
   "cell_type": "markdown",
   "metadata": {},
   "source": [
    "If we want to include partial windows and the start and end, we just have to adjust the call to `range()` so that it starts with a negative number and ends at the length of the sequence. For the negative start positions we have to bump them up to zero:"
   ]
  },
  {
   "cell_type": "code",
   "execution_count": 43,
   "metadata": {
    "collapsed": false
   },
   "outputs": [
    {
     "name": "stdout",
     "output_type": "stream",
     "text": [
      "(0, 'a', 1.0)\n",
      "(0, 'aa', 1.0)\n",
      "(0, 'aac', 0.6666666666666666)\n",
      "(0, 'aacg', 0.5)\n",
      "(1, 'acgt', 0.5)\n",
      "(2, 'cgtc', 0.25)\n",
      "(3, 'gtcg', 0.25)\n",
      "(4, 'tcga', 0.5)\n",
      "(5, 'cgat', 0.5)\n",
      "(6, 'gat', 0.6666666666666666)\n",
      "(7, 'at', 1.0)\n",
      "(8, 't', 1.0)\n"
     ]
    }
   ],
   "source": [
    "from __future__ import division\n",
    "for start in range(1 - window_size, len(dna)):\n",
    "    stop = start + window_size\n",
    "    if start < 0:\n",
    "        start = 0\n",
    "    \n",
    "    \n",
    "    window = dna[start:stop]\n",
    "    at = (window.count('a') + window.count('t')) / len(window)\n",
    "    print(start,window,at)"
   ]
  },
  {
   "cell_type": "code",
   "execution_count": 2,
   "metadata": {
    "collapsed": false
   },
   "outputs": [
    {
     "data": {
      "application/javascript": [
       "\n",
       "function regentoc() {\n",
       "    document.getElementById(\"toc\").innerHTML = \"\";\n",
       "    var currenth2 = 0;\n",
       "    $(\"h2,h3\").not(\"#Contents\").each(function(mainIndex) {\n",
       "        el = $(this);\n",
       "        title = el.attr(\"id\");\n",
       "        text = el.html();\n",
       "        link = \"#\" + el.attr(\"id\");\n",
       "        if ( document.getElementById(title).tagName == \"H2\" ) {\n",
       "            currenth2 += 1;\n",
       "            newLine =\n",
       "                \"<li class='maintoc'>\" +\n",
       "                   \"<a href='\" + link + \"'>\" + text + \"</a>\" +\n",
       "                \"</li>\" +\n",
       "                \"<ul id='h2\" + currenth2 + \"'></ul>\";\n",
       "            document.getElementById(\"toc\").innerHTML += newLine;\n",
       "        } else if ( document.getElementById(title).tagName==\"H3\" ) {\n",
       "            h1list = document.getElementById(\"h2\"+currenth2);\n",
       "            newLine = \"<li class='subtoc'>\" + \"<a href='\" + link + \"'>\" + text + \"</a>\" + \"</li>\";\n",
       "            h1list.innerHTML += newLine;\n",
       "        }\n",
       "    });\n",
       "}\n",
       " \n",
       "setInterval(regentoc,1000);\n"
      ],
      "text/plain": [
       "<IPython.core.display.Javascript object>"
      ]
     },
     "execution_count": 2,
     "metadata": {},
     "output_type": "execute_result"
    }
   ],
   "source": [
    "# ignore this cell, it's for loading custom js code\n",
    "from IPython.core.display import Javascript\n",
    "Javascript(filename=\"custom.js\")"
   ]
  },
  {
   "cell_type": "code",
   "execution_count": 1,
   "metadata": {
    "collapsed": false
   },
   "outputs": [
    {
     "data": {
      "text/html": [
       "<style>\n",
       "div.output_text{\n",
       "        max-height:400px;\n",
       "        overflow:scroll;\n",
       "}\n",
       "\n",
       "div#notebook {\n",
       "  font-family: 'PT Serif' !important;\n",
       "} \n",
       "\n",
       "div.CodeMirror, div.output_area pre, div.output_wrapper, div.prompt {\n",
       "  font-family: 'Source Code Pro', monospace !important;\n",
       "}\n",
       "\n",
       ".output_text {\n",
       "  background-color: #f0f0f0;\n",
       "}\n",
       "\n",
       "\n",
       ".prompt { display: none; }\n",
       "div.output_subarea { max-width: calc(100%); }\n",
       "</style>\n",
       "\n"
      ],
      "text/plain": [
       "<IPython.core.display.HTML object>"
      ]
     },
     "execution_count": 1,
     "metadata": {},
     "output_type": "execute_result"
    }
   ],
   "source": [
    "# ignore this cell, it's for loading custom css code\n",
    "from IPython.core.display import HTML\n",
    "HTML(filename=\"custom.css\")"
   ]
  }
 ],
 "metadata": {
  "kernelspec": {
   "display_name": "Python 2",
   "language": "python",
   "name": "python2"
  },
  "language_info": {
   "codemirror_mode": {
    "name": "ipython",
    "version": 2
   },
   "file_extension": ".py",
   "mimetype": "text/x-python",
   "name": "python",
   "nbconvert_exporter": "python",
   "pygments_lexer": "ipython2",
   "version": "2.7.6"
  }
 },
 "nbformat": 4,
 "nbformat_minor": 0
}
