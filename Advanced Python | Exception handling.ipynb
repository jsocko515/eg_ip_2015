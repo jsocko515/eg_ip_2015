{
 "cells": [
  {
   "cell_type": "markdown",
   "metadata": {},
   "source": [
    "#Exception handling\n",
    "\n",
    "What can go wrong when we are writing code? Formatting errors:"
   ]
  },
  {
   "cell_type": "code",
   "execution_count": null,
   "metadata": {
    "collapsed": false
   },
   "outputs": [],
   "source": [
    "print(\"starting...\")\n",
    "for base in ['a', 't', 'g', 'c']:\n",
    "print(base)"
   ]
  },
  {
   "cell_type": "markdown",
   "metadata": {},
   "source": [
    "will prevent the code from running at all; Python can tell that something is wrong before it starts to execute. \n",
    "\n",
    "Things like type errors e.g. using an integer as a string:"
   ]
  },
  {
   "cell_type": "code",
   "execution_count": null,
   "metadata": {
    "collapsed": false
   },
   "outputs": [],
   "source": [
    "print(\"starting..\")\n",
    "print('abc' + 3)"
   ]
  },
  {
   "cell_type": "markdown",
   "metadata": {},
   "source": [
    "will cause the program to crash out when it reaches that point. \n",
    "\n",
    "Then there are bugs, which will silently give the wrong answer:"
   ]
  },
  {
   "cell_type": "code",
   "execution_count": null,
   "metadata": {
    "collapsed": false
   },
   "outputs": [],
   "source": [
    "dna = 'atctgcatattgcgtctgatg'\n",
    "a_count = dna.count('A') \n",
    "print(a_count)"
   ]
  },
  {
   "cell_type": "markdown",
   "metadata": {},
   "source": [
    "All these errors are intrinsic to the code and repeatable. \n",
    "\n",
    "Some types of errors are caused by the environment:"
   ]
  },
  {
   "cell_type": "code",
   "execution_count": null,
   "metadata": {
    "collapsed": false
   },
   "outputs": [],
   "source": [
    "o = open('missingfile.txt')"
   ]
  },
  {
   "cell_type": "markdown",
   "metadata": {},
   "source": [
    "When something bad like this happens it's called an **exception**. When writing code, we can decide what to do when an exception occurs.\n",
    "\n",
    "Warning: extended non-biological examples ahead. \n",
    "\n",
    "###Catching exceptions\n",
    "\n",
    "The default way to deal with exceptions is as above: do nothing and let Python print an error message. If we want to actually do something based on the exception, wrap the code that might cause the exception in a `try` block and put the exception-handling code in an `except` block. \n",
    "\n",
    "E.g. to print a more user-friendly message:"
   ]
  },
  {
   "cell_type": "code",
   "execution_count": null,
   "metadata": {
    "collapsed": false
   },
   "outputs": [],
   "source": [
    "try: \n",
    "    f = open('misssing.txt') \n",
    "    print('file contents: ' + f.read())\n",
    "except: \n",
    "    print(\"Sorry, couldn't find the file you asked for\") "
   ]
  },
  {
   "cell_type": "markdown",
   "metadata": {},
   "source": [
    "If the file is there, then lines 2 and 3 run. If the file is missing, then we jump straight from line 2 where the exepction is raised to line 5 inside the `except`. \n",
    "\n",
    "Because we have *handled* or *caught* the exception, the program continues running:"
   ]
  },
  {
   "cell_type": "code",
   "execution_count": null,
   "metadata": {
    "collapsed": false
   },
   "outputs": [],
   "source": [
    "try: \n",
    "    f = open('misssing.txt') \n",
    "    print('file contents: ' + f.read())\n",
    "except: \n",
    "    print(\"Sorry, couldn't find the file you asked for\") \n",
    "    \n",
    "print(\"still running!\")"
   ]
  },
  {
   "cell_type": "markdown",
   "metadata": {},
   "source": [
    "So we can take some action to recover e.g. ask the user to type in a different file name. \n",
    "\n",
    "Problem: the `except` block will catch any type of exception, not just `IOError`. What if there are two things that could go wrong?"
   ]
  },
  {
   "cell_type": "code",
   "execution_count": null,
   "metadata": {
    "collapsed": false
   },
   "outputs": [],
   "source": [
    "try: \n",
    "    f = open('my_file.txt') \n",
    "    my_number = int(f.read()) \n",
    "    print(my_number + 5) \n",
    "except: \n",
    "    print(\"sorry, couldn't find the file\") "
   ]
  },
  {
   "cell_type": "markdown",
   "metadata": {},
   "source": [
    "Actually, the file does exist, but it doesn't contain an integer:"
   ]
  },
  {
   "cell_type": "code",
   "execution_count": null,
   "metadata": {
    "collapsed": false
   },
   "outputs": [],
   "source": [
    "!cat my_file.txt"
   ]
  },
  {
   "cell_type": "markdown",
   "metadata": {},
   "source": [
    "The exception was thrown by the call to `int()`. Better to specify the type of exception to handle:"
   ]
  },
  {
   "cell_type": "code",
   "execution_count": null,
   "metadata": {
    "collapsed": false
   },
   "outputs": [],
   "source": [
    "try: \n",
    "    f = open('my_file.txt') \n",
    "    my_number = int(f.read()) \n",
    "    print(my_number + 5) \n",
    "except IOError: \n",
    "    print(\"sorry, couldn't find the file\") "
   ]
  },
  {
   "cell_type": "markdown",
   "metadata": {},
   "source": [
    "Or we can catch multiple different types of exceptions with multiple blocks:"
   ]
  },
  {
   "cell_type": "code",
   "execution_count": null,
   "metadata": {
    "collapsed": false
   },
   "outputs": [],
   "source": [
    "try: \n",
    "    f = open('my_file.txt') \n",
    "    my_number = int(f.read()) \n",
    "    print(my_number + 5) \n",
    "except IOError: \n",
    "    print(\"sorry, couldn't find the file\") \n",
    "    # fix the problem somehow...\n",
    "except ValueError: \n",
    "    print(\"sorry, couldn't parse the number\") \n",
    "    # fix the problem somehow..."
   ]
  },
  {
   "cell_type": "markdown",
   "metadata": {},
   "source": [
    "For multiple exception types, use a tuple:"
   ]
  },
  {
   "cell_type": "code",
   "execution_count": null,
   "metadata": {
    "collapsed": false
   },
   "outputs": [],
   "source": [
    "try: \n",
    "    f = open('my_file.txt') \n",
    "    my_number = int(f.read()) \n",
    "    print(my_number + 5) \n",
    "except (IOError, ValueError): \n",
    "    print(\"sorry, something went wrong\") "
   ]
  },
  {
   "cell_type": "markdown",
   "metadata": {},
   "source": [
    "####Getting exception information\n",
    "\n",
    "Exceptions are objects which we can access:"
   ]
  },
  {
   "cell_type": "code",
   "execution_count": null,
   "metadata": {
    "collapsed": false
   },
   "outputs": [],
   "source": [
    "try: \n",
    "    f = open('missing.txt') \n",
    "    my_number = int(f.read()) \n",
    "    print(my_number + 5) \n",
    "except IOError as ex: \n",
    "    print(\"sorry, couldn't open the file: \" + ex.strerror) \n",
    "except ValueError: \n",
    "    print(\"sorry, couldn't parse the number\") "
   ]
  },
  {
   "cell_type": "markdown",
   "metadata": {},
   "source": [
    "Now we get different error messages depending on the type of problem:\n",
    "- sorry, couldn't open the file: No such file or directory\n",
    "- sorry, couldn't open the file: Permission denied\n",
    "- sorry, couldn't open the file: Is a directory\n",
    "\n",
    "###More control over exception handling flow\n",
    "\n",
    "Where to put the line that prints the number (more generally: the code that relies on the lines that might raise an exception)? With the version above, `print(my_number + 5)` might also raise an `IOError`, so it's not a great idea to have it inside the `try` block. Could put it outside:"
   ]
  },
  {
   "cell_type": "code",
   "execution_count": null,
   "metadata": {
    "collapsed": false
   },
   "outputs": [],
   "source": [
    "try: \n",
    "    f = open('my_file.txt') \n",
    "    my_number = int(f.read()) \n",
    "except IOError as ex: \n",
    "    print(\"sorry, couldn't find the file: \" + ex.strerror) \n",
    "except ValueError as ex: \n",
    "    print(\"sorry, couldn't parse the number: \" +  ex.args[0]) \n",
    "print(my_number + 5) "
   ]
  },
  {
   "cell_type": "markdown",
   "metadata": {},
   "source": [
    "but there's no point trying to print the number if it hasn't been sucessfully read from the file. Solution: use an `else` block:"
   ]
  },
  {
   "cell_type": "code",
   "execution_count": null,
   "metadata": {
    "collapsed": false
   },
   "outputs": [],
   "source": [
    "try: \n",
    "    f = open('my_file.txt') \n",
    "    my_number = int(f.read()) \n",
    "except IOError as ex: \n",
    "    print(\"sorry, couldn't find the file: \" + ex.strerror) \n",
    "except ValueError as ex: \n",
    "    print(\"sorry, couldn't parse the number: \" +  ex.args[0]) \n",
    "else:\n",
    "    print(my_number + 5) "
   ]
  },
  {
   "cell_type": "markdown",
   "metadata": {},
   "source": [
    "`else` gets run if the `try` ran with no exceptions. \n",
    "\n",
    "What if there's code that needs to run regardless of whether there was an exception or not? Consider this:"
   ]
  },
  {
   "cell_type": "code",
   "execution_count": null,
   "metadata": {
    "collapsed": false
   },
   "outputs": [],
   "source": [
    "import os \n",
    "\n",
    "# write some temporary data to a file\n",
    "t = open('temp.txt', 'w') \n",
    "t.write('some important temporary text') \n",
    "t.close() \n",
    "\n",
    "# do some other processing\n",
    "f = open('my_file.txt') \n",
    "my_number = int(f.read()) \n",
    "print(my_number + 5) \n",
    "\n",
    "# delete the temporary file\n",
    "os.remove('temp.txt') "
   ]
  },
  {
   "cell_type": "markdown",
   "metadata": {},
   "source": [
    "When the exception is raised by `int()` the program exits and so the temp file does not get cleaned up. Where should we put `os.remove()` if we want to make sure it always runs? Not using `else`, because `else` only runs in the absence of errors. Also not at the end of the code:"
   ]
  },
  {
   "cell_type": "code",
   "execution_count": null,
   "metadata": {
    "collapsed": false
   },
   "outputs": [],
   "source": [
    "import os \n",
    "t = open('temp.txt', 'w') \n",
    "t.write('some important temporary text') \n",
    "t.close() \n",
    "try: \n",
    "    f = open('my_file.txt') \n",
    "    my_number = int(f.read()) \n",
    "    print(my_number + 5) \n",
    "except IOError as ex: \n",
    "    print(\"sorry, couldn't find the file: \" + ex.strerror) \n",
    "except ValueError as ex: \n",
    "    print(\"sorry, couldn't parse the number: \" +  ex.args[0]) \n",
    "\n",
    "os.remove('temp.txt')"
   ]
  },
  {
   "cell_type": "markdown",
   "metadata": {},
   "source": [
    "Because it won't run if an exception is raised inside the `try` but not caught (anything other than `IOError` or `ValueError`). Solution: `finally` blocks are always run:"
   ]
  },
  {
   "cell_type": "code",
   "execution_count": null,
   "metadata": {
    "collapsed": false
   },
   "outputs": [],
   "source": [
    "import os \n",
    "t = open('temp.txt', 'w') \n",
    "t.write('some important temporary text') \n",
    "t.close() \n",
    "try: \n",
    "    f = open('my_file.txt') \n",
    "    my_number = int(f.read()) \n",
    "    print(my_number + 5) \n",
    "except IOError as ex: \n",
    "    print(\"sorry, couldn't find the file: \" + ex.strerror) \n",
    "except ValueError as ex: \n",
    "    print(\"sorry, couldn't parse the number: \" +  ex.args[0]) \n",
    "finally: \n",
    "    os.remove('temp.txt')"
   ]
  },
  {
   "cell_type": "markdown",
   "metadata": {},
   "source": [
    "`finally` blocks are useful for doing clean up code (files, network connections, database connections, logging, etc.). \n",
    "\n",
    "###Summary of all exception handling features:"
   ]
  },
  {
   "cell_type": "code",
   "execution_count": null,
   "metadata": {
    "collapsed": false
   },
   "outputs": [],
   "source": [
    "try:\n",
    "    # code in here will be run until an exception is raised\n",
    "except ExceptionTypeOne:\n",
    "    # code in here will be run if an ExceptionTypeOne\n",
    "    # is raised in the try block\n",
    "except ExceptionTypeTwo:\n",
    "    # code in here will be run if an ExceptionTypeTwo \n",
    "    # is raised in the try block\n",
    "else:\n",
    "    # code in here will be run after the try block \n",
    "    # if it doesn't raise an exception\n",
    "finally:\n",
    "    # code in here will always be run"
   ]
  },
  {
   "cell_type": "markdown",
   "metadata": {},
   "source": [
    "##Context managers\n",
    "\n",
    "Some situations always call for `try/finally` e.g. file reading:"
   ]
  },
  {
   "cell_type": "code",
   "execution_count": null,
   "metadata": {
    "collapsed": false
   },
   "outputs": [],
   "source": [
    "f = open('somefile.txt')\n",
    "try:\n",
    "    # do something with f\n",
    "finally:\n",
    "    f.close()"
   ]
  },
  {
   "cell_type": "markdown",
   "metadata": {},
   "source": [
    "We always want to `close()` a fILe after we've opened it. Use a **context manager** to encapsulate this bit of logic:"
   ]
  },
  {
   "cell_type": "code",
   "execution_count": null,
   "metadata": {
    "collapsed": false
   },
   "outputs": [],
   "source": [
    "with open('somefile.txt') as f:\n",
    "    # do something with f"
   ]
  },
  {
   "cell_type": "markdown",
   "metadata": {},
   "source": [
    "This File example is by far the most common; we can also write our own. "
   ]
  },
  {
   "cell_type": "markdown",
   "metadata": {},
   "source": [
    "###Use with caution: nested `try` blocks\n",
    "\n",
    "What's wrong with this code:"
   ]
  },
  {
   "cell_type": "code",
   "execution_count": 27,
   "metadata": {
    "collapsed": false
   },
   "outputs": [
    {
     "name": "stdout",
     "output_type": "stream",
     "text": [
      "not an integer!\n"
     ]
    }
   ],
   "source": [
    "try: \n",
    "    f = open('my_file.txt') # this line might raise an IOError\n",
    "    my_number = int(f.read()) # this line might raise a ValueError\n",
    "except IOError: \n",
    "    print('cannot open file!') \n",
    "except ValueError: \n",
    "    print('not an integer!') \n",
    "finally: \n",
    "    f.close() "
   ]
  },
  {
   "cell_type": "markdown",
   "metadata": {},
   "source": [
    "We are attempting to use the file variable `f` inside the `finally` block to close the file, but `f` only exists in the scope of the `try` block, so it's not visible. Nesting two `try` blocks (for `open()` and `int()`) ensures that `f` remains in scope:"
   ]
  },
  {
   "cell_type": "code",
   "execution_count": 28,
   "metadata": {
    "collapsed": false
   },
   "outputs": [
    {
     "name": "stdout",
     "output_type": "stream",
     "text": [
      "not an integer!\n"
     ]
    }
   ],
   "source": [
    "try: \n",
    "    f = open('my_file.txt') \n",
    "    try: \n",
    "        my_number = int(f.read()) \n",
    "    except ValueError: \n",
    "        print('not an integer!') \n",
    "    finally: \n",
    "        f.close() \n",
    "except IOError: \n",
    "    print('cannot open file') "
   ]
  },
  {
   "cell_type": "markdown",
   "metadata": {},
   "source": [
    "Of course, for this example just use the File context manager. "
   ]
  },
  {
   "cell_type": "markdown",
   "metadata": {},
   "source": [
    "##The life of an exception\n",
    "\n",
    ">Exception bubble up\n",
    "\n",
    "What does that mean? If we have two functions:"
   ]
  },
  {
   "cell_type": "code",
   "execution_count": 30,
   "metadata": {
    "collapsed": false
   },
   "outputs": [
    {
     "name": "stdout",
     "output_type": "stream",
     "text": [
      "7\n"
     ]
    }
   ],
   "source": [
    "def function_one():\n",
    "    # do some processing...\n",
    "    return 5\n",
    "\n",
    "def function_two():\n",
    "    my_number = function_one()\n",
    "    return my_number + 2\n",
    "\n",
    "print(function_two())"
   ]
  },
  {
   "cell_type": "markdown",
   "metadata": {},
   "source": [
    "and `# do some processing` might raise an exception, we could catch and handle it as discussed:"
   ]
  },
  {
   "cell_type": "code",
   "execution_count": 32,
   "metadata": {
    "collapsed": false
   },
   "outputs": [
    {
     "name": "stdout",
     "output_type": "stream",
     "text": [
      "7\n"
     ]
    }
   ],
   "source": [
    "def function_one():\n",
    "    try:\n",
    "        # do some processing...\n",
    "        return 5\n",
    "    except SomeException:\n",
    "        print(\"Handling exception\")\n",
    "        # handle the exception...\n",
    "        \n",
    "def function_two():\n",
    "    my_number = function_one()\n",
    "    return my_number + 2\n",
    "\n",
    "print(function_two())"
   ]
  },
  {
   "cell_type": "markdown",
   "metadata": {},
   "source": [
    "but what happens if we don't? Answer: the exception gets passed *up the stack* to the function that called `function_one()` so we have a second chance to handle it: "
   ]
  },
  {
   "cell_type": "code",
   "execution_count": 34,
   "metadata": {
    "collapsed": false
   },
   "outputs": [
    {
     "name": "stdout",
     "output_type": "stream",
     "text": [
      "7\n"
     ]
    }
   ],
   "source": [
    "def function_one():\n",
    "    # do some processing...\n",
    "    return 5\n",
    "\n",
    "def function_two():\n",
    "    try:\n",
    "        my_number = function_one()\n",
    "        return my_number + 2\n",
    "    except SomeException:\n",
    "        print(\"Handling exception\")\n",
    "        # handle the exception...\n",
    "\n",
    "        \n",
    "print(function_two())"
   ]
  },
  {
   "cell_type": "markdown",
   "metadata": {},
   "source": [
    "and if we don't catch the exception in `function_two()` then it gets passed up again to the top level of code, so we have a third chance to catch and handle it:"
   ]
  },
  {
   "cell_type": "code",
   "execution_count": 35,
   "metadata": {
    "collapsed": false
   },
   "outputs": [
    {
     "name": "stdout",
     "output_type": "stream",
     "text": [
      "7\n"
     ]
    }
   ],
   "source": [
    "def function_one():\n",
    "    # do some processing...\n",
    "    return 5\n",
    "\n",
    "def function_two():\n",
    "    my_number = function_one()\n",
    "    return my_number + 2\n",
    "try:\n",
    "    print(function_two())\n",
    "except SomeException:\n",
    "    print(\"Handling exception\")\n",
    "    # handle the exception"
   ]
  },
  {
   "cell_type": "markdown",
   "metadata": {},
   "source": [
    "This is what we mean when we say that exceptions bubble up. Handle exceptions in the place where your program can do something about it. \n",
    "\n",
    "---\n",
    "\n",
    "##Raising exceptions\n",
    "\n",
    "An exception is a signal that something has gone wrong. As well as responding to these signals, our code can create them. To create an exception is simple:"
   ]
  },
  {
   "cell_type": "code",
   "execution_count": 36,
   "metadata": {
    "collapsed": false
   },
   "outputs": [
    {
     "ename": "ValueError",
     "evalue": "this is a description of the problem",
     "output_type": "error",
     "traceback": [
      "\u001b[1;31m---------------------------------------------------------------------------\u001b[0m",
      "\u001b[1;31mValueError\u001b[0m                                Traceback (most recent call last)",
      "\u001b[1;32m<ipython-input-36-8560be686f22>\u001b[0m in \u001b[0;36m<module>\u001b[1;34m()\u001b[0m\n\u001b[1;32m----> 1\u001b[1;33m \u001b[1;32mraise\u001b[0m \u001b[0mValueError\u001b[0m\u001b[1;33m(\u001b[0m\u001b[1;34m\"this is a description of the problem\"\u001b[0m\u001b[1;33m)\u001b[0m\u001b[1;33m\u001b[0m\u001b[0m\n\u001b[0m",
      "\u001b[1;31mValueError\u001b[0m: this is a description of the problem"
     ]
    }
   ],
   "source": [
    "raise ValueError(\"this is a description of the problem\")"
   ]
  },
  {
   "cell_type": "markdown",
   "metadata": {},
   "source": [
    "An example in context will be more useful. Here's a familiar function:"
   ]
  },
  {
   "cell_type": "code",
   "execution_count": 37,
   "metadata": {
    "collapsed": true
   },
   "outputs": [],
   "source": [
    "def get_at_content(dna): \n",
    "    length = len(dna) \n",
    "    a_count = dna.count('A') \n",
    "    t_count = dna.count('T') \n",
    "    at_content = (a_count + t_count) / length \n",
    "    return at_content "
   ]
  },
  {
   "cell_type": "markdown",
   "metadata": {},
   "source": [
    "that can only handle AGCT bases. Let's give it some error checking:"
   ]
  },
  {
   "cell_type": "code",
   "execution_count": 43,
   "metadata": {
    "collapsed": false
   },
   "outputs": [
    {
     "name": "stdout",
     "output_type": "stream",
     "text": [
      "0.55\n"
     ]
    },
    {
     "ename": "ValueError",
     "evalue": "Sequence cannot contain non-ATGC bases",
     "output_type": "error",
     "traceback": [
      "\u001b[1;31m---------------------------------------------------------------------------\u001b[0m",
      "\u001b[1;31mValueError\u001b[0m                                Traceback (most recent call last)",
      "\u001b[1;32m<ipython-input-43-c93635b30f78>\u001b[0m in \u001b[0;36m<module>\u001b[1;34m()\u001b[0m\n\u001b[0;32m     11\u001b[0m \u001b[1;33m\u001b[0m\u001b[0m\n\u001b[0;32m     12\u001b[0m \u001b[1;32mprint\u001b[0m\u001b[1;33m(\u001b[0m\u001b[0mget_at_content\u001b[0m\u001b[1;33m(\u001b[0m\u001b[1;34m'ATCGCTGTTATCGACTGACT'\u001b[0m\u001b[1;33m)\u001b[0m\u001b[1;33m)\u001b[0m\u001b[1;33m\u001b[0m\u001b[0m\n\u001b[1;32m---> 13\u001b[1;33m \u001b[1;32mprint\u001b[0m\u001b[1;33m(\u001b[0m\u001b[0mget_at_content\u001b[0m\u001b[1;33m(\u001b[0m\u001b[1;34m'ATCGCTGANCGACTGATTCT'\u001b[0m\u001b[1;33m)\u001b[0m\u001b[1;33m)\u001b[0m\u001b[1;33m\u001b[0m\u001b[0m\n\u001b[0m",
      "\u001b[1;32m<ipython-input-43-c93635b30f78>\u001b[0m in \u001b[0;36mget_at_content\u001b[1;34m(dna)\u001b[0m\n\u001b[0;32m      3\u001b[0m \u001b[1;32mdef\u001b[0m \u001b[0mget_at_content\u001b[0m\u001b[1;33m(\u001b[0m\u001b[0mdna\u001b[0m\u001b[1;33m)\u001b[0m\u001b[1;33m:\u001b[0m\u001b[1;33m\u001b[0m\u001b[0m\n\u001b[0;32m      4\u001b[0m     \u001b[1;32mif\u001b[0m \u001b[0mre\u001b[0m\u001b[1;33m.\u001b[0m\u001b[0msearch\u001b[0m\u001b[1;33m(\u001b[0m\u001b[1;34mr'[^ATGC]'\u001b[0m\u001b[1;33m,\u001b[0m \u001b[0mdna\u001b[0m\u001b[1;33m)\u001b[0m\u001b[1;33m:\u001b[0m\u001b[1;33m\u001b[0m\u001b[0m\n\u001b[1;32m----> 5\u001b[1;33m         \u001b[1;32mraise\u001b[0m \u001b[0mValueError\u001b[0m\u001b[1;33m(\u001b[0m\u001b[1;34m'Sequence cannot contain non-ATGC bases'\u001b[0m\u001b[1;33m)\u001b[0m\u001b[1;33m\u001b[0m\u001b[0m\n\u001b[0m\u001b[0;32m      6\u001b[0m     \u001b[0mlength\u001b[0m \u001b[1;33m=\u001b[0m \u001b[0mlen\u001b[0m\u001b[1;33m(\u001b[0m\u001b[0mdna\u001b[0m\u001b[1;33m)\u001b[0m\u001b[1;33m\u001b[0m\u001b[0m\n\u001b[0;32m      7\u001b[0m     \u001b[0ma_count\u001b[0m \u001b[1;33m=\u001b[0m \u001b[0mdna\u001b[0m\u001b[1;33m.\u001b[0m\u001b[0mcount\u001b[0m\u001b[1;33m(\u001b[0m\u001b[1;34m'A'\u001b[0m\u001b[1;33m)\u001b[0m\u001b[1;33m\u001b[0m\u001b[0m\n",
      "\u001b[1;31mValueError\u001b[0m: Sequence cannot contain non-ATGC bases"
     ]
    }
   ],
   "source": [
    "from __future__ import division\n",
    "import re \n",
    "def get_at_content(dna): \n",
    "    if re.search(r'[^ATGC]', dna): \n",
    "        raise ValueError('Sequence cannot contain non-ATGC bases') \n",
    "    length = len(dna) \n",
    "    a_count = dna.count('A') \n",
    "    t_count = dna.count('T') \n",
    "    at_content = (a_count + t_count) / length \n",
    "    return at_content \n",
    "\n",
    "print(get_at_content('ATCGCTGTTATCGACTGACT'))\n",
    "print(get_at_content('ATCGCTGANCGACTGATTCT'))"
   ]
  },
  {
   "cell_type": "markdown",
   "metadata": {},
   "source": [
    "Now we can make use of this. For example, given a large collection of sequences we don't want a single \"bad\" sequence to cause the whole program to crash:"
   ]
  },
  {
   "cell_type": "code",
   "execution_count": 44,
   "metadata": {
    "collapsed": false
   },
   "outputs": [
    {
     "name": "stdout",
     "output_type": "stream",
     "text": [
      "AT content for ACGTACGTGAC is 0.454545454545\n"
     ]
    },
    {
     "ename": "ValueError",
     "evalue": "Sequence cannot contain non-ATGC bases",
     "output_type": "error",
     "traceback": [
      "\u001b[1;31m---------------------------------------------------------------------------\u001b[0m",
      "\u001b[1;31mValueError\u001b[0m                                Traceback (most recent call last)",
      "\u001b[1;32m<ipython-input-44-33404d147123>\u001b[0m in \u001b[0;36m<module>\u001b[1;34m()\u001b[0m\n\u001b[0;32m      1\u001b[0m \u001b[0msequences\u001b[0m \u001b[1;33m=\u001b[0m \u001b[1;33m[\u001b[0m\u001b[1;34m'ACGTACGTGAC'\u001b[0m\u001b[1;33m,\u001b[0m \u001b[1;34m'ACTGCTNAACT'\u001b[0m\u001b[1;33m,\u001b[0m \u001b[1;34m'ATGGCGCTAGC'\u001b[0m\u001b[1;33m]\u001b[0m\u001b[1;33m\u001b[0m\u001b[0m\n\u001b[0;32m      2\u001b[0m \u001b[1;32mfor\u001b[0m \u001b[0mseq\u001b[0m \u001b[1;32min\u001b[0m \u001b[0msequences\u001b[0m\u001b[1;33m:\u001b[0m\u001b[1;33m\u001b[0m\u001b[0m\n\u001b[1;32m----> 3\u001b[1;33m     \u001b[1;32mprint\u001b[0m\u001b[1;33m(\u001b[0m\u001b[1;34m'AT content for '\u001b[0m \u001b[1;33m+\u001b[0m \u001b[0mseq\u001b[0m \u001b[1;33m+\u001b[0m \u001b[1;34m' is '\u001b[0m \u001b[1;33m+\u001b[0m \u001b[0mstr\u001b[0m\u001b[1;33m(\u001b[0m\u001b[0mget_at_content\u001b[0m\u001b[1;33m(\u001b[0m\u001b[0mseq\u001b[0m\u001b[1;33m)\u001b[0m\u001b[1;33m)\u001b[0m\u001b[1;33m)\u001b[0m\u001b[1;33m\u001b[0m\u001b[0m\n\u001b[0m",
      "\u001b[1;32m<ipython-input-43-c93635b30f78>\u001b[0m in \u001b[0;36mget_at_content\u001b[1;34m(dna)\u001b[0m\n\u001b[0;32m      3\u001b[0m \u001b[1;32mdef\u001b[0m \u001b[0mget_at_content\u001b[0m\u001b[1;33m(\u001b[0m\u001b[0mdna\u001b[0m\u001b[1;33m)\u001b[0m\u001b[1;33m:\u001b[0m\u001b[1;33m\u001b[0m\u001b[0m\n\u001b[0;32m      4\u001b[0m     \u001b[1;32mif\u001b[0m \u001b[0mre\u001b[0m\u001b[1;33m.\u001b[0m\u001b[0msearch\u001b[0m\u001b[1;33m(\u001b[0m\u001b[1;34mr'[^ATGC]'\u001b[0m\u001b[1;33m,\u001b[0m \u001b[0mdna\u001b[0m\u001b[1;33m)\u001b[0m\u001b[1;33m:\u001b[0m\u001b[1;33m\u001b[0m\u001b[0m\n\u001b[1;32m----> 5\u001b[1;33m         \u001b[1;32mraise\u001b[0m \u001b[0mValueError\u001b[0m\u001b[1;33m(\u001b[0m\u001b[1;34m'Sequence cannot contain non-ATGC bases'\u001b[0m\u001b[1;33m)\u001b[0m\u001b[1;33m\u001b[0m\u001b[0m\n\u001b[0m\u001b[0;32m      6\u001b[0m     \u001b[0mlength\u001b[0m \u001b[1;33m=\u001b[0m \u001b[0mlen\u001b[0m\u001b[1;33m(\u001b[0m\u001b[0mdna\u001b[0m\u001b[1;33m)\u001b[0m\u001b[1;33m\u001b[0m\u001b[0m\n\u001b[0;32m      7\u001b[0m     \u001b[0ma_count\u001b[0m \u001b[1;33m=\u001b[0m \u001b[0mdna\u001b[0m\u001b[1;33m.\u001b[0m\u001b[0mcount\u001b[0m\u001b[1;33m(\u001b[0m\u001b[1;34m'A'\u001b[0m\u001b[1;33m)\u001b[0m\u001b[1;33m\u001b[0m\u001b[0m\n",
      "\u001b[1;31mValueError\u001b[0m: Sequence cannot contain non-ATGC bases"
     ]
    }
   ],
   "source": [
    "sequences = ['ACGTACGTGAC', 'ACTGCTNAACT', 'ATGGCGCTAGC'] \n",
    "for seq in sequences: \n",
    "    print('AT content for ' + seq + ' is ' + str(get_at_content(seq)))"
   ]
  },
  {
   "cell_type": "markdown",
   "metadata": {},
   "source": [
    "So we can wrap the call to `get_at_content()` in a `try` block:"
   ]
  },
  {
   "cell_type": "code",
   "execution_count": 48,
   "metadata": {
    "collapsed": false
   },
   "outputs": [
    {
     "name": "stdout",
     "output_type": "stream",
     "text": [
      "AT content for ACGTACGTGAC is 0.454545454545\n",
      "skipping invalid sequence ACTGCTNAACT\n",
      "AT content for ATGGCGCTAGC is 0.363636363636\n"
     ]
    }
   ],
   "source": [
    "for seq in sequences: \n",
    "    try: \n",
    "        print('AT content for ' + seq + ' is ' + str(get_at_content(seq)))\n",
    "    except ValueError: \n",
    "        print('skipping invalid sequence '+ seq) "
   ]
  },
  {
   "cell_type": "markdown",
   "metadata": {},
   "source": [
    "Problem: what happens if something else occurs which causes a `ValueError` (there are lots of things that can do this):"
   ]
  },
  {
   "cell_type": "code",
   "execution_count": 57,
   "metadata": {
    "collapsed": false
   },
   "outputs": [
    {
     "name": "stdout",
     "output_type": "stream",
     "text": [
      "skipping invalid sequence ACGTACGTGAC\n",
      "skipping invalid sequence ACTGCTNAACT\n",
      "skipping invalid sequence ATGGCGCTAGC\n"
     ]
    }
   ],
   "source": [
    "for seq in sequences: \n",
    "    try: \n",
    "        number = int('five')\n",
    "        print('AT content for ' + seq + ' is ' + str(get_at_content(seq)))\n",
    "    except ValueError as ex: \n",
    "        print('skipping invalid sequence '+ seq) "
   ]
  },
  {
   "cell_type": "markdown",
   "metadata": {},
   "source": [
    "We get incorrect messages. The problem is that `ValueError` is too generic. We could use the error message to distinguish:"
   ]
  },
  {
   "cell_type": "code",
   "execution_count": 59,
   "metadata": {
    "collapsed": false
   },
   "outputs": [
    {
     "name": "stdout",
     "output_type": "stream",
     "text": [
      "AT content for ACGTACGTGAC is 0.454545454545\n",
      "something went wrong with sequence ACGTACGTGAC\n",
      "sorry, couldn't parse the number: invalid literal for int() with base 10: 'five'\n",
      "something went wrong with sequence ACTGCTNAACT\n",
      "sorry, couldn't parse the number: Sequence cannot contain non-ATGC bases\n",
      "AT content for ATGGCGCTAGC is 0.363636363636\n",
      "something went wrong with sequence ATGGCGCTAGC\n",
      "sorry, couldn't parse the number: invalid literal for int() with base 10: 'five'\n"
     ]
    }
   ],
   "source": [
    "for seq in sequences: \n",
    "    try: \n",
    "        print('AT content for ' + seq + ' is ' + str(get_at_content(seq)))\n",
    "        number = int('five')\n",
    "    except ValueError as ex: \n",
    "        print('something went wrong with sequence '+ seq) \n",
    "        print(\"sorry, couldn't parse the number: \" +  ex.args[0]) "
   ]
  },
  {
   "cell_type": "markdown",
   "metadata": {},
   "source": [
    "But that doesn't really help us to recover from the error. We need a custom exception to signal a specific error:"
   ]
  },
  {
   "cell_type": "code",
   "execution_count": 60,
   "metadata": {
    "collapsed": true
   },
   "outputs": [],
   "source": [
    "class AmbiguousBaseError(Exception): \n",
    "    pass "
   ]
  },
  {
   "cell_type": "markdown",
   "metadata": {},
   "source": [
    "A custom exception type is surprisingly simple - just a class that inherits from `Exception`, it doesn't even need a body. We can start using it:"
   ]
  },
  {
   "cell_type": "code",
   "execution_count": 64,
   "metadata": {
    "collapsed": false
   },
   "outputs": [
    {
     "name": "stdout",
     "output_type": "stream",
     "text": [
      "AT content for ACGTACGTGAC is 0.454545454545\n",
      "skipping invalid sequence ACTGCTNAACT\n",
      "AT content for ATGGCGCTAGC is 0.363636363636\n"
     ]
    }
   ],
   "source": [
    "def get_at_content(dna): \n",
    "    if re.search(r'[^ATGC]', dna): \n",
    "        raise AmbiguousBaseError('Sequence cannot contain non-ATGC bases') \n",
    "    length = len(dna) \n",
    "    a_count = dna.count('A') \n",
    "    t_count = dna.count('T') \n",
    "    at_content = (a_count + t_count) / length \n",
    "    return at_content \n",
    " \n",
    "sequences = ['ACGTACGTGAC', 'ACTGCTNAACT', 'ATGGCGCTAGC'] \n",
    "for seq in sequences: \n",
    "    try: \n",
    "        print('AT content for ' + seq + ' is ' + str(get_at_content(seq)))\n",
    "    except AmbiguousBaseError: \n",
    "        print('skipping invalid sequence '+ seq) "
   ]
  },
  {
   "cell_type": "markdown",
   "metadata": {},
   "source": [
    "Now we will only catch `AmbiguousBaseError`, any other exception can be dealt with separately. "
   ]
  },
  {
   "cell_type": "markdown",
   "metadata": {},
   "source": [
    "##Exercises\n",
    "\n",
    "###Responding to exceptions\n",
    "\n",
    "Here's a piece of code that reads a DNA sequence from a file and splits it up into a number of equal sized pieces. It asks the user to enter the name of the file and the number of pieces, calculates the length of each piece (by dividing the total length by the number of pieces), then uses a `range()` to print out each piece:"
   ]
  },
  {
   "cell_type": "code",
   "execution_count": null,
   "metadata": {
    "collapsed": false
   },
   "outputs": [],
   "source": [
    "# ask the user for the filename, open it and read the DNA sequence\n",
    "input_file = raw_input('enter filename:\\n') \n",
    "f = open(input_file) \n",
    "dna = f.read().rstrip(\"\\n\") \n",
    "\n",
    "# ask the user for the number of pieces and calculate the piece length\n",
    "pieces = int(raw_input('enter number of pieces:\\n')) \n",
    "piece_length = int(len(dna) / pieces) \n",
    "print('piece length is ' + str(piece_length)) \n",
    "\n",
    "# print out each piece of DNA in turn\n",
    "for start in range(0, len(dna)-piece_length+1, piece_length): \n",
    "    print(dna[start:start+piece_length]) "
   ]
  },
  {
   "cell_type": "markdown",
   "metadata": {},
   "source": [
    "As you will see if you play around with this code, it's quite easy to break it:\n",
    "- give a nonexisting file name\n",
    "- give zero for the number of pieces\n",
    "- give 'banana' for the number of pieces\n",
    "\n",
    "Here's the same code with error-checking:"
   ]
  },
  {
   "cell_type": "code",
   "execution_count": null,
   "metadata": {
    "collapsed": true
   },
   "outputs": [],
   "source": [
    "import os \n",
    "import sys \n",
    " \n",
    "# check for valid filename\n",
    "input_file = raw_input('enter filename:\\n') \n",
    "if not os.path.isfile(input_file): \n",
    "    sys.exit('not a valid filename') \n",
    " f = open(input_file) \n",
    "dna = f.read().rstrip(\"\\n\") \n",
    "\n",
    "# check for valid number\n",
    "pieces = raw_input('enter number of pieces:\\n') \n",
    "if not pieces.isdigit(): \n",
    "    sys.exit('not a valid number') \n",
    "\n",
    "# check that number is not zero or negative\n",
    "pieces = int(pieces) \n",
    "if pieces < 0: \n",
    "    sys.exit('number of pieces must be greater than zero') \n",
    "\n",
    "# do the processing\n",
    "piece_length = len(dna) / pieces \n",
    "print('piece length is ' + str(piece_length)) \n",
    "for start in range(0, len(dna)-piece_length+1, piece_length): \n",
    "    print(dna[start:start+piece_length]) "
   ]
  },
  {
   "cell_type": "markdown",
   "metadata": {},
   "source": [
    "Rewrite this code to use exceptions rather than ugly `if` statements. Hint: you can find out what type of exception each invalid input will raise by trying it using the original code.\n",
    "\n",
    "###Bonus exercise: Exceptions for the SequenceRecord class\n",
    "\n",
    "Take a look back at the classes that we designed for working with DNA and protein sequences in the chapter on object-oriented programming. Reminder:\n",
    "\n"
   ]
  },
  {
   "cell_type": "code",
   "execution_count": null,
   "metadata": {
    "collapsed": true
   },
   "outputs": [],
   "source": [
    "class DNARecord(object): \n",
    "    \n",
    "    def __init__(self, sequence, gene_name, species_name):\n",
    "        self.sequence = sequence\n",
    "        self.gene_name = gene_name\n",
    "        self.species_name = species_name"
   ]
  },
  {
   "cell_type": "markdown",
   "metadata": {},
   "source": [
    "The constructor has no error-checking, so there's nothing to stop us doing things like..."
   ]
  },
  {
   "cell_type": "code",
   "execution_count": null,
   "metadata": {
    "collapsed": true
   },
   "outputs": [],
   "source": [
    "# invalid bases in the sequence\n",
    "d = DNARecord('ATGYCNNCR', 'COX1', 'Homo sapiens')\n",
    "\n",
    "# an empty string for the gene name\n",
    "d = DNARecord('ATGCGGTGA', '', 'Homo sapiens')\n",
    "\n",
    "# an incorrectly-formatted species name\n",
    "d = DNARecord('ATGCGGTGA', 'COX1', 'homosapiens')\n",
    "\n",
    "# non-string properties\n",
    "d = DNARecord(3.1415, 42, -1)"
   ]
  },
  {
   "cell_type": "markdown",
   "metadata": {},
   "source": [
    "Add error-checking using exceptions to the class definition."
   ]
  },
  {
   "cell_type": "code",
   "execution_count": null,
   "metadata": {
    "collapsed": true
   },
   "outputs": [],
   "source": []
  }
 ],
 "metadata": {
  "kernelspec": {
   "display_name": "Python 2",
   "language": "python",
   "name": "python2"
  },
  "language_info": {
   "codemirror_mode": {
    "name": "ipython",
    "version": 2
   },
   "file_extension": ".py",
   "mimetype": "text/x-python",
   "name": "python",
   "nbconvert_exporter": "python",
   "pygments_lexer": "ipython2",
   "version": "2.7.6"
  }
 },
 "nbformat": 4,
 "nbformat_minor": 0
}
