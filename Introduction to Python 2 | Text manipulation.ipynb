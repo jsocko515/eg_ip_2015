{
 "cells": [
  {
   "cell_type": "markdown",
   "metadata": {},
   "source": [
    "<h1 id=\"toctitle\">Text manipulation</h1>\n",
    "<ul id=\"toc\"/>"
   ]
  },
  {
   "cell_type": "markdown",
   "metadata": {},
   "source": [
    "##Parts of code\n",
    "###Statements, functions, arguments\n",
    "Start with the very short Python program from the last session:"
   ]
  },
  {
   "cell_type": "code",
   "execution_count": 3,
   "metadata": {
    "collapsed": false
   },
   "outputs": [
    {
     "name": "stdout",
     "output_type": "stream",
     "text": [
      "Hello World\n"
     ]
    }
   ],
   "source": [
    "print(\"Hello World\")"
   ]
  },
  {
   "cell_type": "markdown",
   "metadata": {},
   "source": [
    "`print` is the name of a **function**.\n",
    "\n",
    "`\"Hello World\"` is the function **arguments**.\n",
    "\n",
    "The whole thing `print(\"Hello World\")` is a **statement** (one instruction).\n",
    "\n",
    "Things in quotes are strings (of characters) - either single or double is fine:"
   ]
  },
  {
   "cell_type": "code",
   "execution_count": 4,
   "metadata": {
    "collapsed": false
   },
   "outputs": [
    {
     "name": "stdout",
     "output_type": "stream",
     "text": [
      "Hello world\n"
     ]
    }
   ],
   "source": [
    "print(\"Hello world\")"
   ]
  },
  {
   "cell_type": "code",
   "execution_count": 5,
   "metadata": {
    "collapsed": false
   },
   "outputs": [
    {
     "name": "stdout",
     "output_type": "stream",
     "text": [
      "Hello world\n"
     ]
    }
   ],
   "source": [
    "print('Hello world')"
   ]
  },
  {
   "cell_type": "code",
   "execution_count": 6,
   "metadata": {
    "collapsed": false
   },
   "outputs": [
    {
     "name": "stdout",
     "output_type": "stream",
     "text": [
      "She said, 'Hello world'\n"
     ]
    }
   ],
   "source": [
    "print(\"She said, 'Hello world'\")"
   ]
  },
  {
   "cell_type": "markdown",
   "metadata": {},
   "source": [
    "###Comments\n",
    "To include a bit of text for humans to read, start with `#`. We call this a __comment__:"
   ]
  },
  {
   "cell_type": "code",
   "execution_count": 9,
   "metadata": {
    "collapsed": false
   },
   "outputs": [
    {
     "name": "stdout",
     "output_type": "stream",
     "text": [
      "Hello martin\n"
     ]
    }
   ],
   "source": [
    "# print a friendly greeting\n",
    "# print(\"Hello world\")\n",
    "print(\"Hello martin\")"
   ]
  },
  {
   "cell_type": "markdown",
   "metadata": {},
   "source": [
    "Some characters in Python have a special meaning: for example `\\n` means _start a new line_."
   ]
  },
  {
   "cell_type": "code",
   "execution_count": 10,
   "metadata": {
    "collapsed": false
   },
   "outputs": [
    {
     "name": "stdout",
     "output_type": "stream",
     "text": [
      "Hello\n",
      "world\n"
     ]
    }
   ],
   "source": [
    "# print the same greeting, over two lines\n",
    "print(\"Hello\\nworld\") "
   ]
  },
  {
   "cell_type": "markdown",
   "metadata": {},
   "source": [
    "###Variables\n",
    "To store a bit of text to use later, we use a __variable__:"
   ]
  },
  {
   "cell_type": "code",
   "execution_count": 12,
   "metadata": {
    "collapsed": false
   },
   "outputs": [
    {
     "name": "stdout",
     "output_type": "stream",
     "text": [
      "ATGCGTA\n",
      "TGGTCCA\n"
     ]
    }
   ],
   "source": [
    "# store a DNA sequence in the variable my_dna\n",
    "my_dna1 = \"ATGCGTA\"\n",
    "\n",
    "# now print the DNA sequence\n",
    "print(my_dna1)\n",
    "\n",
    "# change the value of my_dna\n",
    "my_dna2 = \"TGGTCCA\"\n",
    "\n",
    "# print it again\n",
    "print(my_dna2)"
   ]
  },
  {
   "cell_type": "markdown",
   "metadata": {},
   "source": [
    "Variable names can be whatever we want - this code is exactly the same as the previous one:"
   ]
  },
  {
   "cell_type": "code",
   "execution_count": 13,
   "metadata": {
    "collapsed": false
   },
   "outputs": [
    {
     "name": "stdout",
     "output_type": "stream",
     "text": [
      "ATGCGTA\n",
      "TGGTCCA\n"
     ]
    }
   ],
   "source": [
    "# store a DNA sequence in the variable banana\n",
    "banana = \"ATGCGTA\"\n",
    "\n",
    "# now print the DNA sequence\n",
    "print(banana)\n",
    "\n",
    "# change the value of banana\n",
    "banana = \"TGGTCCA\"\n",
    "\n",
    "# print it again\n",
    "print(banana)"
   ]
  },
  {
   "cell_type": "markdown",
   "metadata": {},
   "source": [
    "##Manipulating text (strings)\n",
    "###Concatenation\n",
    "We can join two strings together with `+`:"
   ]
  },
  {
   "cell_type": "code",
   "execution_count": 19,
   "metadata": {
    "collapsed": false
   },
   "outputs": [
    {
     "data": {
      "text/plain": [
       "24"
      ]
     },
     "execution_count": 19,
     "metadata": {},
     "output_type": "execute_result"
    }
   ],
   "source": [
    "\"AAXXXXTT\" + \"GGCC\"\n",
    "4 * 6"
   ]
  },
  {
   "cell_type": "markdown",
   "metadata": {},
   "source": [
    "__Important: anywhere we can use a string written with quotes, we can also use a variable that stores a string:__"
   ]
  },
  {
   "cell_type": "code",
   "execution_count": 20,
   "metadata": {
    "collapsed": false
   },
   "outputs": [
    {
     "data": {
      "text/plain": [
       "'AAAATGC'"
      ]
     },
     "execution_count": 20,
     "metadata": {},
     "output_type": "execute_result"
    }
   ],
   "source": [
    "upstream = \"AAA\"\n",
    "my_dna = upstream + \"ATGC\"\n",
    "my_dna"
   ]
  },
  {
   "cell_type": "code",
   "execution_count": 21,
   "metadata": {
    "collapsed": false
   },
   "outputs": [
    {
     "data": {
      "text/plain": [
       "'AAAATGCGGG'"
      ]
     },
     "execution_count": 21,
     "metadata": {},
     "output_type": "execute_result"
    }
   ],
   "source": [
    "upstream = \"AAA\"\n",
    "downstream = \"GGG\"\n",
    "my_dna = upstream + \"ATGC\" + downstream\n",
    "my_dna"
   ]
  },
  {
   "cell_type": "markdown",
   "metadata": {},
   "source": [
    "The result of concatenating two (or more) strings is also a string:"
   ]
  },
  {
   "cell_type": "code",
   "execution_count": 24,
   "metadata": {
    "collapsed": false
   },
   "outputs": [
    {
     "name": "stdout",
     "output_type": "stream",
     "text": [
      "Hello world\n"
     ]
    }
   ],
   "source": [
    "print(\"Hello\" + \" \" + \"world\")"
   ]
  },
  {
   "cell_type": "markdown",
   "metadata": {},
   "source": [
    "###Lengths\n",
    "\n",
    "To find the length of a string, use the `len()` function:"
   ]
  },
  {
   "cell_type": "code",
   "execution_count": 25,
   "metadata": {
    "collapsed": false
   },
   "outputs": [
    {
     "data": {
      "text/plain": [
       "4"
      ]
     },
     "execution_count": 25,
     "metadata": {},
     "output_type": "execute_result"
    }
   ],
   "source": [
    "len(\"AGTC\")"
   ]
  },
  {
   "cell_type": "markdown",
   "metadata": {},
   "source": [
    "What you need to know about `len()`:\n",
    "\n",
    "- `len()` is a function\n",
    "- it takes one argument\n",
    "- the argument has to be a string\n",
    "- it returns the length of the string\n",
    "- we have to do something with the returned value\n",
    "- __the length is a number, not a string!__\n",
    "\n",
    "Numbers and strings are different:"
   ]
  },
  {
   "cell_type": "code",
   "execution_count": 27,
   "metadata": {
    "collapsed": false
   },
   "outputs": [
    {
     "data": {
      "text/plain": [
       "4"
      ]
     },
     "execution_count": 27,
     "metadata": {},
     "output_type": "execute_result"
    }
   ],
   "source": [
    "2 + 2"
   ]
  },
  {
   "cell_type": "code",
   "execution_count": 26,
   "metadata": {
    "collapsed": false
   },
   "outputs": [
    {
     "data": {
      "text/plain": [
       "'abcdef'"
      ]
     },
     "execution_count": 26,
     "metadata": {},
     "output_type": "execute_result"
    }
   ],
   "source": [
    "\"abc\" + \"def\""
   ]
  },
  {
   "cell_type": "code",
   "execution_count": 30,
   "metadata": {
    "collapsed": false
   },
   "outputs": [
    {
     "ename": "TypeError",
     "evalue": "unsupported operand type(s) for +: 'int' and 'str'",
     "output_type": "error",
     "traceback": [
      "\u001b[1;31m---------------------------------------------------------------------------\u001b[0m",
      "\u001b[1;31mTypeError\u001b[0m                                 Traceback (most recent call last)",
      "\u001b[1;32m<ipython-input-30-093439028cde>\u001b[0m in \u001b[0;36m<module>\u001b[1;34m()\u001b[0m\n\u001b[1;32m----> 1\u001b[1;33m \u001b[1;36m2\u001b[0m \u001b[1;33m+\u001b[0m \u001b[1;34m\"abc\"\u001b[0m\u001b[1;33m\u001b[0m\u001b[0m\n\u001b[0m",
      "\u001b[1;31mTypeError\u001b[0m: unsupported operand type(s) for +: 'int' and 'str'"
     ]
    }
   ],
   "source": [
    "2 + \"abc\""
   ]
  },
  {
   "cell_type": "markdown",
   "metadata": {},
   "source": [
    "###Division is strange in Python\n",
    "\n",
    "By default, Python rounds decimal numbers down to the nearest whole number:"
   ]
  },
  {
   "cell_type": "code",
   "execution_count": 31,
   "metadata": {
    "collapsed": false
   },
   "outputs": [
    {
     "data": {
      "text/plain": [
       "3"
      ]
     },
     "execution_count": 31,
     "metadata": {},
     "output_type": "execute_result"
    }
   ],
   "source": [
    "10 / 3"
   ]
  },
  {
   "cell_type": "markdown",
   "metadata": {},
   "source": [
    "To make it behave properly, we need to include this line at the start of our programs:"
   ]
  },
  {
   "cell_type": "code",
   "execution_count": 33,
   "metadata": {
    "collapsed": true
   },
   "outputs": [],
   "source": [
    "from __future__ import division"
   ]
  },
  {
   "cell_type": "markdown",
   "metadata": {},
   "source": [
    "Notice that the word `future` is surrounded by __two__ underscores. \n",
    "\n",
    "Now division will give the correct answer:"
   ]
  },
  {
   "cell_type": "code",
   "execution_count": 34,
   "metadata": {
    "collapsed": false
   },
   "outputs": [
    {
     "data": {
      "text/plain": [
       "3.3333333333333335"
      ]
     },
     "execution_count": 34,
     "metadata": {},
     "output_type": "execute_result"
    }
   ],
   "source": [
    "10 / 3"
   ]
  },
  {
   "cell_type": "markdown",
   "metadata": {},
   "source": [
    "Remember to put this line at the start of all your programs!\n",
    "\n",
    "This has been fixed in Python 3. \n",
    "\n",
    "###Converting between numbers and strings\n",
    "\n",
    "`str()` will take a number and turn it into a string:"
   ]
  },
  {
   "cell_type": "code",
   "execution_count": 35,
   "metadata": {
    "collapsed": false
   },
   "outputs": [
    {
     "ename": "TypeError",
     "evalue": "unsupported operand type(s) for +: 'int' and 'str'",
     "output_type": "error",
     "traceback": [
      "\u001b[1;31m---------------------------------------------------------------------------\u001b[0m",
      "\u001b[1;31mTypeError\u001b[0m                                 Traceback (most recent call last)",
      "\u001b[1;32m<ipython-input-35-852e8952ee4e>\u001b[0m in \u001b[0;36m<module>\u001b[1;34m()\u001b[0m\n\u001b[1;32m----> 1\u001b[1;33m \u001b[1;36m4\u001b[0m \u001b[1;33m+\u001b[0m \u001b[1;34m\"abc\"\u001b[0m\u001b[1;33m\u001b[0m\u001b[0m\n\u001b[0m",
      "\u001b[1;31mTypeError\u001b[0m: unsupported operand type(s) for +: 'int' and 'str'"
     ]
    }
   ],
   "source": [
    "4 + \"abc\""
   ]
  },
  {
   "cell_type": "code",
   "execution_count": 36,
   "metadata": {
    "collapsed": false
   },
   "outputs": [
    {
     "data": {
      "text/plain": [
       "'4abc'"
      ]
     },
     "execution_count": 36,
     "metadata": {},
     "output_type": "execute_result"
    }
   ],
   "source": [
    "str(4) + \"abc\""
   ]
  },
  {
   "cell_type": "markdown",
   "metadata": {},
   "source": [
    "We often want to do this so that we can print a number:"
   ]
  },
  {
   "cell_type": "code",
   "execution_count": 39,
   "metadata": {
    "collapsed": false
   },
   "outputs": [
    {
     "name": "stdout",
     "output_type": "stream",
     "text": [
      "length of the DNA sequence is 8\n"
     ]
    }
   ],
   "source": [
    "my_dna = \"ATGCGAGT\"\n",
    "dna_length = len(my_dna)\n",
    "print(\"length of the DNA sequence is \" + str(dna_length))"
   ]
  },
  {
   "cell_type": "markdown",
   "metadata": {},
   "source": [
    "`int()` will take a string and turn it into a number:"
   ]
  },
  {
   "cell_type": "code",
   "execution_count": 40,
   "metadata": {
    "collapsed": false
   },
   "outputs": [
    {
     "ename": "TypeError",
     "evalue": "cannot concatenate 'str' and 'int' objects",
     "output_type": "error",
     "traceback": [
      "\u001b[1;31m---------------------------------------------------------------------------\u001b[0m",
      "\u001b[1;31mTypeError\u001b[0m                                 Traceback (most recent call last)",
      "\u001b[1;32m<ipython-input-40-604537da9995>\u001b[0m in \u001b[0;36m<module>\u001b[1;34m()\u001b[0m\n\u001b[1;32m----> 1\u001b[1;33m \u001b[1;34m\"6\"\u001b[0m \u001b[1;33m+\u001b[0m \u001b[1;36m7\u001b[0m\u001b[1;33m\u001b[0m\u001b[0m\n\u001b[0m",
      "\u001b[1;31mTypeError\u001b[0m: cannot concatenate 'str' and 'int' objects"
     ]
    }
   ],
   "source": [
    "\"6\" + 7"
   ]
  },
  {
   "cell_type": "code",
   "execution_count": 42,
   "metadata": {
    "collapsed": false
   },
   "outputs": [
    {
     "data": {
      "text/plain": [
       "13"
      ]
     },
     "execution_count": 42,
     "metadata": {},
     "output_type": "execute_result"
    }
   ],
   "source": [
    "int(\"6\") + 7\n",
    "6 + 7"
   ]
  },
  {
   "cell_type": "markdown",
   "metadata": {},
   "source": [
    "We will see later why this is useful.\n",
    "\n",
    "###Changing case\n",
    "\n",
    "To turn a string into lower case, use a __method__ called `lower()`:"
   ]
  },
  {
   "cell_type": "code",
   "execution_count": 47,
   "metadata": {
    "collapsed": false
   },
   "outputs": [
    {
     "name": "stdout",
     "output_type": "stream",
     "text": [
      "atgc\n"
     ]
    },
    {
     "data": {
      "text/plain": [
       "'abc4'"
      ]
     },
     "execution_count": 47,
     "metadata": {},
     "output_type": "execute_result"
    }
   ],
   "source": [
    "my_dna = \"ATGC\"\n",
    "# print my_dna in lower case\n",
    "print(my_dna.lower())\n",
    "\n",
    "\"ABC4\".lower()"
   ]
  },
  {
   "cell_type": "markdown",
   "metadata": {},
   "source": [
    "Look closely at how this works:\n",
    "\n",
    "- `lower()` is a __method__, not a __function__\n",
    "- we write the name of the variable first, then a dot, then the method name\n",
    "- `lower()` has no arguments\n",
    "- `lower()` only works on strings, not numbers\n",
    "- __`lower()` doesn't change the variable, it returns a lower case version__"
   ]
  },
  {
   "cell_type": "code",
   "execution_count": 48,
   "metadata": {
    "collapsed": false
   },
   "outputs": [
    {
     "name": "stdout",
     "output_type": "stream",
     "text": [
      "before: ATGC\n",
      "atgc\n",
      "after: ATGC\n"
     ]
    }
   ],
   "source": [
    "my_dna = \"ATGC\"\n",
    "\n",
    "# print the variable\n",
    "print(\"before: \" + my_dna)\n",
    "\n",
    "# run the lower method and store the result\n",
    "lowercase_dna = my_dna.lower()\n",
    "print(lowercase_dna)\n",
    "\n",
    "# print the variable again\n",
    "print(\"after: \" + my_dna)"
   ]
  },
  {
   "cell_type": "markdown",
   "metadata": {},
   "source": [
    "###Find and replace in strings\n",
    "\n",
    "Use the `replace()` method:"
   ]
  },
  {
   "cell_type": "code",
   "execution_count": 53,
   "metadata": {
    "collapsed": false
   },
   "outputs": [
    {
     "name": "stdout",
     "output_type": "stream",
     "text": [
      "vlspadktnv\n",
      "ylspadktny\n",
      "ymtpadktnv\n",
      "vlspadktnv\n"
     ]
    }
   ],
   "source": [
    "protein = \"vlspadktnv\"\n",
    "print(protein) \n",
    "\n",
    "# replace valine with tyrosine\n",
    "print(protein.replace(\"v\", \"y\"))\n",
    "\n",
    "# we can replace more than one character\n",
    "print(protein.replace(\"vls\", \"ymt\" ))\n",
    "\n",
    "# the original variable is not affected\n",
    "print(protein)"
   ]
  },
  {
   "cell_type": "markdown",
   "metadata": {},
   "source": [
    "###Extracting part of a string\n",
    "\n",
    "To get just part of a string, put square brackets after the variable name with the start and stop positions separated by a colon. \n",
    "\n",
    "We start counting at __zero__ rather than one.\n",
    "Positions are __inclusive__ at the start and __exclusive__ at the end.\n",
    "\n",
    "Get positions 3 to 5 of the protein:"
   ]
  },
  {
   "cell_type": "code",
   "execution_count": 54,
   "metadata": {
    "collapsed": false
   },
   "outputs": [
    {
     "data": {
      "text/plain": [
       "'pa'"
      ]
     },
     "execution_count": 54,
     "metadata": {},
     "output_type": "execute_result"
    }
   ],
   "source": [
    "protein = \"vlspadktnv\"\n",
    "protein[3:5]"
   ]
  },
  {
   "cell_type": "markdown",
   "metadata": {},
   "source": [
    "To go to the end of the string, just leave out the stop position:"
   ]
  },
  {
   "cell_type": "code",
   "execution_count": 58,
   "metadata": {
    "collapsed": false
   },
   "outputs": [
    {
     "data": {
      "text/plain": [
       "'dktnv'"
      ]
     },
     "execution_count": 58,
     "metadata": {},
     "output_type": "execute_result"
    }
   ],
   "source": [
    "protein[5:]"
   ]
  },
  {
   "cell_type": "markdown",
   "metadata": {},
   "source": [
    "###Counting substrings\n",
    "\n",
    "The `count()` method will tell you how many times a short string occurs inside a long one:"
   ]
  },
  {
   "cell_type": "code",
   "execution_count": 59,
   "metadata": {
    "collapsed": false
   },
   "outputs": [
    {
     "name": "stdout",
     "output_type": "stream",
     "text": [
      "valines: 2\n",
      "lsp: 1\n",
      "tryptophans: 0\n"
     ]
    }
   ],
   "source": [
    "protein = \"vlspadktnv\"\n",
    "# count amino acid residues\n",
    "valine_count = protein.count('v')\n",
    "lsp_count = protein.count('lsp')\n",
    "tryptophan_count = protein.count('w')\n",
    " \n",
    "# now print the counts\n",
    "print(\"valines: \" + str(valine_count ))\n",
    "print(\"lsp: \" + str(lsp_count ))\n",
    "print(\"tryptophans: \" + str(tryptophan_count ))"
   ]
  },
  {
   "cell_type": "markdown",
   "metadata": {},
   "source": [
    "###Finding positions of substrings\n",
    "\n",
    "The `find()` will tell you the position of a short string inside a long one:"
   ]
  },
  {
   "cell_type": "code",
   "execution_count": 64,
   "metadata": {
    "collapsed": false
   },
   "outputs": [
    {
     "name": "stdout",
     "output_type": "stream",
     "text": [
      "the number of prolines is 3\n",
      "6\n",
      "-1\n"
     ]
    }
   ],
   "source": [
    "protein = \"vlspadktnv\"\n",
    "print(\"the number of prolines is \" + str(protein.find('p' )))\n",
    "print(protein.find('kt' ))\n",
    "print(protein.find('w' ))"
   ]
  },
  {
   "cell_type": "code",
   "execution_count": 70,
   "metadata": {
    "collapsed": false
   },
   "outputs": [
    {
     "data": {
      "text/plain": [
       "-1"
      ]
     },
     "execution_count": 70,
     "metadata": {},
     "output_type": "execute_result"
    }
   ],
   "source": [
    "protein = \"vlspadktnv\"\n",
    "residue = \"v\"\n",
    "\n",
    "residue.find(protein)"
   ]
  },
  {
   "cell_type": "markdown",
   "metadata": {},
   "source": [
    "Remember:\n",
    "\n",
    "- we start counting fromn zero\n",
    "- if the short string isn't there, we get `-1`"
   ]
  },
  {
   "cell_type": "code",
   "execution_count": 71,
   "metadata": {
    "collapsed": false
   },
   "outputs": [
    {
     "ename": "TypeError",
     "evalue": "unsupported operand type(s) for -: 'str' and 'str'",
     "output_type": "error",
     "traceback": [
      "\u001b[1;31m---------------------------------------------------------------------------\u001b[0m",
      "\u001b[1;31mTypeError\u001b[0m                                 Traceback (most recent call last)",
      "\u001b[1;32m<ipython-input-71-ddfd906b8ce3>\u001b[0m in \u001b[0;36m<module>\u001b[1;34m()\u001b[0m\n\u001b[1;32m----> 1\u001b[1;33m \u001b[1;34m\"hello\"\u001b[0m \u001b[1;33m-\u001b[0m \u001b[1;34m\"o\"\u001b[0m\u001b[1;33m\u001b[0m\u001b[0m\n\u001b[0m",
      "\u001b[1;31mTypeError\u001b[0m: unsupported operand type(s) for -: 'str' and 'str'"
     ]
    }
   ],
   "source": [
    "\"hello\" - \"o\""
   ]
  },
  {
   "cell_type": "markdown",
   "metadata": {},
   "source": [
    "##Summary of all the things!\n",
    "\n",
    "- Functions\n",
    "    - `print()` for showing text on the screen\n",
    "    - `len()` for finding the length of a string\n",
    "    - `str()` for converting a number to a string\n",
    "    - `int()` for converting a string to a number\n",
    "- String methods\n",
    "    - `upper()` for changing to upper case\n",
    "    - `replace()` for changing parts of a string\n",
    "    - `count()` for counting substrings\n",
    "    - `find()` for locating substrings\n",
    "- Types of things\n",
    "    - strings are always surrounded by quotes\n",
    "    - numbers are always written without quotes\n",
    "- Other tools\n",
    "    - `+` can add numbers together (also `/`, `*` and `-`)\n",
    "    - `[1:2]` can get parts of a string\n",
    "    - `\\n` means start a new line\n",
    "- Parts of code\n",
    "    - function\n",
    "    - method\n",
    "    - arguments\n",
    "    - statement\n",
    "    - quotes\n",
    "    - comments\n",
    "    - variables"
   ]
  },
  {
   "cell_type": "markdown",
   "metadata": {},
   "source": [
    "---\n",
    "\n",
    "##Exercises\n",
    "\n",
    "###Calculating AT content\n",
    "\n",
    "Here's a short DNA sequence:\n",
    "\n",
    "`ACTGATCGATTACGTATAGTATTTGCTATCATACATATATATCGATGCGTTCAT`\n",
    "\n",
    "Write a program that will print out the AT content of this DNA sequence. Hint: you can use normal mathematical symbols like add (`+`), subtract (`-`), multiply (`*`), divide (`/`) and parentheses to carry out calculations on numbers in Python. \n",
    "\n",
    "###Complementing DNA\n",
    "\n",
    "Here's a short DNA sequence:\n",
    "\n",
    "`ACTGATCGATTACGTATAGTATTTGCTATCATACATATATATCGATGCGTTCAT`\n",
    "\n",
    "Write a program that will print the complement of this sequence. (__Not the reverse complement!__)"
   ]
  },
  {
   "cell_type": "markdown",
   "metadata": {},
   "source": [
    "###Restriction fragment lengths\n",
    "\n",
    "Here's a short DNA sequence:\n",
    "\n",
    "`ACTGATCGATTACGTATAGTAGAATTCTATCATACATATATATCGATGCGTTCAT`\n",
    "\n",
    "The sequence contains a recognition site for the _EcoRI_ restriction enzyme, which cuts at the motif `G*AATTC` (the position of the cut is indicated by an asterisk). Write a program which will calculate the size of the two fragments that will be produced when the DNA sequence is digested with _EcoRI_.\n",
    "\n",
    "###Splicing out introns\n",
    "\n",
    "Here's a short section of genomic DNA:\n",
    "\n",
    "`ATCGATCGATCGATCGACTGACTAGTCATAGCTATGCATGTAGCTACTCGATCGATCGATCGATCGATCGATCGATCGATCGATCATGCTATCATCGATCGATATCGATGCATCGACTACTAT`\n",
    "\n",
    "It comprises two exons and an intron. The first exon runs from the start of the sequence to the sixty-third character, and the second exon runs from the ninety-first character to the end of the sequence. Write a program that will print just the coding regions of the DNA sequence. \n",
    "\n",
    "Write a program that will calculate what percentage of the DNA sequence is coding.\n",
    "\n",
    "Write a program that will print out the original genomic DNA sequence with coding bases in uppercase and non-coding bases in lowercase. "
   ]
  },
  {
   "cell_type": "code",
   "execution_count": null,
   "metadata": {
    "collapsed": false
   },
   "outputs": [],
   "source": [
    "# ignore this cell, it's for loading custom js code\n",
    "from IPython.core.display import Javascript\n",
    "Javascript(filename=\"custom.js\")"
   ]
  },
  {
   "cell_type": "code",
   "execution_count": 15,
   "metadata": {
    "collapsed": false
   },
   "outputs": [
    {
     "data": {
      "text/html": [
       "<style>\n",
       "div.output_text{\n",
       "        max-height:400px;\n",
       "        overflow:scroll;\n",
       "}\n",
       "\n",
       "div#notebook {\n",
       "  font-family: 'PT Serif' !important;\n",
       "} \n",
       "\n",
       "div.CodeMirror, div.output_area pre, div.output_wrapper, div.prompt {\n",
       "  font-family: 'Source Code Pro', monospace !important;\n",
       "}\n",
       "\n",
       ".output_text {\n",
       "  background-color: #f0f0f0;\n",
       "}\n",
       "\n",
       "\n",
       ".prompt { display: none; }\n",
       "div.output_subarea { max-width: calc(100%); }\n",
       "</style>\n",
       "\n"
      ],
      "text/plain": [
       "<IPython.core.display.HTML object>"
      ]
     },
     "execution_count": 15,
     "metadata": {},
     "output_type": "execute_result"
    }
   ],
   "source": [
    "# ignore this cell, it's for loading custom css code\n",
    "from IPython.core.display import HTML\n",
    "HTML(filename=\"custom.css\")"
   ]
  }
 ],
 "metadata": {
  "kernelspec": {
   "display_name": "Python 2",
   "language": "python",
   "name": "python2"
  },
  "language_info": {
   "codemirror_mode": {
    "name": "ipython",
    "version": 2
   },
   "file_extension": ".py",
   "mimetype": "text/x-python",
   "name": "python",
   "nbconvert_exporter": "python",
   "pygments_lexer": "ipython2",
   "version": "2.7.6"
  }
 },
 "nbformat": 4,
 "nbformat_minor": 0
}
