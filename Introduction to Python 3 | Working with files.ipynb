{
 "cells": [
  {
   "cell_type": "markdown",
   "metadata": {},
   "source": [
    "<h1 id=\"toctitle\">Working with files</h1>\n",
    "<ul id=\"toc\"/>"
   ]
  },
  {
   "cell_type": "markdown",
   "metadata": {},
   "source": [
    "Files are important in bioinformatics. We have many file formats:\n",
    "\n",
    "- FASTA\n",
    "- GenBank\n",
    "- FASTQ\n",
    "- VCF\n",
    "- BlAST output\n",
    "- SAM\n",
    "\n",
    "Often, we need to take a file an tweak its format for existing tools (e.g. fussy FASTA headers).\n",
    "\n",
    "Other times we need to write a program that will either create input for, or accept output from, other tools.\n",
    "\n",
    "Today we will talk about:\n",
    "\n",
    "- reading text\n",
    "- processing lines in a file\n",
    "- creating new files\n",
    "- appending and writing data to files\n",
    "\n",
    "Later we will talk about:\n",
    "\n",
    "- renaming\n",
    "- moving\n",
    "- copying\n",
    "- deleting\n",
    "- doing stuff to each file in a folder\n",
    "\n",
    "__Important note__: for all the examples and exercises in this (and future) sessions you will need to download and unzip [the course files from here](https://github.com/mojones/eg_ip_2015/archive/gh-pages.zip). \n",
    "\n",
    "##Getting data from a file\n",
    "\n",
    "###Opening a file"
   ]
  },
  {
   "cell_type": "markdown",
   "metadata": {},
   "source": [
    "Getting data out of a file is a two step process: open then read."
   ]
  },
  {
   "cell_type": "code",
   "execution_count": 1,
   "metadata": {
    "collapsed": true
   },
   "outputs": [],
   "source": [
    "my_file = open(\"dna.txt\")"
   ]
  },
  {
   "cell_type": "markdown",
   "metadata": {},
   "source": [
    "`open()` is a function that takes on string argument - the name of the file - and returns a __File object__.\n",
    "\n",
    "File objects are a new type of data that represent a file on disk. They have useful methods, like strings (but unlike strings we can't really print them):"
   ]
  },
  {
   "cell_type": "code",
   "execution_count": 2,
   "metadata": {
    "collapsed": false
   },
   "outputs": [
    {
     "name": "stdout",
     "output_type": "stream",
     "text": [
      "<open file 'dna.txt', mode 'r' at 0x7fe246e364b0>\n"
     ]
    }
   ],
   "source": [
    "print(my_file)"
   ]
  },
  {
   "cell_type": "markdown",
   "metadata": {},
   "source": [
    "###Reading file contents\n",
    "\n",
    "`read()` is a File object method that returns the contents as a string. It has no arguments."
   ]
  },
  {
   "cell_type": "code",
   "execution_count": 3,
   "metadata": {
    "collapsed": false
   },
   "outputs": [
    {
     "name": "stdout",
     "output_type": "stream",
     "text": [
      "ACTGTACGTGCACTGATC\n",
      "\n"
     ]
    }
   ],
   "source": [
    "my_file = open(\"dna.txt\")\n",
    "print(my_file.read())"
   ]
  },
  {
   "cell_type": "markdown",
   "metadata": {},
   "source": [
    "Remember the special character `\\n`. Every line includes this new line character at the end. Remove it with the `rstrip()` method:"
   ]
  },
  {
   "cell_type": "code",
   "execution_count": 4,
   "metadata": {
    "collapsed": false
   },
   "outputs": [
    {
     "name": "stdout",
     "output_type": "stream",
     "text": [
      "ACTGTACGTGCACTGATC\n"
     ]
    }
   ],
   "source": [
    "my_file = open(\"dna.txt\")\n",
    "my_file_contents = my_file.read()\n",
    "# remove the newline from the end of the file contents\n",
    "my_dna = my_file_contents.rstrip(\"\\n\")\n",
    "print(my_dna)"
   ]
  },
  {
   "cell_type": "markdown",
   "metadata": {},
   "source": [
    "Notice how this version doesn't have the extra empty line.\n",
    "\n",
    "##Writing to files\n",
    "\n",
    "To write to a file we have to use a second argument to open:"
   ]
  },
  {
   "cell_type": "code",
   "execution_count": 5,
   "metadata": {
    "collapsed": true
   },
   "outputs": [],
   "source": [
    "my_file = open(\"out.txt\", \"w\")"
   ]
  },
  {
   "cell_type": "markdown",
   "metadata": {},
   "source": [
    "`w` stands for write. Once we have opened a file for writing, we can use the `write()` method:"
   ]
  },
  {
   "cell_type": "code",
   "execution_count": 6,
   "metadata": {
    "collapsed": true
   },
   "outputs": [],
   "source": [
    "my_file.write(\"Hello world\")"
   ]
  },
  {
   "cell_type": "markdown",
   "metadata": {},
   "source": [
    "How can we tell if this has worked? We need to open the file in a text editor (IDLE will do fine). "
   ]
  },
  {
   "cell_type": "markdown",
   "metadata": {},
   "source": [
    "##Closing files\n",
    "\n",
    "Once we've finished writing data to a file, we have to close it:"
   ]
  },
  {
   "cell_type": "code",
   "execution_count": 7,
   "metadata": {
    "collapsed": true
   },
   "outputs": [],
   "source": [
    "my_file = open(\"out.txt\", \"w\")\n",
    "my_file.write(\"Hello world\")\n",
    "# remember to close the file\n",
    "my_file.close()"
   ]
  },
  {
   "cell_type": "markdown",
   "metadata": {},
   "source": [
    "##Summary of all things!\n",
    "\n",
    "|  __Name__ | __Job__  | __Argument__  | __Returns__  | __Type__  |\n",
    "|---|---|---|---|---|\n",
    "| `open()`  | opens a file for reading or writing  | filename, optional mode (both strings)  | File object  | built in function |\n",
    "|  `read()` | reads the contents of a file  | none  | String  | method of File objects  |\n",
    "| `rstrip()` | removes characters from end of string (usually newline)| string to remove  | string  | method of string objects |\n",
    "| `write()`  | writes text to a file | string to write | nothing  | method of File objects |\n",
    "|   `close()`| closes a file | none | nothing | method of File objects|\n",
    "\n"
   ]
  },
  {
   "cell_type": "markdown",
   "metadata": {},
   "source": [
    "##Exercises\n",
    "\n",
    "You'll need to use the string manipulation material from previous session, so have it open somewhere. \n",
    "\n",
    "###Splitting genomic DNA\n",
    "\n",
    "Look at the file called _genomic_dna.txt_ – it contains the same piece of genomic DNA that we were using in the final exercise from the previous session. The first exon runs from the start of the sequence to the sixty-third character, and the second exon runs from the ninety-first character to the end of the sequence. \n",
    "\n",
    "Write a program that will split the genomic DNA into coding and non-coding parts, and write these sequences to two separate files. Hint: use your solution to the last exercise from the previous session as a starting point.\n",
    "\n",
    "###Writing a FASTA file\n",
    "\n",
    "A FASTA file stores sequence data and looks like this:\n",
    "\n",
    "```\n",
    ">sequence_one\n",
    "cgatcgatcatcgatgcattgtagctatcg\n",
    ">sequence_two\n",
    "acagtagctacgtgtgtcgta\n",
    "```\n",
    "\n",
    "Write a program that will create a FASTA file for the following three sequences – make sure that all sequences are in upper case and only contain the bases A, T, G and C.\n",
    "\n",
    "| __Sequence header__ | __Sequence__ |\n",
    "|---------------------|---------------|\n",
    "| ABC123 | ATCGTACGATCGATCGATCGCTAGACGTATCG |\n",
    "| DEF456 | actgatcgacgatcgatcgatcacgact |\n",
    "| HIJ789 | ACTGAC-ACTGT--ACTGTA----CATGTG |\n",
    "\n",
    "###Writing multiple FASTA files\n",
    "\n",
    "Use the data from the previous exercise, but instead of creating a __single__ FASTA file, create __three__ new FASTA files – one per sequence. The names of the FASTA files should be the same as the sequence header names, with the extension .fasta.\n",
    "\n"
   ]
  },
  {
   "cell_type": "code",
   "execution_count": 2,
   "metadata": {
    "collapsed": false
   },
   "outputs": [
    {
     "data": {
      "application/javascript": [
       "\n",
       "function regentoc() {\n",
       "    document.getElementById(\"toc\").innerHTML = \"\";\n",
       "    var currenth2 = 0;\n",
       "    $(\"h2,h3\").not(\"#Contents\").each(function(mainIndex) {\n",
       "        el = $(this);\n",
       "        title = el.attr(\"id\");\n",
       "        text = el.html();\n",
       "        link = \"#\" + el.attr(\"id\");\n",
       "        if ( document.getElementById(title).tagName == \"H2\" ) {\n",
       "            currenth2 += 1;\n",
       "            newLine =\n",
       "                \"<li class='maintoc'>\" +\n",
       "                   \"<a href='\" + link + \"'>\" + text + \"</a>\" +\n",
       "                \"</li>\" +\n",
       "                \"<ul id='h2\" + currenth2 + \"'></ul>\";\n",
       "            document.getElementById(\"toc\").innerHTML += newLine;\n",
       "        } else if ( document.getElementById(title).tagName==\"H3\" ) {\n",
       "            h1list = document.getElementById(\"h2\"+currenth2);\n",
       "            newLine = \"<li class='subtoc'>\" + \"<a href='\" + link + \"'>\" + text + \"</a>\" + \"</li>\";\n",
       "            h1list.innerHTML += newLine;\n",
       "        }\n",
       "    });\n",
       "}\n",
       " \n",
       "setInterval(regentoc,1000);\n"
      ],
      "text/plain": [
       "<IPython.core.display.Javascript object>"
      ]
     },
     "execution_count": 2,
     "metadata": {},
     "output_type": "execute_result"
    }
   ],
   "source": [
    "# ignore this cell, it's for loading custom js code\n",
    "from IPython.core.display import Javascript\n",
    "Javascript(filename=\"custom.js\")"
   ]
  },
  {
   "cell_type": "code",
   "execution_count": 1,
   "metadata": {
    "collapsed": false
   },
   "outputs": [
    {
     "data": {
      "text/html": [
       "<style>\n",
       "div.output_text{\n",
       "        max-height:400px;\n",
       "        overflow:scroll;\n",
       "}\n",
       "\n",
       "div#notebook {\n",
       "  font-family: 'PT Serif' !important;\n",
       "} \n",
       "\n",
       "div.CodeMirror, div.output_area pre, div.output_wrapper, div.prompt {\n",
       "  font-family: 'Source Code Pro', monospace !important;\n",
       "}\n",
       "\n",
       ".output_text {\n",
       "  background-color: #f0f0f0;\n",
       "}\n",
       "\n",
       "\n",
       ".prompt { display: none; }\n",
       "div.output_subarea { max-width: calc(100%); }\n",
       "</style>\n",
       "\n"
      ],
      "text/plain": [
       "<IPython.core.display.HTML object>"
      ]
     },
     "execution_count": 1,
     "metadata": {},
     "output_type": "execute_result"
    }
   ],
   "source": [
    "# ignore this cell, it's for loading custom css code\n",
    "from IPython.core.display import HTML\n",
    "HTML(filename=\"custom.css\")"
   ]
  }
 ],
 "metadata": {
  "kernelspec": {
   "display_name": "Python 2",
   "language": "python",
   "name": "python2"
  },
  "language_info": {
   "codemirror_mode": {
    "name": "ipython",
    "version": 2
   },
   "file_extension": ".py",
   "mimetype": "text/x-python",
   "name": "python",
   "nbconvert_exporter": "python",
   "pygments_lexer": "ipython2",
   "version": "2.7.6"
  }
 },
 "nbformat": 4,
 "nbformat_minor": 0
}
