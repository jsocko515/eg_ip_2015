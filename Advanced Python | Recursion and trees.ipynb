{
 "cells": [
  {
   "cell_type": "markdown",
   "metadata": {},
   "source": [
    "#To understand recursion, you must first understand recursion :-)\n",
    "\n",
    "Recursion offers us a way to describe arbitrarily nested processes. Let's start with a very simple example: here's a function that prints the input twice:"
   ]
  },
  {
   "cell_type": "code",
   "execution_count": 2,
   "metadata": {
    "collapsed": false
   },
   "outputs": [
    {
     "name": "stdout",
     "output_type": "stream",
     "text": [
      "hello\n",
      "hello\n"
     ]
    }
   ],
   "source": [
    "def print_twice(input):\n",
    "    for i in range(2):\n",
    "        print(input)\n",
    "print_twice(\"hello\")"
   ]
  },
  {
   "cell_type": "markdown",
   "metadata": {},
   "source": [
    "and one that prints the input three times:"
   ]
  },
  {
   "cell_type": "code",
   "execution_count": 3,
   "metadata": {
    "collapsed": false
   },
   "outputs": [
    {
     "name": "stdout",
     "output_type": "stream",
     "text": [
      "hello\n",
      "hello\n",
      "hello\n"
     ]
    }
   ],
   "source": [
    "def print_three_times(input):\n",
    "    for i in range(3):\n",
    "        print(input)\n",
    "print_three_times(\"hello\")"
   ]
  },
  {
   "cell_type": "markdown",
   "metadata": {},
   "source": [
    "Hopefully it's pretty easy to see how we generalize this to give a function that prints the input any number of times:"
   ]
  },
  {
   "cell_type": "code",
   "execution_count": 5,
   "metadata": {
    "collapsed": false
   },
   "outputs": [
    {
     "name": "stdout",
     "output_type": "stream",
     "text": [
      "hello\n",
      "hello\n",
      "hello\n",
      "hello\n"
     ]
    }
   ],
   "source": [
    "def print_n_times(input, n):\n",
    "    for i in range(n):\n",
    "        print(input)\n",
    "print_n_times(\"hello\", 4)"
   ]
  },
  {
   "cell_type": "markdown",
   "metadata": {},
   "source": [
    "In Python, a `for` loop allows us to express the idea of repeating a bit of code a set number of times. \n",
    "\n",
    "Now let's look at a different problem: generating all possible dimers:"
   ]
  },
  {
   "cell_type": "code",
   "execution_count": 7,
   "metadata": {
    "collapsed": false
   },
   "outputs": [
    {
     "data": {
      "text/plain": [
       "['AA',\n",
       " 'AT',\n",
       " 'AG',\n",
       " 'AC',\n",
       " 'TA',\n",
       " 'TT',\n",
       " 'TG',\n",
       " 'TC',\n",
       " 'GA',\n",
       " 'GT',\n",
       " 'GG',\n",
       " 'GC',\n",
       " 'CA',\n",
       " 'CT',\n",
       " 'CG',\n",
       " 'CC']"
      ]
     },
     "execution_count": 7,
     "metadata": {},
     "output_type": "execute_result"
    }
   ],
   "source": [
    "def generate_dimers(): \n",
    "    bases = ['A', 'T', 'G', 'C'] \n",
    "    result = [] \n",
    "    for base1 in bases: \n",
    "        for base2 in bases: \n",
    "            result.append(base1 + base2) \n",
    "    return result \n",
    "\n",
    "generate_dimers()"
   ]
  },
  {
   "cell_type": "markdown",
   "metadata": {},
   "source": [
    "and trimers:"
   ]
  },
  {
   "cell_type": "code",
   "execution_count": 8,
   "metadata": {
    "collapsed": true
   },
   "outputs": [
    {
     "data": {
      "text/plain": [
       "['AAA',\n",
       " 'AAT',\n",
       " 'AAG',\n",
       " 'AAC',\n",
       " 'ATA',\n",
       " 'ATT',\n",
       " 'ATG',\n",
       " 'ATC',\n",
       " 'AGA',\n",
       " 'AGT',\n",
       " 'AGG',\n",
       " 'AGC',\n",
       " 'ACA',\n",
       " 'ACT',\n",
       " 'ACG',\n",
       " 'ACC',\n",
       " 'TAA',\n",
       " 'TAT',\n",
       " 'TAG',\n",
       " 'TAC',\n",
       " 'TTA',\n",
       " 'TTT',\n",
       " 'TTG',\n",
       " 'TTC',\n",
       " 'TGA',\n",
       " 'TGT',\n",
       " 'TGG',\n",
       " 'TGC',\n",
       " 'TCA',\n",
       " 'TCT',\n",
       " 'TCG',\n",
       " 'TCC',\n",
       " 'GAA',\n",
       " 'GAT',\n",
       " 'GAG',\n",
       " 'GAC',\n",
       " 'GTA',\n",
       " 'GTT',\n",
       " 'GTG',\n",
       " 'GTC',\n",
       " 'GGA',\n",
       " 'GGT',\n",
       " 'GGG',\n",
       " 'GGC',\n",
       " 'GCA',\n",
       " 'GCT',\n",
       " 'GCG',\n",
       " 'GCC',\n",
       " 'CAA',\n",
       " 'CAT',\n",
       " 'CAG',\n",
       " 'CAC',\n",
       " 'CTA',\n",
       " 'CTT',\n",
       " 'CTG',\n",
       " 'CTC',\n",
       " 'CGA',\n",
       " 'CGT',\n",
       " 'CGG',\n",
       " 'CGC',\n",
       " 'CCA',\n",
       " 'CCT',\n",
       " 'CCG',\n",
       " 'CCC']"
      ]
     },
     "execution_count": 8,
     "metadata": {},
     "output_type": "execute_result"
    }
   ],
   "source": [
    "def generate_trimers(): \n",
    "    bases = ['A', 'T', 'G', 'C'] \n",
    "    result = [] \n",
    "    for base1 in bases: \n",
    "        for base2 in bases: \n",
    "            for base3 in bases:\n",
    "                result.append(base1 + base2 + base3) \n",
    "    return result \n",
    "\n",
    "generate_trimers()"
   ]
  },
  {
   "cell_type": "markdown",
   "metadata": {
    "collapsed": true
   },
   "source": [
    "Compare the shape of the two functions. What we have is a difference in depth of nested loops as opposed to the number of iterations. Kind of a higher-order loop!\n",
    "\n",
    "Therefore, writing a function to generate all possible kmers for any **k** is harder than it looks:"
   ]
  },
  {
   "cell_type": "code",
   "execution_count": 9,
   "metadata": {
    "collapsed": true
   },
   "outputs": [
    {
     "data": {
      "text/plain": [
       "['AAA',\n",
       " 'AAT',\n",
       " 'AAG',\n",
       " 'AAC',\n",
       " 'ATA',\n",
       " 'ATT',\n",
       " 'ATG',\n",
       " 'ATC',\n",
       " 'AGA',\n",
       " 'AGT',\n",
       " 'AGG',\n",
       " 'AGC',\n",
       " 'ACA',\n",
       " 'ACT',\n",
       " 'ACG',\n",
       " 'ACC',\n",
       " 'TAA',\n",
       " 'TAT',\n",
       " 'TAG',\n",
       " 'TAC',\n",
       " 'TTA',\n",
       " 'TTT',\n",
       " 'TTG',\n",
       " 'TTC',\n",
       " 'TGA',\n",
       " 'TGT',\n",
       " 'TGG',\n",
       " 'TGC',\n",
       " 'TCA',\n",
       " 'TCT',\n",
       " 'TCG',\n",
       " 'TCC',\n",
       " 'GAA',\n",
       " 'GAT',\n",
       " 'GAG',\n",
       " 'GAC',\n",
       " 'GTA',\n",
       " 'GTT',\n",
       " 'GTG',\n",
       " 'GTC',\n",
       " 'GGA',\n",
       " 'GGT',\n",
       " 'GGG',\n",
       " 'GGC',\n",
       " 'GCA',\n",
       " 'GCT',\n",
       " 'GCG',\n",
       " 'GCC',\n",
       " 'CAA',\n",
       " 'CAT',\n",
       " 'CAG',\n",
       " 'CAC',\n",
       " 'CTA',\n",
       " 'CTT',\n",
       " 'CTG',\n",
       " 'CTC',\n",
       " 'CGA',\n",
       " 'CGT',\n",
       " 'CGG',\n",
       " 'CGC',\n",
       " 'CCA',\n",
       " 'CCT',\n",
       " 'CCG',\n",
       " 'CCC']"
      ]
     },
     "execution_count": 9,
     "metadata": {},
     "output_type": "execute_result"
    }
   ],
   "source": [
    "def generate_kmers(k): \n",
    "    # start with all the one-base strings\n",
    "    result = ['A', 'T', 'G', 'C'] \n",
    "\n",
    "    # keep making the strings longer...\n",
    "    for i in range(k - 1): \n",
    "        new_result = [] \n",
    "        \n",
    "        # by taking each one and adding each possible base\n",
    "        for kmer in result: \n",
    "            for base in ['A', 'T', 'G', 'C']: \n",
    "                new_result.append(kmer + base) \n",
    "\n",
    "        # the final list becomes the starting list for the next iteration\n",
    "        result = new_result \n",
    "    return result \n",
    "\n",
    "generate_kmers(3)"
   ]
  },
  {
   "cell_type": "markdown",
   "metadata": {
    "collapsed": true
   },
   "source": [
    "A verbose version makes it easier to see how the result is built up:"
   ]
  },
  {
   "cell_type": "code",
   "execution_count": 14,
   "metadata": {
    "collapsed": true
   },
   "outputs": [
    {
     "name": "stdout",
     "output_type": "stream",
     "text": [
      "('start of loop, result is', ['A', 'T', 'G', 'C'])\n",
      "('end of loop, result is', ['AA', 'AT', 'AG', 'AC', 'TA', 'TT', 'TG', 'TC', 'GA', 'GT', 'GG', 'GC', 'CA', 'CT', 'CG', 'CC'])\n",
      "('start of loop, result is', ['AA', 'AT', 'AG', 'AC', 'TA', 'TT', 'TG', 'TC', 'GA', 'GT', 'GG', 'GC', 'CA', 'CT', 'CG', 'CC'])\n",
      "('end of loop, result is', ['AAA', 'AAT', 'AAG', 'AAC', 'ATA', 'ATT', 'ATG', 'ATC', 'AGA', 'AGT', 'AGG', 'AGC', 'ACA', 'ACT', 'ACG', 'ACC', 'TAA', 'TAT', 'TAG', 'TAC', 'TTA', 'TTT', 'TTG', 'TTC', 'TGA', 'TGT', 'TGG', 'TGC', 'TCA', 'TCT', 'TCG', 'TCC', 'GAA', 'GAT', 'GAG', 'GAC', 'GTA', 'GTT', 'GTG', 'GTC', 'GGA', 'GGT', 'GGG', 'GGC', 'GCA', 'GCT', 'GCG', 'GCC', 'CAA', 'CAT', 'CAG', 'CAC', 'CTA', 'CTT', 'CTG', 'CTC', 'CGA', 'CGT', 'CGG', 'CGC', 'CCA', 'CCT', 'CCG', 'CCC'])\n"
     ]
    },
    {
     "data": {
      "text/plain": [
       "['AAA',\n",
       " 'AAT',\n",
       " 'AAG',\n",
       " 'AAC',\n",
       " 'ATA',\n",
       " 'ATT',\n",
       " 'ATG',\n",
       " 'ATC',\n",
       " 'AGA',\n",
       " 'AGT',\n",
       " 'AGG',\n",
       " 'AGC',\n",
       " 'ACA',\n",
       " 'ACT',\n",
       " 'ACG',\n",
       " 'ACC',\n",
       " 'TAA',\n",
       " 'TAT',\n",
       " 'TAG',\n",
       " 'TAC',\n",
       " 'TTA',\n",
       " 'TTT',\n",
       " 'TTG',\n",
       " 'TTC',\n",
       " 'TGA',\n",
       " 'TGT',\n",
       " 'TGG',\n",
       " 'TGC',\n",
       " 'TCA',\n",
       " 'TCT',\n",
       " 'TCG',\n",
       " 'TCC',\n",
       " 'GAA',\n",
       " 'GAT',\n",
       " 'GAG',\n",
       " 'GAC',\n",
       " 'GTA',\n",
       " 'GTT',\n",
       " 'GTG',\n",
       " 'GTC',\n",
       " 'GGA',\n",
       " 'GGT',\n",
       " 'GGG',\n",
       " 'GGC',\n",
       " 'GCA',\n",
       " 'GCT',\n",
       " 'GCG',\n",
       " 'GCC',\n",
       " 'CAA',\n",
       " 'CAT',\n",
       " 'CAG',\n",
       " 'CAC',\n",
       " 'CTA',\n",
       " 'CTT',\n",
       " 'CTG',\n",
       " 'CTC',\n",
       " 'CGA',\n",
       " 'CGT',\n",
       " 'CGG',\n",
       " 'CGC',\n",
       " 'CCA',\n",
       " 'CCT',\n",
       " 'CCG',\n",
       " 'CCC']"
      ]
     },
     "execution_count": 14,
     "metadata": {},
     "output_type": "execute_result"
    }
   ],
   "source": [
    "def generate_kmers(k): \n",
    "    # start with all the one-base strings\n",
    "    result = ['A', 'T', 'G', 'C'] \n",
    "\n",
    "    # keep making the strings longer...\n",
    "    for i in range(k - 1): \n",
    "        print(\"start of loop, result is\", result)\n",
    "        new_result = [] \n",
    "        \n",
    "        # by taking each one and adding each possible base\n",
    "        for kmer in result: \n",
    "            for base in ['A', 'T', 'G', 'C']: \n",
    "                new_result.append(kmer + base) \n",
    "\n",
    "        # the final list becomes the starting list for the next iteration\n",
    "        result = new_result \n",
    "        print(\"end of loop, result is\", result)\n",
    "\n",
    "    return result \n",
    "\n",
    "generate_kmers(3)"
   ]
  },
  {
   "cell_type": "markdown",
   "metadata": {},
   "source": [
    "We can describe the approach thus:\n",
    "\n",
    ">Start with a list of all possible single-base sequences. Next, extend each sequence by adding each of the four possible bases onto the end. Repeat this extension process as many times as necessary until the sequences are the length you require\n",
    "\n",
    "Here's another set of instructions to solve the same problem:\n",
    "\n",
    ">To get a list of all kmers of a given length, start by checking the length. If the length is one then the result is simply a list of the four bases. If the length is more than one, take the list of all possible sequences whose length is one less that the length you're looking for, and add each of the four possible bases to each of its elements to get the result.\n",
    "\n",
    "And in code:"
   ]
  },
  {
   "cell_type": "code",
   "execution_count": 16,
   "metadata": {
    "collapsed": false,
    "scrolled": true
   },
   "outputs": [
    {
     "data": {
      "text/plain": [
       "['AAA',\n",
       " 'AAT',\n",
       " 'AAG',\n",
       " 'AAC',\n",
       " 'ATA',\n",
       " 'ATT',\n",
       " 'ATG',\n",
       " 'ATC',\n",
       " 'AGA',\n",
       " 'AGT',\n",
       " 'AGG',\n",
       " 'AGC',\n",
       " 'ACA',\n",
       " 'ACT',\n",
       " 'ACG',\n",
       " 'ACC',\n",
       " 'TAA',\n",
       " 'TAT',\n",
       " 'TAG',\n",
       " 'TAC',\n",
       " 'TTA',\n",
       " 'TTT',\n",
       " 'TTG',\n",
       " 'TTC',\n",
       " 'TGA',\n",
       " 'TGT',\n",
       " 'TGG',\n",
       " 'TGC',\n",
       " 'TCA',\n",
       " 'TCT',\n",
       " 'TCG',\n",
       " 'TCC',\n",
       " 'GAA',\n",
       " 'GAT',\n",
       " 'GAG',\n",
       " 'GAC',\n",
       " 'GTA',\n",
       " 'GTT',\n",
       " 'GTG',\n",
       " 'GTC',\n",
       " 'GGA',\n",
       " 'GGT',\n",
       " 'GGG',\n",
       " 'GGC',\n",
       " 'GCA',\n",
       " 'GCT',\n",
       " 'GCG',\n",
       " 'GCC',\n",
       " 'CAA',\n",
       " 'CAT',\n",
       " 'CAG',\n",
       " 'CAC',\n",
       " 'CTA',\n",
       " 'CTT',\n",
       " 'CTG',\n",
       " 'CTC',\n",
       " 'CGA',\n",
       " 'CGT',\n",
       " 'CGG',\n",
       " 'CGC',\n",
       " 'CCA',\n",
       " 'CCT',\n",
       " 'CCG',\n",
       " 'CCC']"
      ]
     },
     "execution_count": 16,
     "metadata": {},
     "output_type": "execute_result"
    }
   ],
   "source": [
    "def generate_kmers_rec(k): \n",
    "    # if k is one, then the result is all one-base strings\n",
    "    if k == 1: \n",
    "        return ['A', 'T', 'G', 'C'] \n",
    "    \n",
    "    # if k is bigger than one...\n",
    "    else: \n",
    "        result = [] \n",
    "        \n",
    "        # ...get a list of all kmers which are one base shorter...\n",
    "        for seq in generate_kmers_rec(k - 1): \n",
    "\n",
    "            # ...and append each of the four possible bases\n",
    "            for base in ['A', 'T', 'G', 'C']: \n",
    "                result.append(seq + base)\n",
    "        return result \n",
    "    \n",
    "generate_kmers_rec(3)"
   ]
  },
  {
   "cell_type": "markdown",
   "metadata": {},
   "source": [
    "The magic happens on this line:\n",
    "\n",
    "```\n",
    "       for seq in generate_kmers_rec(k - 1): \n",
    "```\n",
    "\n",
    "The function calls itself with different arguments.\n",
    "\n",
    "Let's look at a verbose version again:"
   ]
  },
  {
   "cell_type": "code",
   "execution_count": 17,
   "metadata": {
    "collapsed": false,
    "scrolled": true
   },
   "outputs": [
    {
     "name": "stdout",
     "output_type": "stream",
     "text": [
      "generating kmers of length 3\n",
      "generating kmers of length 2\n",
      "generating kmers of length 1\n",
      "returning ['A', 'T', 'G', 'C']\n",
      "returning a list: ['AA', 'AT', 'AG', 'AC', 'TA', 'TT', 'TG', 'TC', 'GA', 'GT', 'GG', 'GC', 'CA', 'CT', 'CG', 'CC']\n",
      "returning a list: ['AAA', 'AAT', 'AAG', 'AAC', 'ATA', 'ATT', 'ATG', 'ATC', 'AGA', 'AGT', 'AGG', 'AGC', 'ACA', 'ACT', 'ACG', 'ACC', 'TAA', 'TAT', 'TAG', 'TAC', 'TTA', 'TTT', 'TTG', 'TTC', 'TGA', 'TGT', 'TGG', 'TGC', 'TCA', 'TCT', 'TCG', 'TCC', 'GAA', 'GAT', 'GAG', 'GAC', 'GTA', 'GTT', 'GTG', 'GTC', 'GGA', 'GGT', 'GGG', 'GGC', 'GCA', 'GCT', 'GCG', 'GCC', 'CAA', 'CAT', 'CAG', 'CAC', 'CTA', 'CTT', 'CTG', 'CTC', 'CGA', 'CGT', 'CGG', 'CGC', 'CCA', 'CCT', 'CCG', 'CCC']\n"
     ]
    },
    {
     "data": {
      "text/plain": [
       "['AAA',\n",
       " 'AAT',\n",
       " 'AAG',\n",
       " 'AAC',\n",
       " 'ATA',\n",
       " 'ATT',\n",
       " 'ATG',\n",
       " 'ATC',\n",
       " 'AGA',\n",
       " 'AGT',\n",
       " 'AGG',\n",
       " 'AGC',\n",
       " 'ACA',\n",
       " 'ACT',\n",
       " 'ACG',\n",
       " 'ACC',\n",
       " 'TAA',\n",
       " 'TAT',\n",
       " 'TAG',\n",
       " 'TAC',\n",
       " 'TTA',\n",
       " 'TTT',\n",
       " 'TTG',\n",
       " 'TTC',\n",
       " 'TGA',\n",
       " 'TGT',\n",
       " 'TGG',\n",
       " 'TGC',\n",
       " 'TCA',\n",
       " 'TCT',\n",
       " 'TCG',\n",
       " 'TCC',\n",
       " 'GAA',\n",
       " 'GAT',\n",
       " 'GAG',\n",
       " 'GAC',\n",
       " 'GTA',\n",
       " 'GTT',\n",
       " 'GTG',\n",
       " 'GTC',\n",
       " 'GGA',\n",
       " 'GGT',\n",
       " 'GGG',\n",
       " 'GGC',\n",
       " 'GCA',\n",
       " 'GCT',\n",
       " 'GCG',\n",
       " 'GCC',\n",
       " 'CAA',\n",
       " 'CAT',\n",
       " 'CAG',\n",
       " 'CAC',\n",
       " 'CTA',\n",
       " 'CTT',\n",
       " 'CTG',\n",
       " 'CTC',\n",
       " 'CGA',\n",
       " 'CGT',\n",
       " 'CGG',\n",
       " 'CGC',\n",
       " 'CCA',\n",
       " 'CCT',\n",
       " 'CCG',\n",
       " 'CCC']"
      ]
     },
     "execution_count": 17,
     "metadata": {},
     "output_type": "execute_result"
    }
   ],
   "source": [
    "def generate_kmers_rec(k): \n",
    "    print(\"generating kmers of length \" + str(k))\n",
    "    # if k is one, then the result is all one-base strings\n",
    "    if k == 1: \n",
    "        print(\"returning \" + str(['A', 'T', 'G', 'C']))\n",
    "        return ['A', 'T', 'G', 'C'] \n",
    "    \n",
    "    # if k is bigger than one...\n",
    "    else: \n",
    "        result = [] \n",
    "        \n",
    "        # ...get a list of all kmers which are one base shorter...\n",
    "        for seq in generate_kmers_rec(k - 1): \n",
    "\n",
    "            # ...and append each of the four possible bases\n",
    "            for base in ['A', 'T', 'G', 'C']: \n",
    "                result.append(seq + base)\n",
    "        print(\"returning a list: \" + str(result))\n",
    "        return result \n",
    "    \n",
    "generate_kmers_rec(3)"
   ]
  },
  {
   "cell_type": "markdown",
   "metadata": {},
   "source": [
    "##If the function calls itself, then why doesn't it run forever?\n",
    "\n",
    "There is a special case where the function **doesn't** call itself (k=1)\n",
    "\n",
    "This special case will always be reached eventually, because we subtract one from `k` with each function call.\n",
    "\n",
    "Think of the process of generating kmers as a treelike process:"
   ]
  },
  {
   "cell_type": "markdown",
   "metadata": {},
   "source": [
    " ![some text](kmers.png) "
   ]
  },
  {
   "cell_type": "markdown",
   "metadata": {},
   "source": [
    "Each time we go one node deeper we add a base to the kmer. The value of k determines the depth of three. \n",
    "\n",
    "Let's look at another tree...\n",
    "\n",
    "![some text](primates.png) "
   ]
  },
  {
   "cell_type": "markdown",
   "metadata": {},
   "source": [
    "A highly-pruned bit of the primate taxonomy. One way to store this is as a dict which stores child ➔ parent relationships:"
   ]
  },
  {
   "cell_type": "code",
   "execution_count": 1,
   "metadata": {
    "collapsed": true
   },
   "outputs": [],
   "source": [
    "tax_dict = { \n",
    "'Pan troglodytes' : 'Hominoidea',       'Pongo abelii' : 'Hominoidea', \n",
    "'Hominoidea' :  'Simiiformes',          'Simiiformes' : 'Haplorrhini', \n",
    "'Tarsius tarsier' : 'Tarsiiformes',     'Haplorrhini' : 'Primates',\n",
    "'Tarsiiformes' : 'Haplorrhini',         'Loris tardigradus' : 'Lorisidae',\n",
    "'Lorisidae' : 'Strepsirrhini',          'Strepsirrhini' : 'Primates',\n",
    "'Allocebus trichotis' : 'Lemuriformes', 'Lemuriformes' : 'Strepsirrhini',\n",
    "'Galago alleni' : 'Lorisiformes',       'Lorisiformes' : 'Strepsirrhini',\n",
    "'Galago moholi' : ' Lorisiformes'\n",
    "} "
   ]
  },
  {
   "cell_type": "markdown",
   "metadata": {},
   "source": [
    "This has some nice properties e.g. we can very easily look up the parent of a given taxon (node):"
   ]
  },
  {
   "cell_type": "code",
   "execution_count": 2,
   "metadata": {
    "collapsed": false
   },
   "outputs": [
    {
     "data": {
      "text/plain": [
       "'Hominoidea'"
      ]
     },
     "execution_count": 2,
     "metadata": {},
     "output_type": "execute_result"
    }
   ],
   "source": [
    "tax_dict['Pan troglodytes']"
   ]
  },
  {
   "cell_type": "markdown",
   "metadata": {},
   "source": [
    "How about looking up all parents of a given node (not necessarily a species), back up to the root? It's tricky because we don't know how many levels we have to go up. \n",
    "\n",
    "Here's one way:"
   ]
  },
  {
   "cell_type": "code",
   "execution_count": 13,
   "metadata": {
    "collapsed": false
   },
   "outputs": [
    {
     "data": {
      "text/plain": [
       "['Lorisiformes', 'Strepsirrhini', 'Primates']"
      ]
     },
     "execution_count": 13,
     "metadata": {},
     "output_type": "execute_result"
    }
   ],
   "source": [
    "def get_ancestors(taxon):\n",
    "    result = [] \n",
    "    while taxon != 'Primates' and taxon != None:\n",
    "        parent = tax_dict.get(taxon) \n",
    "        result.append(parent)\n",
    "        taxon = parent\n",
    "    return result\n",
    "\n",
    "get_ancestors(\"Galago alleni\")"
   ]
  },
  {
   "cell_type": "markdown",
   "metadata": {
    "collapsed": true
   },
   "source": [
    "The parent from the current iteration becomes the child for the next iteration. Compare with the kmer example, where the output kmers from the current iteration becomes the input kmers for the next iteration. \n",
    "\n",
    "Now for the recursive version:\n",
    "\n",
    ">if the taxon is Primates, then the list of parents is an empty list. Otherwise, the list of parents is the immediate parent of the taxon, plus all of it's parents.\n",
    "\n",
    "The code is arguable clearer:"
   ]
  },
  {
   "cell_type": "code",
   "execution_count": null,
   "metadata": {
    "collapsed": true
   },
   "outputs": [],
   "source": [
    "def get_ancestors(taxon):\n",
    "    if taxon == 'Primates':\n",
    "        return []\n",
    "    else:\n",
    "        parent = tax_dict.get(taxon)\n",
    "        parent_ancestors = get_ancestors(parent) \n",
    "        return [parent] + parent_ancestors"
   ]
  },
  {
   "cell_type": "markdown",
   "metadata": {
    "collapsed": true
   },
   "source": [
    "Just as before, there's a special case (taxon is Primates) that will be eventually reached (because we go up in the tree each function call).\n",
    "\n",
    "Verbose version with indentation to keep track of function calls:"
   ]
  },
  {
   "cell_type": "code",
   "execution_count": 17,
   "metadata": {
    "collapsed": false
   },
   "outputs": [
    {
     "name": "stdout",
     "output_type": "stream",
     "text": [
      "\n",
      "\n",
      "calculating ancestors for Galago alleni\n",
      "taxon is not Primates, looking up the parent\n",
      "the parent is Lorisiformes \n",
      "looking up ancestors for Lorisiformes\n",
      "\n",
      "\n",
      "  calculating ancestors for Lorisiformes\n",
      "  taxon is not Primates, looking up the parent\n",
      "  the parent is Strepsirrhini \n",
      "  looking up ancestors for Strepsirrhini\n",
      "\n",
      "\n",
      "    calculating ancestors for Strepsirrhini\n",
      "    taxon is not Primates, looking up the parent\n",
      "    the parent is Primates \n",
      "    looking up ancestors for Primates\n",
      "\n",
      "\n",
      "      calculating ancestors for Primates\n",
      "      taxon is Primates, returning an empty list\n",
      "\n",
      "    parent ancestors are []\n",
      "    about to return the result: ['Primates']\n",
      "\n",
      "\n",
      "  parent ancestors are ['Primates']\n",
      "  about to return the result: ['Strepsirrhini', 'Primates']\n",
      "\n",
      "\n",
      "parent ancestors are ['Strepsirrhini', 'Primates']\n",
      "about to return the result: ['Lorisiformes', 'Strepsirrhini', 'Primates']\n",
      "\n",
      "\n"
     ]
    },
    {
     "data": {
      "text/plain": [
       "['Lorisiformes', 'Strepsirrhini', 'Primates']"
      ]
     },
     "execution_count": 17,
     "metadata": {},
     "output_type": "execute_result"
    }
   ],
   "source": [
    "def get_ancestors(taxon, depth):\n",
    "    spacer = '  ' * depth\n",
    "    print(\"\\n\")\n",
    "    print(spacer + 'calculating ancestors for ' + taxon)\n",
    "    if taxon == 'Primates':\n",
    "        print(spacer + 'taxon is Primates, returning an empty list\\n')\n",
    "        return []\n",
    "    else:\n",
    "        print(spacer + 'taxon is not Primates, looking up the parent')\n",
    "        parent = tax_dict.get(taxon)\n",
    "        print(spacer + 'the parent is ' + parent + ' ')\n",
    "        print(spacer + 'looking up ancestors for ' + parent)\n",
    "        parent_ancestors = get_ancestors(parent, depth + 1)\n",
    "        print(spacer + 'parent ancestors are ' + str(parent_ancestors))\n",
    "        result = [parent] + parent_ancestors \n",
    "        print(spacer + 'about to return the result: ' + str(result)) \n",
    "        print(\"\\n\")\n",
    "        return result\n",
    "\n",
    "get_ancestors('Galago alleni', 0)"
   ]
  },
  {
   "cell_type": "markdown",
   "metadata": {},
   "source": [
    "This way of storing the data allows us to easily look up the parent for a child, but not the other way around. \n",
    "\n",
    "Can we store parent ➔ child trees?"
   ]
  },
  {
   "cell_type": "code",
   "execution_count": 18,
   "metadata": {
    "collapsed": true
   },
   "outputs": [],
   "source": [
    "new_tax_dict = { \n",
    "    'Primates': ['Haplorrhini', 'Strepsirrhini'], \n",
    "    'Tarsiiformes': ['Tarsius tarsier'], \n",
    "    'Haplorrhini': ['Tarsiiformes', 'Simiiformes'], \n",
    "    'Simiiformes': ['Hominoidea'], \n",
    "    'Lorisidae': ['Loris tardigradus'], \n",
    "    'Lemuriformes': ['Allocebus trichotis'], \n",
    "    'Lorisiformes': ['Galago alleni','Galago moholi'], \n",
    "    'Hominoidea': ['Pongo abelii', 'Pan troglodytes'], \n",
    "    'Strepsirrhini': ['Lorisidae', 'Lemuriformes', 'Lorisiformes'] \n",
    "} "
   ]
  },
  {
   "cell_type": "markdown",
   "metadata": {
    "collapsed": true
   },
   "source": [
    "How do we get a list of all decendents (i.e. children, grand-children, etc.) for a given node? It's more difficult than getting a list of all parents because there can be more than one child. To keep track of them we need a stack:"
   ]
  },
  {
   "cell_type": "code",
   "execution_count": 25,
   "metadata": {
    "collapsed": false
   },
   "outputs": [
    {
     "data": {
      "text/plain": [
       "['Simiiformes', 'Hominoidea', 'Pan troglodytes', 'Pongo abelii']"
      ]
     },
     "execution_count": 25,
     "metadata": {},
     "output_type": "execute_result"
    }
   ],
   "source": [
    "def get_decendents(taxon): \n",
    "    result = [] \n",
    "\n",
    "    # the stack is the list of taxa whose children we need to include\n",
    "    stack = [taxon] \n",
    "\n",
    "    while len(stack) != 0: \n",
    "\n",
    "        # remove the first element from the stack\n",
    "        current_taxon = stack.pop() \n",
    "\n",
    "        # look up the children\n",
    "        current_taxon_children = new_tax_dict.get(current_taxon, []) \n",
    "        \n",
    "        # add the children onto the end of the stack\n",
    "        stack.extend(current_taxon_children) \n",
    "\n",
    "        # add the children to the result list\n",
    "        result.append(current_taxon) \n",
    "\n",
    "    # when the stack is empty we are done\n",
    "    return result \n",
    "\n",
    "get_decendents(\"Simiiformes\")"
   ]
  },
  {
   "cell_type": "markdown",
   "metadata": {},
   "source": [
    "Showing the stack at each step:"
   ]
  },
  {
   "cell_type": "code",
   "execution_count": 26,
   "metadata": {
    "collapsed": false
   },
   "outputs": [
    {
     "name": "stdout",
     "output_type": "stream",
     "text": [
      "['Haplorrhini']\n",
      "['Tarsiiformes', 'Simiiformes']\n",
      "['Tarsiiformes', 'Hominoidea']\n",
      "['Tarsiiformes', 'Pongo abelii', 'Pan troglodytes']\n",
      "['Tarsiiformes', 'Pongo abelii']\n",
      "['Tarsiiformes']\n",
      "['Tarsius tarsier']\n"
     ]
    },
    {
     "data": {
      "text/plain": [
       "['Haplorrhini',\n",
       " 'Simiiformes',\n",
       " 'Hominoidea',\n",
       " 'Pan troglodytes',\n",
       " 'Pongo abelii',\n",
       " 'Tarsiiformes',\n",
       " 'Tarsius tarsier']"
      ]
     },
     "execution_count": 26,
     "metadata": {},
     "output_type": "execute_result"
    }
   ],
   "source": [
    "def get_decendents(taxon): \n",
    "    result = [] \n",
    "\n",
    "    # the stack is the list of taxa whose children we need to include\n",
    "    stack = [taxon] \n",
    "\n",
    "    while len(stack) != 0: \n",
    "        print(stack)\n",
    "\n",
    "        # remove the first element from the stack\n",
    "        current_taxon = stack.pop() \n",
    "\n",
    "        # look up the children\n",
    "        current_taxon_children = new_tax_dict.get(current_taxon, []) \n",
    "        \n",
    "        # add the children onto the end of the stack\n",
    "        stack.extend(current_taxon_children) \n",
    "\n",
    "        # add the children to the result list\n",
    "        result.append(current_taxon) \n",
    "\n",
    "    # when the stack is empty we are done\n",
    "    return result \n",
    "\n",
    "get_decendents(\"Haplorrhini\")"
   ]
  },
  {
   "cell_type": "markdown",
   "metadata": {},
   "source": [
    "We might guess that this problem also has a recursive solution....\n",
    "\n",
    ">to get decendents for a given taxon, add it to the result, then look up its children and their decendents"
   ]
  },
  {
   "cell_type": "code",
   "execution_count": 29,
   "metadata": {
    "collapsed": false
   },
   "outputs": [
    {
     "data": {
      "text/plain": [
       "['Haplorrhini',\n",
       " 'Tarsiiformes',\n",
       " 'Tarsius tarsier',\n",
       " 'Simiiformes',\n",
       " 'Hominoidea',\n",
       " 'Pongo abelii',\n",
       " 'Pan troglodytes']"
      ]
     },
     "execution_count": 29,
     "metadata": {},
     "output_type": "execute_result"
    }
   ],
   "source": [
    "def get_decendents_rec(taxon): \n",
    "\n",
    "    # add the current taxon to the resul\n",
    "    result = [taxon] \n",
    "\n",
    "    # look up the list of children for this taxon\n",
    "    children = new_tax_dict.get(taxon, []) \n",
    "\n",
    "    # for each child taxon...\n",
    "    for child in children: \n",
    "\n",
    "        # ... add its decendnts to the result\n",
    "        result.extend(get_decendents_rec(child)) \n",
    "\n",
    "    return result \n",
    "\n",
    "get_decendents_rec(\"Haplorrhini\")"
   ]
  },
  {
   "cell_type": "markdown",
   "metadata": {},
   "source": [
    "Let's go through the usual logic: why doesn't the function run forever? There is a special case where the function doesn't call itself (where the node has no children i.e. is a species). This special case will eventually be reached for all branches, because we go down the tree with each function call. \n",
    "\n",
    "The special case is harder to see because it's implicit in the line \n",
    "\n",
    "```\n",
    "for child in children: \n",
    "```\n",
    "\n",
    "We can make it explicit like this:"
   ]
  },
  {
   "cell_type": "code",
   "execution_count": 31,
   "metadata": {
    "collapsed": false
   },
   "outputs": [
    {
     "data": {
      "text/plain": [
       "['Haplorrhini',\n",
       " 'Tarsiiformes',\n",
       " 'Tarsius tarsier',\n",
       " 'Simiiformes',\n",
       " 'Hominoidea',\n",
       " 'Pongo abelii',\n",
       " 'Pan troglodytes']"
      ]
     },
     "execution_count": 31,
     "metadata": {},
     "output_type": "execute_result"
    }
   ],
   "source": [
    "def get_decendents_rec(taxon): \n",
    "\n",
    "    # look up the list of children for this taxon\n",
    "    children = new_tax_dict.get(taxon, []) \n",
    "    \n",
    "    # if there are no children, the result is just the current taxon\n",
    "    if children == []:\n",
    "        return [taxon]\n",
    "\n",
    "    # add the current taxon to the result\n",
    "    result = [taxon] \n",
    "\n",
    "    # for each child taxon...\n",
    "    for child in children: \n",
    "\n",
    "        # ... add its children to the result\n",
    "        result.extend(get_decendents_rec(child)) \n",
    "\n",
    "    return result \n",
    "\n",
    "get_decendents_rec(\"Haplorrhini\")"
   ]
  },
  {
   "cell_type": "markdown",
   "metadata": {},
   "source": [
    "In conclusion, trees and recursion are intimately linked. Recursive functions are the best way to deal with processing treelike data, and recursive processes can be understood as trees. \n",
    "\n",
    "Incidentally, treelike data structres are more common than you might think...\n",
    "- HTML web pages\n",
    "- complex boolean searches\n",
    "- clustering data\n",
    "- Python code\n",
    "- Natural language\n",
    "\n",
    "##Exercises\n",
    "\n",
    "The Last Common Ancestor (LCA) of a list of taxa is the most recent (i.e. rightmost) node that they share. \n",
    " \n",
    "Write a function that will take a list of taxa and return the last common ancestor using the child-to-parent dict.\n",
    " \n",
    "See if you can come up with both an iterative solution and a recursive one.  Which do you prefer?\n",
    "\n",
    "Hint: start with just two taxa, then use this as a building block.\n",
    " \n",
    "Hint: if the LCA of [A,B] is X, then the LCA of [A,B,C] is the same as the LCA of [X,C]. Draw this on a piece of paper until you are convinced this is true!"
   ]
  },
  {
   "cell_type": "code",
   "execution_count": null,
   "metadata": {
    "collapsed": true
   },
   "outputs": [],
   "source": []
  }
 ],
 "metadata": {
  "kernelspec": {
   "display_name": "Python 2",
   "language": "python",
   "name": "python2"
  },
  "language_info": {
   "codemirror_mode": {
    "name": "ipython",
    "version": 2
   },
   "file_extension": ".py",
   "mimetype": "text/x-python",
   "name": "python",
   "nbconvert_exporter": "python",
   "pygments_lexer": "ipython2",
   "version": "2.7.6"
  }
 },
 "nbformat": 4,
 "nbformat_minor": 0
}
