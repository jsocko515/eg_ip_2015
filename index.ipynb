{
 "cells": [
  {
   "cell_type": "markdown",
   "metadata": {},
   "source": [
    "#Edinburgh Genomics Introduction to Python\n",
    "##August 2015\n",
    "\n",
    "__Important note__: for all the examples and exercises in this course you will need to download and unzip [the course files from here](https://github.com/mojones/eg_ip_2015/archive/gh-pages.zip). \n",
    "\n",
    "\n",
    "\n",
    "[1. Getting started](Introduction to Python 1 |  Getting started.html)\n",
    "\n",
    "[2. Text manipulation](Introduction to Python 2 | Text manipulation.html) ([exercise solutions](Introduction to Python 2 | Text manipulation solutions to exercises.html))\n",
    "\n",
    "[3. Working with files](Introduction to Python 3 | Working with files.html) ([exercise solutions](Introduction to Python 3 | Working with files exercises solutions.html))\n",
    "\n",
    "[4. Lists and loops](Introduction to Python 4 | Lists and loops.html) ([exercise solutions](Introduction to Python 4 | Lists and loops exercise solutions.html))\n",
    "\n",
    "\n",
    "\n",
    "[5. Conditions](Introduction to Python 5 | Conditions.html) ([exercise solutions](Introduction to Python 5 | Conditions exercise solutions.html))\n",
    "\n",
    "[6. Writing functions](Introduction to Python 6 | Writing functions .html) ([exercise solutions](Introduction to Python 6 | Writing functions exercise solutions.html))\n",
    "\n",
    "\n",
    "\n",
    "\n",
    "[7. Dictionaries](Introduction to Python 7 | Dictionaries.html) ([exercise solutions](Introduction to Python 7 | Dictionaries exercise solutions.html))\n",
    "\n",
    "\n",
    "[8. Working with the operating system](Introduction to Python 8 | Working with the operating system.html) ([exercise solutions](Introduction to Python 8 | Working with the operating system exercise solutions.html))\n",
    "\n",
    "\n",
    "[9. Regulard expressions](Introduction to Python 9 | Regular expressions .html) ([exercise solutions](Introduction to Python 9 | Regular expressions exercise solutions.html))\n",
    "\n",
    "\n",
    "[10. BioPython](Introduction to Python 10 | BioPython.html) ([exercise solutions](Introduction to Python 10 | Biopython exercise solutions.html))\n",
    "\n",
    "\n",
    "\n",
    "\n",
    "---\n",
    "\n",
    "##Additional programming problems\n",
    "\n",
    "[Project Rosalind - Bioinformatics specific](http://rosalind.info/problems/list-view/)\n",
    "\n",
    "[Project Euler - Mathematically biased](https://projecteuler.net/problems)\n",
    "\n",
    "[Hacker Rank - General programming problems](https://www.hackerrank.com/domains/algorithms/warmup)"
   ]
  },
  {
   "cell_type": "code",
   "execution_count": null,
   "metadata": {
    "collapsed": true
   },
   "outputs": [],
   "source": []
  },
  {
   "cell_type": "code",
   "execution_count": null,
   "metadata": {
    "collapsed": true
   },
   "outputs": [],
   "source": []
  }
 ],
 "metadata": {
  "kernelspec": {
   "display_name": "Python 2",
   "language": "python",
   "name": "python2"
  },
  "language_info": {
   "codemirror_mode": {
    "name": "ipython",
    "version": 2
   },
   "file_extension": ".py",
   "mimetype": "text/x-python",
   "name": "python",
   "nbconvert_exporter": "python",
   "pygments_lexer": "ipython2",
   "version": "2.7.6"
  }
 },
 "nbformat": 4,
 "nbformat_minor": 0
}
