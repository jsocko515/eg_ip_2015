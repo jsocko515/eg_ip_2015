{
 "cells": [
  {
   "cell_type": "markdown",
   "metadata": {},
   "source": [
    "#Edinburgh Genomics Introduction to Python\n",
    "##August 2015\n",
    "\n",
    "[1. Getting started](Introduction to Python 1 |  Getting started.html)\n",
    "\n",
    "[2. Text manipulation](Introduction to Python 2 | Text manipulation.html) ([exercise solutions](Introduction to Python 2 | Text manipulation solutions to exercises.html))\n",
    "\n",
    "[3. Working with files](Introduction to Python 3 | Working with files.html) ([exercise solutions](Introduction to Python 3 | Working with files exercises solutions.html))\n",
    "\n",
    "[4. Lists and loops](Introduction to Python 4 | Lists and loops.html) ([exercise solutions](Introduction to Python 4 | Lists and loops exercise solutions.html))\n",
    "\n",
    "\n",
    "\n",
    "[5. Conditions](Introduction to Python 5 | Conditions.html) ([exercise solutions](Introduction to Python 5 | Conditions exercise solutions.html))\n",
    "\n",
    "[6. Writing functions](Introduction to Python 6 | Writing functions .html) ([exercise solutions](Introduction to Python 6 | Writing functions exercise solutions.html))\n",
    "\n",
    "\n",
    "\n",
    "---\n",
    "\n",
    "##Additional programming problems\n",
    "\n",
    "[Project Rosalind - Bioinformatics specific](http://rosalind.info/problems/list-view/)\n",
    "\n",
    "[Project Euler - Mathematically biased](https://projecteuler.net/problems)\n",
    "\n",
    "[Hacker Rank - General programming problems](https://www.hackerrank.com/domains/algorithms/warmup)"
   ]
  },
  {
   "cell_type": "code",
   "execution_count": null,
   "metadata": {
    "collapsed": true
   },
   "outputs": [],
   "source": []
  },
  {
   "cell_type": "code",
   "execution_count": null,
   "metadata": {
    "collapsed": true
   },
   "outputs": [],
   "source": []
  }
 ],
 "metadata": {
  "kernelspec": {
   "display_name": "Python 2",
   "language": "python",
   "name": "python2"
  },
  "language_info": {
   "codemirror_mode": {
    "name": "ipython",
    "version": 2
   },
   "file_extension": ".py",
   "mimetype": "text/x-python",
   "name": "python",
   "nbconvert_exporter": "python",
   "pygments_lexer": "ipython2",
   "version": "2.7.6"
  }
 },
 "nbformat": 4,
 "nbformat_minor": 0
}
