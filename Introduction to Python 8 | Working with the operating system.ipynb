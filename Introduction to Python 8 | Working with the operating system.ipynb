{
 "cells": [
  {
   "cell_type": "markdown",
   "metadata": {},
   "source": [
    "<h1 id=\"toctitle\">Working with the operating system</h1>\n",
    "<ul id=\"toc\"/>"
   ]
  },
  {
   "cell_type": "markdown",
   "metadata": {},
   "source": [
    "##Working with files\n",
    "\n",
    "###About paths\n",
    "\n",
    "__File paths__ are the strings that we use to describe to Python where to find the files that we want. \n",
    "\n",
    "On Windows we are used to writing paths like this:\n",
    "\n",
    "`c:\\path\\to\\a\\file`\n",
    "\n",
    "but in Python, characters preceded by \\ often have a special meaning. To avoid this use / instead:\n",
    "\n",
    "`c:/path/to/a/file`\n",
    "\n",
    "On Mac/Linux/Unix, use the / character as normal:\n",
    "\n",
    "`/home/martin/path/to/a/file`\n",
    "\n",
    "###Basic file manipulation\n",
    "\n",
    "Functions for file manipulation live in the `os` module. Renaming files is straightforward:\n",
    "\n",
    "```python\n",
    "import os\n",
    "os.rename(\"old.txt\", \"new.txt\")\n",
    "os.rename(\"biology/old.txt\", \"biology/new.txt\")\n",
    "os.rename(\"old_folder\", \"new_folder\")\n",
    "```\n",
    "\n",
    "Moving files is the same as renaming them:\n",
    "\n",
    "```python\n",
    "os.rename(\"biology/old.txt\", \"python/old.txt\")\n",
    "```\n",
    "\n",
    "We can create a folder:\n",
    "\n",
    "```python\n",
    "os.mkdir(\"c:/martin/python\")\n",
    "```\n",
    "\n",
    "###Copying and trees\n",
    "\n",
    "For more advanced stuff, use the `shutil` module. \n",
    "\n",
    "Copying is different for a file:\n",
    "\n",
    "```python\n",
    "shutil.copy(\"original.txt\", \"copy.txt\")\n",
    "```\n",
    "\n",
    "vs a folder:\n",
    "\n",
    "```python\n",
    "shutil.copytree(\"original_folder\", \"copy_folder\")\n",
    "```\n",
    "\n",
    "We can check if a file or folder exists:\n",
    "\n",
    "```python\n",
    "if os.path.exists(\"c:/martin/email.txt\"):\n",
    "\t# do something\n",
    "```\n",
    "\n",
    "###Deleting stuff\n",
    "\n",
    "Deleting files is dangerous in Python - no take backs! Use different functions in increasing order of danger. \n",
    "\n",
    "Deleting a file:\n",
    "```python\n",
    "os.remove(\"c:/martin/unwanted_file.txt\")\n",
    "```\n",
    "\n",
    "Deleting an empty folder:\n",
    "```python\n",
    "os.rmdir(\"c:/martin/emtpy\")\n",
    "```\n",
    "\n",
    "Deleting a folder and all its contents:\n",
    "```python\n",
    "shutil.rmtree(\"c:/martin/full\")\n",
    "```\n",
    "\n",
    "###Listing folder contents\n",
    "\n",
    "With the `os` module we can list files and folders in the current working directory:\n",
    "\n",
    "```python\n",
    "for file_name in os.listdir(\".\"):\n",
    "    print(\"one file name is \" + file_name)\n",
    "```\n",
    "\n",
    "or in a different directory:\n",
    "\n",
    "```python\n",
    "for file_name in os.listdir(\"c:\\martin\"):\n",
    "    print(\"one file name is \" + file_name)\n",
    "```\n",
    "\n"
   ]
  },
  {
   "cell_type": "markdown",
   "metadata": {},
   "source": [
    "##Running external programs\n",
    "\n",
    "Sometimes it's helpful to be able to run an exising program (e.g. an analysis tool e.g. BLAST) from within a Python program. \n",
    "\n",
    "To run a program and display the output on the screen:\n",
    "\n",
    "```python\n",
    "import subprocess\n",
    "\n",
    "# run a program with some options\n",
    "subprocess.call(\"/bin/date +%B\", shell=True)\n",
    "```\n",
    "\n",
    "To run a program and capture the output in a string, use `check_output`:\n",
    "\n",
    "```python\n",
    "cmd = \"/bin/date +%B\"\n",
    "month = subprocess.check_output(cmd, shell=True)\n",
    "```"
   ]
  },
  {
   "cell_type": "markdown",
   "metadata": {},
   "source": [
    "##Getting user input\n",
    "\n",
    "We can get user input interactively:\n",
    "\n",
    "```python \n",
    "accession = raw_input(\"Enter the accession name\")\n",
    "```\n",
    "\n",
    "In Python 3, `raw_input()` has been renamed to simply `input()`.\n",
    "\n",
    "We can also get options from the command line (not in Canopy):\n",
    "\n",
    "```python\n",
    "# e.g. python myscript apple banana\n",
    "import sys\n",
    "first = sys.argv[1] #apple\n",
    "second = sys.argv[2] #banana\n",
    "```\n",
    "\n",
    "This is only useful if you're working on the command line anyway. "
   ]
  },
  {
   "cell_type": "markdown",
   "metadata": {},
   "source": [
    "##Exercises\n",
    "\n",
    "###Binning DNA sequences\n",
    "\n",
    "Inside the dna_files folder is a collection of files that end in .dna . Each file holds a collection of DNA sequences, one per line. \n",
    "\n",
    "Write a program which creates nine new folders – one for sequences between 100 and 199 bases long, one for sequences between 200 and 299 bases long, etc. Write out each DNA sequence in the input files to a separate file in the appropriate folder.\n",
    "\n",
    "###Kmer counting \n",
    "\n",
    "Write a program that will calculate the number of all kmers of a given length across all DNA sequences in the input files and display just the ones that occur more than a given number of times. You program should take two interactive arguments – the kmer length, and the cutoff number.  \n"
   ]
  },
  {
   "cell_type": "code",
   "execution_count": null,
   "metadata": {
    "collapsed": true
   },
   "outputs": [],
   "source": []
  },
  {
   "cell_type": "code",
   "execution_count": 2,
   "metadata": {
    "collapsed": false
   },
   "outputs": [
    {
     "data": {
      "application/javascript": [
       "\n",
       "function regentoc() {\n",
       "    document.getElementById(\"toc\").innerHTML = \"\";\n",
       "    var currenth2 = 0;\n",
       "    $(\"h2,h3\").not(\"#Contents\").each(function(mainIndex) {\n",
       "        el = $(this);\n",
       "        title = el.attr(\"id\");\n",
       "        text = el.html();\n",
       "        link = \"#\" + el.attr(\"id\");\n",
       "        if ( document.getElementById(title).tagName == \"H2\" ) {\n",
       "            currenth2 += 1;\n",
       "            newLine =\n",
       "                \"<li class='maintoc'>\" +\n",
       "                   \"<a href='\" + link + \"'>\" + text + \"</a>\" +\n",
       "                \"</li>\" +\n",
       "                \"<ul id='h2\" + currenth2 + \"'></ul>\";\n",
       "            document.getElementById(\"toc\").innerHTML += newLine;\n",
       "        } else if ( document.getElementById(title).tagName==\"H3\" ) {\n",
       "            h1list = document.getElementById(\"h2\"+currenth2);\n",
       "            newLine = \"<li class='subtoc'>\" + \"<a href='\" + link + \"'>\" + text + \"</a>\" + \"</li>\";\n",
       "            h1list.innerHTML += newLine;\n",
       "        }\n",
       "    });\n",
       "}\n",
       " \n",
       "setInterval(regentoc,1000);\n"
      ],
      "text/plain": [
       "<IPython.core.display.Javascript object>"
      ]
     },
     "execution_count": 2,
     "metadata": {},
     "output_type": "execute_result"
    }
   ],
   "source": [
    "# ignore this cell, it's for loading custom js code\n",
    "from IPython.core.display import Javascript\n",
    "Javascript(filename=\"custom.js\")"
   ]
  },
  {
   "cell_type": "code",
   "execution_count": 1,
   "metadata": {
    "collapsed": false
   },
   "outputs": [
    {
     "data": {
      "text/html": [
       "<style>\n",
       "div.output_text{\n",
       "        max-height:400px;\n",
       "        overflow:scroll;\n",
       "}\n",
       "\n",
       "div#notebook {\n",
       "  font-family: 'PT Serif' !important;\n",
       "} \n",
       "\n",
       "div.CodeMirror, div.output_area pre, div.output_wrapper, div.prompt {\n",
       "  font-family: 'Source Code Pro', monospace !important;\n",
       "}\n",
       "\n",
       ".output_text {\n",
       "  background-color: #f0f0f0;\n",
       "}\n",
       "\n",
       "\n",
       ".prompt { display: none; }\n",
       "div.output_subarea { max-width: calc(100%); }\n",
       "</style>\n",
       "\n"
      ],
      "text/plain": [
       "<IPython.core.display.HTML object>"
      ]
     },
     "execution_count": 1,
     "metadata": {},
     "output_type": "execute_result"
    }
   ],
   "source": [
    "# ignore this cell, it's for loading custom css code\n",
    "from IPython.core.display import HTML\n",
    "HTML(filename=\"custom.css\")"
   ]
  }
 ],
 "metadata": {
  "kernelspec": {
   "display_name": "Python 2",
   "language": "python",
   "name": "python2"
  },
  "language_info": {
   "codemirror_mode": {
    "name": "ipython",
    "version": 2
   },
   "file_extension": ".py",
   "mimetype": "text/x-python",
   "name": "python",
   "nbconvert_exporter": "python",
   "pygments_lexer": "ipython2",
   "version": "2.7.6"
  }
 },
 "nbformat": 4,
 "nbformat_minor": 0
}
