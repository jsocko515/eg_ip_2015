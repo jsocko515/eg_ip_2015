{
 "cells": [
  {
   "cell_type": "markdown",
   "metadata": {},
   "source": [
    "<h1 id=\"toctitle\">Dictionaries</h1>\n",
    "<ul id=\"toc\"/>"
   ]
  },
  {
   "cell_type": "markdown",
   "metadata": {},
   "source": [
    "##Introducing paired data\n",
    "\n",
    "Say we want to count all the A's in a DNA sequence:"
   ]
  },
  {
   "cell_type": "code",
   "execution_count": null,
   "metadata": {
    "collapsed": false
   },
   "outputs": [],
   "source": [
    "dna = \"ATCGATCGATCGTACGCTGA\"\n",
    "a_count = dna.count(\"A\")\n",
    "\n",
    "\n",
    "\n",
    "\n",
    "\n",
    "\n",
    "\n",
    "\n",
    "a_count"
   ]
  },
  {
   "cell_type": "markdown",
   "metadata": {},
   "source": [
    "That was pretty straightforward. How about all four bases:"
   ]
  },
  {
   "cell_type": "code",
   "execution_count": null,
   "metadata": {
    "collapsed": false
   },
   "outputs": [],
   "source": [
    "dna = \"ATCGTATCGATGTACGCTGA\"\n",
    "a_count = dna.count(\"A\")\n",
    "t_count = dna.count(\"T\")\n",
    "g_count = dna.count(\"G\")\n",
    "c_count = dna.count(\"C\")\n",
    "print(a_count, t_count, g_count, c_count)\n",
    "\n",
    "\n",
    "\n",
    "\n",
    "\n",
    "\n",
    "\n",
    "\n",
    "\n",
    "\n",
    "g_count"
   ]
  },
  {
   "cell_type": "markdown",
   "metadata": {},
   "source": [
    "Getting repetitive. How about dinucldeotides (16 variables):\n",
    "\n",
    "```python\n",
    "aa_count = dna.count(\"AA\")\n",
    "at_count = dna.count(\"AT\")\n",
    "ag_count = dna.count(\"AG\")\n",
    "...\n",
    "```\n",
    "\n",
    "or trinucleotides (64 variables):\n",
    "\n",
    "```python\n",
    "aaa_count = dna.count(\"AAA\")\n",
    "aat_count = dna.count(\"AAT\")\n",
    "aag_count = dna.count(\"AAG\")\n",
    "```\n",
    "\n",
    "We could use a list to store these counts:"
   ]
  },
  {
   "cell_type": "code",
   "execution_count": null,
   "metadata": {
    "collapsed": false
   },
   "outputs": [],
   "source": [
    "dna = \"ATCGTATCGATGTACGCTGA\"\n",
    "dinucleotides = ['AA','AT','AG','AC',\n",
    "                 'TA','TT','TG','TC',\n",
    "                 'GA','GT','GG','GC',\n",
    "                 'CA','CT','CG','CT']\n",
    "all_counts = []\n",
    "for dinucleotide in dinucleotides:\n",
    "    count = dna.count(dinucleotide)\n",
    "    all_counts.append(str(count) + \" : \" + dinucleotide)\n",
    "print(all_counts)"
   ]
  },
  {
   "cell_type": "markdown",
   "metadata": {},
   "source": [
    "But you can see the problem: once they're stored in the list, there's no easy way to look up the count for a given dinucleotide. There's no longer any connection between the dinucleotides and the counts.\n",
    "\n",
    "This is an example of paired data - also called key/value data\n",
    "\n",
    "| keys | values |\n",
    "|------|--------|\n",
    "|dinucleotide|count|\n",
    "|name|protein sequence|\n",
    "|codon|amino acid residue|\n",
    "|sample|coordinates|\n",
    "|word|definition|\n",
    "\n",
    "Python's data structure for storing this type of data is a __dict__ (short for dictionary).\n",
    "\n",
    "##Creating dicts\n",
    "\n",
    "##Literal dicts\n",
    "\n",
    "To make a dict \n",
    "\n",
    "- start and end with curly brackets\n",
    "- separate keys and values with colons\n",
    "- separate each pair (item) with a comma"
   ]
  },
  {
   "cell_type": "code",
   "execution_count": null,
   "metadata": {
    "collapsed": true
   },
   "outputs": [],
   "source": [
    "enzymes = { \n",
    "'EcoRI' : 'GAATTC',\n",
    "'AvaII' : 'GGACC',\n",
    "'BisI' : 'GCNGC' \n",
    "}"
   ]
  },
  {
   "cell_type": "markdown",
   "metadata": {},
   "source": [
    "We often write dicts on multiple lines. Getting a single value is similar to a list, but instead of giving the index, we give the key for the value we want:"
   ]
  },
  {
   "cell_type": "code",
   "execution_count": null,
   "metadata": {
    "collapsed": false
   },
   "outputs": [],
   "source": [
    "motif = enzymes['BisI']\n",
    "print(motif)"
   ]
  },
  {
   "cell_type": "markdown",
   "metadata": {},
   "source": [
    "###Building up a dict\n",
    "\n",
    "We can create an empty dict, and add items to it one at a time:"
   ]
  },
  {
   "cell_type": "code",
   "execution_count": null,
   "metadata": {
    "collapsed": false
   },
   "outputs": [],
   "source": [
    "# create an empty dict\n",
    "enzymes = {}\n",
    "\n",
    "# add one key/value pair at a time\n",
    "enzymes['EcoRI'] = 'GAATTC'\n",
    "enzymes['AvaII'] = 'GGACC'\n",
    "enzymes['BisI'] = 'GCNGC'\n",
    "#print(enzymes)\n",
    "print(enzymes['EcoRI'])"
   ]
  },
  {
   "cell_type": "markdown",
   "metadata": {},
   "source": [
    "The thing that goes inside the square brackets is always the key, whether we are setting a value or retrieving a value. \n",
    "\n",
    "How does this help us with our dinucletodies problem?\n",
    "\n",
    "##Counting dinucleotides with a dict\n",
    "\n",
    "Here's how we store the counts in a dict. We start with an empty dict, and add one key/value pair for each dinucleotide:"
   ]
  },
  {
   "cell_type": "code",
   "execution_count": null,
   "metadata": {
    "collapsed": false
   },
   "outputs": [],
   "source": [
    "dna = \"AATGATGAACGAC\" \n",
    "dinucleotides = ['AA','AT','AG','AC', \n",
    "                 'TA','TT','TG','TC', \n",
    "                 'GA','GT','GG','GC', \n",
    "                 'CA','CT','CG','CT'] \n",
    "\n",
    "\n",
    "all_counts = {} \n",
    "for dinucleotide in dinucleotides: \n",
    "    count = dna.count(dinucleotide) \n",
    "    print(\"count is \" + str(count) + \" for \" + dinucleotide) \n",
    "    all_counts[dinucleotide] = count \n",
    "    \n",
    "    \n",
    "print(all_counts) "
   ]
  },
  {
   "cell_type": "markdown",
   "metadata": {},
   "source": [
    "Notice how although it's bigger than our previous examples the `all_counts` dict has the same key/value structure. \n",
    "\n",
    "We can now look up the count (value) for a particular dinucleotide (key) very easily:"
   ]
  },
  {
   "cell_type": "code",
   "execution_count": null,
   "metadata": {
    "collapsed": false
   },
   "outputs": [],
   "source": [
    "all_counts['GA']"
   ]
  },
  {
   "cell_type": "markdown",
   "metadata": {},
   "source": [
    "###Removing zero counts\n",
    "\n",
    "Problem: many of the counts are zero (and for 3mers, 4mer, etc. nearly all the counts will be zero). Solution: just store the counts that are greater than zero:"
   ]
  },
  {
   "cell_type": "code",
   "execution_count": 30,
   "metadata": {
    "collapsed": false
   },
   "outputs": [
    {
     "name": "stdout",
     "output_type": "stream",
     "text": [
      "{'AA': 1, 'AC': 1, 'GT': 1, 'CG': 3, 'GC': 1, 'AT': 3, 'GA': 3, 'TG': 2, 'CT': 1, 'TC': 2, 'TA': 1}\n"
     ]
    }
   ],
   "source": [
    "dna = \"AATGATCGATCGTACGCTGA\"\n",
    "counts = {}\n",
    "\n",
    "\n",
    "for base1 in ['A', 'T', 'G', 'C']:\n",
    "    for base2 in ['A', 'T', 'G', 'C']:\n",
    "        dinucleotide = base1 + base2\n",
    "        \n",
    "        \n",
    "        count = dna.count(dinucleotide)\n",
    "        if count > 0:\n",
    "            counts[dinucleotide] = count\n",
    "print(counts)"
   ]
  },
  {
   "cell_type": "markdown",
   "metadata": {},
   "source": [
    "Now we are just storing the positive counts. This can lead to trouble when looking up counts for a dinucelotide that doesn't occur in the sequence:"
   ]
  },
  {
   "cell_type": "code",
   "execution_count": null,
   "metadata": {
    "collapsed": false
   },
   "outputs": [],
   "source": [
    "counts['AA']"
   ]
  },
  {
   "cell_type": "code",
   "execution_count": null,
   "metadata": {
    "collapsed": false
   },
   "outputs": [],
   "source": [
    "counts['AG']"
   ]
  },
  {
   "cell_type": "markdown",
   "metadata": {},
   "source": [
    "The `get()` method lets us specify a default for when the key isn't found:\n"
   ]
  },
  {
   "cell_type": "code",
   "execution_count": 38,
   "metadata": {
    "collapsed": false
   },
   "outputs": [
    {
     "name": "stdout",
     "output_type": "stream",
     "text": [
      "0\n"
     ]
    }
   ],
   "source": [
    "#print(counts.get('AA', 0))\n",
    "\n",
    "print(counts.get('NG', 0))"
   ]
  },
  {
   "cell_type": "markdown",
   "metadata": {},
   "source": [
    "##Looping with dicts\n",
    "\n",
    "The `keys()` method returns a list of all the keys in a dict:"
   ]
  },
  {
   "cell_type": "code",
   "execution_count": 39,
   "metadata": {
    "collapsed": false
   },
   "outputs": [
    {
     "data": {
      "text/plain": [
       "['AA', 'AC', 'GT', 'CG', 'GC', 'AT', 'GA', 'TG', 'CT', 'TC', 'TA']"
      ]
     },
     "execution_count": 39,
     "metadata": {},
     "output_type": "execute_result"
    }
   ],
   "source": [
    "counts.keys()"
   ]
  },
  {
   "cell_type": "markdown",
   "metadata": {},
   "source": [
    "so we can easily answer questions that require us to look at all pairs. E.g. which dinucleotides occur exactly twice in the sequence?"
   ]
  },
  {
   "cell_type": "code",
   "execution_count": 41,
   "metadata": {
    "collapsed": false
   },
   "outputs": [
    {
     "name": "stdout",
     "output_type": "stream",
     "text": [
      "TG\n",
      "TC\n"
     ]
    }
   ],
   "source": [
    "for dinucleotide in counts.keys():\n",
    "    dinuc_count = counts.get(dinucleotide)\n",
    "    \n",
    "    if dinuc_count == 2:\n",
    "        print(dinucleotide)"
   ]
  },
  {
   "cell_type": "markdown",
   "metadata": {},
   "source": [
    "###Looping over pairs\n",
    "\n",
    "This pattern of iterating over keys and looking up values is common, so there's a shortcut:"
   ]
  },
  {
   "cell_type": "code",
   "execution_count": 43,
   "metadata": {
    "collapsed": false
   },
   "outputs": [
    {
     "name": "stdout",
     "output_type": "stream",
     "text": [
      "TG\n",
      "TC\n"
     ]
    }
   ],
   "source": [
    "for dinucleotide, count in counts.items():\n",
    "    if count == 2:\n",
    "        print(dinucleotide)"
   ]
  },
  {
   "cell_type": "markdown",
   "metadata": {},
   "source": [
    "###Lookup vs. iteration\n",
    "\n",
    "Remember, we don't need to write a loop if we just want to get a single value. If we are looking for the count for 'AT' then we __dont__ need to do this:"
   ]
  },
  {
   "cell_type": "code",
   "execution_count": null,
   "metadata": {
    "collapsed": false
   },
   "outputs": [],
   "source": [
    "for dinucleotide, count in counts.items():\n",
    "    if dinucleotide == 'AT':\n",
    "        print(count)"
   ]
  },
  {
   "cell_type": "markdown",
   "metadata": {},
   "source": [
    "We can just ask for the value directly:"
   ]
  },
  {
   "cell_type": "code",
   "execution_count": null,
   "metadata": {
    "collapsed": false
   },
   "outputs": [],
   "source": [
    "print(counts.get('AT'))"
   ]
  },
  {
   "cell_type": "markdown",
   "metadata": {},
   "source": [
    "##Exercises\n",
    "\n",
    "###DNA translation \n",
    "\n",
    "Here's a dict that stores the (a) genetic code using a dict:"
   ]
  },
  {
   "cell_type": "code",
   "execution_count": null,
   "metadata": {
    "collapsed": true
   },
   "outputs": [],
   "source": [
    "gencode = {\n",
    "'ATA':'I', 'ATC':'I', 'ATT':'I', 'ATG':'M',\n",
    "'ACA':'T', 'ACC':'T', 'ACG':'T', 'ACT':'T',\n",
    "'AAC':'N', 'AAT':'N', 'AAA':'K', 'AAG':'K',\n",
    "'AGC':'S', 'AGT':'S', 'AGA':'R', 'AGG':'R',\n",
    "'CTA':'L', 'CTC':'L', 'CTG':'L', 'CTT':'L',\n",
    "'CCA':'P', 'CCC':'P', 'CCG':'P', 'CCT':'P',\n",
    "'CAC':'H', 'CAT':'H', 'CAA':'Q', 'CAG':'Q',\n",
    "'CGA':'R', 'CGC':'R', 'CGG':'R', 'CGT':'R',\n",
    "'GTA':'V', 'GTC':'V', 'GTG':'V', 'GTT':'V',\n",
    "'GCA':'A', 'GCC':'A', 'GCG':'A', 'GCT':'A',\n",
    "'GAC':'D', 'GAT':'D', 'GAA':'E', 'GAG':'E',\n",
    "'GGA':'G', 'GGC':'G', 'GGG':'G', 'GGT':'G',\n",
    "'TCA':'S', 'TCC':'S', 'TCG':'S', 'TCT':'S',\n",
    "'TTC':'F', 'TTT':'F', 'TTA':'L', 'TTG':'L',\n",
    "'TAC':'Y', 'TAT':'Y', 'TAA':'_', 'TAG':'_',\n",
    "'TGC':'C', 'TGT':'C', 'TGA':'_', 'TGG':'W'}"
   ]
  },
  {
   "cell_type": "markdown",
   "metadata": {},
   "source": [
    "Write a program that will take a DNA sequence and translate it into protein using the translation table.\n",
    "\n",
    "What happens if the DNA sequence contains undetermined bases (e.g. N)?\n",
    "\n",
    "Can you generate a translation in all three forward frames? All three reverse frames?"
   ]
  },
  {
   "cell_type": "code",
   "execution_count": null,
   "metadata": {
    "collapsed": false
   },
   "outputs": [],
   "source": [
    "# ignore this cell, it's for loading custom js code\n",
    "from IPython.core.display import Javascript\n",
    "Javascript(filename=\"custom.js\")"
   ]
  },
  {
   "cell_type": "code",
   "execution_count": null,
   "metadata": {
    "collapsed": false
   },
   "outputs": [],
   "source": [
    "# ignore this cell, it's for loading custom css code\n",
    "from IPython.core.display import HTML\n",
    "HTML(filename=\"custom.css\")"
   ]
  }
 ],
 "metadata": {
  "kernelspec": {
   "display_name": "Python 2",
   "language": "python",
   "name": "python2"
  },
  "language_info": {
   "codemirror_mode": {
    "name": "ipython",
    "version": 2
   },
   "file_extension": ".py",
   "mimetype": "text/x-python",
   "name": "python",
   "nbconvert_exporter": "python",
   "pygments_lexer": "ipython2",
   "version": "2.7.6"
  }
 },
 "nbformat": 4,
 "nbformat_minor": 0
}
