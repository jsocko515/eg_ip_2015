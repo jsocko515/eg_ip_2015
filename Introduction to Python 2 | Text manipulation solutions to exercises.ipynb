{
 "cells": [
  {
   "cell_type": "markdown",
   "metadata": {},
   "source": [
    "#Text manipulation solutions to exercises"
   ]
  },
  {
   "cell_type": "code",
   "execution_count": null,
   "metadata": {
    "collapsed": true
   },
   "outputs": [],
   "source": []
  },
  {
   "cell_type": "markdown",
   "metadata": {},
   "source": [
    "<h1 id=\"toctitle\">Contents</h1>\n",
    "<ul id=\"toc\"/>"
   ]
  },
  {
   "cell_type": "markdown",
   "metadata": {},
   "source": [
    "##Calculating AT content\n",
    "\n",
    "First, we need to store the information we need - the A and T count, and the length of the DNA sequence:"
   ]
  },
  {
   "cell_type": "code",
   "execution_count": 1,
   "metadata": {
    "collapsed": true
   },
   "outputs": [],
   "source": [
    "my_dna = \"ACTGATCGATTACGTATAGTATTTGCTATCATACATATATATCGATGCGTTCAT\"\n",
    "length = len(my_dna)\n",
    "a_count = my_dna.count('A')\n",
    "t_count = my_dna.count('T')"
   ]
  },
  {
   "cell_type": "markdown",
   "metadata": {},
   "source": [
    "We can print these out to check that they look OK:"
   ]
  },
  {
   "cell_type": "code",
   "execution_count": 2,
   "metadata": {
    "collapsed": false
   },
   "outputs": [
    {
     "name": "stdout",
     "output_type": "stream",
     "text": [
      "length: 54\n",
      "A count: 16\n",
      "T count: 21\n"
     ]
    }
   ],
   "source": [
    "print(\"length: \" + str(length))\n",
    "print(\"A count: \" + str(a_count))\n",
    "print(\"T count: \" + str(t_count))"
   ]
  },
  {
   "cell_type": "markdown",
   "metadata": {},
   "source": [
    "Now let's try the calculation:"
   ]
  },
  {
   "cell_type": "code",
   "execution_count": 3,
   "metadata": {
    "collapsed": false
   },
   "outputs": [
    {
     "name": "stdout",
     "output_type": "stream",
     "text": [
      "AT content is 16\n"
     ]
    }
   ],
   "source": [
    "at_content = a_count + t_count / length\n",
    "print(\"AT content is \" + str(at_content))"
   ]
  },
  {
   "cell_type": "markdown",
   "metadata": {},
   "source": [
    "This is definitely not right, it should be between zero and one! We need parentheses:"
   ]
  },
  {
   "cell_type": "code",
   "execution_count": 5,
   "metadata": {
    "collapsed": false
   },
   "outputs": [
    {
     "name": "stdout",
     "output_type": "stream",
     "text": [
      "AT content is 0\n"
     ]
    }
   ],
   "source": [
    "at_content = (a_count + t_count) / length\n",
    "print(\"AT content is \" + str(at_content))"
   ]
  },
  {
   "cell_type": "markdown",
   "metadata": {},
   "source": [
    "Remember to include the line for division:"
   ]
  },
  {
   "cell_type": "code",
   "execution_count": 6,
   "metadata": {
    "collapsed": false
   },
   "outputs": [
    {
     "name": "stdout",
     "output_type": "stream",
     "text": [
      "AT content is 0.685185185185\n"
     ]
    }
   ],
   "source": [
    "from __future__ import division\n",
    "\n",
    "at_content = (a_count + t_count) / length\n",
    "print(\"AT content is \" + str(at_content))"
   ]
  },
  {
   "cell_type": "markdown",
   "metadata": {},
   "source": [
    "Final version:"
   ]
  },
  {
   "cell_type": "code",
   "execution_count": 7,
   "metadata": {
    "collapsed": false
   },
   "outputs": [
    {
     "name": "stdout",
     "output_type": "stream",
     "text": [
      "AT content is 0.685185185185\n"
     ]
    }
   ],
   "source": [
    "my_dna = \"ACTGATCGATTACGTATAGTATTTGCTATCATACATATATATCGATGCGTTCAT\"\n",
    "length = len(my_dna)\n",
    "a_count = my_dna.count('A')\n",
    "t_count = my_dna.count('T')\n",
    "at_content = (a_count + t_count) / length\n",
    "print(\"AT content is \" + str(at_content))"
   ]
  },
  {
   "cell_type": "markdown",
   "metadata": {},
   "source": [
    "##Complementing DNA\n",
    "\n",
    "The obvious thing doesn't work:"
   ]
  },
  {
   "cell_type": "code",
   "execution_count": 8,
   "metadata": {
    "collapsed": false
   },
   "outputs": [
    {
     "name": "stdout",
     "output_type": "stream",
     "text": [
      "ACACAACCAAAACCAAAACAAAAACCAAACAAACAAAAAAAACCAACCCAACAA\n"
     ]
    }
   ],
   "source": [
    "my_dna = \"ACTGATCGATTACGTATAGTATTTGCTATCATACATATATATCGATGCGTTCAT\"\n",
    "# replace A with T\n",
    "replacement1 = my_dna.replace('A', 'T')\n",
    "# replace T with A\n",
    "replacement2 = replacement1.replace('T', 'A')\n",
    "# replace C with G\n",
    "replacement3 = replacement2.replace('C', 'G')\n",
    "# replace G with C\n",
    "replacement4 = replacement3.replace('G', 'C')\n",
    "# print the result of the final replacement\n",
    "print(replacement4)"
   ]
  },
  {
   "cell_type": "markdown",
   "metadata": {},
   "source": [
    "Because we change the A to T then back to A. To avoid it, we need to either use an intermediate step:"
   ]
  },
  {
   "cell_type": "code",
   "execution_count": 9,
   "metadata": {
    "collapsed": false
   },
   "outputs": [
    {
     "name": "stdout",
     "output_type": "stream",
     "text": [
      "TGACTAGCTAATGCATATCATAAACGATAGTATGTATATATAGCTACGCAAGTA\n"
     ]
    }
   ],
   "source": [
    "my_dna = \"ACTGATCGATTACGTATAGTATTTGCTATCATACATATATATCGATGCGTTCAT\"\n",
    "replacement1 = my_dna.replace('A', 'H')\n",
    "replacement2 = replacement1.replace('T', 'J')\n",
    "replacement3 = replacement2.replace('C', 'K')\n",
    "replacement4 = replacement3.replace('G', 'L')\n",
    "replacement5 = replacement4.replace('H', 'T')\n",
    "replacement6 = replacement5.replace('J', 'A')\n",
    "replacement7 = replacement6.replace('K', 'G')\n",
    "replacement8 = replacement7.replace('L', 'C')\n",
    "print(replacement8)"
   ]
  },
  {
   "cell_type": "markdown",
   "metadata": {},
   "source": [
    "or do the replacement in a different case:"
   ]
  },
  {
   "cell_type": "code",
   "execution_count": 10,
   "metadata": {
    "collapsed": false
   },
   "outputs": [
    {
     "name": "stdout",
     "output_type": "stream",
     "text": [
      "tCTGtTCGtTTtCGTtTtGTtTTTGCTtTCtTtCtTtTtTtTCGtTGCGTTCtT\n",
      "tCaGtaCGtaatCGatatGataaaGCataCtatCtatatataCGtaGCGaaCta\n",
      "tgaGtagGtaatgGatatGataaaGgatagtatgtatatatagGtaGgGaagta\n",
      "tgactagctaatgcatatcataaacgatagtatgtatatatagctacgcaagta\n",
      "TGACTAGCTAATGCATATCATAAACGATAGTATGTATATATAGCTACGCAAGTA\n"
     ]
    }
   ],
   "source": [
    "my_dna = \"ACTGATCGATTACGTATAGTATTTGCTATCATACATATATATCGATGCGTTCAT\"\n",
    "replacement1 = my_dna.replace('A', 't')\n",
    "print(replacement1)\n",
    "replacement2 = replacement1.replace('T', 'a')\n",
    "print(replacement2)\n",
    "replacement3 = replacement2.replace('C', 'g')\n",
    "print(replacement3)\n",
    "replacement4 = replacement3.replace('G', 'c')\n",
    "print(replacement4)\n",
    "print(replacement4.upper())"
   ]
  },
  {
   "cell_type": "markdown",
   "metadata": {},
   "source": [
    "##Restriction fragment lengths\n",
    "\n",
    "We can kind of see the answer just by looking at the sequence:\n",
    "\n",
    "`0         1         2         3         4         5`\n",
    "`0123456789012345678901234567890123456789012345678901234`\n",
    "`ACTGATCGATTACGTATAGTA`__`GAATTC`__`TATCATACATATATATCGATGCGTTCAT`\n"
   ]
  },
  {
   "cell_type": "markdown",
   "metadata": {},
   "source": [
    "First fragment will be position 0 to 21, second from 22 to the end, so the lengths are 22 and 33. \n",
    "\n",
    "The same idea in code:"
   ]
  },
  {
   "cell_type": "code",
   "execution_count": 12,
   "metadata": {
    "collapsed": false
   },
   "outputs": [
    {
     "name": "stdout",
     "output_type": "stream",
     "text": [
      "length of fragment one is 22\n",
      "length of fragment two is 33\n"
     ]
    }
   ],
   "source": [
    "my_dna = \"ACTGATCGATTACGTATAGTAGAATTCTATCATACATATATATCGATGCGTTCAT\"\n",
    "frag1_length = my_dna.find(\"GAATTC\") + 1\n",
    "frag2_length = len(my_dna) - frag1_length\n",
    "print(\"length of fragment one is \" + str(frag1_length))\n",
    "print(\"length of fragment two is \" + str(frag2_length))"
   ]
  },
  {
   "cell_type": "markdown",
   "metadata": {},
   "source": [
    "##Splicing out introns\n",
    "\n",
    "First, store the DNA and extract the exons as separate variables:"
   ]
  },
  {
   "cell_type": "code",
   "execution_count": 15,
   "metadata": {
    "collapsed": false
   },
   "outputs": [],
   "source": [
    "my_dna =\"ATCGATCGATCGATCGACTGACTAGTCATAGCTATGCATGTAGCTACTCGATCGATCGATCGATCGATCGATCGATCGATCGATCATGCTATCATCGATCGATATCGATGCATCGACTACTAT\""
   ]
  },
  {
   "cell_type": "markdown",
   "metadata": {},
   "source": [
    "Remember that we start counting from zero, and that positions are inclusive at the start and exclusive at the end:"
   ]
  },
  {
   "cell_type": "code",
   "execution_count": 16,
   "metadata": {
    "collapsed": true
   },
   "outputs": [],
   "source": [
    "exon1 = my_dna[0:63]\n",
    "exon2 = my_dna[90:]"
   ]
  },
  {
   "cell_type": "markdown",
   "metadata": {},
   "source": [
    "Now we can just join the two exons and print them out:"
   ]
  },
  {
   "cell_type": "code",
   "execution_count": 17,
   "metadata": {
    "collapsed": false
   },
   "outputs": [
    {
     "name": "stdout",
     "output_type": "stream",
     "text": [
      "ATCGATCGATCGATCGACTGACTAGTCATAGCTATGCATGTAGCTACTCGATCGATCGATCGAATCATCGATCGATATCGATGCATCGACTACTAT\n"
     ]
    }
   ],
   "source": [
    "print(exon1 + exon2)"
   ]
  },
  {
   "cell_type": "markdown",
   "metadata": {},
   "source": [
    "To calculate the coding percentage, we just have to take the length of the exons, divide by the length of the sequence, and multiply by 100:"
   ]
  },
  {
   "cell_type": "code",
   "execution_count": 19,
   "metadata": {
    "collapsed": false
   },
   "outputs": [
    {
     "name": "stdout",
     "output_type": "stream",
     "text": [
      "78.0487804878\n"
     ]
    }
   ],
   "source": [
    "coding_length = len(exon1 + exon2)\n",
    "total_length = len(my_dna)\n",
    "print((coding_length / total_length) * 100)"
   ]
  },
  {
   "cell_type": "markdown",
   "metadata": {},
   "source": [
    "To print out the upper/lower case version, we need to take the middle bit i.e. the intron and convert it to lower case, then join the bits back together:"
   ]
  },
  {
   "cell_type": "code",
   "execution_count": 20,
   "metadata": {
    "collapsed": false
   },
   "outputs": [
    {
     "name": "stdout",
     "output_type": "stream",
     "text": [
      "ATCGATCGATCGATCGACTGACTAGTCATAGCTATGCATGTAGCTACTCGATCGATCGATCGAtcgatcgatcgatcgatcgatcatgctATCATCGATCGATATCGATGCATCGACTACTAT\n"
     ]
    }
   ],
   "source": [
    "exon1 = my_dna[0:63]\n",
    "intron = my_dna[63:90]\n",
    "exon2 = my_dna[90:]\n",
    "print(exon1 + intron.lower() + exon2)"
   ]
  },
  {
   "cell_type": "code",
   "execution_count": null,
   "metadata": {
    "collapsed": true
   },
   "outputs": [],
   "source": []
  },
  {
   "cell_type": "code",
   "execution_count": null,
   "metadata": {
    "collapsed": true
   },
   "outputs": [],
   "source": []
  },
  {
   "cell_type": "code",
   "execution_count": null,
   "metadata": {
    "collapsed": true
   },
   "outputs": [],
   "source": []
  },
  {
   "cell_type": "code",
   "execution_count": null,
   "metadata": {
    "collapsed": true
   },
   "outputs": [],
   "source": []
  },
  {
   "cell_type": "code",
   "execution_count": null,
   "metadata": {
    "collapsed": true
   },
   "outputs": [],
   "source": []
  },
  {
   "cell_type": "code",
   "execution_count": null,
   "metadata": {
    "collapsed": true
   },
   "outputs": [],
   "source": []
  },
  {
   "cell_type": "code",
   "execution_count": null,
   "metadata": {
    "collapsed": true
   },
   "outputs": [],
   "source": []
  },
  {
   "cell_type": "code",
   "execution_count": null,
   "metadata": {
    "collapsed": true
   },
   "outputs": [],
   "source": []
  },
  {
   "cell_type": "code",
   "execution_count": null,
   "metadata": {
    "collapsed": true
   },
   "outputs": [],
   "source": []
  },
  {
   "cell_type": "code",
   "execution_count": null,
   "metadata": {
    "collapsed": true
   },
   "outputs": [],
   "source": []
  },
  {
   "cell_type": "code",
   "execution_count": 127,
   "metadata": {
    "collapsed": false
   },
   "outputs": [
    {
     "data": {
      "application/javascript": [
       "var currenth1=0;\n",
       " \n",
       "function regentoc() {\n",
       "document.getElementById(\"toc\").innerHTML = \"\";\n",
       "var currenth2 = 0;\n",
       "$(\"h2,h3\").not(\"#Contents\").each(function(mainIndex) {\n",
       "    el = $(this);\n",
       "    title = el.attr(\"id\");\n",
       "    text = el.html();\n",
       "    link = \"#\" + el.attr(\"id\");\n",
       "    if ( document.getElementById(title).tagName == \"H2\" ) {\n",
       "        currenth2 += 1;\n",
       "        newLine =\n",
       "            \"<li class='maintoc'>\" +\n",
       "               \"<a href='\" + link + \"'>\" + text + \"</a>\" +\n",
       "            \"</li>\" +\n",
       "            \"<ul id='h2\" + currenth2 + \"'></ul>\";\n",
       "        document.getElementById(\"toc\").innerHTML += newLine;\n",
       "    } else if ( document.getElementById(title).tagName==\"H3\" ) {\n",
       "        h1list = document.getElementById(\"h2\"+currenth2);\n",
       "        newLine = \"<li class='subtoc'>\" + \"<a href='\" + link + \"'>\" + text + \"</a>\" + \"</li>\";\n",
       "        h1list.innerHTML += newLine;\n",
       "    }\n",
       "});\n",
       "}\n",
       " \n",
       "setInterval(regentoc,1000);\n"
      ],
      "text/plain": [
       "<IPython.core.display.Javascript object>"
      ]
     },
     "execution_count": 127,
     "metadata": {},
     "output_type": "execute_result"
    }
   ],
   "source": [
    "# ignore this cell, it's for loading custom js code\n",
    "from IPython.core.display import Javascript\n",
    "Javascript(filename=\"custom.js\")"
   ]
  },
  {
   "cell_type": "code",
   "execution_count": 129,
   "metadata": {
    "collapsed": false
   },
   "outputs": [
    {
     "data": {
      "text/html": [
       "<style>\n",
       "/*\n",
       "\n",
       "    Name:       Base16 Solarized Light\n",
       "    Author:     Ethan Schoonover (http://ethanschoonover.com/solarized)\n",
       "\n",
       "    CodeMirror template adapted for IPython Notebook by Nikhil Sonnad (https://github.com/nsonnad/base16-ipython-notebook)\n",
       "    CodeMirror template by Jan T. Sott (https://github.com/idleberg/base16-chrome-devtools)\n",
       "    Original Base16 color scheme by Chris Kempson (https://github.com/chriskempson/base16)\n",
       "\n",
       "*/\n",
       "\n",
       "div.output_text{\n",
       "        max-height:400px;\n",
       "        overflow:scroll;\n",
       "}\n",
       "\n",
       "div#notebook {\n",
       "  font-family: 'PT Serif' !important;\n",
       "} \n",
       "\n",
       "div.CodeMirror, div.output_area pre, div.output_wrapper, div.prompt {\n",
       "  font-family: 'Source Code Pro', monospace !important;\n",
       "}\n",
       "\n",
       ".output_text {\n",
       "  background-color: #f0f0f0;\n",
       "}\n",
       "\n",
       ".prompt { display: none; }\n",
       "div.output_subarea { max-width: calc(100%); }\n",
       "\n",
       "\n",
       "/* GLOBALS */\n",
       "body {background-color: #fdf6e3;}\n",
       "a {color: #268bd2;}\n",
       "\n",
       "/* INTRO PAGE */\n",
       ".toolbar_info, .list-container {color: #073642;}\n",
       "\n",
       "/* NOTEBOOK */\n",
       "\n",
       "/* comment out this line to bring the toolbar back */\n",
       "/* div#maintoolbar, div#header {display: none !important;} */\n",
       "\n",
       "div#notebook {border-top: none;}\n",
       "\n",
       "div.input_prompt {color: #6c71c4;}\n",
       "div.output_prompt {color: #d33682;}\n",
       "div.input_area {\n",
       "  border-radius: 0px;\n",
       "  border: 1px solid #93a1a1;\n",
       "}\n",
       "div.output_area pre {font-weight: normal; color: #586e75;}\n",
       "div.output_subarea {font-weight: normal; color: #586e75;}\n",
       "\n",
       ".rendered_html table, .rendered_html th, .rendered_html tr, .rendered_html td {\n",
       "  border: 1px  #657b83 solid;\n",
       "  color: #657b83;\n",
       "}\n",
       "div.output_html { font-family: sans-serif; }\n",
       "table.dataframe tr {border: 1px #586e75;}\n",
       "\n",
       "div.cell.selected {border-radius: 0px;}\n",
       "div.cell.edit_mode {border-radius: 0px; border: thin solid #d33682;}\n",
       "div.text_cell_render, div.output_html {color: #586e75;}\n",
       "\n",
       "span.ansiblack {color: #073642;}\n",
       "span.ansiblue {color: #2aa198;}\n",
       "span.ansigray {color: #839496;}\n",
       "span.ansigreen {color: #859900;}\n",
       "span.ansipurple {color: #6c71c4;}\n",
       "span.ansired {color: #dc322f;}\n",
       "span.ansiyellow {color: #b58900;}\n",
       "\n",
       "div.output_stderr {background-color: #dc322f;}\n",
       "div.output_stderr pre {color: #eee8d5;}\n",
       "\n",
       ".cm-s-ipython.CodeMirror {background: #fdf6e3; color: #073642;}\n",
       ".cm-s-ipython div.CodeMirror-selected {background: #eee8d5 !important;}\n",
       ".cm-s-ipython .CodeMirror-gutters {background: #fdf6e3; border-right: 0px;}\n",
       ".cm-s-ipython .CodeMirror-linenumber {color: #839496;}\n",
       ".cm-s-ipython .CodeMirror-cursor {border-left: 1px solid #657b83 !important;}\n",
       "\n",
       ".cm-s-ipython span.cm-comment {color: #d33682;}\n",
       ".cm-s-ipython span.cm-atom {color: #6c71c4;}\n",
       ".cm-s-ipython span.cm-number {color: #6c71c4;}\n",
       "\n",
       ".cm-s-ipython span.cm-property, .cm-s-ipython span.cm-attribute {color: #859900;}\n",
       ".cm-s-ipython span.cm-keyword {color: #dc322f;}\n",
       ".cm-s-ipython span.cm-string {color: #b58900;}\n",
       ".cm-s-ipython span.cm-operator {color: #d33682;}\n",
       ".cm-s-ipython span.cm-builtin {color: #6c71c4;}\n",
       "\n",
       ".cm-s-ipython span.cm-variable {color: #859900;}\n",
       ".cm-s-ipython span.cm-variable-2 {color: #268bd2;}\n",
       ".cm-s-ipython span.cm-def {color: #cb4b16;}\n",
       ".cm-s-ipython span.cm-error {background: #dc322f; color: #657b83;}\n",
       ".cm-s-ipython span.cm-bracket {color: #586e75;}\n",
       ".cm-s-ipython span.cm-tag {color: #dc322f;}\n",
       ".cm-s-ipython span.cm-link {color: #6c71c4;}\n",
       "\n",
       "/*  html output highlighting*/\n",
       "\n",
       "\n",
       "div.input_area>div.highlight {background: #fdf6e3; color: #073642;}\n",
       ".cm-s-ipython div.CodeMirror-selected {background: #eee8d5 !important;}\n",
       ".cm-s-ipython .CodeMirror-gutters {background: #fdf6e3; border-right: 0px;}\n",
       ".cm-s-ipython .CodeMirror-linenumber {color: #839496;}\n",
       ".cm-s-ipython .CodeMirror-cursor {border-left: 1px solid #657b83 !important;}\n",
       "\n",
       ".highlight span.c {color: #d33682;}\n",
       ".cm-s-ipython span.cm-atom {color: #6c71c4;}\n",
       ".highlight span.mi {color: #6c71c4;}\n",
       "\n",
       ".cm-s-ipython span.cm-property, .cm-s-ipython span.cm-attribute {color: #859900;}\n",
       ".highlight span.kn {color: #dc322f;}\n",
       ".highlight span.k {color: #dc322f;}\n",
       ".highlight span.ow {color: #dc322f;}\n",
       "\n",
       ".highlight span.o {color: #d33682; font-weight: bold;}\n",
       "\n",
       ".cm-s-ipython span.cm-string {color: #b58900;}\n",
       ".highlight span.nb {color: #6c71c4;}\n",
       "\n",
       ".highlight span.n {color: #859900;}\n",
       ".highlight span.nn {color: #859900; font-weight: }\n",
       ".cm-s-ipython span.cm-def {color: #cb4b16;}\n",
       ".cm-s-ipython span.cm-error {background: #dc322f; color: #657b83;}\n",
       ".cm-s-ipython span.cm-bracket {color: #586e75;}\n",
       ".cm-s-ipython span.cm-tag {color: #dc322f;}\n",
       ".cm-s-ipython span.cm-link {color: #6c71c4;}\n",
       "\n",
       "\n",
       "</style>\n"
      ],
      "text/plain": [
       "<IPython.core.display.HTML object>"
      ]
     },
     "execution_count": 129,
     "metadata": {},
     "output_type": "execute_result"
    }
   ],
   "source": [
    "# ignore this cell, it's for loading custom css code\n",
    "from IPython.core.display import HTML\n",
    "HTML(filename=\"custom_css.txt\")"
   ]
  }
 ],
 "metadata": {
  "kernelspec": {
   "display_name": "Python 2",
   "language": "python",
   "name": "python2"
  },
  "language_info": {
   "codemirror_mode": {
    "name": "ipython",
    "version": 2
   },
   "file_extension": ".py",
   "mimetype": "text/x-python",
   "name": "python",
   "nbconvert_exporter": "python",
   "pygments_lexer": "ipython2",
   "version": "2.7.6"
  }
 },
 "nbformat": 4,
 "nbformat_minor": 0
}
