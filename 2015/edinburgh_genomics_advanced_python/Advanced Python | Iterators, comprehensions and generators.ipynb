{
 "cells": [
  {
   "cell_type": "markdown",
   "metadata": {},
   "source": [
    "#Iterators, comprehensions and generators\n",
    "\n",
    "##List comprehensions\n",
    "\n",
    "In the session on functional programming, we were defining lists. E.g. the result of calling `get_at()` on each element of `dna_list`:"
   ]
  },
  {
   "cell_type": "code",
   "execution_count": 2,
   "metadata": {
    "collapsed": false
   },
   "outputs": [
    {
     "data": {
      "text/plain": [
       "[0.5, 0.5, 0.6666666666666666, 0.375]"
      ]
     },
     "execution_count": 2,
     "metadata": {},
     "output_type": "execute_result"
    }
   ],
   "source": [
    "from __future__ import division\n",
    "\n",
    "def get_at(dna): \n",
    "    return (dna.count('A') + dna.count('T')) / len(dna) \n",
    "\n",
    "dna_list = ['TAGC', 'ACGTATGC', 'ATG', 'ACGGCTAG'] \n",
    "map(get_at, dna_list) "
   ]
  },
  {
   "cell_type": "markdown",
   "metadata": {},
   "source": [
    "The elements of `dna_list` which are at least 4 bases long: "
   ]
  },
  {
   "cell_type": "code",
   "execution_count": 5,
   "metadata": {
    "collapsed": false
   },
   "outputs": [
    {
     "data": {
      "text/plain": [
       "['TAGC', 'ACGTATGC', 'ACGGCTAG']"
      ]
     },
     "execution_count": 5,
     "metadata": {},
     "output_type": "execute_result"
    }
   ],
   "source": [
    "filter(lambda x: len(x) > 3, dna_list)"
   ]
  },
  {
   "cell_type": "markdown",
   "metadata": {},
   "source": [
    "Python has a special syntax for defining lists called **list comprehensions**. Here's the list of lengths of the DNA sequences in three ways:"
   ]
  },
  {
   "cell_type": "code",
   "execution_count": 10,
   "metadata": {
    "collapsed": true
   },
   "outputs": [],
   "source": [
    "# with a loop\n",
    "\n",
    "l1 = []\n",
    "for dna in dna_list:\n",
    "    l1.append(len(dna))\n",
    "    \n",
    "# with a map\n",
    "l2 = map(len, dna_list)\n",
    "\n",
    "# as a list comprehension\n",
    "l3 = [len(dna) for dna in dna_list]\n",
    "\n",
    "assert l1 == l2\n",
    "assert l1 == l3"
   ]
  },
  {
   "cell_type": "markdown",
   "metadata": {},
   "source": [
    "Another examples: AT contents"
   ]
  },
  {
   "cell_type": "code",
   "execution_count": 13,
   "metadata": {
    "collapsed": false
   },
   "outputs": [
    {
     "data": {
      "text/plain": [
       "[0.5, 0.5, 0.6666666666666666, 0.375]"
      ]
     },
     "execution_count": 13,
     "metadata": {},
     "output_type": "execute_result"
    }
   ],
   "source": [
    "# with a map\n",
    "l1 = map(get_at, dna_list)\n",
    "\n",
    "# as a list comprehension\n",
    "l2 = [get_at(dna) for dna in dna_list]\n",
    "\n",
    "assert l1 == l2\n",
    "l1"
   ]
  },
  {
   "cell_type": "markdown",
   "metadata": {},
   "source": [
    "But what if we don't have `get_at()` defined? "
   ]
  },
  {
   "cell_type": "code",
   "execution_count": 20,
   "metadata": {
    "collapsed": false
   },
   "outputs": [],
   "source": [
    "# with a map\n",
    "l1 = map(lambda dna : (dna.count('A') + dna.count('T')) / len(dna), dna_list)\n",
    "\n",
    "# as a list comprehension\n",
    "l2 = [(dna.count('A') + dna.count('T')) / len(dna) for dna in dna_list]\n",
    "\n",
    "assert l1 == l2"
   ]
  },
  {
   "cell_type": "markdown",
   "metadata": {},
   "source": [
    "The list comprehension allows us to express the transformation without having to write either a function or a lambda expression. \n",
    "\n",
    "List comprehensions can also have conditions:"
   ]
  },
  {
   "cell_type": "code",
   "execution_count": 22,
   "metadata": {
    "collapsed": false
   },
   "outputs": [
    {
     "data": {
      "text/plain": [
       "[4, 8, 3]"
      ]
     },
     "execution_count": 22,
     "metadata": {},
     "output_type": "execute_result"
    }
   ],
   "source": [
    "[len(dna) for dna in dna_list if get_at(dna) >= 0.5]"
   ]
  },
  {
   "cell_type": "markdown",
   "metadata": {},
   "source": [
    "This allows us to effectively do a map+filter all in one go. More readably:"
   ]
  },
  {
   "cell_type": "code",
   "execution_count": 24,
   "metadata": {
    "collapsed": false
   },
   "outputs": [
    {
     "data": {
      "text/plain": [
       "[4, 8, 3]"
      ]
     },
     "execution_count": 24,
     "metadata": {},
     "output_type": "execute_result"
    }
   ],
   "source": [
    "[len(dna) \n",
    " for dna in dna_list \n",
    " if get_at(dna) >= 0.5]"
   ]
  },
  {
   "cell_type": "markdown",
   "metadata": {},
   "source": [
    "List comprehensions can be very concise. They can operate on any iterable type, not just a list - E.g. get a list of all FASTA headers:"
   ]
  },
  {
   "cell_type": "code",
   "execution_count": 26,
   "metadata": {
    "collapsed": false
   },
   "outputs": [
    {
     "data": {
      "text/plain": [
       "['normal_sequence\\n',\n",
       " 'sequence_in_lowercase\\n',\n",
       " 'sequence_with_unknown_bases\\n',\n",
       " 'this header contains spaces\\n',\n",
       " 'this_header_is_very_long_and_should_be_truncated\\n',\n",
       " 'some_gene\\n']"
      ]
     },
     "execution_count": 26,
     "metadata": {},
     "output_type": "execute_result"
    }
   ],
   "source": [
    "# using sequences.fasta from previous exercise\n",
    "[line[1:] for line in open('sequences.fasta') if line.startswith('>')]"
   ]
  },
  {
   "cell_type": "markdown",
   "metadata": {},
   "source": [
    "This will become very interesting when we start to talk about iterables later on. \n",
    "\n",
    "List comprehensions can be nested, which is just like using nested `for` loops. To generate all possible dinucleotides:"
   ]
  },
  {
   "cell_type": "code",
   "execution_count": 28,
   "metadata": {
    "collapsed": false
   },
   "outputs": [
    {
     "data": {
      "text/plain": [
       "['AA',\n",
       " 'AT',\n",
       " 'AG',\n",
       " 'AC',\n",
       " 'TA',\n",
       " 'TT',\n",
       " 'TG',\n",
       " 'TC',\n",
       " 'GA',\n",
       " 'GT',\n",
       " 'GG',\n",
       " 'GC',\n",
       " 'CA',\n",
       " 'CT',\n",
       " 'CG',\n",
       " 'CC']"
      ]
     },
     "execution_count": 28,
     "metadata": {},
     "output_type": "execute_result"
    }
   ],
   "source": [
    "bases = ['A', 'T', 'G', 'C']\n",
    "[base1 + base2 for base1 in bases for base2 in bases]\n"
   ]
  },
  {
   "cell_type": "markdown",
   "metadata": {},
   "source": [
    "Needless to say, this can get complicated very quickly. \n",
    "\n",
    "Closely related to list comprehensions are **generator expressions**. A generator expression is just a list comprehension with round brackets rather than square ones:"
   ]
  },
  {
   "cell_type": "code",
   "execution_count": 31,
   "metadata": {
    "collapsed": false
   },
   "outputs": [
    {
     "data": {
      "text/plain": [
       "<generator object <genexpr> at 0x7f40e02ae1e0>"
      ]
     },
     "execution_count": 31,
     "metadata": {},
     "output_type": "execute_result"
    }
   ],
   "source": [
    "(len(dna) for dna in dna_list)"
   ]
  },
  {
   "cell_type": "markdown",
   "metadata": {},
   "source": [
    "The only difference is that generator expressions are **lazy** i.e. they only calculate the elements as they are needed. This can save a lot of memory since we don't have create the whole list. E.g. our previous example of getting FASTA headers creates a list in memory, but if we change to a generator:"
   ]
  },
  {
   "cell_type": "code",
   "execution_count": 34,
   "metadata": {
    "collapsed": false
   },
   "outputs": [
    {
     "name": "stdout",
     "output_type": "stream",
     "text": [
      "normal_sequence\n",
      "\n",
      "sequence_in_lowercase\n",
      "\n",
      "sequence_with_unknown_bases\n",
      "\n",
      "this header contains spaces\n",
      "\n",
      "this_header_is_very_long_and_should_be_truncated\n",
      "\n",
      "some_gene\n",
      "\n"
     ]
    }
   ],
   "source": [
    "headers = (line[1:] for line in open('sequences.fasta') if line.startswith('>'))\n",
    "for header in headers:\n",
    "    print(header)\n",
    "    # real processing goes here"
   ]
  },
  {
   "cell_type": "markdown",
   "metadata": {},
   "source": [
    "Then we are only dealing with a single element at a time. To prove it:"
   ]
  },
  {
   "cell_type": "code",
   "execution_count": 39,
   "metadata": {
    "collapsed": false
   },
   "outputs": [
    {
     "name": "stdout",
     "output_type": "stream",
     "text": [
      "100 loops, best of 3: 2.17 ms per loop\n"
     ]
    }
   ],
   "source": [
    "%%timeit\n",
    "l = [2 ** x for x in range(1000)]"
   ]
  },
  {
   "cell_type": "code",
   "execution_count": 41,
   "metadata": {
    "collapsed": false
   },
   "outputs": [
    {
     "name": "stdout",
     "output_type": "stream",
     "text": [
      "100000 loops, best of 3: 12.8 µs per loop\n"
     ]
    }
   ],
   "source": [
    "%%timeit \n",
    "l = (2 ** x for x in range(1000))"
   ]
  },
  {
   "cell_type": "markdown",
   "metadata": {},
   "source": [
    "##Dict comprehensions\n",
    "\n",
    "Just like we often write loops to create lists (which we can replace with map/filter or list comprehensions), we often write loops to create dicts:"
   ]
  },
  {
   "cell_type": "code",
   "execution_count": 42,
   "metadata": {
    "collapsed": false
   },
   "outputs": [
    {
     "data": {
      "text/plain": [
       "{'ACGGCTAG': 0.375, 'ACGTATGC': 0.5, 'ATG': 0.6666666666666666, 'TAGC': 0.5}"
      ]
     },
     "execution_count": 42,
     "metadata": {},
     "output_type": "execute_result"
    }
   ],
   "source": [
    "d = {}\n",
    "for dna in dna_list:\n",
    "    d[dna] = get_at(dna)\n",
    "d"
   ]
  },
  {
   "cell_type": "markdown",
   "metadata": {},
   "source": [
    "Dict comprehensions allow us to express these more compactly:"
   ]
  },
  {
   "cell_type": "code",
   "execution_count": 44,
   "metadata": {
    "collapsed": false
   },
   "outputs": [
    {
     "data": {
      "text/plain": [
       "{'ACGGCTAG': 0.375, 'ACGTATGC': 0.5, 'ATG': 0.6666666666666666, 'TAGC': 0.5}"
      ]
     },
     "execution_count": 44,
     "metadata": {},
     "output_type": "execute_result"
    }
   ],
   "source": [
    "d = { x : get_at(x) for x in dna_list }\n",
    "d"
   ]
  },
  {
   "cell_type": "markdown",
   "metadata": {},
   "source": [
    "This only works for very simple dicts i.e. when we can describe an item with a single expression (`x : get_at(x)`). It wouldn't work for our kmer counting example because that requires us to update the dict. \n",
    "\n",
    "One very common use: creating an index for a list of complex objects. Think back to our list-of-tuples DNA records from the session on data structures:"
   ]
  },
  {
   "cell_type": "code",
   "execution_count": 46,
   "metadata": {
    "collapsed": true
   },
   "outputs": [],
   "source": [
    "records = [\n",
    "    ('actgctagt', 'ABC123', 1),\n",
    "    ('ttaggttta', 'XYZ456', 1),\n",
    "    ('cgcgatcgt', 'HIJ789', 5)\n",
    "]"
   ]
  },
  {
   "cell_type": "markdown",
   "metadata": {},
   "source": [
    "Using a dict comprehension we can quickly create a dict where the keys are the accession number and the values are the tuples themselves:"
   ]
  },
  {
   "cell_type": "code",
   "execution_count": 48,
   "metadata": {
    "collapsed": false
   },
   "outputs": [
    {
     "data": {
      "text/plain": [
       "{'ABC123': ('actgctagt', 'ABC123', 1),\n",
       " 'HIJ789': ('cgcgatcgt', 'HIJ789', 5),\n",
       " 'XYZ456': ('ttaggttta', 'XYZ456', 1)}"
      ]
     },
     "execution_count": 48,
     "metadata": {},
     "output_type": "execute_result"
    }
   ],
   "source": [
    "index = {r[1] : r for r in records}\n",
    "index"
   ]
  },
  {
   "cell_type": "markdown",
   "metadata": {},
   "source": [
    "Which (as we saw before) allows us to very quickly look up the complete record if we know the accession:"
   ]
  },
  {
   "cell_type": "code",
   "execution_count": 50,
   "metadata": {
    "collapsed": false
   },
   "outputs": [
    {
     "data": {
      "text/plain": [
       "('cgcgatcgt', 'HIJ789', 5)"
      ]
     },
     "execution_count": 50,
     "metadata": {},
     "output_type": "execute_result"
    }
   ],
   "source": [
    "index['HIJ789']"
   ]
  },
  {
   "cell_type": "markdown",
   "metadata": {},
   "source": [
    "###Set comprehensions\n",
    "\n",
    "Mentioned for completeness. Curly brackets like a dict comprehension, but single elements rather than pairs:"
   ]
  },
  {
   "cell_type": "code",
   "execution_count": 55,
   "metadata": {
    "collapsed": false
   },
   "outputs": [
    {
     "data": {
      "text/plain": [
       "True"
      ]
     },
     "execution_count": 55,
     "metadata": {},
     "output_type": "execute_result"
    }
   ],
   "source": [
    "even_integers = {x for x in range(1000) if x % 2 == 0}\n",
    "# same as...\n",
    "even_integers == set((x for x in range(1000) if x % 2 == 0))"
   ]
  },
  {
   "cell_type": "markdown",
   "metadata": {},
   "source": [
    "##Iterators and generators\n",
    "\n",
    "Iterable types are very useful in Python:\n",
    "- we can iterate over them, obviously\n",
    "- we can turn them into lists\n",
    "- we can use map/filter/sort on them\n",
    "- we can use them in various types of comprehensions\n",
    "\n",
    "We already know about a bunch of iterable types:\n",
    "- lists\n",
    "- sets\n",
    "- tupes\n",
    "- strings (as characters)\n",
    "- File objects (as lines)\n",
    "- generator expressions \n",
    "\n",
    "And about methods that return iterable types:\n",
    "- re.finditer()\n",
    "- dict.items()\n",
    "- map() in Python 3\n",
    "- range() in Python 3\n",
    "\n",
    "####How do we create our own iterable data types?\n",
    "\n",
    "Short story: to make a class iterable, we have to give it a special method called `__iter__()` which returns an iterator. When we want to iterate over a class that is already iterable e.g. a string we can get the iterator by calling the `iter()` function. \n",
    "\n",
    "Say we want to make it possible to iterate over a `DNARecord` object:\n"
   ]
  },
  {
   "cell_type": "code",
   "execution_count": 68,
   "metadata": {
    "collapsed": true
   },
   "outputs": [],
   "source": [
    "class DNARecord(object): \n",
    "    \n",
    "    def __init__(self, sequence, gene_name, species_name):\n",
    "        self.sequence = sequence\n",
    "        self.gene_name = gene_name\n",
    "        self.species_name = species_name\n",
    "        \n",
    "d1 = DNARecord('ATATAT', 'COX1', 'Homo sapiens')"
   ]
  },
  {
   "cell_type": "markdown",
   "metadata": {},
   "source": [
    "We can't do this:"
   ]
  },
  {
   "cell_type": "code",
   "execution_count": 69,
   "metadata": {
    "collapsed": false
   },
   "outputs": [
    {
     "ename": "TypeError",
     "evalue": "'DNARecord' object is not iterable",
     "output_type": "error",
     "traceback": [
      "\u001b[1;31m---------------------------------------------------------------------------\u001b[0m",
      "\u001b[1;31mTypeError\u001b[0m                                 Traceback (most recent call last)",
      "\u001b[1;32m<ipython-input-69-8b1ae7cf8aa4>\u001b[0m in \u001b[0;36m<module>\u001b[1;34m()\u001b[0m\n\u001b[1;32m----> 1\u001b[1;33m \u001b[1;32mfor\u001b[0m \u001b[0mbase\u001b[0m \u001b[1;32min\u001b[0m \u001b[0md1\u001b[0m\u001b[1;33m:\u001b[0m\u001b[1;33m\u001b[0m\u001b[0m\n\u001b[0m\u001b[0;32m      2\u001b[0m     \u001b[1;32mprint\u001b[0m\u001b[1;33m(\u001b[0m\u001b[0mbase\u001b[0m\u001b[1;33m)\u001b[0m\u001b[1;33m\u001b[0m\u001b[0m\n",
      "\u001b[1;31mTypeError\u001b[0m: 'DNARecord' object is not iterable"
     ]
    }
   ],
   "source": [
    "for base in d1:\n",
    "    print(base)"
   ]
  },
  {
   "cell_type": "markdown",
   "metadata": {},
   "source": [
    "We have to do this:"
   ]
  },
  {
   "cell_type": "code",
   "execution_count": 70,
   "metadata": {
    "collapsed": false
   },
   "outputs": [
    {
     "name": "stdout",
     "output_type": "stream",
     "text": [
      "A\n",
      "T\n",
      "A\n",
      "T\n",
      "A\n",
      "T\n"
     ]
    }
   ],
   "source": [
    "for base in d1.sequence:\n",
    "    print(base)"
   ]
  },
  {
   "cell_type": "markdown",
   "metadata": {},
   "source": [
    "This is not the worst thing in the world, but it requires more typing and ties us to a specific implementation of the `DNARecord` class (what happens if we want to change the name of the `sequence` variable?).\n",
    "\n",
    "To make it possible to iterate over the `DNARecord` object itself, we add the `__iter__()` method thus:"
   ]
  },
  {
   "cell_type": "code",
   "execution_count": 71,
   "metadata": {
    "collapsed": false
   },
   "outputs": [
    {
     "name": "stdout",
     "output_type": "stream",
     "text": [
      "A\n",
      "T\n",
      "A\n",
      "T\n",
      "A\n",
      "T\n",
      "T\n"
     ]
    }
   ],
   "source": [
    "class DNARecord(object): \n",
    "    \n",
    "    def __init__(self, sequence, gene_name, species_name):\n",
    "        self.sequence = sequence\n",
    "        self.gene_name = gene_name\n",
    "        self.species_name = species_name\n",
    "    \n",
    "    def __iter__(self):\n",
    "        return iter(self.sequence)   \n",
    "    \n",
    "d1 = DNARecord('ATATATT', 'COX1', 'Homo sapiens')\n",
    "\n",
    "for base in d1:\n",
    "    print(base)"
   ]
  },
  {
   "cell_type": "markdown",
   "metadata": {},
   "source": [
    "The `__iter__()` method here is very simple, it just calls `iter()` on the sequence to get an iterator, then returns it. In other words:\n",
    "\n",
    ">to iterate over a DNARecord, simply iterate over the sequence variable\n",
    "\n",
    "Now something more complicated: what if we want to iterate over **codons**? We cannot just grab the string iterator, so we must create our own. An iterator has a method called `next()` which has to follow two rules: either it returns the next value, or if it's at the end it raises a `StopIteration` exception (don't worry about exceptions). \n",
    "\n",
    "Here it is:"
   ]
  },
  {
   "cell_type": "code",
   "execution_count": 80,
   "metadata": {
    "collapsed": false
   },
   "outputs": [
    {
     "name": "stdout",
     "output_type": "stream",
     "text": [
      "ATC\n",
      "GTC\n",
      "GAC\n",
      "TGA\n",
      "CTA\n",
      "ATC\n",
      "GTC\n",
      "GAC\n",
      "TGA\n",
      "CTA\n"
     ]
    }
   ],
   "source": [
    "class DNARecord(object): \n",
    "    position = 0\n",
    "    \n",
    "    def __init__(self, sequence, gene_name, species_name):\n",
    "        self.sequence = sequence\n",
    "        self.gene_name = gene_name\n",
    "        self.species_name = species_name\n",
    "    \n",
    "    def __iter__(self):\n",
    "        return self   \n",
    "    \n",
    "    def next(self): \n",
    "        if self.position < (len(self.sequence) - 2): \n",
    "            codon = self.sequence[self.position:self.position+3] \n",
    "            self.position += 3 \n",
    "            return codon \n",
    "        else: \n",
    "            self.position = 0\n",
    "            raise StopIteration  \n",
    "\n",
    "\n",
    "d1 = DNARecord('ATCGTCGACTGACTACG', 'COX1', 'Homo sapiens')\n",
    "\n",
    "for codon in d1:\n",
    "    print(codon)   \n"
   ]
  },
  {
   "cell_type": "markdown",
   "metadata": {},
   "source": [
    "Take a moment to look at the logic of the `next()` method. \n",
    "\n",
    "Note that:\n",
    "- the object now is responsible for keeping track of its position, so we need a `position` vaiable\n",
    "- the `next()` method checks to see if the position is more than three bases away from the end of the sequence\n",
    "- it updates the position each time it's called\n",
    "- when it gets to the end of the sequence it resets the position back to zero for the next time\n",
    "- we might miss incomplete codons from the end of the sequence\n",
    "- the `__iter__()` method returns the object itself\n",
    "\n",
    "Complicated stuff!\n",
    "\n",
    "**Aside: `next()` has been renamed to `__next__()` in Python 3. **\n",
    "\n",
    "The codon iteration stuff works but isn't great; ideally we'd like to be able to iterate over either bases or codons....\n",
    "\n",
    "##Digression: generators\n",
    "\n",
    "A generator (not to be confused with a generator expression above) is a function that calculates one value at a time. Instead of using `return()` to return the complete result, we use `yield()` to return a single value:\n"
   ]
  },
  {
   "cell_type": "code",
   "execution_count": 83,
   "metadata": {
    "collapsed": false
   },
   "outputs": [
    {
     "data": {
      "text/plain": [
       "['acga', 'cgat', 'gatc', 'atcg', 'tcga', 'cgat', 'gatg', 'atgc']"
      ]
     },
     "execution_count": 83,
     "metadata": {},
     "output_type": "execute_result"
    }
   ],
   "source": [
    "def get_4mers(dna):\n",
    "    result = [] \n",
    "    for i in range(len(dna) - 3): \n",
    "        result.append(dna[i:i+4]) \n",
    "    return result\n",
    "\n",
    "get_4mers('acgatcgatgc')"
   ]
  },
  {
   "cell_type": "code",
   "execution_count": 86,
   "metadata": {
    "collapsed": false
   },
   "outputs": [
    {
     "data": {
      "text/plain": [
       "<generator object generate_4mers at 0x7f40e02ae280>"
      ]
     },
     "execution_count": 86,
     "metadata": {},
     "output_type": "execute_result"
    }
   ],
   "source": [
    "def generate_4mers(dna): \n",
    "    for i in range(len(dna) - 3): \n",
    "        yield dna[i:i+4] \n",
    "        \n",
    "generate_4mers('acgatcgatgc')"
   ]
  },
  {
   "cell_type": "code",
   "execution_count": 101,
   "metadata": {
    "collapsed": false
   },
   "outputs": [],
   "source": [
    "x = generate_4mers('acgatcgatgc')"
   ]
  },
  {
   "cell_type": "code",
   "execution_count": 103,
   "metadata": {
    "collapsed": false
   },
   "outputs": [
    {
     "data": {
      "text/plain": [
       "'cgat'"
      ]
     },
     "execution_count": 103,
     "metadata": {},
     "output_type": "execute_result"
    }
   ],
   "source": [
    "x.next()"
   ]
  },
  {
   "cell_type": "markdown",
   "metadata": {},
   "source": [
    "Generators are useful for all sorts of things. They are often more readable, they are very memory efficient as they only calculate one value at a time, and they are **iterators**. So we can do this:"
   ]
  },
  {
   "cell_type": "code",
   "execution_count": 105,
   "metadata": {
    "collapsed": false
   },
   "outputs": [
    {
     "name": "stdout",
     "output_type": "stream",
     "text": [
      "acga\n",
      "cgat\n",
      "gatc\n",
      "atcg\n",
      "tcga\n",
      "cgat\n",
      "gatg\n",
      "atgc\n"
     ]
    }
   ],
   "source": [
    "for fourmer in generate_4mers('acgatcgatgc'):\n",
    "    print(fourmer)"
   ]
  },
  {
   "cell_type": "markdown",
   "metadata": {},
   "source": [
    "and"
   ]
  },
  {
   "cell_type": "code",
   "execution_count": 107,
   "metadata": {
    "collapsed": false
   },
   "outputs": [
    {
     "data": {
      "text/plain": [
       "['acga', 'cgat', 'gatc', 'atcg', 'tcga', 'cgat', 'gatg', 'atgc']"
      ]
     },
     "execution_count": 107,
     "metadata": {},
     "output_type": "execute_result"
    }
   ],
   "source": [
    "list(generate_4mers('acgatcgatgc'))"
   ]
  },
  {
   "cell_type": "markdown",
   "metadata": {},
   "source": [
    "and we can use them to implement clever iteration behaviour in our classes:"
   ]
  },
  {
   "cell_type": "code",
   "execution_count": 111,
   "metadata": {
    "collapsed": true
   },
   "outputs": [],
   "source": [
    "class DNARecord(object): \n",
    "    position = 0\n",
    "    \n",
    "    def __init__(self, sequence, gene_name, species_name):\n",
    "        self.sequence = sequence\n",
    "        self.gene_name = gene_name\n",
    "        self.species_name = species_name\n",
    "    \n",
    "    def bases(self):\n",
    "        return iter(self.sequence)\n",
    "    \n",
    "    def kmers(self, k):\n",
    "        for i in range(len(self.sequence) - k +1): \n",
    "            yield self.sequence[i:i+k] \n",
    "            \n",
    "    def codons(self):\n",
    "        return self.kmers(3)"
   ]
  },
  {
   "cell_type": "code",
   "execution_count": 113,
   "metadata": {
    "collapsed": false
   },
   "outputs": [
    {
     "name": "stdout",
     "output_type": "stream",
     "text": [
      "A\n",
      "T\n",
      "C\n",
      "G\n",
      "T\n",
      "C\n",
      "G\n",
      "A\n",
      "C\n",
      "T\n",
      "G\n",
      "A\n",
      "C\n",
      "T\n",
      "A\n",
      "C\n",
      "G\n",
      "ATCGT\n",
      "TCGTC\n",
      "CGTCG\n",
      "GTCGA\n",
      "TCGAC\n",
      "CGACT\n",
      "GACTG\n",
      "ACTGA\n",
      "CTGAC\n",
      "TGACT\n",
      "GACTA\n",
      "ACTAC\n",
      "CTACG\n",
      "ATC\n",
      "TCG\n",
      "CGT\n",
      "GTC\n",
      "TCG\n",
      "CGA\n",
      "GAC\n",
      "ACT\n",
      "CTG\n",
      "TGA\n",
      "GAC\n",
      "ACT\n",
      "CTA\n",
      "TAC\n",
      "ACG\n"
     ]
    }
   ],
   "source": [
    "d1 = DNARecord('ATCGTCGACTGACTACG', 'COX1', 'Homo sapiens')\n",
    "for base in d1.bases():\n",
    "    print(base)\n",
    "    \n",
    "for kmer in d1.kmers(5):\n",
    "    print(kmer)\n",
    "    \n",
    "for codon in d1.codons():\n",
    "    print(codon)"
   ]
  },
  {
   "cell_type": "markdown",
   "metadata": {},
   "source": [
    "##Exercises\n",
    "\n",
    "###BLAST processor\n",
    "\n",
    "As a warm up, take your solutions to the BLAST processing exercise from the Functional Programming session and rewrite them to just use list comprehensions.\n",
    "\n",
    "###Primer search\n",
    "\n",
    "Write a function that will create a list of all possible PCR primers of a given length. \n",
    "\n",
    "Hint: start with the kmer-generating function from the session on recursion. \n",
    "Further hint: *all possible PCR primers of a given length* simply means all possible DNA sequnces of a given length. In the real world we would do some filtering on the results to find sequences with similarity to the target, melting points, etc. \n",
    "\n",
    "For length l there are \n",
    "\n",
    "$$4^l$$\n",
    "\n",
    "possible primers so eventually you will run out of memory when trying to list them all. Rewrite your function as a generator to get around this problem. \n",
    "\n",
    "Finally, write a generator which will generate all possible pairs of primers. For length l there will be \n",
    "\n",
    "$$(4^l)^2$$\n",
    "\n",
    "possible pairs, so if you try to do this with a normal function you will run out of memory even faster!"
   ]
  }
 ],
 "metadata": {
  "kernelspec": {
   "display_name": "Python 2",
   "language": "python",
   "name": "python2"
  },
  "language_info": {
   "codemirror_mode": {
    "name": "ipython",
    "version": 2
   },
   "file_extension": ".py",
   "mimetype": "text/x-python",
   "name": "python",
   "nbconvert_exporter": "python",
   "pygments_lexer": "ipython2",
   "version": "2.7.6"
  }
 },
 "nbformat": 4,
 "nbformat_minor": 0
}
