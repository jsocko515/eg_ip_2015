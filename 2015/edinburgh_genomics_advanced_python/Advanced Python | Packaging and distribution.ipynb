{
 "cells": [
  {
   "cell_type": "markdown",
   "metadata": {},
   "source": [
    "#Packaging and distribution\n",
    "\n",
    "##Background\n",
    "\n",
    "A **module** is a collection of useful functions and classes (actually just a Python file, as we'll see). \n",
    "\n",
    "**Built in modules** are ones that are part of the standard Python distribution (`re`, `os`, `datetime`, etc.)\n",
    "\n",
    "**Third party modules** are ones that have to be installed separately (including modules which you write).\n",
    "\n",
    "**Packages** have two purposes. They can collect a bunch of different related modules together (e.g. BioPython). They also make it easy to **distribute** Python modules i.e. make it easy for others to install.\n",
    "\n",
    "In other languages, **modules** are usually called **libraries** but not in Python.\n",
    "\n",
    "##Built in modules\n",
    "You already hopefully know how to use built in modules:"
   ]
  },
  {
   "cell_type": "code",
   "execution_count": null,
   "metadata": {
    "collapsed": false
   },
   "outputs": [],
   "source": [
    "import random\n",
    "\n",
    "# simulate a die roll\n",
    "print(random.choice(range(1,7)))"
   ]
  },
  {
   "cell_type": "markdown",
   "metadata": {},
   "source": [
    "Where does the code for this actually live?"
   ]
  },
  {
   "cell_type": "code",
   "execution_count": null,
   "metadata": {
    "collapsed": false,
    "scrolled": true
   },
   "outputs": [],
   "source": [
    "random.__file__"
   ]
  },
  {
   "cell_type": "markdown",
   "metadata": {},
   "source": [
    "`.pyc` means a compiled Python file, but if we drop the `c` from the end and open up the `.py` we can prove that it's just normal Python code."
   ]
  },
  {
   "cell_type": "markdown",
   "metadata": {},
   "source": [
    "Notice that the name of the module is just the name of the file without the extension. \n",
    "\n",
    "How does Python know what folders to look for the file in?"
   ]
  },
  {
   "cell_type": "code",
   "execution_count": null,
   "metadata": {
    "collapsed": false
   },
   "outputs": [],
   "source": [
    "import sys\n",
    "print sys.path"
   ]
  },
  {
   "cell_type": "markdown",
   "metadata": {},
   "source": [
    "###Third party modules\n",
    "\n",
    "This is where things get complicated. To install a new module, we could just copy the file to one of the folders in the path but....\n",
    "- how to remove old modules\n",
    "- how to update modules when new versions become available\n",
    "- how to ensure module dependencies are met (A->B->C,D)\n",
    "- how to install extra command-line tools (we'll see later)\n",
    "\n",
    "Solution: `pip`, the Python package manager. \n",
    "\n",
    "`pip install mymodule`\n",
    "`pip install --upgrade mymodule`\n",
    "`pip uninstall mymodule`\n",
    "\n",
    "How does `pip` know about modules? Uses Python Package Index (more later).\n",
    "\n"
   ]
  },
  {
   "cell_type": "markdown",
   "metadata": {},
   "source": [
    "##Making a new module\n",
    "\n",
    "Hello old friend..."
   ]
  },
  {
   "cell_type": "code",
   "execution_count": null,
   "metadata": {
    "collapsed": false
   },
   "outputs": [],
   "source": [
    "from __future__ import division \n",
    " \n",
    "# calculate the AT content \n",
    "def calculate_at(dna): \n",
    "    length = len(dna) \n",
    "    a_count = dna.count('A') \n",
    "    t_count = dna.count('T') \n",
    "    at_content = (a_count + t_count) / length \n",
    "    return at_content "
   ]
  },
  {
   "cell_type": "markdown",
   "metadata": {},
   "source": [
    "Let's create a module to store this function. All we have to do is create a new file and move the function into it.\n",
    "\n",
    "Now we can `import` and use it just like any other module."
   ]
  },
  {
   "cell_type": "code",
   "execution_count": null,
   "metadata": {
    "collapsed": true
   },
   "outputs": [],
   "source": [
    "import at_calculator"
   ]
  },
  {
   "cell_type": "code",
   "execution_count": null,
   "metadata": {
    "collapsed": false
   },
   "outputs": [],
   "source": [
    "at_calculator.calculate_at('TAGCTCGACTAGCTA')"
   ]
  },
  {
   "cell_type": "markdown",
   "metadata": {},
   "source": [
    "Note that the file it's reading from is in the current directory:"
   ]
  },
  {
   "cell_type": "code",
   "execution_count": null,
   "metadata": {
    "collapsed": false
   },
   "outputs": [],
   "source": [
    "at_calculator.__file__"
   ]
  },
  {
   "cell_type": "markdown",
   "metadata": {},
   "source": [
    "so this will only work as long as we are in the same folder. We could copy it to one of the path folders to use it universally (but we will see a better way).\n",
    "\n",
    "We can write a small program that uses the module:"
   ]
  },
  {
   "cell_type": "code",
   "execution_count": null,
   "metadata": {
    "collapsed": false
   },
   "outputs": [],
   "source": [
    "import at_calculator \n",
    " \n",
    "# ask the user for a DNA sequence and filename \n",
    "dna = raw_input(\"Enter a DNA sequence:\\n\")\n",
    "output_filename = raw_input(\"Enter a filename:\\n\")\n",
    " \n",
    "# write the AT content to the output file \n",
    "with open(output_filename, \"w\") as out: \n",
    "    out.write(str(at_calculator.calculate_at(dna))) "
   ]
  },
  {
   "cell_type": "markdown",
   "metadata": {},
   "source": [
    "###Names and namespaces\n",
    "\n",
    "Notice how we need to call `modulename.functionname()` i.e. `at_calculator.calculate_at()` . Annoying, but good because it means each module has its own **namespace** - authors (including you!) don't have to worry about what names might have been used by other people. \n",
    "\n",
    "For long names this gets anoying:"
   ]
  },
  {
   "cell_type": "code",
   "execution_count": null,
   "metadata": {
    "collapsed": false
   },
   "outputs": [],
   "source": [
    "import some_incredibly_long_awkward_to_type_module_name\n",
    "some_incredibly_long_awkward_to_type_module_name.foo()"
   ]
  },
  {
   "cell_type": "markdown",
   "metadata": {},
   "source": [
    "We can get around it by using an alias:"
   ]
  },
  {
   "cell_type": "code",
   "execution_count": null,
   "metadata": {
    "collapsed": true
   },
   "outputs": [],
   "source": [
    "import some_incredibly_long_awkward_to_type_module_name as bob\n",
    "bob.foo()"
   ]
  },
  {
   "cell_type": "markdown",
   "metadata": {},
   "source": [
    "If we're really sure that names don't clash we can import the function directly:"
   ]
  },
  {
   "cell_type": "code",
   "execution_count": null,
   "metadata": {
    "collapsed": false
   },
   "outputs": [],
   "source": [
    "from at_calculator import calculate_at\n",
    "calculate_at(\"ACTGATCGTCGAT\")"
   ]
  },
  {
   "cell_type": "markdown",
   "metadata": {},
   "source": [
    "If we know that names do clash, we can import functions with aliases:"
   ]
  },
  {
   "cell_type": "code",
   "execution_count": null,
   "metadata": {
    "collapsed": false
   },
   "outputs": [],
   "source": [
    "from at_calculator import calculate_at as at1\n",
    "from another_package import calculate_at as at2"
   ]
  },
  {
   "cell_type": "markdown",
   "metadata": {},
   "source": [
    "But don't do this if you're expecting another person to read the code.\n",
    "\n",
    "###Documenting modules\n",
    "\n",
    "Python's docstring system is very simple. Include a single string literal as the first line of a module or function. Triple quotes let us run over multiple lines:"
   ]
  },
  {
   "cell_type": "code",
   "execution_count": 31,
   "metadata": {
    "collapsed": false
   },
   "outputs": [],
   "source": [
    "\"\"\"Functions for calculating metrics of DNA sequences\"\"\"\n",
    "\n",
    "from __future__ import division \n",
    "\n",
    "def calculate_at(dna): \n",
    "    \"\"\"Return the AT content of the argument. \n",
    "    Only works for uppercase DNA sequences\n",
    "    \"\"\"\n",
    "    \n",
    "    length = len(dna)\n",
    "    a_count = dna.count('A') \n",
    "    t_count = dna.count('T') \n",
    "    at_content = (a_count + t_count) / length \n",
    "    return at_content \n",
    "\n"
   ]
  },
  {
   "cell_type": "code",
   "execution_count": 38,
   "metadata": {
    "collapsed": false
   },
   "outputs": [
    {
     "name": "stdout",
     "output_type": "stream",
     "text": [
      "Help on module at_calculator:\n",
      "\n",
      "NAME\n",
      "    at_calculator - Functions for calculating metrics of DNA sequences\n",
      "\n",
      "FILE\n",
      "    /home/martin/Dropbox/projects/course_notebooks/eg_ap/at_calculator.py\n",
      "\n",
      "FUNCTIONS\n",
      "    calculate_at(dna)\n",
      "        Return the AT content of the argument. \n",
      "        Only works for uppercase DNA sequences\n",
      "\n",
      "DATA\n",
      "    division = _Feature((2, 2, 0, 'alpha', 2), (3, 0, 0, 'alpha', 0), 8192...\n",
      "\n",
      "\n"
     ]
    }
   ],
   "source": [
    "# in iPython we have to explicitly reload the module after making changes\n",
    "reload(at_calculator)\n",
    "help(at_calculator)"
   ]
  },
  {
   "cell_type": "markdown",
   "metadata": {},
   "source": [
    "###Modules as programs\n",
    "\n",
    "Sometimes we want to have a Python file that can act either as a module, or as a program:\n",
    "- if there's currently only a single program that uses the module\n",
    "- if it's handy to have a small demonstration program for the module\n",
    "- to include a program which tests the module\n",
    "\n",
    "A Python file can access its own name using the `__name__` variable.\n",
    "- If the file is being run as a program, then the `__name__` variable is `__main__`\n",
    "- If the file is being imported, then the `__name__` variable is the name of the file minus `.py`\n",
    "\n",
    "Here's how it works:"
   ]
  },
  {
   "cell_type": "code",
   "execution_count": 40,
   "metadata": {
    "collapsed": false
   },
   "outputs": [
    {
     "name": "stdout",
     "output_type": "stream",
     "text": [
      "I am being run as a script!\n"
     ]
    }
   ],
   "source": [
    "if __name__ == \"__main__\":\n",
    "    print(\"I am being run as a script!\")    \n",
    "else:\n",
    "    print(\"I am being imported as a module!\")"
   ]
  },
  {
   "cell_type": "markdown",
   "metadata": {},
   "source": [
    "Most of the time we don't need to do anything if running as a module, so it looks like:"
   ]
  },
  {
   "cell_type": "code",
   "execution_count": null,
   "metadata": {
    "collapsed": true
   },
   "outputs": [],
   "source": [
    "if __name__ == \"__main__\":\n",
    "    print(\"I am being run as a script!\")   \n",
    "    # demo program code goes here\n"
   ]
  },
  {
   "cell_type": "markdown",
   "metadata": {},
   "source": [
    "So for our purposes:"
   ]
  },
  {
   "cell_type": "code",
   "execution_count": null,
   "metadata": {
    "collapsed": false
   },
   "outputs": [],
   "source": [
    "from __future__ import division \n",
    "\n",
    "# calculate the AT content \n",
    "def calculate_at(dna): \n",
    "    length = len(dna) \n",
    "    a_count = dna.count('A') \n",
    "    t_count = dna.count('T') \n",
    "    at_content = (a_count + t_count) / length \n",
    "    return at_content \n",
    "\n",
    "if __name__ == \"__main__\": \n",
    "    dna = raw_input(\"Enter a DNA sequence:\\n\").rstrip(\"\\n\") \n",
    "    print(\"AT content is \" + str(calculate_at(dna))) "
   ]
  },
  {
   "cell_type": "markdown",
   "metadata": {},
   "source": [
    "This is hard to demonstrate inside iPython. \n",
    "\n",
    "###Initialization code in modules\n",
    "\n",
    "Some modules require code to run before we can call any functions. Consider a DNA translation function:"
   ]
  },
  {
   "cell_type": "code",
   "execution_count": null,
   "metadata": {
    "collapsed": true
   },
   "outputs": [],
   "source": [
    "def translate_dna(dna): \n",
    "    \"\"\"Return the translation of a DNA sequence\"\"\"\n",
    "\n",
    "    # define a dict to hold the genetic code \n",
    "    gencode = { \n",
    "        'ATA':'I', 'ATC':'I', 'ATT':'I', 'ATG':'M', \n",
    "        'ACA':'T', 'ACC':'T', 'ACG':'T', 'ACT':'T', \n",
    "        'AAC':'N', 'AAT':'N', 'AAA':'K', 'AAG':'K', \n",
    "        'AGC':'S', 'AGT':'S', 'AGA':'R', 'AGG':'R', \n",
    "        'CTA':'L', 'CTC':'L', 'CTG':'L', 'CTT':'L', \n",
    "        'CCA':'P', 'CCC':'P', 'CCG':'P', 'CCT':'P', \n",
    "        'CAC':'H', 'CAT':'H', 'CAA':'Q', 'CAG':'Q', \n",
    "        'CGA':'R', 'CGC':'R', 'CGG':'R', 'CGT':'R', \n",
    "        'GTA':'V', 'GTC':'V', 'GTG':'V', 'GTT':'V', \n",
    "        'GCA':'A', 'GCC':'A', 'GCG':'A', 'GCT':'A', \n",
    "        'GAC':'D', 'GAT':'D', 'GAA':'E', 'GAG':'E', \n",
    "        'GGA':'G', 'GGC':'G', 'GGG':'G', 'GGT':'G', \n",
    "        'TCA':'S', 'TCC':'S', 'TCG':'S', 'TCT':'S', \n",
    "        'TTC':'F', 'TTT':'F', 'TTA':'L', 'TTG':'L', \n",
    "        'TAC':'Y', 'TAT':'Y', 'TAA':'_', 'TAG':'_', \n",
    "        'TGC':'C', 'TGT':'C', 'TGA':'_', 'TGG':'W'} \n",
    "\n",
    "    last_codon_start = len(dna) - 2 \n",
    "    protein = \"\" \n",
    "\n",
    "    # for each codon in the dna, append an amino acid to the protein\n",
    "    for start in range(0,last_codon_start,3): \n",
    "        codon = dna[start:start+3] \n",
    "        amino_acid = gencode.get(codon.upper(), 'X') \n",
    "        protein = protein + amino_acid\n",
    "\n",
    "    return protein "
   ]
  },
  {
   "cell_type": "markdown",
   "metadata": {},
   "source": [
    "There's a pretty glaring inefficiency here: we redefine the `gencode` dict every time the function is run. If we call `translate_dna()` many times then this will be slow. Better to put it outside the function definition in the module:"
   ]
  },
  {
   "cell_type": "code",
   "execution_count": null,
   "metadata": {
    "collapsed": true
   },
   "outputs": [],
   "source": [
    "# define a dict to hold the genetic code \n",
    "gencode = { \n",
    "        'ATA':'I', 'ATC':'I', 'ATT':'I', 'ATG':'M', \n",
    "        'ACA':'T', 'ACC':'T', 'ACG':'T', 'ACT':'T', \n",
    "        'AAC':'N', 'AAT':'N', 'AAA':'K', 'AAG':'K', \n",
    "        'AGC':'S', 'AGT':'S', 'AGA':'R', 'AGG':'R', \n",
    "        'CTA':'L', 'CTC':'L', 'CTG':'L', 'CTT':'L', \n",
    "        'CCA':'P', 'CCC':'P', 'CCG':'P', 'CCT':'P', \n",
    "        'CAC':'H', 'CAT':'H', 'CAA':'Q', 'CAG':'Q', \n",
    "        'CGA':'R', 'CGC':'R', 'CGG':'R', 'CGT':'R', \n",
    "        'GTA':'V', 'GTC':'V', 'GTG':'V', 'GTT':'V', \n",
    "        'GCA':'A', 'GCC':'A', 'GCG':'A', 'GCT':'A', \n",
    "        'GAC':'D', 'GAT':'D', 'GAA':'E', 'GAG':'E', \n",
    "        'GGA':'G', 'GGC':'G', 'GGG':'G', 'GGT':'G', \n",
    "        'TCA':'S', 'TCC':'S', 'TCG':'S', 'TCT':'S', \n",
    "        'TTC':'F', 'TTT':'F', 'TTA':'L', 'TTG':'L', \n",
    "        'TAC':'Y', 'TAT':'Y', 'TAA':'_', 'TAG':'_', \n",
    "        'TGC':'C', 'TGT':'C', 'TGA':'_', 'TGG':'W'} \n",
    "\n",
    "def translate_dna(dna): \n",
    "    last_codon_start = len(dna) - 2 \n",
    "    protein = \"\" \n",
    "\n",
    "    # for each codon in the dna, append an amino acid to the protein\n",
    "    for start in range(0,last_codon_start,3): \n",
    "        codon = dna[start:start+3] \n",
    "        amino_acid = gencode.get(codon.upper(), 'X') \n",
    "        protein = protein + amino_acid\n",
    "\n",
    "    return protein "
   ]
  },
  {
   "cell_type": "markdown",
   "metadata": {},
   "source": [
    "Now the dict will be defined at the time of import. Be careful though: don't run slow code on import unless it will definitely be used. We can imagine more sophisticated solutions here e.g. build the dict when first needed then reuse. \n",
    "\n",
    "##Packages\n",
    "\n",
    "A module gathers together related useful modules, just like a module gathers together related useful functions/classes. Also, we need to build packages if we want to distribute code, even if it's just one module. To make a package we create a folder with the package name, and add a special file called `__init__.py` inside it:\n",
    "\n",
    "```\n",
    "dnatools/\n",
    "    __init__.py\n",
    "    dna_translation.py\n",
    "```\n",
    "\n",
    "Then we have to use the package name as part of the module name:\n"
   ]
  },
  {
   "cell_type": "code",
   "execution_count": null,
   "metadata": {
    "collapsed": true
   },
   "outputs": [],
   "source": [
    "import dnatools.dna_translation\n",
    "print(dnatools.dna_translation.translate_dna(\"ACTGTGAC\"))"
   ]
  },
  {
   "cell_type": "markdown",
   "metadata": {},
   "source": [
    "Packaging is a necessary prerequisite for distribution....\n",
    "\n",
    "##Distributing packages\n",
    "\n",
    "- to distribute a program that uses built in modules, just send the .py file\n",
    "- to distribute a program that uses third party modules, send the .py file and tell the end use what modules to install\n",
    "- to distribute a program plus separate module, send a zipped folder\n",
    "- for anything more complicated, use `pip`\n",
    "\n",
    "Let's look at an overview of the process (we will likely not be able to do this with the computing setup we have here).\n",
    "\n",
    "###Register on PyPI\n",
    "[This page](https://pypi.python.org/pypi) then *register*.\n",
    "\n",
    "###Put the module folder inside a package folder\n",
    "and also create a readme file\n",
    "```\n",
    "dnatools/\n",
    "     README.txt\n",
    "     dnatools/\n",
    "         __init__.py\n",
    "         dna_translation_2.py\n",
    "```\n",
    "\n",
    "###Create a `setup.py` file\n",
    "which is where we put our metadata - it just uses a single call to `setuptools.setup()`"
   ]
  },
  {
   "cell_type": "code",
   "execution_count": null,
   "metadata": {
    "collapsed": true
   },
   "outputs": [],
   "source": [
    "from setuptools import setup \n",
    " \n",
    "setup(name='dnatools', \n",
    "      version = '0.1', \n",
    "      description = 'Functions for working with DNA sequences', \n",
    "      url = 'http://example.com', \n",
    "      author = 'Martin Jones', \n",
    "      author_email = 'martin@pythonforbiologists.com', \n",
    "      license = 'MIT', \n",
    "      packages = ['dnatools']) "
   ]
  },
  {
   "cell_type": "markdown",
   "metadata": {},
   "source": [
    "Important: if we have dependencies we can add them to the `setup()` call like this:"
   ]
  },
  {
   "cell_type": "code",
   "execution_count": null,
   "metadata": {
    "collapsed": true
   },
   "outputs": [],
   "source": [
    "install_requires = ['requests', 'BioPython']"
   ]
  },
  {
   "cell_type": "markdown",
   "metadata": {},
   "source": [
    "This allows `pip` to know that when installing our package it also needs to install these others. \n",
    "\n",
    "###Register the package on PyPI\n",
    "This is easy, a single command line:\n",
    "\n",
    "```\n",
    "python setup.py register\n",
    "```\n",
    "\n",
    "###Upload the package to PyPI\n",
    "This is also easy:\n",
    "\n",
    "```\n",
    "python setup.py sdist upload\n",
    "```\n",
    "We use the same command to update our package (remember to change the version number)\n",
    "\n",
    "This is a lot of work; however it means that anyone in the world can now run \n",
    "\n",
    "```\n",
    "pip install dnatools\n",
    "```\n",
    "and get a copy of your code plus all dependencies. \n",
    "\n",
    "##Other distribution stuff you can do\n",
    "- distribute a package with dependencies that are not on PyPI\n",
    "- include a test suite as part of your package\n",
    "- include command-line tools along with your package\n",
    "- include data files along with your package\n",
    "- include code written in a non-Python language as part of your package\n",
    "- tell setup() to include/exclude specific files when it builds the distribution\n",
    "- create a Windows installer or a Linux rpm/deb for your package\n",
    "\n",
    "\n",
    "##Exercises\n",
    "\n",
    "Pick some exercise solutions from previous sessions (or use your existing code) and turn the code into a module plus program. Try it for both object-oriented and imperative code. \n",
    "\n",
    "If you want to experiment with creating packages (either here or later) without polluting the PyPI namespace, there's a testing server you can use - [follow instructions here](https://wiki.python.org/moin/TestPyPI).\n",
    "\n"
   ]
  }
 ],
 "metadata": {
  "kernelspec": {
   "display_name": "Python 2",
   "language": "python",
   "name": "python2"
  },
  "language_info": {
   "codemirror_mode": {
    "name": "ipython",
    "version": 2
   },
   "file_extension": ".py",
   "mimetype": "text/x-python",
   "name": "python",
   "nbconvert_exporter": "python",
   "pygments_lexer": "ipython2",
   "version": "2.7.6"
  }
 },
 "nbformat": 4,
 "nbformat_minor": 0
}
