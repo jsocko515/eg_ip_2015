{
 "cells": [
  {
   "cell_type": "markdown",
   "metadata": {},
   "source": [
    "<h1 id=\"toctitle\">Working with files exercise solutions</h1>\n",
    "<ul id=\"toc\"/>"
   ]
  },
  {
   "cell_type": "markdown",
   "metadata": {},
   "source": [
    "##Splitting genomic DNA\n",
    "\n",
    "We already have some of the solution from the previous session:"
   ]
  },
  {
   "cell_type": "code",
   "execution_count": 2,
   "metadata": {
    "collapsed": false
   },
   "outputs": [
    {
     "name": "stdout",
     "output_type": "stream",
     "text": [
      "ATCGATCGATCGATCGACTGACTAGTCATAGCTATGCATGTAGCTACTCGATCGATCGATCGAtcgatcgatc gatcgatcgatcatgcTATCATCGATCGATATCGATGCATCGACTACTAT\n"
     ]
    }
   ],
   "source": [
    "my_dna = \"ATCGATCGATCGATCGACTGACTAGTCATAGCTATGCATGTAGCTACTCGATCGATCGATCGATCGATCGATC GATCGATCGATCATGCTATCATCGATCGATATCGATGCATCGACTACTAT\"\n",
    "exon1 = my_dna[0:63]\n",
    "intron = my_dna[63:90]\n",
    "exon2 = my_dna[90:]\n",
    "print(exon1 + intron.lower() + exon2)"
   ]
  },
  {
   "cell_type": "markdown",
   "metadata": {},
   "source": [
    "What changes do we need to make? First, read sequence from a file instead of writing it in the code:"
   ]
  },
  {
   "cell_type": "code",
   "execution_count": 3,
   "metadata": {
    "collapsed": false
   },
   "outputs": [
    {
     "data": {
      "text/plain": [
       "'ATCGATCGATCGATCGACTGACTAGTCATAGCTATGCATGTAGCTACTCGATCGATCGATCGATCGATCGATCGATCGATCGATCATGCTATCATCGATCGATATCGATGCATCGACTACTAT\\n'"
      ]
     },
     "execution_count": 3,
     "metadata": {},
     "output_type": "execute_result"
    }
   ],
   "source": [
    "dna_file = open(\"genomic_dna.txt\")\n",
    "my_dna = dna_file.read()\n",
    "my_dna"
   ]
  },
  {
   "cell_type": "markdown",
   "metadata": {},
   "source": [
    "Create two new file objects to hold the output:"
   ]
  },
  {
   "cell_type": "code",
   "execution_count": 4,
   "metadata": {
    "collapsed": true
   },
   "outputs": [],
   "source": [
    "coding_file = open(\"coding_dna.txt\", \"w\")\n",
    "noncoding_file = open(\"noncoding_dna.txt\", \"w\")"
   ]
  },
  {
   "cell_type": "markdown",
   "metadata": {},
   "source": [
    "Concatenate the two exon sequences and write them to the coding file, then write the intron sequence to the noncoding file;"
   ]
  },
  {
   "cell_type": "code",
   "execution_count": 6,
   "metadata": {
    "collapsed": true
   },
   "outputs": [],
   "source": [
    "coding_file.write(exon1 + exon2)\n",
    "noncoding_file.write(intron)"
   ]
  },
  {
   "cell_type": "markdown",
   "metadata": {},
   "source": [
    "Putting it all together:"
   ]
  },
  {
   "cell_type": "code",
   "execution_count": 8,
   "metadata": {
    "collapsed": true
   },
   "outputs": [],
   "source": [
    "# open the file and read its contents\n",
    "dna_file = open(\"genomic_dna.txt\")\n",
    "my_dna = dna_file.read()\n",
    "# extract the different bits of DNA sequence\n",
    "exon1 = my_dna[0:62]\n",
    "intron = my_dna[62:90]\n",
    "exon2 = my_dna[90:]\n",
    "# open the two output files\n",
    "coding_file = open(\"coding_dna.txt\", \"w\")\n",
    "noncoding_file = open(\"noncoding_dna.txt\", \"w\")\n",
    "# write the sequences to the output files\n",
    "coding_file.write(exon1 + exon2)\n",
    "noncoding_file.write(intron)"
   ]
  },
  {
   "cell_type": "markdown",
   "metadata": {},
   "source": [
    "##Writing a FASTA file\n",
    "\n",
    "First, create some variables: three for sequences and three for headers:"
   ]
  },
  {
   "cell_type": "code",
   "execution_count": 9,
   "metadata": {
    "collapsed": true
   },
   "outputs": [],
   "source": [
    "header_1 = \"ABC123\"\n",
    "header_2 = \"DEF456\"\n",
    "header_3 = \"HIJ789\"\n",
    "seq_1 = \"ATCGTACGATCGATCGATCGCTAGACGTATCG\"\n",
    "seq_2 = \"actgatcgacgatcgatcgatcacgact\"\n",
    "seq_3 = \"ACTGAC-ACTGT--ACTGTA----CATGTG\""
   ]
  },
  {
   "cell_type": "markdown",
   "metadata": {},
   "source": [
    "Start by printing FASTA output to the screen to check if it works:"
   ]
  },
  {
   "cell_type": "code",
   "execution_count": 10,
   "metadata": {
    "collapsed": false
   },
   "outputs": [
    {
     "name": "stdout",
     "output_type": "stream",
     "text": [
      "ABC123\n",
      "ATCGTACGATCGATCGATCGCTAGACGTATCG\n",
      "DEF456\n",
      "actgatcgacgatcgatcgatcacgact\n",
      "HIJ789\n",
      "ACTGAC-ACTGT--ACTGTA----CATGTG\n"
     ]
    }
   ],
   "source": [
    "print(header_1)\n",
    "print(seq_1)\n",
    "print(header_2)\n",
    "print(seq_2)\n",
    "print(header_3)\n",
    "print(seq_3)"
   ]
  },
  {
   "cell_type": "markdown",
   "metadata": {},
   "source": [
    "We forgot the `>` character. Plus, we can do each header/sequence on one line by using a newline character:"
   ]
  },
  {
   "cell_type": "code",
   "execution_count": 11,
   "metadata": {
    "collapsed": false
   },
   "outputs": [
    {
     "name": "stdout",
     "output_type": "stream",
     "text": [
      ">ABC123\n",
      "ATCGTACGATCGATCGATCGCTAGACGTATCG\n",
      ">DEF456\n",
      "actgatcgacgatcgatcgatcacgact\n",
      ">HIJ789\n",
      "ACTGAC-ACTGT--ACTGTA----CATGTG\n"
     ]
    }
   ],
   "source": [
    "print('>' + header_1 + '\\n' + seq_1)\n",
    "print('>' + header_2 + '\\n' + seq_2)\n",
    "print('>' + header_3 + '\\n' + seq_3)"
   ]
  },
  {
   "cell_type": "markdown",
   "metadata": {},
   "source": [
    "Next, fix the sequences - change the second one to upper case and replace dashes in the third one:"
   ]
  },
  {
   "cell_type": "code",
   "execution_count": 12,
   "metadata": {
    "collapsed": false
   },
   "outputs": [
    {
     "name": "stdout",
     "output_type": "stream",
     "text": [
      ">ABC123\n",
      "ATCGTACGATCGATCGATCGCTAGACGTATCG\n",
      ">DEF456\n",
      "ACTGATCGACGATCGATCGATCACGACT\n",
      ">HIJ789\n",
      "ACTGACACTGTACTGTACATGTG\n"
     ]
    }
   ],
   "source": [
    "print('>' + header_1 + '\\n' + seq_1)\n",
    "print('>' + header_2 + '\\n' + seq_2.upper())\n",
    "print('>' + header_3 + '\\n' + seq_3.replace('-', ''))"
   ]
  },
  {
   "cell_type": "markdown",
   "metadata": {},
   "source": [
    "Now switch from printed output to file output. We need newlines at the end of each `write()` statement. Also, remember to close the file:"
   ]
  },
  {
   "cell_type": "code",
   "execution_count": 14,
   "metadata": {
    "collapsed": true
   },
   "outputs": [],
   "source": [
    "output = open(\"sequences.fasta\", \"w\")\n",
    "output.write('>' + header_1 + '\\n' + seq_1 + '\\n')\n",
    "output.write('>' + header_2 + '\\n' + seq_2.upper() + '\\n')\n",
    "output.write('>' + header_3 + '\\n' + seq_3.replace('-', '') + '\\n')\n",
    "output.close()"
   ]
  },
  {
   "cell_type": "markdown",
   "metadata": {},
   "source": [
    "All steps together:"
   ]
  },
  {
   "cell_type": "code",
   "execution_count": 16,
   "metadata": {
    "collapsed": true
   },
   "outputs": [],
   "source": [
    "# set the values of all the header variables\n",
    "header_1 = \"ABC123\"\n",
    "header_2 = \"DEF456\"\n",
    "header_3 = \"HIJ789\"\n",
    "\n",
    "# set the values of all the sequence variables\n",
    "\n",
    "seq_1 = \"ATCGTACGATCGATCGATCGCTAGACGTATCG\"\n",
    "seq_2 = \"actgatcgacgatcgatcgatcacgact\"\n",
    "seq_3 = \"ACTGAC-ACTGT—ACTGTA----CATGTG\"\n",
    "\n",
    "# make a new file to hold the output\n",
    "output = open(\"sequences.fasta\", \"w\")\n",
    "# write the header and sequence for seq1\n",
    "output.write('>' + header_1 + '\\n' + seq_1 + '\\n')\n",
    "# write the header and uppercase sequences for seq2\n",
    "output.write('>' + header_2 + '\\n' + seq_2.upper() + '\\n')\n",
    "# write the header and sequence for seq3 with hyphens removed\n",
    "output.write('>' + header_3 + '\\n' + seq_3.replace('-', '') + '\\n')"
   ]
  },
  {
   "cell_type": "markdown",
   "metadata": {},
   "source": [
    "##Writing multiple FASTA files\n",
    "\n",
    "Just a slight modification needed to the previous solution. We need to carefully construct the filenames for the output files by joining the header names with the `.fasta` extension:"
   ]
  },
  {
   "cell_type": "code",
   "execution_count": 17,
   "metadata": {
    "collapsed": true
   },
   "outputs": [],
   "source": [
    "output_1 = open(header_1 + \".fasta\", \"w\")\n",
    "output_2 = open(header_2 + \".fasta\", \"w\")\n",
    "output_3 = open(header_3 + \".fasta\", \"w\")"
   ]
  },
  {
   "cell_type": "markdown",
   "metadata": {},
   "source": [
    "Now we write each sequence out to a separate file:"
   ]
  },
  {
   "cell_type": "code",
   "execution_count": 18,
   "metadata": {
    "collapsed": true
   },
   "outputs": [],
   "source": [
    "# write one sequence to each output file\n",
    "output_1.write('>' + header_1 + '\\n' + seq_1 + '\\n') \n",
    "output_2.write('>' + header_2 + '\\n' + seq_2.upper() + '\\n') \n",
    "output_3.write('>' + header_3 + '\\n' + seq_3.replace('-', '') + '\\n') "
   ]
  },
  {
   "cell_type": "markdown",
   "metadata": {},
   "source": [
    "and close each file"
   ]
  },
  {
   "cell_type": "code",
   "execution_count": 22,
   "metadata": {
    "collapsed": true
   },
   "outputs": [],
   "source": [
    "output_1.close()\n",
    "output_2.close()\n",
    "output_3.close()"
   ]
  },
  {
   "cell_type": "markdown",
   "metadata": {},
   "source": [
    "All together:"
   ]
  },
  {
   "cell_type": "code",
   "execution_count": null,
   "metadata": {
    "collapsed": true
   },
   "outputs": [],
   "source": [
    "# set the values of all the header variables \n",
    "header_1 = \"ABC123\" \n",
    "header_2 = \"DEF456\" \n",
    "header_3 = \"HIJ789\" \n",
    " \n",
    "# set the values of all the sequence variables \n",
    "seq_1 = \"ATCGTACGATCGATCGATCGCTAGACGTATCG\" \n",
    "seq_2 = \"actgatcgacgatcgatcgatcacgact\" \n",
    "seq_3 = \"ACTGAC-ACTGT—ACTGTA----CATGTG\" \n",
    " \n",
    "# make three files to hold the output \n",
    "output_1 = open(header_1 + \".fasta\", \"w\") \n",
    "output_2 = open(header_2 + \".fasta\", \"w\") \n",
    "output_3 = open(header_3 + \".fasta\", \"w\") \n",
    " \n",
    "# write one sequence to each output file\n",
    "output_1.write('>' + header_1 + '\\n' + seq_1 + '\\n') \n",
    "output_2.write('>' + header_2 + '\\n' + seq_2.upper() + '\\n') \n",
    "output_3.write('>' + header_3 + '\\n' + seq_3.replace('-', '') + '\\n') \n",
    "\n",
    "output_1.close()\n",
    "output_2.close()\n",
    "output_3.close()"
   ]
  },
  {
   "cell_type": "markdown",
   "metadata": {},
   "source": [
    "There's a lot of repeated code here; next session we will look at how to avoid that."
   ]
  },
  {
   "cell_type": "code",
   "execution_count": null,
   "metadata": {
    "collapsed": true
   },
   "outputs": [],
   "source": []
  },
  {
   "cell_type": "code",
   "execution_count": 127,
   "metadata": {
    "collapsed": false
   },
   "outputs": [
    {
     "data": {
      "application/javascript": [
       "var currenth1=0;\n",
       " \n",
       "function regentoc() {\n",
       "document.getElementById(\"toc\").innerHTML = \"\";\n",
       "var currenth2 = 0;\n",
       "$(\"h2,h3\").not(\"#Contents\").each(function(mainIndex) {\n",
       "    el = $(this);\n",
       "    title = el.attr(\"id\");\n",
       "    text = el.html();\n",
       "    link = \"#\" + el.attr(\"id\");\n",
       "    if ( document.getElementById(title).tagName == \"H2\" ) {\n",
       "        currenth2 += 1;\n",
       "        newLine =\n",
       "            \"<li class='maintoc'>\" +\n",
       "               \"<a href='\" + link + \"'>\" + text + \"</a>\" +\n",
       "            \"</li>\" +\n",
       "            \"<ul id='h2\" + currenth2 + \"'></ul>\";\n",
       "        document.getElementById(\"toc\").innerHTML += newLine;\n",
       "    } else if ( document.getElementById(title).tagName==\"H3\" ) {\n",
       "        h1list = document.getElementById(\"h2\"+currenth2);\n",
       "        newLine = \"<li class='subtoc'>\" + \"<a href='\" + link + \"'>\" + text + \"</a>\" + \"</li>\";\n",
       "        h1list.innerHTML += newLine;\n",
       "    }\n",
       "});\n",
       "}\n",
       " \n",
       "setInterval(regentoc,1000);\n"
      ],
      "text/plain": [
       "<IPython.core.display.Javascript object>"
      ]
     },
     "execution_count": 127,
     "metadata": {},
     "output_type": "execute_result"
    }
   ],
   "source": [
    "# ignore this cell, it's for loading custom js code\n",
    "from IPython.core.display import Javascript\n",
    "Javascript(filename=\"custom.js\")"
   ]
  },
  {
   "cell_type": "code",
   "execution_count": 129,
   "metadata": {
    "collapsed": false
   },
   "outputs": [
    {
     "data": {
      "text/html": [
       "<style>\n",
       "/*\n",
       "\n",
       "    Name:       Base16 Solarized Light\n",
       "    Author:     Ethan Schoonover (http://ethanschoonover.com/solarized)\n",
       "\n",
       "    CodeMirror template adapted for IPython Notebook by Nikhil Sonnad (https://github.com/nsonnad/base16-ipython-notebook)\n",
       "    CodeMirror template by Jan T. Sott (https://github.com/idleberg/base16-chrome-devtools)\n",
       "    Original Base16 color scheme by Chris Kempson (https://github.com/chriskempson/base16)\n",
       "\n",
       "*/\n",
       "\n",
       "div.output_text{\n",
       "        max-height:400px;\n",
       "        overflow:scroll;\n",
       "}\n",
       "\n",
       "div#notebook {\n",
       "  font-family: 'PT Serif' !important;\n",
       "} \n",
       "\n",
       "div.CodeMirror, div.output_area pre, div.output_wrapper, div.prompt {\n",
       "  font-family: 'Source Code Pro', monospace !important;\n",
       "}\n",
       "\n",
       ".output_text {\n",
       "  background-color: #f0f0f0;\n",
       "}\n",
       "\n",
       ".prompt { display: none; }\n",
       "div.output_subarea { max-width: calc(100%); }\n",
       "\n",
       "\n",
       "/* GLOBALS */\n",
       "body {background-color: #fdf6e3;}\n",
       "a {color: #268bd2;}\n",
       "\n",
       "/* INTRO PAGE */\n",
       ".toolbar_info, .list-container {color: #073642;}\n",
       "\n",
       "/* NOTEBOOK */\n",
       "\n",
       "/* comment out this line to bring the toolbar back */\n",
       "/* div#maintoolbar, div#header {display: none !important;} */\n",
       "\n",
       "div#notebook {border-top: none;}\n",
       "\n",
       "div.input_prompt {color: #6c71c4;}\n",
       "div.output_prompt {color: #d33682;}\n",
       "div.input_area {\n",
       "  border-radius: 0px;\n",
       "  border: 1px solid #93a1a1;\n",
       "}\n",
       "div.output_area pre {font-weight: normal; color: #586e75;}\n",
       "div.output_subarea {font-weight: normal; color: #586e75;}\n",
       "\n",
       ".rendered_html table, .rendered_html th, .rendered_html tr, .rendered_html td {\n",
       "  border: 1px  #657b83 solid;\n",
       "  color: #657b83;\n",
       "}\n",
       "div.output_html { font-family: sans-serif; }\n",
       "table.dataframe tr {border: 1px #586e75;}\n",
       "\n",
       "div.cell.selected {border-radius: 0px;}\n",
       "div.cell.edit_mode {border-radius: 0px; border: thin solid #d33682;}\n",
       "div.text_cell_render, div.output_html {color: #586e75;}\n",
       "\n",
       "span.ansiblack {color: #073642;}\n",
       "span.ansiblue {color: #2aa198;}\n",
       "span.ansigray {color: #839496;}\n",
       "span.ansigreen {color: #859900;}\n",
       "span.ansipurple {color: #6c71c4;}\n",
       "span.ansired {color: #dc322f;}\n",
       "span.ansiyellow {color: #b58900;}\n",
       "\n",
       "div.output_stderr {background-color: #dc322f;}\n",
       "div.output_stderr pre {color: #eee8d5;}\n",
       "\n",
       ".cm-s-ipython.CodeMirror {background: #fdf6e3; color: #073642;}\n",
       ".cm-s-ipython div.CodeMirror-selected {background: #eee8d5 !important;}\n",
       ".cm-s-ipython .CodeMirror-gutters {background: #fdf6e3; border-right: 0px;}\n",
       ".cm-s-ipython .CodeMirror-linenumber {color: #839496;}\n",
       ".cm-s-ipython .CodeMirror-cursor {border-left: 1px solid #657b83 !important;}\n",
       "\n",
       ".cm-s-ipython span.cm-comment {color: #d33682;}\n",
       ".cm-s-ipython span.cm-atom {color: #6c71c4;}\n",
       ".cm-s-ipython span.cm-number {color: #6c71c4;}\n",
       "\n",
       ".cm-s-ipython span.cm-property, .cm-s-ipython span.cm-attribute {color: #859900;}\n",
       ".cm-s-ipython span.cm-keyword {color: #dc322f;}\n",
       ".cm-s-ipython span.cm-string {color: #b58900;}\n",
       ".cm-s-ipython span.cm-operator {color: #d33682;}\n",
       ".cm-s-ipython span.cm-builtin {color: #6c71c4;}\n",
       "\n",
       ".cm-s-ipython span.cm-variable {color: #859900;}\n",
       ".cm-s-ipython span.cm-variable-2 {color: #268bd2;}\n",
       ".cm-s-ipython span.cm-def {color: #cb4b16;}\n",
       ".cm-s-ipython span.cm-error {background: #dc322f; color: #657b83;}\n",
       ".cm-s-ipython span.cm-bracket {color: #586e75;}\n",
       ".cm-s-ipython span.cm-tag {color: #dc322f;}\n",
       ".cm-s-ipython span.cm-link {color: #6c71c4;}\n",
       "\n",
       "/*  html output highlighting*/\n",
       "\n",
       "\n",
       "div.input_area>div.highlight {background: #fdf6e3; color: #073642;}\n",
       ".cm-s-ipython div.CodeMirror-selected {background: #eee8d5 !important;}\n",
       ".cm-s-ipython .CodeMirror-gutters {background: #fdf6e3; border-right: 0px;}\n",
       ".cm-s-ipython .CodeMirror-linenumber {color: #839496;}\n",
       ".cm-s-ipython .CodeMirror-cursor {border-left: 1px solid #657b83 !important;}\n",
       "\n",
       ".highlight span.c {color: #d33682;}\n",
       ".cm-s-ipython span.cm-atom {color: #6c71c4;}\n",
       ".highlight span.mi {color: #6c71c4;}\n",
       "\n",
       ".cm-s-ipython span.cm-property, .cm-s-ipython span.cm-attribute {color: #859900;}\n",
       ".highlight span.kn {color: #dc322f;}\n",
       ".highlight span.k {color: #dc322f;}\n",
       ".highlight span.ow {color: #dc322f;}\n",
       "\n",
       ".highlight span.o {color: #d33682; font-weight: bold;}\n",
       "\n",
       ".cm-s-ipython span.cm-string {color: #b58900;}\n",
       ".highlight span.nb {color: #6c71c4;}\n",
       "\n",
       ".highlight span.n {color: #859900;}\n",
       ".highlight span.nn {color: #859900; font-weight: }\n",
       ".cm-s-ipython span.cm-def {color: #cb4b16;}\n",
       ".cm-s-ipython span.cm-error {background: #dc322f; color: #657b83;}\n",
       ".cm-s-ipython span.cm-bracket {color: #586e75;}\n",
       ".cm-s-ipython span.cm-tag {color: #dc322f;}\n",
       ".cm-s-ipython span.cm-link {color: #6c71c4;}\n",
       "\n",
       "\n",
       "</style>\n"
      ],
      "text/plain": [
       "<IPython.core.display.HTML object>"
      ]
     },
     "execution_count": 129,
     "metadata": {},
     "output_type": "execute_result"
    }
   ],
   "source": [
    "# ignore this cell, it's for loading custom css code\n",
    "from IPython.core.display import HTML\n",
    "HTML(filename=\"custom_css.txt\")"
   ]
  }
 ],
 "metadata": {
  "kernelspec": {
   "display_name": "Python 2",
   "language": "python",
   "name": "python2"
  },
  "language_info": {
   "codemirror_mode": {
    "name": "ipython",
    "version": 2
   },
   "file_extension": ".py",
   "mimetype": "text/x-python",
   "name": "python",
   "nbconvert_exporter": "python",
   "pygments_lexer": "ipython2",
   "version": "2.7.6"
  }
 },
 "nbformat": 4,
 "nbformat_minor": 0
}
