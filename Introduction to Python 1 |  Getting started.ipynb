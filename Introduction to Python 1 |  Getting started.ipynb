{
 "cells": [
  {
   "cell_type": "markdown",
   "metadata": {},
   "source": [
    "#Getting started"
   ]
  },
  {
   "cell_type": "markdown",
   "metadata": {},
   "source": [
    "<h1 id=\"toctitle\">Contents</h1>\n",
    "<ul id=\"toc\"/>"
   ]
  },
  {
   "cell_type": "markdown",
   "metadata": {},
   "source": [
    "##The one thing you need to copy down:\n",
    "\n",
    "http://mojones.github.io/eg_ip_2015/\n",
    "\n",
    "This URL will lead you to everything else!\n",
    "\n",
    "Other useful addresses:\n",
    "\n",
    "- my email address: `martin.jones@ed.ac.uk`\n",
    "- Bert's email address: `bert.overduin@ed.ac.uk`\n",
    "- the github repo for this course: `git@github.com:mojones/eg_ip_2015.git`\n",
    "- the download for this course: https://github.com/mojones/eg_ip_2015/archive/gh-pages.zip\n",
    "\n",
    "---\n",
    "\n",
    "##Housekeeping stuff\n",
    "\n",
    "- The course runs 5 days, AM and PM sessions\n",
    "- 9.30-12.30 and 1.30-5\n",
    "- breaks for coffee in the middle and one hour for lunch\n",
    "- talks, then practicals, then look at solutions \n",
    "- take a break whenever you like\n",
    "\n",
    "##About me\n",
    "\n",
    "- Biologist then programmer\n",
    "- Learned/wrote/taught Perl during my PhD\n",
    "- Learned/wrote/taught Python later on\n",
    "\n",
    "##Goals for the course\n",
    "\n",
    "- introduce most **core** Python features\n",
    "- as much hands-on time as possible\n",
    "- solving **biological** problems\n",
    "- useful things first\n",
    "\n",
    "###How to get the most out of the course\n",
    "\n",
    "- Please interrupt me\n",
    "- Feel free to record if you like\n",
    "- Ask for help from me and Bert\n",
    "- Step away from the keyboard occasionally\n",
    "\n",
    "###How to get the most out of the exercises\n",
    "\n",
    "- **try to solve yourself before looking at solutions**\n",
    "- don't worry if you don't finish\n",
    "- if you can think of something more interesting/relevant, then do it\n",
    "- exercise descriptions are often vague!\n",
    "- substitute with problems from your own work\n",
    "- break exercises down into small chunks and test\n",
    "\n",
    "###What we won't cover\n",
    "\n",
    "- installing Python (too many variables!)\n",
    "- using the command line \n",
    "- laptop troubleshooting\n",
    "- exhaustive lists of features\n",
    "- different versions/implementations\n",
    "- optimizing for speed/memory\n",
    "\n",
    "##Why Python?\n",
    "\n",
    "- Consistent syntax\n",
    "- Built in libraries\n",
    "- One obvious way of doing things\n",
    "- Widely used\n",
    "- Low learning curve\n",
    "- Very readable\n",
    "- Used in science\n",
    "- Data libraries\n",
    "- Good with text (DNA/protein)\n",
    "\n",
    "\n",
    "##Using IDLE\n",
    "\n",
    "Watch me and do the same. \n",
    "\n",
    "Go to Start menu then start typing \"canopy\".\n",
    "\n",
    "Click to run it.\n",
    "\n",
    "*File* -> *New File* to create a new Python program, then _F5_ to run it. \n",
    "\n",
    "We can also type into the shell to run commands.\n",
    "\n",
    "###Do this now\n",
    "\n",
    "Make a new program with this line of code:\n",
    "\n",
    "```\n",
    "print(\"Hello World\")\n",
    "```\n",
    "\n",
    "Run it. Check the output. Modify it to say hello to you personally. Save and run it again, check that the output changes. \n",
    "\n",
    "---\n",
    "\n",
    "##About these notebooks\n",
    "\n",
    "What you are looking at is a web page. It contains a mixture of text and Python code. \n",
    "\n",
    "The Python code has a pale brown background.\n",
    "\n",
    "Python output has a grey background. "
   ]
  },
  {
   "cell_type": "code",
   "execution_count": 2,
   "metadata": {
    "collapsed": false
   },
   "outputs": [
    {
     "name": "stdout",
     "output_type": "stream",
     "text": [
      "Hello martin\n"
     ]
    }
   ],
   "source": [
    "print(\"Hello martin\")"
   ]
  },
  {
   "cell_type": "markdown",
   "metadata": {},
   "source": [
    "The version that I am displaying is interactive, so I can edit the code and run it to show you what happens. \n",
    "\n",
    "The version that you are reading on the web is not interactive, it's just a set of notes. \n",
    "\n",
    "If you want to play about with this tool, it's called [iPython](http://ipython.org/). You don't need it for the course.  "
   ]
  },
  {
   "cell_type": "code",
   "execution_count": null,
   "metadata": {
    "collapsed": false
   },
   "outputs": [],
   "source": [
    "# ignore this cell, it's for loading custom js code\n",
    "from IPython.core.display import Javascript\n",
    "Javascript(filename=\"custom.js\")"
   ]
  },
  {
   "cell_type": "code",
   "execution_count": null,
   "metadata": {
    "collapsed": false
   },
   "outputs": [],
   "source": [
    "# ignore this cell, it's for loading custom css code\n",
    "from IPython.core.display import HTML\n",
    "HTML(filename=\"custom_css.txt\")"
   ]
  }
 ],
 "metadata": {
  "kernelspec": {
   "display_name": "Python 2",
   "language": "python",
   "name": "python2"
  },
  "language_info": {
   "codemirror_mode": {
    "name": "ipython",
    "version": 2
   },
   "file_extension": ".py",
   "mimetype": "text/x-python",
   "name": "python",
   "nbconvert_exporter": "python",
   "pygments_lexer": "ipython2",
   "version": "2.7.6"
  }
 },
 "nbformat": 4,
 "nbformat_minor": 0
}
