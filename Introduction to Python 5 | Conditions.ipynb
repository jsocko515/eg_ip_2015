{
 "cells": [
  {
   "cell_type": "markdown",
   "metadata": {},
   "source": [
    "<h1 id=\"toctitle\">Conditions</h1>\n",
    "<ul id=\"toc\"/>"
   ]
  },
  {
   "cell_type": "markdown",
   "metadata": {
    "collapsed": true
   },
   "source": [
    "##True and False\n",
    "\n",
    "__Conditions__ are things that can be evaluated as either true or false:"
   ]
  },
  {
   "cell_type": "code",
   "execution_count": 12,
   "metadata": {
    "collapsed": false
   },
   "outputs": [
    {
     "name": "stdout",
     "output_type": "stream",
     "text": [
      "False\n",
      "False\n",
      "True\n",
      "False\n",
      "True\n",
      "True\n",
      "False\n",
      "True\n",
      "False\n",
      "True\n"
     ]
    }
   ],
   "source": [
    "print(3 == 5)\n",
    "print(3 > 5)\n",
    "print(3 <= 5)\n",
    "print(len(\"ATGC\") > 5)\n",
    "print(\"GAATTC\".count(\"T\") > 1)\n",
    "print(\"ATGCTT\".startswith(\"ATG\"))\n",
    "print(\"ATGCTT\".endswith(\"TTT\"))\n",
    "print(\"ATGCTT\".isupper())\n",
    "print(\"ATGCTT\".islower())\n",
    "print(\"V\" in [\"V\", \"W\", \"L\"])"
   ]
  },
  {
   "cell_type": "markdown",
   "metadata": {},
   "source": [
    "There are a bunch of different types of true/false conditions in Python:\n",
    "\n",
    "- equals (and not equals with `!=`)\n",
    "- numerical comparisons (`>`, `<`, `>=`, `<=`)\n",
    "- string methods (`startswith`, `isupper`)\n",
    "- is a value in a list\n",
    "\n",
    "We can experiment by typing in at the console:"
   ]
  },
  {
   "cell_type": "code",
   "execution_count": 13,
   "metadata": {
    "collapsed": false
   },
   "outputs": [
    {
     "data": {
      "text/plain": [
       "True"
      ]
     },
     "execution_count": 13,
     "metadata": {},
     "output_type": "execute_result"
    }
   ],
   "source": [
    "4 != 5"
   ]
  },
  {
   "cell_type": "markdown",
   "metadata": {},
   "source": [
    "##Using conditions\n",
    "\n",
    "###`if` statements\n",
    "\n",
    "The simplest thing we can do with a condition is execute some code if it's true:"
   ]
  },
  {
   "cell_type": "code",
   "execution_count": 15,
   "metadata": {
    "collapsed": false
   },
   "outputs": [
    {
     "name": "stdout",
     "output_type": "stream",
     "text": [
      "gene is highly expressed\n"
     ]
    }
   ],
   "source": [
    "expression_level = 125\n",
    "if expression_level > 100:\n",
    "    print(\"gene is highly expressed\")"
   ]
  },
  {
   "cell_type": "markdown",
   "metadata": {},
   "source": [
    "Notice that\n",
    "\n",
    "- the condition line starts with `if`\n",
    "- the thing we want to test goes after the `if`\n",
    "- the line ends with a colon\n",
    "- just like with loops, the body is indented\n",
    "- can have multiple lines in the body\n",
    "\n",
    "A more interesting example:"
   ]
  },
  {
   "cell_type": "code",
   "execution_count": 16,
   "metadata": {
    "collapsed": false
   },
   "outputs": [
    {
     "name": "stdout",
     "output_type": "stream",
     "text": [
      "ab56\n",
      "ay93\n"
     ]
    }
   ],
   "source": [
    "accs = ['ab56', 'bh84', 'hv76', 'ay93']\n",
    "for accession in accs:\n",
    "    if accession.startswith('a'):\n",
    "        print(accession)"
   ]
  },
  {
   "cell_type": "markdown",
   "metadata": {},
   "source": [
    "Code with conditions often involves mulitple levels of indentation. Watch out for `IndentationErrors` and indentation mistakes."
   ]
  },
  {
   "cell_type": "markdown",
   "metadata": {},
   "source": [
    "###`else` statements\n",
    "\n",
    "The `if` examples above are yes/no - either we execute the bit of code, or we do nothing. \n",
    "\n",
    "Sometimes we want either/or - two different branches:"
   ]
  },
  {
   "cell_type": "code",
   "execution_count": 20,
   "metadata": {
    "collapsed": false,
    "scrolled": true
   },
   "outputs": [
    {
     "name": "stdout",
     "output_type": "stream",
     "text": [
      "ab56 starts with a\n",
      "bh84 doesn't start with a\n",
      "hv76 doesn't start with a\n",
      "ay93 starts with a\n",
      "ap97 starts with a\n",
      "bd72 doesn't start with a\n"
     ]
    }
   ],
   "source": [
    "accs = ['ab56', 'bh84', 'hv76', 'ay93', 'ap97', 'bd72']\n",
    "for accession in accs:\n",
    "    if accession.startswith('a'):\n",
    "        print(accession  + \" starts with a\")\n",
    "    else:\n",
    "        print(accession  + \" doesn't start with a\")"
   ]
  },
  {
   "cell_type": "code",
   "execution_count": null,
   "metadata": {
    "collapsed": true
   },
   "outputs": [],
   "source": []
  },
  {
   "cell_type": "markdown",
   "metadata": {},
   "source": [
    "The `else` line has nothing on it. The `else` block is indented and is run when the condition is false.\n",
    "\n",
    "### `elif` statements\n",
    "\n",
    "Sometimes we want multiple branches. We can nest conditions like this:"
   ]
  },
  {
   "cell_type": "code",
   "execution_count": 21,
   "metadata": {
    "collapsed": false
   },
   "outputs": [
    {
     "name": "stdout",
     "output_type": "stream",
     "text": [
      "ab56 starts with a\n",
      "bh84 starts with b\n",
      "hv76 starts with something else\n",
      "ay93 starts with a\n",
      "ap97 starts with a\n",
      "bd72 starts with b\n"
     ]
    }
   ],
   "source": [
    "accs = ['ab56', 'bh84', 'hv76', 'ay93', 'ap97', 'bd72']\n",
    "for accession in accs:\n",
    "    if accession.startswith('a'):\n",
    "        print(accession  + \" starts with a\")\n",
    "    else:\n",
    "        if accession.startswith('b'):\n",
    "            print(accession  + \" starts with b\")\n",
    "        else:\n",
    "            print(accession  + \" starts with something else\")"
   ]
  },
  {
   "cell_type": "markdown",
   "metadata": {},
   "source": [
    "But each extra option needs an extra level of indentation. Better to use `elif`:"
   ]
  },
  {
   "cell_type": "code",
   "execution_count": 22,
   "metadata": {
    "collapsed": false
   },
   "outputs": [
    {
     "name": "stdout",
     "output_type": "stream",
     "text": [
      "ab56 starts with a\n",
      "bh84 starts with b\n",
      "hv76 starts with something else\n",
      "ay93 starts with a\n",
      "ap97 starts with a\n",
      "bd72 starts with b\n"
     ]
    }
   ],
   "source": [
    "accs = ['ab56', 'bh84', 'hv76', 'ay93', 'ap97', 'bd72']\n",
    "for accession in accs:\n",
    "    if accession.startswith('a'):\n",
    "        print(accession  + \" starts with a\")\n",
    "    elif accession.startswith('b'):\n",
    "        print(accession  + \" starts with b\")\n",
    "    else:\n",
    "        print(accession  + \" starts with something else\")"
   ]
  },
  {
   "cell_type": "markdown",
   "metadata": {},
   "source": [
    "Much easier to read, and we can add as many conditions as we like:"
   ]
  },
  {
   "cell_type": "code",
   "execution_count": 24,
   "metadata": {
    "collapsed": false
   },
   "outputs": [
    {
     "name": "stdout",
     "output_type": "stream",
     "text": [
      "a!\n",
      "e!\n",
      "sometheing else!\n",
      "a!\n",
      "sometheing else!\n",
      "c!\n"
     ]
    }
   ],
   "source": [
    "accs = ['ab56', 'eh84', 'hv76', 'ay93', 'zp97', 'cd72']\n",
    "\n",
    "for accession in accs:\n",
    "    if accession.startswith('a'):\n",
    "        print('a!')\n",
    "    elif accession.startswith('b'):\n",
    "        print('b!')\n",
    "    elif accession.startswith('c'):\n",
    "        print('c!')\n",
    "    elif accession.startswith('d'):\n",
    "        print('d!')\n",
    "    elif accession.startswith('e'):\n",
    "        print('e!')\n",
    "    else:\n",
    "        print('sometheing else!')"
   ]
  },
  {
   "cell_type": "markdown",
   "metadata": {},
   "source": [
    "`else` and `elif` are good when we have _mutually excluside_ posibilities. If more than one can be true, then use multiple `if` lines:"
   ]
  },
  {
   "cell_type": "code",
   "execution_count": 25,
   "metadata": {
    "collapsed": false
   },
   "outputs": [
    {
     "name": "stdout",
     "output_type": "stream",
     "text": [
      "ab56 starts with a\n",
      "ab56 ends with 6\n",
      "hv76 ends with 6\n",
      "ay93 starts with a\n",
      "ap97 starts with a\n"
     ]
    }
   ],
   "source": [
    "accs = ['ab56', 'bh84', 'hv76', 'ay93', 'ap97', 'bd72']\n",
    "for accession in accs:\n",
    "    if accession.startswith('a'):\n",
    "        print(accession  + \" starts with a\")\n",
    "    if accession.endswith('6'):\n",
    "        print(accession  + \" ends with 6\")"
   ]
  },
  {
   "cell_type": "markdown",
   "metadata": {},
   "source": [
    "##Complex conditions\n",
    "###`and`\n",
    "\n",
    "We can join together two conditions with `and` to make a complex one that's only true if both of the simple ones are true:"
   ]
  },
  {
   "cell_type": "code",
   "execution_count": 26,
   "metadata": {
    "collapsed": false
   },
   "outputs": [
    {
     "name": "stdout",
     "output_type": "stream",
     "text": [
      "both conditions are true for ay93\n"
     ]
    }
   ],
   "source": [
    "accs = ['ab56', 'bh84', 'hv76', 'ay93', 'ap97', 'bd72']\n",
    "for a in accs:\n",
    "    if a.startswith('a') and a.endswith('3'):\n",
    "        print(\"both conditions are true for \" + a)"
   ]
  },
  {
   "cell_type": "markdown",
   "metadata": {},
   "source": [
    "###`or`\n",
    "\n",
    "We can do the same with `or` and it will be true if either of the simple conditions are true:"
   ]
  },
  {
   "cell_type": "code",
   "execution_count": 27,
   "metadata": {
    "collapsed": false
   },
   "outputs": [
    {
     "name": "stdout",
     "output_type": "stream",
     "text": [
      "at least one condition is true for ab56\n",
      "at least one condition is true for ay93\n",
      "at least one condition is true for ap97\n"
     ]
    }
   ],
   "source": [
    "accs = ['ab56', 'bh84', 'hv76', 'ay93', 'ap97', 'bd72']\n",
    "for a in accs:\n",
    "    if a.startswith('a') or a.endswith('3'):\n",
    "        print(\"at least one condition is true for \" + a)"
   ]
  },
  {
   "cell_type": "markdown",
   "metadata": {},
   "source": [
    "We can even join together complex conditions in this way:"
   ]
  },
  {
   "cell_type": "code",
   "execution_count": 32,
   "metadata": {
    "collapsed": false
   },
   "outputs": [
    {
     "name": "stdout",
     "output_type": "stream",
     "text": [
      "complex condition is true for bh84\n"
     ]
    }
   ],
   "source": [
    "accs = ['ab56', 'bh84', 'hv76', 'ay93', 'ap97', 'bd72']\n",
    "for a in accs:\n",
    "    if (a.startswith('b') or a.startswith('h')) and a.endswith('4'):\n",
    "        print(\"complex condition is true for \" + a)"
   ]
  },
  {
   "cell_type": "markdown",
   "metadata": {},
   "source": [
    "Complex conditions can be hard to read. If we put parentheses around the whole thing, then we are allowed to split it up over multiple lines:"
   ]
  },
  {
   "cell_type": "code",
   "execution_count": 35,
   "metadata": {
    "collapsed": false
   },
   "outputs": [
    {
     "name": "stdout",
     "output_type": "stream",
     "text": [
      "complex condition is true for bh84\n"
     ]
    }
   ],
   "source": [
    "accs = ['ab56', 'bh84', 'hv76', 'ay93', 'ap97', 'bd72']\n",
    "for a in accs:\n",
    "    if (\n",
    "        (a.startswith('b') \n",
    "        or a.startswith('h')) \n",
    "        and a.endswith('4')\n",
    "    ):\n",
    "        print(\"complex condition is true for \" + a)"
   ]
  },
  {
   "cell_type": "markdown",
   "metadata": {},
   "source": [
    "##Exercises\n",
    "\n",
    "###Processing tabular data\n",
    "\n",
    "Open the text file called _data.csv_, which contains some made-up data for a number of genes. Each line contains the following fields for a single gene in this order: species name, sequence, gene name, expression level. The fields are separated by commas (hence the name of the file – __csv__ stands for __Comma Separated Values__):\n",
    "\n",
    "```\n",
    "Drosophila yakuba,cgcgcgc...gatgc,hdt739,85\n",
    "```\n",
    "\n",
    "Think of it as a representation of a table in a spreadsheet – each line is a row, and each field in a line is a column. \n",
    "\n",
    "Print out the gene names for all genes belonging to Drosophila melanogaster or Drosophila simulans.\n",
    "\n",
    "Print out the gene names for all genes between 90 and 110 bases long.\n",
    "\n",
    "Print out the gene names for all genes whose AT content is less than 0.5 and whose expression level is greater than 200.\n",
    "\n",
    "Print out the gene names for all genes whose name begins with \"k\" or \"h\" except those belonging to Drosophila melanogaster.\n",
    "\n",
    "For each gene, print out a message giving the gene name and saying whether its AT content is high (greater than 0.65), low (less than 0.45) or medium (between 0.45 and 0.65)."
   ]
  },
  {
   "cell_type": "markdown",
   "metadata": {},
   "source": [
    "###Pairwise distance\n",
    "\n",
    "Warning: difficult!\n",
    "\n",
    "Here is a list of DNA sequences:\n",
    "\n",
    "`['ATTGTACGG', 'AATGAACCG', 'AATGAACCC', 'AATGGGAAT']`\n",
    "\n",
    "Write a program that calculates and prints, for each pair of sequences, the percentage of identical positions. \n",
    "\n",
    "Hint: \n",
    "\n",
    "```\n",
    "if base1 == base2:\n",
    "    # do something\n",
    "```"
   ]
  },
  {
   "cell_type": "markdown",
   "metadata": {},
   "source": [
    "###Kmer counting\n",
    "\n",
    "Warning: difficult!\n",
    "\n",
    "Write a program that, given a DNA sequence, will print all the k-mers (e.g. 4-mers) that occur more than n times. \n",
    "\n",
    "E.g. with dna=\"ATGCATCATG\", k=2 and n=2 print:\n",
    "\n",
    "AT "
   ]
  },
  {
   "cell_type": "code",
   "execution_count": 4,
   "metadata": {
    "collapsed": false
   },
   "outputs": [
    {
     "data": {
      "application/javascript": [
       "\n",
       "function regentoc() {\n",
       "    document.getElementById(\"toc\").innerHTML = \"\";\n",
       "    var currenth2 = 0;\n",
       "    $(\"h2,h3\").not(\"#Contents\").each(function(mainIndex) {\n",
       "        el = $(this);\n",
       "        title = el.attr(\"id\");\n",
       "        text = el.html();\n",
       "        link = \"#\" + el.attr(\"id\");\n",
       "        if ( document.getElementById(title).tagName == \"H2\" ) {\n",
       "            currenth2 += 1;\n",
       "            newLine =\n",
       "                \"<li class='maintoc'>\" +\n",
       "                   \"<a href='\" + link + \"'>\" + text + \"</a>\" +\n",
       "                \"</li>\" +\n",
       "                \"<ul id='h2\" + currenth2 + \"'></ul>\";\n",
       "            document.getElementById(\"toc\").innerHTML += newLine;\n",
       "        } else if ( document.getElementById(title).tagName==\"H3\" ) {\n",
       "            h1list = document.getElementById(\"h2\"+currenth2);\n",
       "            newLine = \"<li class='subtoc'>\" + \"<a href='\" + link + \"'>\" + text + \"</a>\" + \"</li>\";\n",
       "            h1list.innerHTML += newLine;\n",
       "        }\n",
       "    });\n",
       "}\n",
       " \n",
       "setInterval(regentoc,1000);\n"
      ],
      "text/plain": [
       "<IPython.core.display.Javascript object>"
      ]
     },
     "execution_count": 4,
     "metadata": {},
     "output_type": "execute_result"
    }
   ],
   "source": [
    "# ignore this cell, it's for loading custom js code\n",
    "from IPython.core.display import Javascript\n",
    "Javascript(filename=\"custom.js\")"
   ]
  },
  {
   "cell_type": "code",
   "execution_count": 3,
   "metadata": {
    "collapsed": false
   },
   "outputs": [
    {
     "data": {
      "text/html": [
       "<style>\n",
       "div.output_text{\n",
       "        max-height:400px;\n",
       "        overflow:scroll;\n",
       "}\n",
       "\n",
       "div#notebook {\n",
       "  font-family: 'PT Serif' !important;\n",
       "} \n",
       "\n",
       "div.CodeMirror, div.output_area pre, div.output_wrapper, div.prompt {\n",
       "  font-family: 'Source Code Pro', monospace !important;\n",
       "}\n",
       "\n",
       ".output_text {\n",
       "  background-color: #f0f0f0;\n",
       "}\n",
       "\n",
       "\n",
       ".prompt { display: none; }\n",
       "div.output_subarea { max-width: calc(100%); }\n",
       "</style>\n",
       "\n"
      ],
      "text/plain": [
       "<IPython.core.display.HTML object>"
      ]
     },
     "execution_count": 3,
     "metadata": {},
     "output_type": "execute_result"
    }
   ],
   "source": [
    "# ignore this cell, it's for loading custom css code\n",
    "from IPython.core.display import HTML\n",
    "HTML(filename=\"custom.css\")"
   ]
  },
  {
   "cell_type": "code",
   "execution_count": null,
   "metadata": {
    "collapsed": true
   },
   "outputs": [],
   "source": []
  },
  {
   "cell_type": "code",
   "execution_count": null,
   "metadata": {
    "collapsed": true
   },
   "outputs": [],
   "source": []
  },
  {
   "cell_type": "code",
   "execution_count": null,
   "metadata": {
    "collapsed": true
   },
   "outputs": [],
   "source": []
  }
 ],
 "metadata": {
  "kernelspec": {
   "display_name": "Python 2",
   "language": "python",
   "name": "python2"
  },
  "language_info": {
   "codemirror_mode": {
    "name": "ipython",
    "version": 2
   },
   "file_extension": ".py",
   "mimetype": "text/x-python",
   "name": "python",
   "nbconvert_exporter": "python",
   "pygments_lexer": "ipython2",
   "version": "2.7.6"
  }
 },
 "nbformat": 4,
 "nbformat_minor": 0
}
