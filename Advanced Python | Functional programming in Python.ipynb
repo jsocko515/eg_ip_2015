{
 "cells": [
  {
   "cell_type": "markdown",
   "metadata": {
    "slideshow": {
     "slide_type": "slide"
    }
   },
   "source": [
    "##First, some FP concepts"
   ]
  },
  {
   "cell_type": "markdown",
   "metadata": {
    "slideshow": {
     "slide_type": "slide"
    }
   },
   "source": [
    "###State and mutability\n",
    "A variable is **mutable** if it can change **state** while a program is running:"
   ]
  },
  {
   "cell_type": "code",
   "execution_count": 2,
   "metadata": {
    "collapsed": false,
    "slideshow": {
     "slide_type": "subslide"
    }
   },
   "outputs": [
    {
     "name": "stdout",
     "output_type": "stream",
     "text": [
      "45\n"
     ]
    }
   ],
   "source": [
    "x = 0\n",
    "for i in range(10):\n",
    "    x = x + i\n",
    "print(x)"
   ]
  },
  {
   "cell_type": "markdown",
   "metadata": {},
   "source": [
    "The value of `x` changes as the program runs. "
   ]
  },
  {
   "cell_type": "markdown",
   "metadata": {},
   "source": [
    "The same thing without using state:"
   ]
  },
  {
   "cell_type": "code",
   "execution_count": 4,
   "metadata": {
    "collapsed": false
   },
   "outputs": [
    {
     "name": "stdout",
     "output_type": "stream",
     "text": [
      "45\n"
     ]
    }
   ],
   "source": [
    "x = sum(range(10))\n",
    "print(x)"
   ]
  },
  {
   "cell_type": "markdown",
   "metadata": {},
   "source": [
    "###Side effects\n",
    "A function has side effects if it changes the state of variables in the program:"
   ]
  },
  {
   "cell_type": "code",
   "execution_count": 9,
   "metadata": {
    "collapsed": false
   },
   "outputs": [
    {
     "name": "stdout",
     "output_type": "stream",
     "text": [
      "[1, 2, 3]\n"
     ]
    }
   ],
   "source": [
    "def my_function(i): \n",
    "    i.append('a') \n",
    "    return(i) \n",
    "\n",
    "foo = [1,2,3] \n",
    "print(foo) \n",
    "bar = my_function(foo)"
   ]
  },
  {
   "cell_type": "markdown",
   "metadata": {},
   "source": [
    "Has the value of `foo` been changed? We can't know without inspecting `my_function`.\n",
    "\n",
    "Same but without side effects:"
   ]
  },
  {
   "cell_type": "code",
   "execution_count": 12,
   "metadata": {
    "collapsed": false
   },
   "outputs": [
    {
     "data": {
      "text/plain": [
       "[1, 2, 3, 'a']"
      ]
     },
     "execution_count": 12,
     "metadata": {},
     "output_type": "execute_result"
    }
   ],
   "source": [
    "def my_function(i): \n",
    "    return(i + ['a']) \n",
    "\n",
    "my_function([1,2,3])"
   ]
  },
  {
   "cell_type": "markdown",
   "metadata": {},
   "source": [
    "It's even harder if we have a big stack of functions:"
   ]
  },
  {
   "cell_type": "code",
   "execution_count": 17,
   "metadata": {
    "collapsed": false
   },
   "outputs": [
    {
     "name": "stdout",
     "output_type": "stream",
     "text": [
      "[1, 2, 3]\n"
     ]
    }
   ],
   "source": [
    "def f1(i): \n",
    "    i.append('a') \n",
    "    # real code...\n",
    "    return(i) \n",
    "\n",
    "def f2(i): \n",
    "    j = f1(i)\n",
    "    # real code...\n",
    "    return(j) \n",
    "\n",
    "def f3(i): \n",
    "    k = f2(i)\n",
    "    # real code...\n",
    "    return(k) \n",
    "\n",
    "\n",
    "foo = [1,2,3] \n",
    "print(foo) \n",
    "bar = f3(foo)"
   ]
  },
  {
   "cell_type": "markdown",
   "metadata": {},
   "source": [
    "In order to figure out whether `foo` has changed we have to look at `f3`, then `f2`, then `f1`, etc."
   ]
  },
  {
   "cell_type": "markdown",
   "metadata": {},
   "source": [
    "Another question: does the function always return the same output when given the same input?"
   ]
  },
  {
   "cell_type": "code",
   "execution_count": 19,
   "metadata": {
    "collapsed": false
   },
   "outputs": [
    {
     "name": "stdout",
     "output_type": "stream",
     "text": [
      "[1, 2, 3, 'a', 'b', 'c']\n",
      "[1, 2, 3, 'x', 'y', 'z']\n"
     ]
    }
   ],
   "source": [
    "def my_function(i): \n",
    "    return(i + to_add) \n",
    "\n",
    "\n",
    "to_add =['a', 'b', 'c'] \n",
    "x = [1,2,3] \n",
    "print(my_function(x)) \n",
    "to_add =['x', 'y', 'z'] \n",
    "print(my_function(x)) "
   ]
  },
  {
   "cell_type": "markdown",
   "metadata": {},
   "source": [
    "Above, identical function calls give different results depending on the value of `to_add`.\n",
    "\n",
    "Functions which \n",
    "\n",
    "- don't have any side effects and\n",
    "- always return the same output for the same input\n",
    "\n",
    "are called **pure functions**.\n",
    "\n"
   ]
  },
  {
   "cell_type": "markdown",
   "metadata": {},
   "source": [
    "###Functions as objects\n",
    "\n",
    "Functions are values which can be passed around a program just like ints, strings, etc.\n",
    "\n",
    "A function which takes a list an the name of a function, and prints the result of running the function on each element of the list:"
   ]
  },
  {
   "cell_type": "code",
   "execution_count": 21,
   "metadata": {
    "collapsed": false
   },
   "outputs": [
    {
     "name": "stdout",
     "output_type": "stream",
     "text": [
      "3\n",
      "6\n",
      "2\n"
     ]
    }
   ],
   "source": [
    "def print_list_with_function(my_list, my_function): \n",
    "    # the my_function argument is the name of a function\n",
    "    for element in my_list: \n",
    "        print(my_function(element)) \n",
    "\n",
    "input = ['abc', 'defhij', 'kl'] \n",
    "print_list_with_function(input, len) "
   ]
  },
  {
   "cell_type": "markdown",
   "metadata": {},
   "source": [
    "How about with the name of a function that we define?"
   ]
  },
  {
   "cell_type": "code",
   "execution_count": 23,
   "metadata": {
    "collapsed": false
   },
   "outputs": [
    {
     "name": "stdout",
     "output_type": "stream",
     "text": [
      "b\n",
      "e\n",
      "l\n"
     ]
    }
   ],
   "source": [
    "def get_second(input): \n",
    "    return input[1] \n",
    "\n",
    "print_list_with_function(input, get_second)"
   ]
  },
  {
   "cell_type": "markdown",
   "metadata": {},
   "source": [
    "For one-line functions we can use a shortcut: **lambda expressions**:"
   ]
  },
  {
   "cell_type": "code",
   "execution_count": 25,
   "metadata": {
    "collapsed": false
   },
   "outputs": [
    {
     "name": "stdout",
     "output_type": "stream",
     "text": [
      "b\n",
      "e\n",
      "l\n"
     ]
    }
   ],
   "source": [
    "get_second = lambda(input) : input[1] \n",
    "\n",
    "print_list_with_function(input, get_second)"
   ]
  },
  {
   "cell_type": "markdown",
   "metadata": {},
   "source": [
    "Or even:"
   ]
  },
  {
   "cell_type": "code",
   "execution_count": 27,
   "metadata": {
    "collapsed": false
   },
   "outputs": [
    {
     "name": "stdout",
     "output_type": "stream",
     "text": [
      "b\n",
      "e\n",
      "l\n"
     ]
    }
   ],
   "source": [
    "print_list_with_function(input, lambda(input) : input[1] )"
   ]
  },
  {
   "cell_type": "markdown",
   "metadata": {},
   "source": [
    "###How to get the answer vs. what the answer is\n",
    "\n",
    "In non-functional (procedural?) code, we describe how to obtain the answer.\n",
    "\n",
    ">Create a variable to hold a running total, and set it to zero. Then, for each number between zero and ten, add that number to the total. Finally, print the total."
   ]
  },
  {
   "cell_type": "code",
   "execution_count": 29,
   "metadata": {
    "collapsed": false
   },
   "outputs": [
    {
     "name": "stdout",
     "output_type": "stream",
     "text": [
      "55\n"
     ]
    }
   ],
   "source": [
    "total = 0 \n",
    "for i in range(11): \n",
    "    total = total + i \n",
    "print(total) "
   ]
  },
  {
   "cell_type": "markdown",
   "metadata": {},
   "source": [
    "In functional code, we decribe the result we want:\n",
    "\n",
    ">the sum of the numbers between zero and ten\n",
    "\n",
    "and let the computer figure out how to calculate it"
   ]
  },
  {
   "cell_type": "code",
   "execution_count": 31,
   "metadata": {
    "collapsed": false
   },
   "outputs": [
    {
     "name": "stdout",
     "output_type": "stream",
     "text": [
      "55\n"
     ]
    }
   ],
   "source": [
    "print(sum(range(11))) "
   ]
  },
  {
   "cell_type": "markdown",
   "metadata": {},
   "source": [
    "Another example: getting a list of the second letter of each element in a list of words:"
   ]
  },
  {
   "cell_type": "code",
   "execution_count": 120,
   "metadata": {
    "collapsed": false
   },
   "outputs": [
    {
     "data": {
      "text/plain": [
       "(['e', 'o'], ['e', 'o'])"
      ]
     },
     "execution_count": 120,
     "metadata": {},
     "output_type": "execute_result"
    }
   ],
   "source": [
    "input = ['hello', 'world']\n",
    "\n",
    "# how to get the answer we want\n",
    "result1 = []\n",
    "for i in input:\n",
    "    result1.append(i[1]) \n",
    "\n",
    "# describe the answer we want\n",
    "result2 = map(lambda x : x[1], input)\n",
    "result1,result2"
   ]
  },
  {
   "cell_type": "markdown",
   "metadata": {},
   "source": [
    "##Looking at some built in higher order functions"
   ]
  },
  {
   "cell_type": "markdown",
   "metadata": {},
   "source": [
    "###map()"
   ]
  },
  {
   "cell_type": "markdown",
   "metadata": {},
   "source": [
    "For a list of DNA sequences, create a list of their lengths:"
   ]
  },
  {
   "cell_type": "code",
   "execution_count": 35,
   "metadata": {
    "collapsed": false
   },
   "outputs": [
    {
     "data": {
      "text/plain": [
       "[4, 8, 3, 8]"
      ]
     },
     "execution_count": 35,
     "metadata": {},
     "output_type": "execute_result"
    }
   ],
   "source": [
    "dna_list = ['TAGC', 'ACGTATGC', 'ATG', 'ACGGCTAG'] \n",
    "\n",
    "lengths = [] \n",
    "for dna in dna_list: \n",
    "    lengths.append(len(dna)) \n",
    "lengths"
   ]
  },
  {
   "cell_type": "markdown",
   "metadata": {},
   "source": [
    "For the same list, create a list of their AT contents:"
   ]
  },
  {
   "cell_type": "code",
   "execution_count": 36,
   "metadata": {
    "collapsed": false
   },
   "outputs": [
    {
     "data": {
      "text/plain": [
       "[0.5, 0.5, 0.6666666666666666, 0.375]"
      ]
     },
     "execution_count": 36,
     "metadata": {},
     "output_type": "execute_result"
    }
   ],
   "source": [
    "from __future__ import division\n",
    "\n",
    "at_contents = [] \n",
    "for dna in dna_list: \n",
    "    at_contents.append((dna.count('A') + dna.count('T')) / len(dna)) \n",
    "at_contents"
   ]
  },
  {
   "cell_type": "markdown",
   "metadata": {},
   "source": [
    "Lots of duplicated logic here. For the general pattern of transforming each element of a list, use `map()`. First argument is the name of a transformation function, either built in:"
   ]
  },
  {
   "cell_type": "code",
   "execution_count": 38,
   "metadata": {
    "collapsed": false
   },
   "outputs": [
    {
     "data": {
      "text/plain": [
       "[4, 8, 3, 8]"
      ]
     },
     "execution_count": 38,
     "metadata": {},
     "output_type": "execute_result"
    }
   ],
   "source": [
    "lengths = map(len, dna_list) \n",
    "lengths"
   ]
  },
  {
   "cell_type": "markdown",
   "metadata": {},
   "source": [
    "or defined:"
   ]
  },
  {
   "cell_type": "code",
   "execution_count": 41,
   "metadata": {
    "collapsed": false
   },
   "outputs": [
    {
     "data": {
      "text/plain": [
       "[0.5, 0.5, 0.6666666666666666, 0.375]"
      ]
     },
     "execution_count": 41,
     "metadata": {},
     "output_type": "execute_result"
    }
   ],
   "source": [
    "def get_at(dna): \n",
    "    return (dna.count('A') + dna.count('T')) / len(dna) \n",
    "\n",
    "at_contents = map(get_at, dna_list) \n",
    "at_contents"
   ]
  },
  {
   "cell_type": "markdown",
   "metadata": {},
   "source": [
    "Notice one-in-one-out function signature. \n",
    "\n",
    "Remember lambda expressions:"
   ]
  },
  {
   "cell_type": "code",
   "execution_count": 42,
   "metadata": {
    "collapsed": false
   },
   "outputs": [
    {
     "data": {
      "text/plain": [
       "[0.5, 0.5, 0.6666666666666666, 0.375]"
      ]
     },
     "execution_count": 42,
     "metadata": {},
     "output_type": "execute_result"
    }
   ],
   "source": [
    "at_contents = map( \n",
    "    lambda dna : (dna.count('A') + dna.count('T')) / len(dna), \n",
    "    dna_list \n",
    ")\n",
    "at_contents"
   ]
  },
  {
   "cell_type": "markdown",
   "metadata": {},
   "source": [
    "Note: `map()` is **lazy** in Python 3.\n",
    "\n",
    "We've talked about lists, but really any iterable:"
   ]
  },
  {
   "cell_type": "code",
   "execution_count": 43,
   "metadata": {
    "collapsed": false
   },
   "outputs": [
    {
     "data": {
      "text/plain": [
       "['a', 'b', 'c', 'd', 'e', 'f']"
      ]
     },
     "execution_count": 43,
     "metadata": {},
     "output_type": "execute_result"
    }
   ],
   "source": [
    "map(lambda x: x.lower(), 'ABCDEF')"
   ]
  },
  {
   "cell_type": "markdown",
   "metadata": {},
   "source": [
    "###filter()\n",
    "\n",
    "Selecting elements from a list that fit a specific criterion e.g. minimum length, low AT content:"
   ]
  },
  {
   "cell_type": "code",
   "execution_count": 46,
   "metadata": {
    "collapsed": false
   },
   "outputs": [
    {
     "name": "stdout",
     "output_type": "stream",
     "text": [
      "['ACGTATGC', 'ACGGCTAG']\n",
      "['TAGC', 'ACGTATGC', 'ACGGCTAG']\n"
     ]
    }
   ],
   "source": [
    "dna_list = ['TAGC', 'ACGTATGC', 'ATG', 'ACGGCTAG'] \n",
    "\n",
    "long_dna = [] \n",
    "for dna in dna_list: \n",
    "    if len(dna) > 5: \n",
    "        long_dna.append(dna) \n",
    "print(long_dna)\n",
    "\n",
    "at_poor_dna = [] \n",
    "for dna in dna_list: \n",
    "    if (dna.count('A') + dna.count('T')) / len(dna) < 0.6: \n",
    "        at_poor_dna.append(dna) \n",
    "print(at_poor_dna)"
   ]
  },
  {
   "cell_type": "markdown",
   "metadata": {},
   "source": [
    "Lots of repetitive code. \n",
    "\n",
    "Just like `map()`, `filter()` takes a function argument which returns True or False:"
   ]
  },
  {
   "cell_type": "code",
   "execution_count": 45,
   "metadata": {
    "collapsed": false
   },
   "outputs": [
    {
     "name": "stdout",
     "output_type": "stream",
     "text": [
      "['ACGTATGC', 'ACGGCTAG']\n",
      "['TAGC', 'ACGTATGC', 'ACGGCTAG']\n"
     ]
    }
   ],
   "source": [
    "def is_long(dna): \n",
    "    return len(dna) > 5 \n",
    "\n",
    "def is_at_poor(dna): \n",
    "    at = (dna.count('A') + dna.count('T')) / len(dna) \n",
    "    return at < 0.6 \n",
    "\n",
    "long_dna = filter(is_long, dna_list) \n",
    "at_poor_dna = filter(is_at_poor, dna_list) \n",
    "\n",
    "print(long_dna)\n",
    "print(at_poor_dna)"
   ]
  },
  {
   "cell_type": "markdown",
   "metadata": {},
   "source": [
    "`filter()` is also lazy under Python 3.\n",
    "\n",
    "###sorted\n",
    "\n",
    "By default the `sorted()` function sorts alphabetically:"
   ]
  },
  {
   "cell_type": "code",
   "execution_count": 48,
   "metadata": {
    "collapsed": false
   },
   "outputs": [
    {
     "data": {
      "text/plain": [
       "['ACGGCTAG', 'ACGTATGC', 'ATG', 'TAGC']"
      ]
     },
     "execution_count": 48,
     "metadata": {},
     "output_type": "execute_result"
    }
   ],
   "source": [
    "dna_list = ['TAGC', 'ACGTATGC', 'ATG', 'ACGGCTAG'] \n",
    "sorted(dna_list) "
   ]
  },
  {
   "cell_type": "markdown",
   "metadata": {},
   "source": [
    "For custom sorting, we pass in a `key` keyword argument which is the name of a transformation function. So to sort by length, pass in the name of the `len` function:"
   ]
  },
  {
   "cell_type": "code",
   "execution_count": 50,
   "metadata": {
    "collapsed": false
   },
   "outputs": [
    {
     "data": {
      "text/plain": [
       "['ATG', 'TAGC', 'ACGTATGC', 'ACGGCTAG']"
      ]
     },
     "execution_count": 50,
     "metadata": {},
     "output_type": "execute_result"
    }
   ],
   "source": [
    "sorted(dna_list, key=len) "
   ]
  },
  {
   "cell_type": "markdown",
   "metadata": {},
   "source": [
    "Notice how we don't have to worry about writing any actual sorting code. Remember, we describe what the answer looks like:\n",
    "\n",
    "> the elements of `dna_list` sorted according to their length\n",
    "\n",
    "and Python figures out how to give it to us.\n",
    "\n",
    "Reverse the order with `reverse` keyword argument:"
   ]
  },
  {
   "cell_type": "code",
   "execution_count": 52,
   "metadata": {
    "collapsed": false
   },
   "outputs": [
    {
     "data": {
      "text/plain": [
       "['ACGTATGC', 'ACGGCTAG', 'TAGC', 'ATG']"
      ]
     },
     "execution_count": 52,
     "metadata": {},
     "output_type": "execute_result"
    }
   ],
   "source": [
    "sorted(dna_list, key=len, reverse=True) "
   ]
  },
  {
   "cell_type": "markdown",
   "metadata": {},
   "source": [
    "As illustrated, `sorted()` works by returning a copy of the list - or other iterable:"
   ]
  },
  {
   "cell_type": "code",
   "execution_count": 55,
   "metadata": {
    "collapsed": false
   },
   "outputs": [
    {
     "data": {
      "text/plain": [
       "['a', 'a', 'c', 'c', 'g', 'g', 't', 't']"
      ]
     },
     "execution_count": 55,
     "metadata": {},
     "output_type": "execute_result"
    }
   ],
   "source": [
    "sorted('atcgatcg')"
   ]
  },
  {
   "cell_type": "markdown",
   "metadata": {},
   "source": [
    "There is also `list.sort()` which behaves the same way but works by mutating the original list.\n",
    "\n",
    "Key functions can be arbitrarily complex....\n",
    "\n",
    "To sort by AT content, we can just re-use our `get_at()` function from before:"
   ]
  },
  {
   "cell_type": "code",
   "execution_count": 57,
   "metadata": {
    "collapsed": false
   },
   "outputs": [
    {
     "data": {
      "text/plain": [
       "['ACGGCTAG', 'TAGC', 'ACGTATGC', 'ATG']"
      ]
     },
     "execution_count": 57,
     "metadata": {},
     "output_type": "execute_result"
    }
   ],
   "source": [
    "def get_at(dna): \n",
    "    return (dna.count('A') + dna.count('T')) / len(dna) \n",
    "\n",
    "sorted(dna_list, key=get_at) "
   ]
  },
  {
   "cell_type": "markdown",
   "metadata": {},
   "source": [
    "To sort by length of poly-A tail, we just have to write a function which takes a single DNA sequence and returns the poly-A tail length:"
   ]
  },
  {
   "cell_type": "code",
   "execution_count": 60,
   "metadata": {
    "collapsed": false
   },
   "outputs": [
    {
     "data": {
      "text/plain": [
       "0"
      ]
     },
     "execution_count": 60,
     "metadata": {},
     "output_type": "execute_result"
    }
   ],
   "source": [
    "import re \n",
    "def poly_a_length(dna): \n",
    "    poly_a_match = re.search(r'A+$', dna) \n",
    "    if poly_a_match: \n",
    "        return len(poly_a_match.group()) \n",
    "    else: \n",
    "        return 0 \n",
    "\n",
    "poly_a_length('ACGTGC')"
   ]
  },
  {
   "cell_type": "markdown",
   "metadata": {},
   "source": [
    "and use it as the key to `sorted()`:"
   ]
  },
  {
   "cell_type": "code",
   "execution_count": 63,
   "metadata": {
    "collapsed": false
   },
   "outputs": [
    {
     "data": {
      "text/plain": [
       "['ACGG', 'ATCGA', 'ATCGAA', 'CGTAAA']"
      ]
     },
     "execution_count": 63,
     "metadata": {},
     "output_type": "execute_result"
    }
   ],
   "source": [
    "dna_list = ['ATCGA', 'ACGG', 'CGTAAA', 'ATCGAA']\n",
    "sorted(dna_list, key=poly_a_length)"
   ]
  },
  {
   "cell_type": "markdown",
   "metadata": {},
   "source": [
    "`map()` and `sort()` both use transformation-type functions, so we can also just list the poly-A tail lengths:"
   ]
  },
  {
   "cell_type": "code",
   "execution_count": 66,
   "metadata": {
    "collapsed": false
   },
   "outputs": [
    {
     "data": {
      "text/plain": [
       "[1, 0, 3, 2]"
      ]
     },
     "execution_count": 66,
     "metadata": {},
     "output_type": "execute_result"
    }
   ],
   "source": [
    "map(poly_a_length, dna_list)"
   ]
  },
  {
   "cell_type": "markdown",
   "metadata": {},
   "source": [
    "Using the `key` argument lets us reach inside complex data structures to find the bit of data we need to sort on. \n",
    "\n",
    "Say we have a list of tuples which store gene expression measurements for two conditions:"
   ]
  },
  {
   "cell_type": "code",
   "execution_count": 67,
   "metadata": {
    "collapsed": true
   },
   "outputs": [],
   "source": [
    "# tuples are:\n",
    "#    gene name \n",
    "#    expression in condition one\n",
    "#    expression in condition two\n",
    "\n",
    "measurements = [ \n",
    "    ('gene1', 121, 98), \n",
    "    ('gene2', 56,  32), \n",
    "    ('gene3', 1036, 1966), \n",
    "    ('gene4', 543, 522) \n",
    "] "
   ]
  },
  {
   "cell_type": "markdown",
   "metadata": {},
   "source": [
    "We want to find genes which are over-expressed in condition two compared to condition one. A transformation function takes a single tuple and returns the expression ratio:"
   ]
  },
  {
   "cell_type": "code",
   "execution_count": 68,
   "metadata": {
    "collapsed": true
   },
   "outputs": [],
   "source": [
    "def get_ratio(measurement): \n",
    "    return measurement[2] / measurement[1] "
   ]
  },
  {
   "cell_type": "markdown",
   "metadata": {},
   "source": [
    "Now we can use `map()` to list the ratios:"
   ]
  },
  {
   "cell_type": "code",
   "execution_count": 71,
   "metadata": {
    "collapsed": false
   },
   "outputs": [
    {
     "data": {
      "text/plain": [
       "[0.8099173553719008,\n",
       " 0.5714285714285714,\n",
       " 1.8976833976833978,\n",
       " 0.9613259668508287]"
      ]
     },
     "execution_count": 71,
     "metadata": {},
     "output_type": "execute_result"
    }
   ],
   "source": [
    "map(get_ratio, measurements)"
   ]
  },
  {
   "cell_type": "markdown",
   "metadata": {},
   "source": [
    "and `sort()` to order the genes by ratio:"
   ]
  },
  {
   "cell_type": "code",
   "execution_count": 75,
   "metadata": {
    "collapsed": false
   },
   "outputs": [
    {
     "data": {
      "text/plain": [
       "[('gene3', 1036, 1966),\n",
       " ('gene4', 543, 522),\n",
       " ('gene1', 121, 98),\n",
       " ('gene2', 56, 32)]"
      ]
     },
     "execution_count": 75,
     "metadata": {},
     "output_type": "execute_result"
    }
   ],
   "source": [
    "sorted(measurements, key=get_ratio, reverse=True)"
   ]
  },
  {
   "cell_type": "markdown",
   "metadata": {},
   "source": [
    "or even `filter()` to find just genes with a ratio over a given threshold:"
   ]
  },
  {
   "cell_type": "code",
   "execution_count": 77,
   "metadata": {
    "collapsed": false
   },
   "outputs": [
    {
     "data": {
      "text/plain": [
       "[('gene3', 1036, 1966)]"
      ]
     },
     "execution_count": 77,
     "metadata": {},
     "output_type": "execute_result"
    }
   ],
   "source": [
    "filter(lambda x : get_ratio(x) > 1.5, measurements)"
   ]
  },
  {
   "cell_type": "markdown",
   "metadata": {},
   "source": [
    "A final useful sorting trick: sorts in Python are stable i.e. elements for which the keys are the same stay in the same order:"
   ]
  },
  {
   "cell_type": "code",
   "execution_count": 81,
   "metadata": {
    "collapsed": false
   },
   "outputs": [
    {
     "data": {
      "text/plain": [
       "['yx', 'cd', 'jr']"
      ]
     },
     "execution_count": 81,
     "metadata": {},
     "output_type": "execute_result"
    }
   ],
   "source": [
    "sorted(['yx', 'cd', 'jr'], key=len)"
   ]
  },
  {
   "cell_type": "markdown",
   "metadata": {},
   "source": [
    "So doing multi-level sorts is easy. Given a list of tuples which store chromosome number, base position, and gene name for a bunch of loci:"
   ]
  },
  {
   "cell_type": "code",
   "execution_count": 83,
   "metadata": {
    "collapsed": true
   },
   "outputs": [],
   "source": [
    "# tuples are:\n",
    "#    chromosome \n",
    "#    start base\n",
    "#    locus name\n",
    "\n",
    "loci = [ \n",
    "    (4, 9200, 'gene1'), \n",
    "    (6, 63788, 'gene2'), \n",
    "    (4, 7633, 'gene3'), \n",
    "    (2, 8766, 'gene4') \n",
    "] "
   ]
  },
  {
   "cell_type": "markdown",
   "metadata": {},
   "source": [
    "We want to sort first by chromosome number then within each chromosome by base position. Solution: sort by base position first, then by chromosome number:"
   ]
  },
  {
   "cell_type": "code",
   "execution_count": 86,
   "metadata": {
    "collapsed": false
   },
   "outputs": [
    {
     "data": {
      "text/plain": [
       "[(4, 7633, 'gene3'),\n",
       " (2, 8766, 'gene4'),\n",
       " (4, 9200, 'gene1'),\n",
       " (6, 63788, 'gene2')]"
      ]
     },
     "execution_count": 86,
     "metadata": {},
     "output_type": "execute_result"
    }
   ],
   "source": [
    "sorted_by_base = sorted(loci, key=lambda x : x[1])\n",
    "sorted_by_base"
   ]
  },
  {
   "cell_type": "code",
   "execution_count": 89,
   "metadata": {
    "collapsed": false
   },
   "outputs": [
    {
     "data": {
      "text/plain": [
       "[(2, 8766, 'gene4'),\n",
       " (4, 7633, 'gene3'),\n",
       " (4, 9200, 'gene1'),\n",
       " (6, 63788, 'gene2')]"
      ]
     },
     "execution_count": 89,
     "metadata": {},
     "output_type": "execute_result"
    }
   ],
   "source": [
    "final_sort = sorted(sorted_by_base, key = lambda x : x[0])\n",
    "final_sort"
   ]
  },
  {
   "cell_type": "markdown",
   "metadata": {},
   "source": [
    "More readably, using named helper functions to get the chromosome and base:"
   ]
  },
  {
   "cell_type": "code",
   "execution_count": 91,
   "metadata": {
    "collapsed": false
   },
   "outputs": [
    {
     "data": {
      "text/plain": [
       "[(2, 8766, 'gene4'),\n",
       " (4, 7633, 'gene3'),\n",
       " (4, 9200, 'gene1'),\n",
       " (6, 63788, 'gene2')]"
      ]
     },
     "execution_count": 91,
     "metadata": {},
     "output_type": "execute_result"
    }
   ],
   "source": [
    "def get_chromosome(locus): \n",
    "    return locus[0] \n",
    " \n",
    "def get_base_position(locus): \n",
    "    return locus[1] \n",
    "\n",
    "sorted_by_base = sorted(loci, key=get_base_position) \n",
    "final_sort = sorted(sorted_by_base, key=get_chromosome) \n",
    "final_sort"
   ]
  },
  {
   "cell_type": "markdown",
   "metadata": {},
   "source": [
    "Less readably, using nested sorts (probably don't do this unless your keyboard will literally fall apart if you type the extra characters):"
   ]
  },
  {
   "cell_type": "code",
   "execution_count": 93,
   "metadata": {
    "collapsed": false
   },
   "outputs": [
    {
     "data": {
      "text/plain": [
       "[(2, 8766, 'gene4'),\n",
       " (4, 7633, 'gene3'),\n",
       " (4, 9200, 'gene1'),\n",
       " (6, 63788, 'gene2')]"
      ]
     },
     "execution_count": 93,
     "metadata": {},
     "output_type": "execute_result"
    }
   ],
   "source": [
    "sorted(sorted(loci, key=lambda x : x[1]), key = lambda x : x[0])"
   ]
  },
  {
   "cell_type": "markdown",
   "metadata": {},
   "source": [
    "##Writing higher-order functions\n",
    "\n",
    "Question: when might it be helpful to write a higher-order function?\n",
    "\n",
    "A normal function lets us abstract part of the code. Here are functions to get a list of 4mer and 6mers from a DNA sequence:"
   ]
  },
  {
   "cell_type": "code",
   "execution_count": 98,
   "metadata": {
    "collapsed": false
   },
   "outputs": [
    {
     "name": "stdout",
     "output_type": "stream",
     "text": [
      "['acgg', 'cggc', 'ggca', 'gcat', 'catc', 'atcg', 'tcgt', 'cgta', 'gtac', 'tacg']\n",
      "['acggca', 'cggcat', 'ggcatc', 'gcatcg', 'catcgt', 'atcgta', 'tcgtac', 'cgtacg']\n"
     ]
    }
   ],
   "source": [
    "def get_4mers(dna):\n",
    "    all_4mers = [] \n",
    "    for i in range(len(dna) - 3): \n",
    "        all_4mers.append(dna[i:i+4]) \n",
    "    return all_4mers\n",
    "\n",
    "def get_6mers(dna):\n",
    "    all_6mers = [] \n",
    "    for i in range(len(dna) - 5): \n",
    "        all_6mers.append(dna[i:i+6]) \n",
    "    return all_6mers\n",
    "\n",
    "dna = \"acggcatcgtacg\"\n",
    "print(get_4mers(dna))\n",
    "print(get_6mers(dna))"
   ]
  },
  {
   "cell_type": "markdown",
   "metadata": {},
   "source": [
    "What do these two functions have in common?\n",
    " - making an empty list\n",
    " - iterating over the sequence\n",
    " - extracting the kmer\n",
    " - adding it to the result\n",
    " - returning the result\n",
    " \n",
    "What is different between the two functions?\n",
    " - the length of the kmer\n",
    " \n",
    "So, we take the length of the kmer and turn it into a function argument i.e. we abstract it away:"
   ]
  },
  {
   "cell_type": "code",
   "execution_count": 100,
   "metadata": {
    "collapsed": false
   },
   "outputs": [
    {
     "name": "stdout",
     "output_type": "stream",
     "text": [
      "['acgg', 'cggc', 'ggca', 'gcat', 'catc', 'atcg', 'tcgt', 'cgta', 'gtac', 'tacg']\n",
      "['acggca', 'cggcat', 'ggcatc', 'gcatcg', 'catcgt', 'atcgta', 'tcgtac', 'cgtacg']\n"
     ]
    }
   ],
   "source": [
    "def get_kmers(dna, k):\n",
    "    kmers = [] \n",
    "    for i in range(len(dna) - k +1): \n",
    "        kmers.append(dna[i:i+k]) \n",
    "    return kmers\n",
    "\n",
    "print(get_kmers(dna, 4))\n",
    "print(get_kmers(dna, 6))"
   ]
  },
  {
   "cell_type": "markdown",
   "metadata": {},
   "source": [
    "OK, different problem. Just looking at 6mers, getting a list of the AT contents vs getting a list of the CG dinucleotide counts:"
   ]
  },
  {
   "cell_type": "code",
   "execution_count": 105,
   "metadata": {
    "collapsed": false
   },
   "outputs": [
    {
     "name": "stdout",
     "output_type": "stream",
     "text": [
      "[0.3333333333333333, 0.3333333333333333, 0.3333333333333333, 0.3333333333333333, 0.5, 0.6666666666666666, 0.5, 0.3333333333333333]\n",
      "[1, 1, 0, 1, 1, 1, 1, 2]\n"
     ]
    }
   ],
   "source": [
    "def get_6mers_at(dna): \n",
    "    result = [] \n",
    "    for i in range(len(dna) - 5): \n",
    "        one_6mer = dna[i:i+6] \n",
    "        at = (one_6mer.count('a') + one_6mer.count('t')) / 6 \n",
    "        result.append(at) \n",
    "    return result \n",
    "\n",
    "def get_6mers_cg(dna): \n",
    "    result = [] \n",
    "    for i in range(len(dna) - 5): \n",
    "        one_6mer = dna[i:i+6] \n",
    "        cg = one_6mer.count('cg') \n",
    "        result.append(cg) \n",
    "    return result\n",
    "\n",
    "print(get_6mers_at(dna))\n",
    "print(get_6mers_cg(dna))"
   ]
  },
  {
   "cell_type": "markdown",
   "metadata": {},
   "source": [
    "What do these two functions have in common?\n",
    " - making an empty list\n",
    " - iterating over the sequence\n",
    " - extracting the kmer\n",
    " - carrying out some calculation on it\n",
    " - adding the calculation to the result\n",
    " - returning the result\n",
    " \n",
    "What is different between the two functions?\n",
    " - the thing that we do to the kmer to get a single element of the result\n",
    " \n",
    "So, we take *the-thing-that-we-do-to-the-kmer-to-get-a-single-element-of-the-result* and turn it into a function argument. \n",
    "\n",
    "What is *the-thing-that-we-do-to-the-kmer-to-get-a-single-element-of-the-result*? Yep, a transformation function:"
   ]
  },
  {
   "cell_type": "code",
   "execution_count": 108,
   "metadata": {
    "collapsed": false
   },
   "outputs": [
    {
     "data": {
      "text/plain": [
       "[0.3333333333333333,\n",
       " 0.3333333333333333,\n",
       " 0.3333333333333333,\n",
       " 0.3333333333333333,\n",
       " 0.5,\n",
       " 0.6666666666666666,\n",
       " 0.5,\n",
       " 0.3333333333333333]"
      ]
     },
     "execution_count": 108,
     "metadata": {},
     "output_type": "execute_result"
    }
   ],
   "source": [
    "def get_at(dna): \n",
    "    return (dna.count('a') + dna.count('t')) / len(dna) \n",
    "\n",
    "def get_6mers_f(dna, analyze_6mer): \n",
    "    result = [] \n",
    "    for i in range(len(dna) - 5): \n",
    "        one_6mer = dna[i:i+6] \n",
    "        result.append(analyze_6mer(one_6mer)) \n",
    "    return result \n",
    "\n",
    "get_6mers_f(dna, get_at)"
   ]
  },
  {
   "cell_type": "markdown",
   "metadata": {},
   "source": [
    "Let's do the cg dinucleotide example with a lambda expression:"
   ]
  },
  {
   "cell_type": "code",
   "execution_count": 110,
   "metadata": {
    "collapsed": false
   },
   "outputs": [
    {
     "data": {
      "text/plain": [
       "[1, 1, 0, 1, 1, 1, 1, 2]"
      ]
     },
     "execution_count": 110,
     "metadata": {},
     "output_type": "execute_result"
    }
   ],
   "source": [
    "get_6mers_f(dna, lambda dna : dna.count('cg'))"
   ]
  },
  {
   "cell_type": "markdown",
   "metadata": {},
   "source": [
    "##Bonus round: returning functions from functions\n",
    "\n",
    "Above, we considered passing a function as an argument to a function. Can we do the opposite: return a function from a function?\n",
    "\n",
    "Here's a function factory that builds functions to generate lists of kmers from DNA sequences:"
   ]
  },
  {
   "cell_type": "code",
   "execution_count": 112,
   "metadata": {
    "collapsed": true
   },
   "outputs": [],
   "source": [
    "def kmer_generator_factory(k):\n",
    "    \n",
    "    def kmer_generator(dna):\n",
    "        result = [] \n",
    "        for i in range(len(dna) - k +1): \n",
    "            kmer = dna[i:i+k] \n",
    "            result.append(kmer) \n",
    "        return result \n",
    "    \n",
    "    return kmer_generator"
   ]
  },
  {
   "cell_type": "markdown",
   "metadata": {},
   "source": [
    "We call this function with a value of k and it returns a function that takes a DNA sequence and return a list of kmers of length k. We can check this by looking at the type of the return value:"
   ]
  },
  {
   "cell_type": "code",
   "execution_count": 115,
   "metadata": {
    "collapsed": false
   },
   "outputs": [
    {
     "data": {
      "text/plain": [
       "function"
      ]
     },
     "execution_count": 115,
     "metadata": {},
     "output_type": "execute_result"
    }
   ],
   "source": [
    "get_4mers = kmer_generator_factory(4)\n",
    "type(get_4mers)"
   ]
  },
  {
   "cell_type": "markdown",
   "metadata": {},
   "source": [
    "Now we can call the function that the factory created:"
   ]
  },
  {
   "cell_type": "code",
   "execution_count": 117,
   "metadata": {
    "collapsed": false
   },
   "outputs": [
    {
     "data": {
      "text/plain": [
       "['acgg',\n",
       " 'cggc',\n",
       " 'ggca',\n",
       " 'gcat',\n",
       " 'catc',\n",
       " 'atcg',\n",
       " 'tcgt',\n",
       " 'cgta',\n",
       " 'gtac',\n",
       " 'tacg']"
      ]
     },
     "execution_count": 117,
     "metadata": {},
     "output_type": "execute_result"
    }
   ],
   "source": [
    "get_4mers(dna)"
   ]
  },
  {
   "cell_type": "markdown",
   "metadata": {},
   "source": [
    "We can use this factory to build functions for any kmer length:"
   ]
  },
  {
   "cell_type": "code",
   "execution_count": 119,
   "metadata": {
    "collapsed": false,
    "scrolled": true
   },
   "outputs": [
    {
     "data": {
      "text/plain": [
       "(['ac', 'cg', 'gg', 'gc', 'ca', 'at', 'tc', 'cg', 'gt', 'ta', 'ac', 'cg'],\n",
       " ['acggc',\n",
       "  'cggca',\n",
       "  'ggcat',\n",
       "  'gcatc',\n",
       "  'catcg',\n",
       "  'atcgt',\n",
       "  'tcgta',\n",
       "  'cgtac',\n",
       "  'gtacg'])"
      ]
     },
     "execution_count": 119,
     "metadata": {},
     "output_type": "execute_result"
    }
   ],
   "source": [
    "get_2mers = kmer_generator_factory(2)\n",
    "get_5mers = kmer_generator_factory(5)\n",
    "get_2mers(dna), get_5mers(dna)"
   ]
  },
  {
   "cell_type": "markdown",
   "metadata": {},
   "source": [
    "#Exercises\n",
    "\n",
    "##BLAST result parser"
   ]
  },
  {
   "cell_type": "markdown",
   "metadata": {},
   "source": [
    "The file *blast_result.txt* contains a BLAST result in tabular format. Each row represents a hit and the fields, in order, give:\n",
    "\n",
    "1. the name of the query sequence\n",
    "2. the name of the subject sequence\n",
    "3. the percentage of positions that are identical between the two sequences\n",
    "4. the alignment length\n",
    "5. the number of mismatches\n",
    "6. the number of gap opens\n",
    "7. the position of the start of the match on the query sequence\n",
    "8. the position of the end of the match on the query sequence\n",
    "9. the position of the start of the match on the subject sequence\n",
    "10. the position of the end of the match on the subject sequence\n",
    "11. the evalue for the hit\n",
    "12. the bit score for the hit\n",
    "\n",
    "Example:"
   ]
  },
  {
   "cell_type": "code",
   "execution_count": null,
   "metadata": {
    "collapsed": true
   },
   "outputs": [],
   "source": [
    "#gi|322830704:1426-2962\tgi|188011119|ref|YP_001905892.1|\t61.31\t442\t170\t1\t10\t1335\t14\t454\t4e-144\t 429\n",
    "#gi|322830704:1426-2962\tgi|225622184|ref|YP_002725698.1|\t61.49\t444\t170\t1\t4\t1335\t12\t454\t6e-144\t 429\n",
    "#gi|322830704:1426-2962\tgi|171260186|ref|YP_001795390.1|\t61.54\t442\t169\t1\t10\t1335\t15\t455\t6e-144\t 429\n",
    "#gi|322830704:1426-2962\tgi|288903312|ref|YP_003434040.1|\t61.99\t442\t167\t1\t10\t1335\t14\t454\t6e-144\t 429\n",
    "#gi|322830704:1426-2962\tgi|49146527|ref|YP_026087.1|\t61.54\t442\t169\t1\t10\t1335\t14\t454\t9e-144\t 428"
   ]
  },
  {
   "cell_type": "markdown",
   "metadata": {},
   "source": [
    "Open this file in a text editor and take a look at it. \n",
    "\n",
    "Use a combination of `map()`, `filter()` and `sorted()` to answer the following questions:\n",
    "\n",
    "- How many hits have fewer than 20 mismatches?\n",
    "- List the subject sequence names for the ten matches with the lowest percentage of identical positions\n",
    "- For matches where the subject sequence name includes the string \"COX1\", list the start position on the query as a proportion of the length of the match\n",
    " \n",
    "Hint: think about how to store the hits in a data structure"
   ]
  },
  {
   "cell_type": "markdown",
   "metadata": {},
   "source": [
    "## FASTA editor\n",
    "\n",
    "Write a function that copies FASTA format sequences from an input file to an output file while allowing for arbitrary modification of both the header and the sequence.\n",
    " \n",
    "Your function should take four arguments: the name of the input file, the name of the output file, a header-modification function and a sequence-modification function:"
   ]
  },
  {
   "cell_type": "code",
   "execution_count": null,
   "metadata": {
    "collapsed": true
   },
   "outputs": [],
   "source": [
    "modify_fasta(\n",
    "    \"input.fasta\",\n",
    "    \"output.fasta\",\n",
    "    fix_header,\n",
    "    fix_sequence)"
   ]
  },
  {
   "cell_type": "markdown",
   "metadata": {},
   "source": [
    "Write some code that uses your FASTA copying function to fix these common FASTA file problems, one at a time:\n",
    "\n",
    "- The sequence is in lower case and you need it in upper case\n",
    "- The sequence contains unknown bases that should be removed\n",
    "- The headers contain spaces that should be changed to underscores\n",
    "- The headers are too long and need to be truncated to ten characters\n",
    "- Append the length of the sequence to the header\n",
    "- Append the AT content of the sequence to the header\n",
    "- If the sequence starts with ATG and ends with a poly-A tail, append the phrase \"putative transcript\" to the header\n",
    "\n",
    "Use the file *sequences.fasta* to test your code.  \n",
    " \n",
    "**Hint: the sequences are single-line to make the parsing code easier**\n",
    "\n",
    "**Hint: start by writing a program which simply copies the records**\n"
   ]
  }
 ],
 "metadata": {
  "kernelspec": {
   "display_name": "Python 2",
   "language": "python",
   "name": "python2"
  },
  "language_info": {
   "codemirror_mode": {
    "name": "ipython",
    "version": 2
   },
   "file_extension": ".py",
   "mimetype": "text/x-python",
   "name": "python",
   "nbconvert_exporter": "python",
   "pygments_lexer": "ipython2",
   "version": "2.7.6"
  }
 },
 "nbformat": 4,
 "nbformat_minor": 0
}
